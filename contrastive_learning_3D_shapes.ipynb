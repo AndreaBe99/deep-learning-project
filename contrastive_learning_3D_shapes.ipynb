{
 "cells": [
  {
   "cell_type": "markdown",
   "metadata": {
    "id": "JTqAbOIjjSXm"
   },
   "source": [
    "# Contrastive Learning with 3D Shapes\n",
    "\n"
   ]
  },
  {
   "cell_type": "markdown",
   "metadata": {
    "id": "2-pAk_rLhhiV"
   },
   "source": [
    "## Install and Import standard libraries"
   ]
  },
  {
   "cell_type": "code",
   "execution_count": 1,
   "metadata": {
    "execution": {
     "iopub.execute_input": "2022-12-03T13:11:01.818308Z",
     "iopub.status.busy": "2022-12-03T13:11:01.817669Z",
     "iopub.status.idle": "2022-12-03T13:13:53.688628Z",
     "shell.execute_reply": "2022-12-03T13:13:53.686941Z",
     "shell.execute_reply.started": "2022-12-03T13:11:01.818202Z"
    },
    "trusted": true
   },
   "outputs": [
    {
     "name": "stdout",
     "output_type": "stream",
     "text": [
      "Looking in indexes: https://pypi.org/simple, https://download.pytorch.org/whl/cu113\n",
      "Collecting torch==1.12.1+cu113\n",
      "  Downloading https://download.pytorch.org/whl/cu113/torch-1.12.1%2Bcu113-cp37-cp37m-linux_x86_64.whl (1837.8 MB)\n",
      "\u001B[2K     \u001B[90m━━━━━━━━━━━━━━━━━━━━━━━━━━━━━━━━━━━━━━━━\u001B[0m \u001B[32m1.8/1.8 GB\u001B[0m \u001B[31m521.0 kB/s\u001B[0m eta \u001B[36m0:00:00\u001B[0m0:01\u001B[0m00:02\u001B[0m\n",
      "\u001B[?25hRequirement already satisfied: typing-extensions in /opt/conda/lib/python3.7/site-packages (from torch==1.12.1+cu113) (4.1.1)\n",
      "Installing collected packages: torch\n",
      "  Attempting uninstall: torch\n",
      "    Found existing installation: torch 1.11.0\n",
      "    Uninstalling torch-1.11.0:\n",
      "      Successfully uninstalled torch-1.11.0\n",
      "Successfully installed torch-1.12.1+cu113\n",
      "\u001B[33mWARNING: Running pip as the 'root' user can result in broken permissions and conflicting behaviour with the system package manager. It is recommended to use a virtual environment instead: https://pip.pypa.io/warnings/venv\u001B[0m\u001B[33m\n",
      "\u001B[0m"
     ]
    }
   ],
   "source": [
    "# Install the right version of PyTorch for Kaggle notebooks\n",
    "!python -m pip install torch==1.12.1+cu113 --extra-index-url https://download.pytorch.org/whl/cu113"
   ]
  },
  {
   "cell_type": "code",
   "execution_count": 2,
   "metadata": {
    "colab": {
     "base_uri": "https://localhost:8080/"
    },
    "execution": {
     "iopub.execute_input": "2022-12-03T13:13:53.700264Z",
     "iopub.status.busy": "2022-12-03T13:13:53.696837Z",
     "iopub.status.idle": "2022-12-03T13:15:44.657505Z",
     "shell.execute_reply": "2022-12-03T13:15:44.656245Z",
     "shell.execute_reply.started": "2022-12-03T13:13:53.700205Z"
    },
    "id": "7_qrF3HJJDaM",
    "outputId": "c5d20244-bdca-4b7d-b5bf-98ab3fc9bbb9",
    "trusted": true
   },
   "outputs": [
    {
     "name": "stdout",
     "output_type": "stream",
     "text": [
      "torch verion:  1.12.1+cu113\n",
      "\u001B[33mWARNING: Running pip as the 'root' user can result in broken permissions and conflicting behaviour with the system package manager. It is recommended to use a virtual environment instead: https://pip.pypa.io/warnings/venv\u001B[0m\u001B[33m\n",
      "\u001B[0m\u001B[33mWARNING: Running pip as the 'root' user can result in broken permissions and conflicting behaviour with the system package manager. It is recommended to use a virtual environment instead: https://pip.pypa.io/warnings/venv\u001B[0m\u001B[33m\n",
      "\u001B[0m\u001B[33mWARNING: Running pip as the 'root' user can result in broken permissions and conflicting behaviour with the system package manager. It is recommended to use a virtual environment instead: https://pip.pypa.io/warnings/venv\u001B[0m\u001B[33m\n",
      "\u001B[0m\u001B[33mWARNING: Running pip as the 'root' user can result in broken permissions and conflicting behaviour with the system package manager. It is recommended to use a virtual environment instead: https://pip.pypa.io/warnings/venv\u001B[0m\u001B[33m\n",
      "\u001B[0m\u001B[33mWARNING: Running pip as the 'root' user can result in broken permissions and conflicting behaviour with the system package manager. It is recommended to use a virtual environment instead: https://pip.pypa.io/warnings/venv\u001B[0m\u001B[33m\n",
      "\u001B[0m\u001B[33mWARNING: Running pip as the 'root' user can result in broken permissions and conflicting behaviour with the system package manager. It is recommended to use a virtual environment instead: https://pip.pypa.io/warnings/venv\u001B[0m\u001B[33m\n",
      "\u001B[0m\u001B[33mWARNING: Running pip as the 'root' user can result in broken permissions and conflicting behaviour with the system package manager. It is recommended to use a virtual environment instead: https://pip.pypa.io/warnings/venv\u001B[0m\u001B[33m\n",
      "\u001B[0mRequirement already satisfied: tensorboard in /opt/conda/lib/python3.7/site-packages (2.10.1)\n",
      "Requirement already satisfied: absl-py>=0.4 in /opt/conda/lib/python3.7/site-packages (from tensorboard) (0.15.0)\n",
      "Requirement already satisfied: grpcio>=1.24.3 in /opt/conda/lib/python3.7/site-packages (from tensorboard) (1.43.0)\n",
      "Requirement already satisfied: protobuf<3.20,>=3.9.2 in /opt/conda/lib/python3.7/site-packages (from tensorboard) (3.19.4)\n",
      "Requirement already satisfied: markdown>=2.6.8 in /opt/conda/lib/python3.7/site-packages (from tensorboard) (3.3.7)\n",
      "Requirement already satisfied: tensorboard-data-server<0.7.0,>=0.6.0 in /opt/conda/lib/python3.7/site-packages (from tensorboard) (0.6.1)\n",
      "Requirement already satisfied: werkzeug>=1.0.1 in /opt/conda/lib/python3.7/site-packages (from tensorboard) (2.2.2)\n",
      "Requirement already satisfied: requests<3,>=2.21.0 in /opt/conda/lib/python3.7/site-packages (from tensorboard) (2.28.1)\n",
      "Requirement already satisfied: google-auth<3,>=1.6.3 in /opt/conda/lib/python3.7/site-packages (from tensorboard) (1.35.0)\n",
      "Requirement already satisfied: numpy>=1.12.0 in /opt/conda/lib/python3.7/site-packages (from tensorboard) (1.21.6)\n",
      "Requirement already satisfied: wheel>=0.26 in /opt/conda/lib/python3.7/site-packages (from tensorboard) (0.37.1)\n",
      "Requirement already satisfied: tensorboard-plugin-wit>=1.6.0 in /opt/conda/lib/python3.7/site-packages (from tensorboard) (1.8.1)\n",
      "Requirement already satisfied: setuptools>=41.0.0 in /opt/conda/lib/python3.7/site-packages (from tensorboard) (59.8.0)\n",
      "Requirement already satisfied: google-auth-oauthlib<0.5,>=0.4.1 in /opt/conda/lib/python3.7/site-packages (from tensorboard) (0.4.6)\n",
      "Requirement already satisfied: six in /opt/conda/lib/python3.7/site-packages (from absl-py>=0.4->tensorboard) (1.15.0)\n",
      "Requirement already satisfied: rsa<5,>=3.1.4 in /opt/conda/lib/python3.7/site-packages (from google-auth<3,>=1.6.3->tensorboard) (4.8)\n",
      "Requirement already satisfied: cachetools<5.0,>=2.0.0 in /opt/conda/lib/python3.7/site-packages (from google-auth<3,>=1.6.3->tensorboard) (4.2.4)\n",
      "Requirement already satisfied: pyasn1-modules>=0.2.1 in /opt/conda/lib/python3.7/site-packages (from google-auth<3,>=1.6.3->tensorboard) (0.2.7)\n",
      "Requirement already satisfied: requests-oauthlib>=0.7.0 in /opt/conda/lib/python3.7/site-packages (from google-auth-oauthlib<0.5,>=0.4.1->tensorboard) (1.3.1)\n",
      "Requirement already satisfied: importlib-metadata>=4.4 in /opt/conda/lib/python3.7/site-packages (from markdown>=2.6.8->tensorboard) (4.13.0)\n",
      "Requirement already satisfied: certifi>=2017.4.17 in /opt/conda/lib/python3.7/site-packages (from requests<3,>=2.21.0->tensorboard) (2022.9.24)\n",
      "Requirement already satisfied: charset-normalizer<3,>=2 in /opt/conda/lib/python3.7/site-packages (from requests<3,>=2.21.0->tensorboard) (2.1.0)\n",
      "Requirement already satisfied: idna<4,>=2.5 in /opt/conda/lib/python3.7/site-packages (from requests<3,>=2.21.0->tensorboard) (3.3)\n",
      "Requirement already satisfied: urllib3<1.27,>=1.21.1 in /opt/conda/lib/python3.7/site-packages (from requests<3,>=2.21.0->tensorboard) (1.26.12)\n",
      "Requirement already satisfied: MarkupSafe>=2.1.1 in /opt/conda/lib/python3.7/site-packages (from werkzeug>=1.0.1->tensorboard) (2.1.1)\n",
      "Requirement already satisfied: typing-extensions>=3.6.4 in /opt/conda/lib/python3.7/site-packages (from importlib-metadata>=4.4->markdown>=2.6.8->tensorboard) (4.1.1)\n",
      "Requirement already satisfied: zipp>=0.5 in /opt/conda/lib/python3.7/site-packages (from importlib-metadata>=4.4->markdown>=2.6.8->tensorboard) (3.8.0)\n",
      "Requirement already satisfied: pyasn1<0.5.0,>=0.4.6 in /opt/conda/lib/python3.7/site-packages (from pyasn1-modules>=0.2.1->google-auth<3,>=1.6.3->tensorboard) (0.4.8)\n",
      "Requirement already satisfied: oauthlib>=3.0.0 in /opt/conda/lib/python3.7/site-packages (from requests-oauthlib>=0.7.0->google-auth-oauthlib<0.5,>=0.4.1->tensorboard) (3.2.0)\n",
      "\u001B[33mWARNING: Running pip as the 'root' user can result in broken permissions and conflicting behaviour with the system package manager. It is recommended to use a virtual environment instead: https://pip.pypa.io/warnings/venv\u001B[0m\u001B[33m\n",
      "\u001B[0mCollecting kaleido\n",
      "  Downloading kaleido-0.2.1-py2.py3-none-manylinux1_x86_64.whl (79.9 MB)\n",
      "\u001B[2K     \u001B[90m━━━━━━━━━━━━━━━━━━━━━━━━━━━━━━━━━━━━━━━━\u001B[0m \u001B[32m79.9/79.9 MB\u001B[0m \u001B[31m12.8 MB/s\u001B[0m eta \u001B[36m0:00:00\u001B[0m00:01\u001B[0m00:01\u001B[0m\n",
      "\u001B[?25hInstalling collected packages: kaleido\n",
      "Successfully installed kaleido-0.2.1\n",
      "\u001B[33mWARNING: Running pip as the 'root' user can result in broken permissions and conflicting behaviour with the system package manager. It is recommended to use a virtual environment instead: https://pip.pypa.io/warnings/venv\u001B[0m\u001B[33m\n",
      "\u001B[0m"
     ]
    }
   ],
   "source": [
    "import os\n",
    "import torch\n",
    "\n",
    "os.environ['TORCH'] = torch.__version__\n",
    "print(\"torch verion: \", torch.__version__)\n",
    "\n",
    "# Install required packages.\n",
    "# Install torch-geometric to deal with Point Cloud\n",
    "!python -m pip install -q torch-scatter -f https://data.pyg.org/whl/torch-${TORCH}.html\n",
    "!python -m pip install -q torch-sparse -f https://data.pyg.org/whl/torch-${TORCH}.html\n",
    "!python -m pip install -q torch-cluster -f https://data.pyg.org/whl/torch-${TORCH}.html\n",
    "!python -m pip install -q torch-spline-conv -f https://data.pyg.org/whl/torch-${TORCH}.html\n",
    "!python -m pip install -q torch-geometric -f https://data.pyg.org/whl/torch-${TORCH}.html\n",
    "!python -m pip install -q git+https://github.com/pyg-team/pytorch_geometric.git\n",
    "\n",
    "# See https://kevinmusgrave.github.io/pytorch-metric-learning/losses/#ntxentloss\n",
    "!python -m pip install pytorch-metric-learning -q \n",
    "\n",
    "# TensorBoard\n",
    "!python -m pip install tensorboard"
   ]
  },
  {
   "cell_type": "code",
   "execution_count": 4,
   "metadata": {
    "colab": {
     "base_uri": "https://localhost:8080/",
     "height": 36
    },
    "execution": {
     "iopub.execute_input": "2022-12-03T13:15:48.151460Z",
     "iopub.status.busy": "2022-12-03T13:15:48.149532Z",
     "iopub.status.idle": "2022-12-03T13:15:48.159636Z",
     "shell.execute_reply": "2022-12-03T13:15:48.158747Z",
     "shell.execute_reply.started": "2022-12-03T13:15:48.151418Z"
    },
    "id": "kMDrnoEqNswA",
    "outputId": "dc3a0976-0109-4e59-ca0f-7efd9769621f",
    "trusted": true
   },
   "outputs": [
    {
     "data": {
      "text/plain": [
       "'2.2.0'"
      ]
     },
     "execution_count": 4,
     "metadata": {},
     "output_type": "execute_result"
    }
   ],
   "source": [
    "import torch_geometric\n",
    "torch_geometric.__version__"
   ]
  },
  {
   "cell_type": "code",
   "execution_count": 6,
   "metadata": {
    "execution": {
     "iopub.execute_input": "2022-12-03T13:15:48.969956Z",
     "iopub.status.busy": "2022-12-03T13:15:48.969592Z",
     "iopub.status.idle": "2022-12-03T13:15:48.983953Z",
     "shell.execute_reply": "2022-12-03T13:15:48.982569Z",
     "shell.execute_reply.started": "2022-12-03T13:15:48.969920Z"
    },
    "id": "ZKX7HIgJH43h",
    "trusted": true
   },
   "outputs": [
    {
     "name": "stdout",
     "output_type": "stream",
     "text": [
      "The tensorboard extension is already loaded. To reload it, use:\n",
      "  %reload_ext tensorboard\n"
     ]
    }
   ],
   "source": [
    "# PyTorch Geometric\n",
    "import torch_geometric.transforms as T\n",
    "from torch_geometric.datasets import ShapeNet\n",
    "from torch_geometric.data import Dataset\n",
    "from torch_geometric.loader import DataLoader\n",
    "from torch_geometric.nn import MLP, DynamicEdgeConv, global_max_pool\n",
    "\n",
    "# PyTorch\n",
    "import torch.nn.functional as F\n",
    "import torch.utils.data as data\n",
    "from torch.utils.data import TensorDataset\n",
    "from torch.nn import Linear\n",
    "\n",
    "# Plot 3D Shape\n",
    "import plotly.graph_objects as go\n",
    "\n",
    "# Loss\n",
    "from pytorch_metric_learning.losses import NTXentLoss\n",
    "\n",
    "# Generic\n",
    "import numpy as np\n",
    "import random\n",
    "import pandas as pd\n",
    "import os.path as osp\n",
    "from copy import deepcopy\n",
    "from tqdm.notebook import tqdm"
   ]
  },
  {
   "cell_type": "code",
   "execution_count": 8,
   "metadata": {
    "colab": {
     "base_uri": "https://localhost:8080/"
    },
    "execution": {
     "iopub.execute_input": "2022-12-03T13:15:48.999462Z",
     "iopub.status.busy": "2022-12-03T13:15:48.999074Z",
     "iopub.status.idle": "2022-12-03T13:15:49.009949Z",
     "shell.execute_reply": "2022-12-03T13:15:49.008801Z",
     "shell.execute_reply.started": "2022-12-03T13:15:48.999428Z"
    },
    "id": "MKc3FF8uJzCl",
    "outputId": "4d928b38-ebd7-4f6f-d2b5-5e6297d1ccbd",
    "trusted": true
   },
   "outputs": [
    {
     "name": "stdout",
     "output_type": "stream",
     "text": [
      "Device: cuda\n",
      "Number of workers: 2\n"
     ]
    }
   ],
   "source": [
    "# Get the number of workers\n",
    "NUM_WORKERS = os.cpu_count()\n",
    "# Get the type of device\n",
    "DEVICE = torch.device('cuda' if torch.cuda.is_available() else 'cpu')\n",
    "# Set the seed for reproducibility\n",
    "torch.manual_seed(12345)\n",
    "\n",
    "print(\"Device:\", DEVICE)\n",
    "print(\"Number of workers:\", NUM_WORKERS)"
   ]
  },
  {
   "cell_type": "markdown",
   "metadata": {
    "id": "3Gxw0y_RHBN8"
   },
   "source": [
    "## Dataset"
   ]
  },
  {
   "cell_type": "code",
   "execution_count": 9,
   "metadata": {
    "execution": {
     "iopub.execute_input": "2022-12-03T13:15:49.011799Z",
     "iopub.status.busy": "2022-12-03T13:15:49.011290Z",
     "iopub.status.idle": "2022-12-03T13:15:49.019782Z",
     "shell.execute_reply": "2022-12-03T13:15:49.018969Z",
     "shell.execute_reply.started": "2022-12-03T13:15:49.011762Z"
    },
    "id": "0QqwApXoWFc_",
    "trusted": true
   },
   "outputs": [],
   "source": [
    "# Dataset Path\n",
    "DATASET_PATH = \"data/ShapeNet\"\n",
    "\n",
    "# Model Path\n",
    "MODEL_PATH = \"data/ContrastiveModel\"\n",
    "\n",
    "# Max number of samples for each category\n",
    "MAX_NUMBER = 200\n",
    "\n",
    "# Dataset Category \n",
    "CATEGORIES = [\"Airplane\", \"Pistol\", \"Car\", \"Chair\", \"Motorbike\", \"Guitar\", \"Knife\", \"Lamp\", \"Laptop\", \"Table\"]\n",
    "\n",
    "# Batch Size, max to avoid RAM problem is 64\n",
    "BATCH_SIZE = 64 \n",
    "\n",
    "# Number of epochs: 50 for the contrastive learning anf 100 for the classification\n",
    "EPOCHS = 50 # 100"
   ]
  },
  {
   "cell_type": "markdown",
   "metadata": {
    "id": "DQDYyNK_-j--"
   },
   "source": [
    "### Dataset Analysis"
   ]
  },
  {
   "cell_type": "markdown",
   "metadata": {
    "id": "V_74fFv1UCzr"
   },
   "source": [
    "The PyTorch geometric library contains a large number of common benchmark datasets regarding 3D figures. For my project, I decided to use [`ShapeNet`](https://shapenet.org/), a dataset containing 3D shape point clouds from 16 shape categories.\n",
    "\n",
    "All possible categories of 3D models are:\n",
    "  - `Airplane`, `Bag`, `Cap`, `Car`, `Chair`, `Earphone`, `Guitar`, `Knife`,`Lamp`, `Laptop`, `Motorbike`, `Mug`, `Pistol`, `Rocket`, `Skateboard`, `Table`."
   ]
  },
  {
   "cell_type": "markdown",
   "metadata": {
    "id": "qkMyOuRkbDJK"
   },
   "source": [
    "I selected the 10 categories with the highest number of samples."
   ]
  },
  {
   "cell_type": "code",
   "execution_count": 7,
   "metadata": {
    "execution": {
     "iopub.execute_input": "2022-12-03T08:51:42.604082Z",
     "iopub.status.busy": "2022-12-03T08:51:42.603174Z",
     "iopub.status.idle": "2022-12-03T08:51:43.305600Z",
     "shell.execute_reply": "2022-12-03T08:51:43.303894Z",
     "shell.execute_reply.started": "2022-12-03T08:51:42.604042Z"
    },
    "id": "MtcN0Et2h21F",
    "trusted": true
   },
   "outputs": [],
   "source": [
    "dataset = ShapeNet(root=\"data/ShapeNet\", categories=CATEGORIES)"
   ]
  },
  {
   "cell_type": "code",
   "execution_count": 8,
   "metadata": {
    "colab": {
     "base_uri": "https://localhost:8080/"
    },
    "execution": {
     "iopub.execute_input": "2022-12-03T08:51:43.308056Z",
     "iopub.status.busy": "2022-12-03T08:51:43.307333Z",
     "iopub.status.idle": "2022-12-03T08:51:43.324908Z",
     "shell.execute_reply": "2022-12-03T08:51:43.316761Z",
     "shell.execute_reply.started": "2022-12-03T08:51:43.308010Z"
    },
    "id": "tXjyMJP6B3bx",
    "outputId": "b1f62cd0-1667-46e1-b87e-05cde8062eed",
    "trusted": true
   },
   "outputs": [
    {
     "name": "stdout",
     "output_type": "stream",
     "text": [
      "Sample:  Data(x=[2252, 3], y=[2252], pos=[2252, 3], category=[1])\n"
     ]
    }
   ],
   "source": [
    "# Structure of each element\n",
    "print(\"Sample: \", dataset[0])"
   ]
  },
  {
   "cell_type": "markdown",
   "metadata": {
    "id": "hxds3Nx-WbBq"
   },
   "source": [
    "We are interested in the content of the `pos` and `category` attributes, which are the normalized positions as 3D coordinates and the label respectively."
   ]
  },
  {
   "cell_type": "code",
   "execution_count": 9,
   "metadata": {
    "execution": {
     "iopub.execute_input": "2022-12-03T08:51:43.327580Z",
     "iopub.status.busy": "2022-12-03T08:51:43.326613Z",
     "iopub.status.idle": "2022-12-03T08:51:43.336427Z",
     "shell.execute_reply": "2022-12-03T08:51:43.333285Z",
     "shell.execute_reply.started": "2022-12-03T08:51:43.327537Z"
    },
    "id": "XLuBtphVvlMZ",
    "trusted": true
   },
   "outputs": [],
   "source": [
    "# Plot function\n",
    "def visualize_3d_shape(pos): \n",
    "  pos = pos.cpu()  \n",
    "  fig = go.Figure(data=[go.Scatter3d(x=pos[:, 0], \n",
    "                                     y=pos[:, 1], \n",
    "                                     z=pos[:, 2],\n",
    "                                     mode='markers')])\n",
    "  fig.show()"
   ]
  },
  {
   "cell_type": "code",
   "execution_count": 10,
   "metadata": {
    "colab": {
     "base_uri": "https://localhost:8080/",
     "height": 561
    },
    "execution": {
     "iopub.execute_input": "2022-12-03T08:51:43.349935Z",
     "iopub.status.busy": "2022-12-03T08:51:43.348692Z",
     "iopub.status.idle": "2022-12-03T08:51:43.450150Z",
     "shell.execute_reply": "2022-12-03T08:51:43.449052Z",
     "shell.execute_reply.started": "2022-12-03T08:51:43.349872Z"
    },
    "id": "Ppi1BB80zpdg",
    "outputId": "ad4bdbba-42a3-48df-f4e9-323206467892",
    "trusted": true
   },
   "outputs": [
    {
     "name": "stdout",
     "output_type": "stream",
     "text": [
      "Sample number:  11569\n"
     ]
    },
    {
     "data": {
      "text/html": [
       "        <script type=\"text/javascript\">\n",
       "        window.PlotlyConfig = {MathJaxConfig: 'local'};\n",
       "        if (window.MathJax && window.MathJax.Hub && window.MathJax.Hub.Config) {window.MathJax.Hub.Config({SVG: {font: \"STIX-Web\"}});}\n",
       "        if (typeof require !== 'undefined') {\n",
       "        require.undef(\"plotly\");\n",
       "        requirejs.config({\n",
       "            paths: {\n",
       "                'plotly': ['https://cdn.plot.ly/plotly-2.14.0.min']\n",
       "            }\n",
       "        });\n",
       "        require(['plotly'], function(Plotly) {\n",
       "            window._Plotly = Plotly;\n",
       "        });\n",
       "        }\n",
       "        </script>\n",
       "        "
      ]
     },
     "metadata": {},
     "output_type": "display_data"
    },
    {
     "data": {
      "text/html": [
       "<div>                            <div id=\"37ae7f32-1911-4347-9bdb-4deab8a60e47\" class=\"plotly-graph-div\" style=\"height:525px; width:100%;\"></div>            <script type=\"text/javascript\">                require([\"plotly\"], function(Plotly) {                    window.PLOTLYENV=window.PLOTLYENV || {};                                    if (document.getElementById(\"37ae7f32-1911-4347-9bdb-4deab8a60e47\")) {                    Plotly.newPlot(                        \"37ae7f32-1911-4347-9bdb-4deab8a60e47\",                        [{\"mode\":\"markers\",\"x\":[0.04876,-0.1431,-0.11282,0.08511,-0.0473,-0.11294,-0.10679,-0.12232,0.10809,0.11431,0.10475,0.09992,0.0879,0.09047,0.10425,0.0996,0.09939,0.09368,0.09721,0.1069,0.09256,0.09381,0.1052,-0.11625,0.14118,0.15069,0.14151,0.14502,-0.11579,0.13955,-0.12294,0.14719,0.15985,0.13215,0.11821,-0.14683,0.12181,-0.17868,0.13051,0.11886,0.16052,-0.04025,-0.00305,-0.18191,0.1791,0.18196,0.03532,0.05022,0.05213,-0.13804,0.13585,-0.14444,-0.12661,0.13962,-0.13805,0.13661,-0.1591,0.12955,0.05718,0.14489,-0.01088,0.13553,-0.13129,-0.11975,-0.15449,-0.14697,-0.15379,0.03957,-0.13776,-0.21193,-0.20935,-0.20898,0.08635,-0.13792,0.15692,-0.15504,-0.13146,-0.15406,-0.15001,-0.13991,-0.14436,-0.15442,-0.13112,-0.13665,-0.14316,-0.20858,-0.20372,-0.206,-0.20305,0.19745,0.11354,-0.05261,-0.05455,0.12771,-0.07552,-0.08493,-0.19736,0.13803,0.02869,0.1142,-0.15651,0.12332,-0.09726,-0.10212,-0.09703,-0.10016,-0.12179,0.18542,0.07227,0.07002,0.01536,0.17904,-0.20913,-0.20871,-0.20923,-0.13382,-0.15815,-0.13877,-0.0561,-0.13916,0.13635,0.20396,0.20536,0.19769,0.15379,-0.13604,-0.12268,-0.12012,-0.11713,-0.12263,-0.13487,-0.11428,-0.1109,-0.1349,-0.11264,-0.1221,-0.13745,0.07131,-0.12593,0.11741,0.03865,0.03508,0.04985,-0.17447,0.12311,0.16964,0.1728,0.06348,0.0928,-0.1353,0.12278,-0.1479,-0.16961,-0.12652,-0.13288,-0.17261,0.20461,0.19485,0.19608,-0.1137,-0.20959,-0.20968,-0.20939,0.12577,0.16157,0.07665,0.10854,0.09928,0.11651,0.11447,0.21192,0.21087,0.2108,-0.13174,0.06286,-0.13836,0.18048,0.20736,0.20355,0.20308,0.09639,-0.11773,0.09731,0.10344,-0.11782,0.09667,0.10008,0.11464,0.12437,0.1156,0.13163,0.12097,0.13055,0.10905,0.11922,-0.18922,-0.17721,-0.18464,-0.13846,0.13693,-0.16262,-0.16046,-0.16363,-0.01874,0.17894,0.16114,0.17134,0.18327,0.18596,0.15784,0.1985,-0.13368,-0.12299,-0.11839,-0.12925,-0.12739,-0.13101,-0.13071,-0.13166,0.13533,-0.15331,0.07268,0.05472,0.08772,0.19329,0.18848,0.05696,0.02263,0.05445,0.03481,0.03978,0.03471,0.02495,0.02392,0.05287,0.02946,0.03387,0.04055,0.0389,0.05933,0.03885,0.06177,-0.13744,-0.14447,-0.12567,0.16841,0.17679,0.17988,-0.11646,-0.11365,-0.12935,-0.16776,-0.12058,-0.13575,0.12169,-0.07479,-0.09091,-0.0918,-0.08353,-0.09265,-0.09444,-0.07666,-0.08972,-0.10208,-0.10057,-0.08152,-0.09864,-0.08842,-0.11278,0.11901,0.18704,-0.09623,0.13609,0.13932,0.1441,0.14292,0.13742,0.14681,0.13365,0.13795,-0.12711,0.14336,0.12148,0.07548,0.06746,0.06867,0.06489,0.06174,0.08179,0.07283,0.05132,0.08356,0.0733,0.07182,0.07656,0.05507,0.0631,0.07604,-0.06454,0.15988,-0.1389,-0.17191,-0.16409,-0.18899,-0.18009,-0.17108,0.13724,-0.15871,-0.11603,0.12641,0.12612,0.09293,0.08761,-0.13734,-0.11599,-0.13736,-0.15005,-0.16156,0.02651,-0.06593,0.15918,0.19772,0.13758,-0.17222,0.11847,-0.12553,-0.19928,-0.19924,-0.19671,-0.13724,-0.11832,-0.11054,0.12284,0.13424,-0.13731,0.02021,-0.12104,0.12443,0.05514,0.12457,0.14029,0.11917,-0.12162,0.19608,0.19247,0.20028,0.11886,0.1387,-0.13126,-0.17964,-0.1885,-0.18364,-0.18154,-0.1901,-0.18787,0.12563,0.09068,-0.13082,0.16546,0.14614,0.15541,-0.05414,-0.04819,-0.06405,-0.06705,-0.04709,-0.05621,-0.07299,-0.04717,-0.05895,-0.06288,-0.05762,-0.04461,-0.10227,-0.10619,-0.09252,-0.15106,-0.1035,0.12451,0.12003,-0.02699,-0.02899,-0.03319,0.20271,0.20947,0.20366,0.1598,0.13239,0.17234,0.17378,0.13949,0.19378,0.19706,0.18856,-0.17613,0.01444,0.0153,0.01405,0.0061,0.01342,0.00364,0.02325,0.00598,0.03049,0.00975,0.01631,0.02532,-0.00703,0.13956,0.11,0.02741,0.18965,0.18621,0.17732,0.21094,0.20916,0.21174,-0.19005,0.13467,0.1384,-0.14522,-0.12974,-0.13921,-0.12458,-0.07074,-0.08137,-0.10777,0.02312,0.16788,-0.11396,0.02452,-0.00076,0.03659,0.09727,0.09113,-0.13823,-0.13713,-0.10897,-0.13931,-0.10394,0.19444,0.17453,-0.03107,0.01377,0.1356,0.21078,0.21182,-0.15713,-0.14866,-0.17957,-0.03686,-0.03884,-0.12945,0.11351,0.13521,0.13766,-0.11749,-0.18343,-0.13145,0.1308,0.10057,0.13375,-0.09752,0.13263,0.08102,-0.18426,0.00505,-0.11282,-0.12032,-0.12763,-0.16507,0.15065,0.15343,0.16274,0.1142,0.13878,-0.14037,-0.14197,-0.20859,-0.20716,-0.1379,0.12455,-0.13895,-0.00767,-0.11544,0.07369,0.12607,-0.06822,-0.13638,-0.07962,0.02106,0.00425,0.11434,-0.11909,0.13939,0.13957,-0.11232,-0.13043,-0.1307,-0.12335,-0.1134,-0.11423,-0.13713,-0.12066,-0.08052,0.05858,0.04934,0.14955,0.1235,0.12352,-0.12808,-0.08467,-0.07122,-0.10476,-0.10039,-0.09953,-0.07884,-0.10189,-0.10311,-0.09892,-0.1045,-0.08385,-0.08872,-0.09239,-0.16878,-0.12583,-0.15883,-0.13568,-0.11388,-0.12985,-0.13041,0.13672,0.06695,0.06543,0.07247,0.04624,0.0585,0.05956,0.05486,0.0694,0.0732,0.05394,0.07792,0.05004,0.05294,0.08866,-0.12089,-0.11297,0.12965,-0.20644,-0.07182,-0.04397,-0.06425,-0.07521,-0.06463,-0.05996,-0.05505,-0.06453,-0.06794,-0.08451,-0.07516,-0.08742,-0.04671,-0.07323,0.10813,0.12535,0.21104,-0.1334,0.04596,0.06583,0.08219,-0.11836,0.19517,0.20154,-0.11279,-0.01377,-0.00411,0.01305,-0.02949,-0.05799,-0.0445,-0.03802,-0.03841,-0.04009,-0.0291,-0.05345,-0.04173,-0.04632,-0.0428,-0.03054,-0.04852,-0.06424,0.15164,0.04623,0.12822,-0.13125,-0.15106,-0.13051,0.13866,-0.13121,0.12297,-0.11479,-0.12247,-0.19323,-0.02127,-0.16798,-0.08124,-0.05033,-0.04057,0.19263,0.17135,0.15189,0.14238,-0.1207,0.12828,-0.1326,-0.06212,0.19758,-0.13875,-0.02519,-0.01583,-0.0211,-0.00823,-0.00275,-0.01449,-0.01676,0.00441,-0.00071,-0.00633,-0.02412,-0.019,-0.01359,-0.00418,-0.00707,-0.01542,0.13078,0.07817,0.12466,0.15335,-0.11543,0.11424,-0.04626,-0.21152,-0.2111,-0.21008,-0.17626,-0.17252,-0.17607,-0.12071,-0.10289,-0.10189,-0.08829,-0.10593,-0.12072,-0.10696,-0.10396,-0.11266,0.08919,0.17287,0.12618,-0.13071,-0.11341,-0.18854,-0.06078,-0.04487,0.12427,0.00905,0.1148,0.13582,-0.1148,-0.17323,-0.17403,-0.11277,0.12154,-0.19557,-0.06446,-0.08316,-0.09793,-0.11867,-0.09915,-0.09536,-0.10629,-0.10605,0.18866,0.17747,0.2004,-0.11658,-0.11421,0.13037,0.10602,0.08705,0.09655,-0.09086,-0.0861,0.02343,-0.13334,0.14099,-0.20517,-0.20836,-0.13473,-0.11313,-0.14297,0.13736,-0.12778,-0.1433,-0.1502,-0.16598,-0.15306,-0.16108,-0.15966,-0.16625,0.12932,-0.17066,-0.11409,-0.12941,-0.15157,0.12712,0.18725,0.17759,0.17979,0.15023,0.12913,0.11441,0.15754,-0.13869,0.19421,-0.13809,0.12637,-0.06112,-0.0709,-0.06333,-0.06161,-0.05638,-0.05748,-0.07661,-0.06436,-0.05423,-0.05147,-0.06146,-0.07314,-0.19572,-0.12576,-0.17142,-0.16755,-0.17384,0.11318,0.20492,0.20632,0.20302,-0.12526,-0.10094,-0.13516,0.1183,0.03609,-0.05933,-0.06367,-0.01227,-0.1275,-0.01499,0.0258,0.11339,0.05537,0.12928,-0.18064,-0.1748,0.21025,0.21045,0.21148,0.18775,-0.19718,0.14857,-0.13839,-0.12797,-0.13273,-0.14027,-0.13718,-0.14743,-0.13021,-0.14977,0.00714,0.11818,0.11605,-0.04881,-0.02163,-0.1184,-0.11285,-0.07682,-0.11565,0.04298,-0.1143,-0.10276,-0.12698,0.15912,0.14701,-0.1914,0.13553,0.14753,0.14063,0.14253,0.15067,0.14157,-0.13504,0.14965,0.13878,0.15487,0.04496,0.12389,-0.13582,-0.03313,0.00335,-0.00341,-0.02325,-0.0003,-0.01516,-0.02132,-0.01301,-0.00945,0.00409,-0.01591,0.00284,-0.01936,-0.00965,-0.0225,0.12082,0.11393,-0.17498,-0.17722,-0.13199,0.00893,-0.03392,0.15827,0.13956,-0.12456,-0.10062,-0.13028,-0.18561,-0.18622,-0.09536,-0.10146,0.13511,0.10605,0.12677,0.12165,0.0184,-0.1945,-0.1235,0.20986,-0.13597,-0.00599,-0.07283,-0.01421,0.031,-0.01086,0.13933,-0.06354,-0.16374,-0.16805,-0.18715,-0.11763,0.12948,0.15355,0.17087,0.17161,0.16068,0.15528,0.1682,0.16919,0.04469,0.04552,0.06715,-0.13285,0.18824,0.18496,-0.11755,0.10571,0.10221,0.12697,-0.19856,-0.20078,-0.20111,0.11357,0.00118,-0.13333,-0.19709,-0.19426,0.10916,-0.19029,-0.14967,-0.18778,0.13898,-0.14564,-0.14784,0.13119,-0.1222,0.13105,0.1184,0.06223,0.16707,0.18234,-0.18117,-0.16545,0.08289,0.06713,0.05617,-0.13699,0.09664,-0.15399,-0.13804,0.11612,0.12833,0.11379,0.00217,-0.0302,-0.00069,0.05495,0.0629,-0.15548,0.13829,0.11686,0.20552,-0.1145,0.10205,0.11048,0.09761,0.10662,0.11617,0.11898,0.10846,0.10488,0.10004,0.15168,0.14993,0.0527,0.17396,0.17499,0.18061,0.15981,-0.12804,-0.13874,-0.10824,-0.15832,0.15404,0.12333,-0.05072,-0.04866,0.13856,-0.18157,-0.16933,-0.15098,0.1546,0.15201,0.15261,-0.19218,0.1664,0.17379,0.14922,0.15552,-0.16432,-0.02015,0.08581,-0.13687,0.11847,0.01618,-0.19253,0.1994,0.20069,0.1393,0.04012,0.03637,0.04455,0.02563,0.02119,0.04098,0.025,0.03681,0.03303,0.03507,0.03891,0.04064,0.03366,-0.11368,-0.08225,0.04968,-0.14198,-0.09592,-0.07367,-0.08196,-0.09246,-0.09492,-0.07371,-0.08382,-0.0786,-0.07276,0.16842,0.16813,0.17628,0.18999,0.19034,0.14735,0.16205,0.15366,0.1593,0.16386,0.15715,0.16636,-0.19178,-0.19122,-0.19642,0.13114,0.14739,-0.13795,-0.1164,-0.1054,0.15258,-0.01574,-0.02177,-0.0435,-0.11305,-0.12989,-0.11478,-0.167,-0.13215,0.12518,0.06653,-0.13153,-0.112,0.1209,0.20361,0.20546,0.20058,-0.12166,0.15258,0.14472,0.12294,0.01954,0.03487,0.01349,-0.11336,-0.13578,0.1105,0.19938,-0.07635,-0.15743,-0.14316,-0.14751,-0.16104,-0.15753,-0.16711,0.10578,-0.15076,-0.13314,-0.20124,-0.20369,-0.19307,-0.14025,0.04866,-0.05962,0.16409,0.11507,0.1015,0.12052,-0.1814,0.00235,0.14829,-0.15971,0.1245,0.12197,-0.13754,-0.12973,0.0092,-0.00902,-0.03114,0.03022,0.03609,0.10675,0.10035,0.11296,0.10178,-0.13075,0.09363,0.11925,0.19209,0.19037,0.18386,0.13223,-0.12671,-0.14753,-0.15197,-0.1446,0.13317,-0.15858,-0.16561,0.13625,-0.11351,-0.12269,-0.0418,-0.04215,-0.04885,0.13339,-0.11916,-0.12557,-0.1332,0.02799,0.00991,-0.00042,0.0152,0.0279,0.01688,0.03751,-0.00011,0.00288,0.00575,0.00746,-0.00544,0.0163,0.01622,0.02254,0.03081,-0.00506,-0.19703,0.05552,-0.10509,0.17247,-0.1389,-0.12762,-0.13374,0.12845,-0.08674,-0.17216,-0.16342,0.11643,0.07238,0.06036,0.1144,0.13879,0.13814,-0.2053,0.16101,0.15648,0.15445,0.15141,-0.00164,-0.10841,-0.10468,-0.08945,-0.09642,-0.08629,-0.10249,-0.08679,-0.0956,-0.09294,-0.08824,-0.08734,0.1662,0.1715,0.18737,0.18134,0.17144,0.13911,0.12901,-0.11528,-0.13398,0.0903,-0.13816,-0.18821,-0.02262,-0.11354,0.04478,0.19699,0.19906,0.20096,0.11943,0.03862,0.06275,0.03133,-0.03072,-0.04063,0.05984,0.04797,0.01681,0.11359,-0.21173,-0.2108,0.08395,0.08674,0.08558,0.08792,0.07672,0.0914,0.07296,0.09085,0.09371,0.06288,0.07584,-0.098,-0.11344,-0.09001,-0.09686,-0.11652,-0.1002,-0.13761,-0.15495,0.12715,-0.13913,-0.19687,-0.15401,-0.115,0.08132,-0.11278,0.13488,-0.05438,-0.07536,-0.05995,0.06464,-0.12394,0.12561,-0.19948,0.19485,0.16992,0.17948,-0.11524,-0.13841,0.1587,-0.11573,-0.08348,-0.12879,-0.08027,0.1195,0.11802,0.13954,-0.13783,-0.1276,0.02648,0.0181,0.02195,0.01786,0.00627,0.03519,0.02902,0.01674,0.01076,0.0087,0.02441,0.02152,-0.11595,-0.11508,0.05837,-0.14629,-0.14472,0.10672,0.04908,0.06994,0.06265,0.0623,0.06704,0.06235,0.06428,0.05409,0.05356,0.05171,0.06401,0.06133,0.04115,0.1363,-0.11494,-0.13664,0.11352,0.13134,-0.06415,0.15384,0.15437,0.03297,0.12053,0.18408,0.19307,0.18389,-0.07291,-0.07515,-0.14084,-0.15054,-0.14478,-0.15159,-0.11817,-0.19611,0.103,0.09651,0.08733,0.07366,0.19079,0.17781,-0.11398,-0.14963,0.13079,-0.17791,-0.1749,-0.17557,0.11629,0.1241,0.13997,0.12529,-0.01292,0.16096,0.16101,0.12002,-0.05564,-0.11677,0.11397,-0.09204,-0.09491,0.12256,-0.09381,-0.09127,-0.08299,-0.09218,-0.08373,-0.08737,-0.07779,-0.09104,-0.07503,0.11337,0.1588,0.1217,0.11112,0.1027,0.13306,-0.09672,0.13605,0.20535,0.14524,0.11457,0.11873,-0.13656,-0.20707,-0.21161,-0.20996,0.14041,-0.119,-0.13898,0.12698,0.13522,-0.14195,-0.15202,-0.17677,-0.19528,-0.19223,-0.04334,0.14338,0.14168,-0.13462,-0.13435,-0.12687,-0.20838,0.15866,-0.13025,0.13056,-0.12961,0.11413,0.12851,-0.12268,0.18157,0.18201,-0.20009,-0.20175,-0.19775,-0.15292,0.16386,0.16538,0.17261,-0.0577,-0.1388,0.07552,0.01313,0.13263,-0.04871,0.12142,0.12955,0.13637,-0.19098,0.01956,0.18065,-0.1697,0.13951,-0.0075,0.01348,0.0269,0.2087,0.21144,0.21069,0.05471,0.13323,0.06536,-0.0891,-0.08214,-0.08521,0.15292,-0.13132,-0.14797,0.20892,0.2092,0.21125,0.13011,0.12883,0.1309,0.13422,0.11635,0.06144,-0.11917,0.13933,-0.17967,-0.13723,-0.11485,-0.00721,0.13132,0.18734,-0.05859,0.0192,0.11044,0.1197,-0.1325,0.10643,0.13276,-0.12147,0.02283,-0.00422,0.00655,0.00765,0.01917,0.0259,0.00893,0.00096,0.00843,-0.00098,0.00703,0.01852,0.03209,0.00168,0.01803,0.02866,0.1901,0.01829,-0.13879,-0.12943,-0.09686,-0.10645,-0.12724,0.00758,-0.00371,0.00709,0.02967,0.03223,-0.00931,0.02989,0.02139,0.02857,-0.00921,-0.00813,0.02102,0.0334,0.00245,-0.13218,-0.15729,-0.14645,-0.13939,-0.12386,-0.12984,-0.13577,-0.1242,-0.12803,0.19721,0.05314,0.04716,0.04168,0.04546,0.02165,0.03836,0.03631,0.03411,0.04683,0.03822,0.05631,0.03306,0.04528,0.04245,0.03605,-0.13907,-0.07014,-0.21194,-0.13215,-0.17889,-0.18728,-0.17398,-0.1772,-0.17221,-0.17816,-0.13787,0.13733,0.12623,-0.11992,-0.04154,0.11613,-0.11955,0.11905,0.00672,-0.11631,0.16975,-0.12939,0.138,-0.12854,-0.02717,0.07856,0.09455,0.08594,0.08997,0.1062,0.07794,0.09191,0.06976,0.09898,0.09769,0.09718,-0.12229,-0.13888,0.07977,-0.16862,-0.16931,-0.15244,0.17542,-0.1943,-0.19124,-0.19834,-0.10016,-0.10821,-0.12352,-0.00312,-0.00247,-0.00068,0.00549,-0.01796,-0.17541,-0.17629,-0.13848,0.16138,0.18285,0.16804,-0.15373,0.11925,-0.12746,0.13118,-0.13894,0.14088,-0.00268,-0.1236,-0.18424,-0.11326,0.05653,-0.19234,0.11453,-0.13912,-0.003,0.1854,0.18433,0.01559,0.13084,-0.13852,-0.12927,-0.13878,0.12648,0.19161,0.1347,-0.11287,0.10612,0.11451,-0.12191,-0.15786,0.13301,-0.13269,-0.12212,-0.139,-0.0841,0.02435,0.01719,0.03556,0.02301,0.04176,0.04871,-0.13794,-0.16801,-0.15177,-0.19738,-0.03292,0.11747,0.05357,0.10797,0.10209,-0.11864,0.13762,-0.09146,0.10111,0.13941,0.06241,0.02067,0.0284,-0.12005,0.13515,0.12394,0.13776,0.13814,0.1303,-0.15336,-0.15336,-0.1328,-0.01803,-0.02078,0.13777,-0.15791,-0.15287,0.21075,0.21039,0.13487,-0.10293,0.13799,-0.08629,0.13368,-0.19058,-0.1876,-0.18888,0.12678,0.11963,-0.13888,0.01377,-0.00469,0.01245,0.00796,0.02354,0.01053,0.01551,0.00702,0.0239,0.00201,0.0114,0.0173,0.18879,0.18464,0.18841,-0.20707,-0.20132,-0.11285,-0.16483,-0.07718,0.1158,-0.10947,0.13578,-0.15568,0.17868,0.03133,0.03629,0.04075,0.12413,-0.13628,0.01582,0.1683,0.16614,0.16706,-0.12068,-0.11681,-0.12208,-0.13233,0.03515,0.03071,0.16498,0.16717,0.15778,0.14819,0.16419,0.08646,0.08069,0.0829,0.09432,0.08078,0.10033,0.07527,0.0825,0.07802,0.20958,-0.02561,-0.13684,0.20275,-0.11838,0.16888,0.17927,0.10062,-0.19923,0.10675,0.11276,0.11823,0.05418,0.05575,-0.11258,0.13926,0.15756,0.1397,0.13915,0.15109,0.13739,0.15007,0.13923,0.14629,0.12105,-0.13544,-0.11573,0.18159,0.18332,0.11352,-0.20849,-0.20784,-0.13709,0.1727,0.18039,0.17059,0.18947,0.11323,0.16227,0.17412,0.13249,-0.1349,0.15054,0.11643,0.05882,0.12511,0.13914,0.1497,-0.08138,-0.1032,-0.14361,0.1134,-0.12545,-0.12115,0.11467,0.18522,0.1687,0.11822,0.13962,-0.10833,-0.06532,-0.05918,-0.05315,-0.1116,-0.12007,-0.11681,-0.13617,-0.19772,-0.00199,0.13343,0.12779,-0.13229,0.203,0.20372,0.19881,0.1268,-0.19716,-0.1333,-0.12579,-0.10088,-0.09957,-0.12614,0.19236,0.19458,0.19656,0.19519,-0.15539,-0.16338,0.19678,-0.11869,-0.06168,0.09726,-0.18041,-0.17517,-0.17848,0.11327,0.06399,-0.03121,-0.0616,0.19146,-0.0219,0.08982,0.07706,-0.19855,-0.11294,-0.01671,-0.11875,0.13431,0.20336,0.20588,-0.12611,-0.12478,0.12214,0.13651,0.18935,0.18293,0.11405,0.18807,0.19328,0.19361,0.07725,-0.12187,-0.13529,-0.11385,0.20466,0.19642,-0.14355,-0.14849,-0.13869,-0.14017,-0.14465,0.1264,0.06496,-0.12548,0.1951,-0.11475,-0.02593,-0.04692,-0.12387,0.01689,-0.11301,-0.16913,-0.18519,-0.13058,0.13113,0.12841,-0.20288,0.19723,-0.0565,0.15825,0.15956,0.1463,-0.19431,-0.18243,-0.17268,-0.17561,0.00378,0.0361,0.02683,0.02352,0.03427,0.04901,0.05052,0.04028,0.01638,0.04165,0.02296,0.0156,0.05512,0.04176,0.03812,0.13175,0.20931,0.20985,0.00175,0.0689,0.0561,0.05879,0.04596,0.0679,0.06652,0.06494,0.07081,0.04644,0.06105,0.06032,-0.1021,-0.18428,-0.19064,-0.1848,0.13448,0.11951,-0.10524,0.14058,0.1403,0.14112,0.15941,-0.1308,-0.15383,0.14616,0.0846,0.19307,-0.08872,-0.08988,0.09432,0.10706,0.0863,0.03561,-0.17534,-0.1108,-0.11285,-0.12324,-0.11894,-0.10431,-0.11104,-0.13054,-0.12121,-0.11235,-0.12037,-0.12944,-0.12896,-0.16653,0.06489,0.07043,0.0687,0.06415,0.06622,0.06734,0.06737,0.06121,0.07771,-0.1299,-0.11279,0.00426,0.05272,-0.13826,-0.20722,-0.20332,0.13948,-0.016,-0.10863,-0.0815,-0.0772,-0.09318,-0.08044,-0.09432,-0.09986,-0.10418,-0.09009,-0.07758,0.17685,0.15599,0.19984,0.19318,0.20141,-0.09462,-0.0816,0.04466,-0.05317,-0.06543,-0.07744,-0.06027,-0.07398,-0.05937,-0.05877,-0.0545,-0.05186,-0.05409,-0.07248,-0.08135,-0.06178,-0.04518,-0.12388,0.12283,-0.11606,-0.19699,-0.19076,0.13954,-0.13875,-0.00238,0.02152,-0.12146,-0.03878,0.12917,0.19547,-0.20882,-0.21129,-0.20925,0.06544,-0.15554,-0.20601,-0.19834,-0.04674,0.15601,0.14787,0.17378,-0.04037,-0.03625,-0.04715,-0.02943,-0.04728,-0.03539,-0.03908,-0.0316,-0.0286,-0.02381,-0.03226,-0.03359,-0.13336,0.16625,0.15469,0.14247,-0.03364,-0.07552,-0.08469,0.16759,0.10681,0.0943,0.1028,0.11379,0.11811,0.10498,-0.12754,-0.12447,0.11739,-0.13747,-0.11297,-0.15988,0.07288,0.08956,0.07653,0.11319,0.13698,0.13059,-0.1567,0.11356,0.11653,0.16681,-0.11967,0.12176,-0.02875,0.11368,-0.14429,-0.17182,-0.16843,-0.16576,-0.16468,-0.18208,-0.17067,-0.16927,0.02276,-0.1389,-0.05606,0.11995,0.19371,-0.13088,-0.16305,-0.00845,-0.0153,-0.02271,-0.01776,-0.00859,-0.01733,-0.03644,-0.00155,-0.03408,0.00344,-0.01121,-0.01928,0.00579,-0.00748,0.12095,-0.11397,-0.00652,-0.02901,-0.0167,-0.02881,-0.02924,-0.01167,-0.01416,-0.01031,-0.02143,-0.01314,-0.01437,-0.0327,-0.01628,-0.00126,-0.02266,-0.03252,0.2093,0.20962,0.21186,-0.08276,-0.08305,-0.08897,-0.13238,-0.13854,0.13192,0.11563,-0.05512,-0.03185,-0.05012,-0.14904,-0.13832,0.0262,-0.13152,-0.06122,-0.04886,-0.06979,-0.16715,-0.14883,0.12087,0.12653,-0.12629,-0.12108,0.11476,0.18642,0.1795,-0.03484,-0.01792,0.1181,0.10578,-0.02706,-0.00951,-0.02447,-0.13241,0.20849,0.20924,0.20972,0.15246,0.19749,-0.13784,0.13686,0.04793,0.07845,0.13782,-0.15791,-0.16908,-0.17413,-0.14874,-0.16969,-0.11283,-0.14017,-0.18779,0.13477,-0.06693,-0.03195,-0.01537,-0.02857,-0.04127,-0.03816,-0.04657,-0.02903,-0.03641,-0.02322,-0.03513,-0.11861,0.20774,0.12431,0.14893,-0.08651,-0.07402,-0.09856,0.11915,0.07453,0.09875,0.10626,0.08137,0.08933,0.09225,0.07258,0.10455,0.09728,-0.12718,-0.11889,0.1254,-0.12622,-0.12892,-0.07521,-0.06999,-0.05885,-0.07062,-0.06878,-0.07966,-0.06021,-0.05425,-0.05338,-0.06807,-0.06957,-0.08309,-0.06393,-0.05407,-0.12031,0.16579,0.11335,-0.11442,0.08446,-0.03363,0.11462,-0.1344,-0.0083,0.11948,-0.1052,-0.12644,-0.19559,0.20539,0.13992,-0.04311,-0.08364,-0.14709,-0.15131,-0.16117,-0.16107,0.11531,-0.17096,-0.15965,-0.11299,-0.14367,0.11325,0.05113,0.19794,-0.19198,-0.18551,-0.19586,-0.12637,0.13898,0.12074,0.13396,0.11668,0.14136,0.13697,0.13615,0.13538,0.13959,-0.17753,-0.19226,-0.11984,-0.12277,0.03093,0.02111,0.0439,0.04377,0.05629,0.02755,0.03887,0.03083,0.05054,0.05798,0.0336,0.03039,0.02863,0.04265,-0.11312,0.10918,0.11537,-0.12208,-0.10395,0.18588,0.17664,0.18035,-0.13607,-0.11762,0.13091,0.14763,0.17611,-0.13908,-0.20594,-0.21117,-0.21083,0.00185,0.13773,0.1244,-0.15021,0.07475,0.07449,0.07695,0.06951,0.06302,0.06366,0.07477,0.07534,0.08496,0.08966,0.07008,0.05225,0.05865,0.15611,0.14688,0.16229,0.16195,0.1662,0.15861,-0.19166,-0.18154,-0.17938,-0.19462,-0.15976,-0.11648,-0.11549,-0.19554,-0.19513,-0.1912,0.13708,-0.02529,-0.13418,0.13657,-0.19171,0.12611,-0.03753,-0.00015,0.12098,-0.15831,0.0031,0.01858,-0.01095,0.12066,-0.04884,-0.03551,-0.03569,-0.0394,-0.04398,-0.02724,-0.03689,-0.05645,-0.02394,-0.04922,-0.04168,-0.04011,-0.04635,-0.15622,0.16806,0.11995,-0.05399,0.00633,-0.10732,-0.00838,-0.00956,-0.15004,-0.14191,0.07731,0.06803,0.13962,0.03307,0.17037,0.17443,-0.07696,-0.08114,-0.14642,0.13767,0.19026,0.00379,0.11497,0.12923,0.13746,0.04369,0.06104,0.07907,-0.08435,-0.09865,-0.15868,0.11642,0.14015,-0.15577,0.13911,0.1488,-0.16557,0.13233,-0.03281,-0.11475,-0.0614,-0.05447,0.04916,0.0313,-0.11239,-0.10189,-0.10526,0.11923,0.20582,0.21145,-0.19491,0.13489,-0.0771,-0.07044,-0.08657,-0.10707,-0.14406,-0.19768,-0.20587,0.03116,0.09796,-0.11987,0.0893,-0.07045,0.13338,0.16552,0.14338,0.14336,-0.15383,-0.13699,-0.0595,0.10899,-0.14568,0.08859,0.15844,0.15226,-0.11367,0.13863,-0.13788,0.02664,0.08408,0.09747,-0.1317,0.13705,0.13046,0.11898,0.12972,0.11181,0.12094,0.11056,0.10503,0.10152,0.11486,0.15845,0.11545,-0.12779,0.12881,0.13472,-0.15226,-0.0328,-0.16301,-0.1737,-0.11969,0.16736,-0.11303,-0.17078,-0.15847,0.13713,-0.0612,-0.03204,-0.04168,-0.03908,-0.038,-0.04958,-0.02663,-0.05061,-0.03591,-0.04413,-0.02956,-0.02039,-0.02802,-0.0244,-0.05655,-0.05059,-0.13194,0.19001,0.00279,-0.00264,0.12473,0.14958,0.1142,0.13373,0.12978,0.1978,0.04788,-0.03467,0.18978,0.19237,0.19881,0.1261,-0.1144,0.16296,0.16901,0.1277,0.11856,0.12217,0.11634,0.1209,0.11543,0.12239,0.136,0.06906,0.0831,0.07719,-0.01188,-0.00872,-0.01261,0.13941,0.11361,-0.12705,-0.12547,-0.06921,0.11193,0.13313,0.13515,0.00856,-0.13833,0.15037,0.17059,0.1508,0.15809,0.15656,0.13592,-0.13918,0.10567,0.11677,0.06286,0.15287,-0.05795,-0.13894,-0.14122,0.13153,-0.19277,-0.18239,-0.11845,-0.09126,-0.1178,-0.00809,-0.02555,-0.01239,-0.00755,0.00531,-0.01716,-0.01867,-0.00754,-0.00348,0.00586,-0.13017,-0.13561,0.07279,0.07796,0.07471,-0.16314,-0.17203,-0.20998,-0.21114,0.12867,-0.11616,-0.05408,-0.21158,-0.20888,-0.21029,0.06879,0.09306,0.08716,-0.12451,-0.13612,0.09039,-0.10406,-0.09004,-0.10308,-0.1232,-0.09877,-0.11618,-0.11193,-0.11481,0.03032,0.02017,0.03687,0.03404,0.04491,0.02454,0.02842,0.04385,0.04659,0.03291,0.04241,0.04009,0.03272,-0.13885,-0.10051,0.08238,-0.19572,-0.19057,-0.14649,-0.02397,0.11338,-0.18633,-0.17045,-0.17617,-0.17828,0.17311,0.17213,0.18164,0.17431,-0.12463,-0.15771,-0.15934,-0.15571,-0.14804,-0.15464,-0.1616,-0.1536,0.14435,0.13811,0.13698,0.15041,0.13001,0.12103,0.14577,0.14689,0.15059,0.139,0.1828,0.07953,0.04184,-0.15312,0.15503,-0.04814,-0.11658,-0.17176,-0.16054,-0.17115,0.11634,0.11461,-0.09612,-0.12151,0.18429,0.19067,0.19089,0.18317,-0.16159,-0.17251,-0.17722,-0.17877,-0.15827,-0.05395,-0.06109,-0.04969,-0.04376,-0.03299,-0.03396,-0.03909,-0.06716,-0.04201,-0.02526,-0.0428,-0.03214,-0.05209,-0.06092,-0.0368,-0.1329,0.11928,0.11783,0.089,0.08077,0.10085,0.0848,0.09289,0.10275,0.10181,0.08246,0.09576,0.10287,0.09988,-0.19053,0.11547,-0.11921,0.13926,-0.02471,-0.02201,-0.03237,-0.01463,-0.00995,-0.0148,-0.00122,-0.01102,-0.00777,-0.01652,0.00455,-0.02643,-0.02116,-0.02529,0.15141,-0.12855,-0.1531,-0.15642,-0.1471,-0.14385,-0.13657,0.13056,0.1356,0.1215,0.14208,-0.11744,-0.03858,0.12483,-0.13406,0.13828,-0.06806,-0.06171,-0.08311,-0.05649,-0.0734,-0.07872,-0.07021,-0.05441,-0.06442,-0.0698,-0.06714,-0.07501,-0.06267,-0.06615,0.16478,0.15846,-0.1391,-0.09161,0.11322,0.11698,-0.10732,-0.20501,0.11936,-0.04395,-0.12593,-0.12816,-0.13955,-0.13675,-0.13417,-0.04849,0.1391,0.16204,-0.11307,-0.10035,-0.1269,-0.12946,0.21137,0.14314,-0.17951,-0.18446,0.10643,0.07823],\"y\":[0.39962,0.1239,0.11774,0.11891,-0.11521,-0.28866,0.1239,0.16662,0.1239,0.30041,0.30041,0.30041,0.30041,0.30041,0.30041,0.30041,0.30041,0.30041,0.30041,0.30041,0.30041,0.30041,0.30041,-0.37838,0.2315,0.2315,0.2315,0.2315,-0.03447,-0.22087,0.2315,0.34963,0.33115,0.37217,0.2315,0.11724,0.17937,0.38227,-0.08315,0.09854,-0.11521,0.11388,0.39956,-0.11521,0.39997,0.39997,0.29191,0.25615,0.27976,-0.11521,0.22372,-0.1245,-0.37851,-0.23652,0.00478,-0.21117,0.09969,0.11981,0.10291,0.10271,-0.13356,0.1239,0.01822,-0.20514,0.3002,0.30022,0.28206,-0.13524,0.20005,0.36944,0.32594,0.34696,-0.13014,-0.27963,0.38675,0.30041,0.30041,0.30041,0.30041,0.30041,0.30041,0.30041,0.30041,0.30041,0.30041,0.33305,0.37173,0.36627,0.2315,0.09261,-0.04048,-0.11521,-0.11521,0.1627,0.1239,0.10046,0.39563,0.079,0.3973,-0.30926,0.09641,0.11728,0.2315,0.2315,0.2315,0.2315,-0.1645,0.37654,0.1239,0.1239,-0.13348,0.38811,0.37189,0.33392,0.33091,-0.39548,0.11701,-0.39841,0.39945,-0.2267,-0.15633,0.30141,0.32664,0.32595,0.10011,-0.32397,0.30041,0.30041,0.30041,0.30041,0.30041,0.30041,0.30041,0.30041,0.30041,0.30041,0.00034,0.10167,-0.08184,-0.37162,-0.11791,-0.11521,-0.11521,0.10515,-0.08876,0.3695,0.34514,0.3903,0.39627,-0.12257,-0.28149,0.32066,0.39775,0.1063,-0.1399,-0.14624,0.26942,0.24401,0.2483,-0.1224,0.27816,0.26275,0.29871,-0.1246,0.1239,0.37329,0.34533,0.33732,-0.06675,0.10563,0.24115,0.27695,0.29828,0.04034,-0.13699,-0.05823,0.39997,0.23473,0.28392,0.26351,0.11232,0.13679,0.24292,0.26774,0.18662,0.30041,0.30041,0.30041,0.30041,0.30041,0.30041,0.30041,0.30041,0.30041,0.30041,0.3257,0.33099,0.32574,0.11987,0.03689,0.29784,0.24076,0.28045,0.3949,0.2315,0.2315,0.2315,0.2315,0.2315,0.09815,0.30041,0.14905,0.39997,0.39997,0.39997,0.39997,0.39997,0.39997,0.39997,-0.1383,0.1128,0.36417,0.34778,0.3716,0.1025,0.10329,0.30041,0.30041,0.30041,0.30041,0.30041,0.30041,0.30041,0.30041,0.30041,0.30041,0.30041,0.30041,0.30041,0.30041,0.30041,0.30041,0.31893,0.32594,0.34857,-0.11521,-0.11521,-0.11521,0.31837,0.30332,0.33709,0.11672,-0.28229,0.05718,-0.20481,0.30041,0.30041,0.30041,0.30041,0.30041,0.30041,0.30041,0.30041,0.30041,0.30041,0.30041,0.30041,0.30041,-0.17901,-0.27214,0.10991,0.09642,0.00013,-0.14022,0.39997,0.39997,0.39997,0.39997,0.39997,0.39997,0.2315,0.11476,-0.019,0.2315,0.2315,0.2315,0.2315,0.2315,0.2315,0.2315,0.2315,0.2315,0.2315,0.2315,0.2315,0.2315,0.2315,0.2315,-0.14258,-0.12926,0.04763,0.30041,0.30041,0.30041,0.30041,0.30041,-0.12946,-0.1183,0.2315,-0.18799,-0.14638,0.1239,0.1239,0.2009,0.11431,-0.36957,0.1239,0.1239,0.09593,0.10309,0.12101,0.11958,0.19598,-0.11943,0.01597,0.03946,0.2986,0.25646,0.26648,-0.16305,-0.133,-0.12848,0.2315,0.21665,0.39645,0.39131,0.09843,0.17633,0.11057,0.09666,0.09424,-0.05067,0.2315,0.35823,0.34019,0.31422,0.09165,-0.24734,-0.37756,0.23754,0.26216,0.26789,0.2315,0.2315,0.2315,0.02828,-0.138,0.2315,0.30701,0.33969,0.30975,0.39997,0.39997,0.39997,0.39997,0.39997,0.39997,0.39997,0.39997,0.39997,0.39997,0.39997,0.39997,0.3682,0.3629,0.35789,0.39782,-0.1237,0.11348,0.12055,0.34367,0.33569,0.30947,0.35461,0.30292,0.34567,0.09909,0.2315,0.1239,0.1239,0.10586,0.27197,0.24417,0.27042,0.1239,0.39997,0.39997,0.39997,0.39997,0.39997,0.39997,0.39997,0.39997,0.39997,0.39997,0.39997,0.39997,0.39997,0.2012,0.38785,0.38052,0.24662,0.2386,0.29506,0.27642,0.23633,0.28011,-0.13698,-0.01991,-0.08619,0.3723,0.35722,0.34582,-0.23037,0.35884,0.34459,0.30438,0.11182,-0.13992,0.05883,0.31979,0.31383,0.35245,-0.11521,-0.11521,0.12073,0.2868,0.24622,0.26308,0.39296,0.26496,0.3838,0.29774,0.24539,0.02066,0.24338,0.25761,0.3686,0.36534,0.37661,0.25453,0.26854,-0.1895,0.09832,0.39686,-0.3132,-0.11521,0.12268,-0.28213,-0.03579,0.1239,-0.01868,0.10488,0.18915,0.2315,0.38667,0.11529,0.20255,0.22616,0.1142,0.1239,-0.13175,0.09508,0.09477,-0.28604,0.04127,0.1239,-0.11669,0.31574,0.3174,0.20869,-0.14279,-0.04519,0.1239,-0.10121,-0.11842,-0.24448,-0.11783,0.06209,-0.13009,-0.11521,0.1239,-0.24759,0.03941,-0.31307,0.07733,0.39997,0.39997,0.39997,0.39997,0.39997,0.39997,0.09489,0.2315,-0.11521,0.362,0.33338,0.31086,0.36145,0.34467,0.2315,0.30041,0.30041,0.30041,0.30041,0.30041,0.30041,0.30041,0.30041,0.30041,0.30041,0.30041,0.30041,0.30041,-0.12753,-0.05945,0.12281,-0.12611,-0.18399,-0.2148,-0.08344,-0.06061,0.30041,0.30041,0.30041,0.30041,0.30041,0.30041,0.30041,0.30041,0.30041,0.30041,0.30041,0.30041,0.30041,0.30041,-0.21201,0.05645,0.09652,0.38502,0.2315,0.2315,0.2315,0.2315,0.2315,0.2315,0.2315,0.2315,0.2315,0.2315,0.2315,0.2315,0.2315,0.2315,0.1146,-0.11521,0.37659,-0.09693,0.30297,0.33041,0.32366,-0.12482,0.29896,0.29365,0.01421,0.29059,0.28476,0.28995,0.2315,0.2315,0.2315,0.2315,0.2315,0.2315,0.2315,0.2315,0.2315,0.2315,0.2315,0.2315,0.2315,0.2315,0.10103,0.1239,0.11787,0.31085,0.30695,0.33854,-0.07885,-0.12758,0.13026,0.08176,-0.22073,0.1239,-0.11798,-0.11521,0.09441,0.1239,0.1239,0.39857,0.23855,0.27099,0.29373,0.02051,0.34162,0.15408,-0.11665,-0.13563,-0.10234,0.2315,0.2315,0.2315,0.2315,0.2315,0.2315,0.2315,0.2315,0.2315,0.2315,0.2315,0.2315,0.2315,0.2315,0.2315,0.2315,0.2315,0.09338,0.2315,-0.11948,-0.09167,-0.31202,-0.12277,0.24754,0.26174,0.25963,0.29957,0.26799,0.27907,-0.08021,0.39997,0.39997,0.39997,0.39997,0.39997,0.39997,0.39997,0.39997,-0.11521,0.39743,0.37861,-0.16769,-0.1672,0.11298,0.11422,0.10304,-0.17676,-0.11521,-0.36085,-0.20348,-0.07019,-0.13216,0.39937,-0.30501,0.22672,0.12377,-0.12038,-0.13409,0.38173,-0.05693,0.3713,0.3483,0.33299,0.38381,0.23838,0.23463,0.38936,-0.22826,0.04462,-0.30846,0.35768,0.35869,0.34669,0.1239,0.1239,-0.12618,-0.04988,-0.14292,0.30537,0.37148,0.09924,0.14287,-0.12077,0.2315,0.39417,0.2315,0.2315,0.2315,0.2315,0.2315,0.2315,0.2315,-0.3994,0.09959,-0.12897,-0.39997,-0.11521,-0.1767,0.31314,0.3014,0.35727,0.26797,0.28792,-0.39157,-0.1193,-0.24446,0.2315,0.06323,-0.07157,0.39997,0.39997,0.39997,0.39997,0.39997,0.39997,0.39997,0.39997,0.39997,0.39997,0.39997,0.39997,0.10542,-0.28465,0.38747,0.3052,0.31434,0.15023,0.30733,0.30284,0.30615,-0.14007,-0.14601,0.22796,0.1837,0.1239,0.1239,0.1239,0.37735,0.09638,-0.14045,0.3945,-0.13191,-0.11521,-0.10895,0.11823,0.1221,0.31387,0.31001,0.30392,0.09535,0.39546,-0.13634,0.10672,-0.27007,0.39997,0.39997,0.39997,0.39997,0.39997,0.39997,-0.1257,-0.06999,0.39504,-0.11521,-0.11521,0.36886,0.3161,0.36666,-0.3355,0.10808,-0.09733,-0.13482,0.07215,0.1239,-0.1219,0.1175,0.39997,0.39997,0.39997,0.39997,0.39997,0.39997,-0.11777,0.11458,-0.39166,-0.11521,0.38932,0.11043,-0.19821,0.36408,0.34822,0.39997,0.39997,0.39997,0.39997,0.39997,0.39997,0.39997,0.39997,0.39997,0.39997,0.39997,0.39997,0.39997,-0.05024,-0.1486,0.1239,0.1239,0.06501,0.38183,-0.12338,-0.11521,-0.03803,0.21083,0.2315,-0.35258,0.1239,0.1239,0.27043,0.28643,0.2315,0.30551,0.317,0.22424,0.10316,0.37459,-0.39166,0.37631,-0.02541,-0.12592,0.10756,0.35276,0.37134,0.36842,0.2032,-0.13145,0.3382,0.3563,0.36533,-0.05183,-0.17544,0.2315,0.2315,0.2315,0.2315,0.2315,0.2315,0.2315,0.23892,0.24901,0.26668,-0.08411,-0.13464,-0.14452,-0.30999,0.33723,0.31871,0.36579,0.32127,0.31316,0.35391,-0.06247,-0.13365,0.3819,0.3526,0.35924,-0.11521,0.10535,0.11825,0.1239,0.03376,-0.14022,0.10659,0.19448,-0.12119,-0.28546,0.17669,0.12334,-0.11726,-0.12327,0.35473,0.3426,0.35611,0.32169,0.30062,0.2315,0.2315,-0.12889,-0.36172,-0.11843,-0.03218,0.05803,0.30689,0.35054,0.31121,0.25306,0.29932,0.12316,-0.09563,-0.24621,0.38498,-0.2324,0.39997,0.39997,0.39997,0.39997,0.39997,0.39997,0.39997,0.39997,0.39997,-0.11521,-0.11521,-0.11521,-0.11521,-0.11521,-0.11521,0.10937,-0.30856,-0.32782,0.10991,-0.11521,-0.14482,-0.15369,0.33887,0.37186,-0.131,0.30726,0.32019,0.38007,0.31582,0.36552,0.3714,0.38897,0.32228,0.35742,0.3691,0.11173,-0.11521,0.10568,0.1239,-0.01673,-0.28482,-0.1374,-0.13651,0.2315,0.2315,-0.27932,0.39997,0.39997,0.39997,0.39997,0.39997,0.39997,0.39997,0.39997,0.39997,0.39997,0.39997,0.39997,0.39997,-0.22381,0.1205,0.37396,0.2315,0.39997,0.39997,0.39997,0.39997,0.39997,0.39997,0.39997,0.39997,0.39997,0.09401,0.09604,0.11842,0.1239,0.1239,0.30041,0.30041,0.30041,0.30041,0.30041,0.30041,0.30041,0.25681,0.2783,0.28036,-0.11521,0.12128,0.10806,-0.17375,-0.11521,-0.11521,0.30621,0.35089,0.30296,0.02947,-0.11521,0.10642,0.38023,0.10852,0.04637,0.1239,0.09511,0.10819,0.15728,0.32567,0.34684,0.30124,-0.14103,0.1239,0.1239,0.00586,0.24406,0.25,0.24047,-0.09888,-0.23869,0.2315,0.3937,0.10683,0.30041,0.30041,0.30041,0.30041,0.30041,0.30041,0.39323,-0.11521,0.2315,0.36611,0.36366,0.35404,-0.14288,-0.14204,0.37871,-0.14363,0.1239,0.11257,0.08433,0.3827,0.1239,0.1239,-0.117,-0.12044,-0.128,-0.26538,-0.34066,0.2752,0.26017,0.39767,0.10734,0.10293,0.2315,0.2315,0.2315,0.2315,-0.19302,-0.13084,-0.11542,0.2315,0.2315,0.2315,-0.10043,0.19436,0.23695,0.27256,0.26143,0.06091,0.25842,0.24805,0.22853,0.11193,0.2315,0.35625,0.34476,0.33168,-0.13184,0.10789,0.09657,-0.13596,0.2315,0.2315,0.2315,0.2315,0.2315,0.2315,0.2315,0.2315,0.2315,0.2315,0.2315,0.2315,0.2315,0.2315,0.2315,0.2315,0.2315,-0.13839,-0.12533,0.38831,-0.13377,-0.15253,-0.10286,0.07847,-0.21785,0.11724,-0.11521,-0.11521,-0.00069,0.09523,0.38322,-0.07296,-0.18718,0.03986,0.38681,0.39997,0.39997,0.39997,0.39997,0.09413,0.2315,0.2315,0.2315,0.2315,0.2315,0.2315,0.2315,0.2315,0.2315,0.2315,0.2315,0.30041,0.30041,0.30041,0.30041,0.30041,0.38551,-0.29011,-0.26731,0.2315,0.10379,-0.26303,0.39596,0.1239,0.2315,-0.11521,0.27394,0.29711,0.29099,0.20398,0.36896,0.37047,0.35704,0.1239,0.1239,0.32535,0.35026,0.37284,-0.21296,0.31376,0.34046,0.39997,0.39997,0.39997,0.39997,0.39997,0.39997,0.39997,0.39997,0.39997,0.39997,0.39997,-0.11521,0.07629,-0.11521,-0.11521,0.16958,0.1239,-0.1162,-0.1164,0.11209,-0.14243,0.2315,0.11646,-0.02053,-0.11521,-0.25179,-0.18624,0.2341,0.2516,0.24171,-0.1185,-0.01995,-0.397,0.39248,-0.12972,-0.12823,-0.14664,0.19488,-0.1229,-0.13629,-0.00798,0.1067,-0.19427,-0.13339,-0.25497,-0.10308,-0.03381,0.01314,-0.10542,0.2315,0.2315,0.2315,0.2315,0.2315,0.2315,0.2315,0.2315,0.2315,0.2315,0.2315,0.2315,0.1532,-0.11935,-0.13659,0.25654,0.26469,0.1239,0.39997,0.39997,0.39997,0.39997,0.39997,0.39997,0.39997,0.39997,0.39997,0.39997,0.39997,0.39997,-0.14401,0.17761,-0.28466,0.08256,0.16368,-0.17665,-0.11521,0.1239,0.1239,-0.11521,0.01705,0.30041,0.30041,0.30041,-0.11521,-0.11521,0.2315,0.2315,0.2315,0.2315,-0.32596,0.11441,0.29224,0.28507,-0.11521,-0.11521,0.24253,0.23256,0.2315,0.1239,-0.19637,0.1239,0.1239,0.1239,0.06615,-0.25071,0.10621,0.23126,-0.11521,0.25742,0.24467,-0.0316,-0.13685,-0.0548,-0.06226,0.10749,0.11885,-0.38671,0.39997,0.39997,0.39997,0.39997,0.39997,0.39997,0.39997,0.39997,0.39997,-0.19555,-0.13398,-0.27845,0.273,0.29945,0.29387,0.1239,-0.28283,0.38178,-0.11521,0.22865,-0.18493,-0.01126,0.27044,0.29985,0.27274,-0.13368,-0.11401,-0.28689,-0.3623,0.16624,0.1239,0.1239,0.23236,0.24446,0.23684,0.39852,0.26446,0.24845,0.12966,0.39882,0.12127,0.30041,-0.14145,0.08632,0.10154,0.11755,-0.08293,-0.02299,0.1007,0.1239,0.1239,0.32909,0.34475,0.30425,-0.11521,0.31924,0.36036,0.33946,0.11447,-0.21734,0.38087,0.37524,-0.14142,0.09944,0.26379,0.23266,0.01886,0.38339,0.1239,-0.12044,0.39254,-0.21847,0.23899,0.23433,0.1239,0.29599,0.28935,0.2858,-0.13846,-0.18154,0.11107,0.36725,0.35132,0.35708,0.1239,-0.07598,-0.13167,0.32496,0.37301,0.3551,0.25511,0.24546,0.26414,0.21251,-0.07411,0.11348,-0.17366,-0.29996,0.09326,-0.11125,0.03492,0.09294,-0.06067,0.10991,0.3893,0.3975,0.25476,0.24416,-0.31778,0.11542,-0.32671,-0.00601,0.10547,0.30041,0.30041,0.30041,0.30041,0.30041,0.30041,0.30041,0.30041,0.30041,0.30041,0.30041,0.30041,0.30041,0.30041,0.30041,-0.13407,0.1239,0.07736,0.29981,0.26583,0.28009,-0.30553,0.30041,0.30041,0.30041,0.30041,0.30041,0.30041,0.30041,0.30041,0.30041,0.30041,0.30041,0.30041,0.30041,0.38028,0.30041,0.30041,0.30041,0.30041,0.30041,0.30041,0.30041,0.30041,0.2315,0.39466,0.2315,0.2315,0.2315,0.2315,0.2315,0.2315,0.2315,0.2315,0.2315,0.2315,0.2315,0.2315,0.2315,0.2315,0.2315,-0.17158,-0.11521,0.30823,0.09155,0.2315,0.2315,0.2315,0.2315,0.2315,0.2315,-0.12029,-0.3405,0.09948,-0.1623,0.39423,0.2315,0.2315,-0.00367,0.11042,0.11337,0.39997,0.18484,0.10081,-0.01936,0.10231,0.2315,0.2315,0.2315,0.2315,0.2315,0.2315,0.2315,0.2315,0.2315,0.2315,0.2315,0.03988,0.07557,0.1239,0.35265,0.32521,0.35157,0.1228,0.32519,0.35391,0.36896,0.35316,0.39967,-0.0658,0.11537,0.34403,0.3664,-0.13051,-0.12423,-0.11521,-0.11521,-0.0379,0.34576,0.36759,0.35207,0.09913,-0.39997,0.04873,-0.31675,-0.11211,0.1239,0.0993,0.02561,-0.12818,-0.12142,0.09695,-0.12962,-0.11746,0.22467,0.1239,-0.11521,-0.11521,0.11913,0.08604,-0.25102,-0.12997,0.18069,0.37808,-0.13079,-0.2901,0.09148,0.1029,-0.06308,0.16574,0.39968,0.08282,-0.17914,0.13349,-0.27572,-0.12953,0.32672,0.30883,0.30968,0.28931,0.23821,0.23699,-0.14768,0.1239,-0.1301,-0.14398,0.39283,0.1239,0.38041,0.2315,0.2315,0.04606,0.10508,0.1239,0.38878,0.37564,0.3059,0.35376,0.35195,-0.09483,-0.11521,-0.1565,-0.16106,0.14683,0.15785,0.27908,0.28481,0.12985,0.36295,0.30317,-0.07669,-0.11521,-0.11521,0.31326,0.32415,0.13328,-0.11521,-0.03083,-0.14333,-0.03416,0.2315,0.2315,0.2315,-0.05715,-0.31991,-0.10185,-0.11521,0.39997,0.39997,0.39997,0.39997,0.39997,0.39997,0.39997,0.39997,0.39997,0.39997,0.39997,0.36236,0.30558,0.31799,0.23374,0.24092,-0.00806,0.1239,-0.11521,0.05188,-0.11521,0.10671,0.1239,0.39975,0.31234,0.33029,0.32667,-0.37518,-0.01537,-0.12867,0.39997,0.39997,0.39997,-0.23922,0.24348,0.25531,0.25317,0.25468,0.27171,0.39997,0.39997,0.39997,0.39997,0.39997,0.39997,0.39997,0.39997,0.39997,0.39997,0.39997,0.39997,0.39997,0.39997,0.37879,-0.11521,-0.31071,0.29739,-0.2876,0.11066,0.10061,-0.13782,0.3935,0.34473,0.34,0.01879,0.11329,0.12215,-0.11521,-0.26515,0.11552,0.30041,0.30041,0.30041,0.30041,0.30041,0.30041,0.30041,0.30041,-0.38887,-0.11431,0.39418,-0.12912,0.17969,0.24669,0.28728,-0.13833,0.30041,0.30041,0.30041,0.30041,-0.33391,0.23783,0.27331,0.07025,-0.05863,0.39666,-0.17979,-0.11521,-0.39965,-0.19422,0.10366,0.2315,0.2315,0.10677,0.03087,0.28809,0.09556,-0.3492,0.1239,0.1239,0.2315,0.22641,0.2315,0.34889,0.37092,0.34928,0.28281,0.00166,-0.39997,-0.16642,0.09679,-0.136,-0.00393,-0.14357,0.0527,0.2455,0.23352,0.24378,-0.04307,0.10223,-0.02046,-0.28542,0.25398,0.29523,0.28684,0.32409,0.34397,0.3542,0.11816,-0.11521,-0.11521,0.12139,-0.28875,0.09964,0.1239,0.24868,0.24509,0.25726,0.06735,0.11545,0.09381,0.11095,-0.14398,0.37684,0.1239,0.1181,0.30041,0.06018,0.10654,-0.04971,0.20851,0.2474,0.26422,0.2315,0.19347,0.14529,0.12094,0.1239,0.1239,0.17093,0.2315,0.2315,0.2315,0.11188,0.0153,-0.25484,-0.06435,0.38774,0.30041,0.39997,0.39997,0.39997,0.39997,0.39997,0.1239,0.11369,0.06494,-0.11717,0.2315,0.25308,0.23838,-0.25148,0.1239,0.04408,-0.11671,-0.1156,0.09843,-0.37857,0.11618,0.33922,0.37962,-0.14644,0.29393,0.27853,0.27946,0.29245,0.29899,-0.13789,-0.14099,0.10976,0.2315,0.2315,0.2315,0.2315,0.2315,0.2315,0.2315,0.2315,0.2315,0.2315,0.2315,0.2315,0.2315,0.2315,0.14154,0.27082,0.27819,-0.11521,0.39997,0.39997,0.39997,0.39997,0.39997,0.39997,0.39997,0.39997,0.39997,0.39997,0.39997,0.11384,0.23348,0.26291,0.28465,-0.30879,-0.33926,-0.14263,0.2315,0.2315,0.2315,0.2315,-0.11521,-0.12339,0.38124,-0.12718,0.1137,0.35168,0.32424,0.30812,0.31189,0.33227,-0.12157,0.37857,0.30041,0.30041,0.30041,0.30041,0.30041,0.30041,0.30041,0.30041,0.30041,0.30041,0.30041,-0.00971,0.10004,0.30041,0.30041,0.30041,0.30041,0.30041,0.30041,0.30041,0.30041,0.30041,-0.36915,-0.23925,0.39975,0.10769,0.1585,0.24267,0.25209,-0.05961,-0.1369,0.2315,0.2315,0.2315,0.2315,0.2315,0.2315,0.2315,0.2315,0.2315,0.2315,-0.13289,-0.14128,0.35832,0.36022,0.35031,0.24153,0.26356,0.38048,0.30041,0.30041,0.30041,0.30041,0.30041,0.30041,0.30041,0.30041,0.30041,0.30041,0.30041,0.30041,0.30041,0.30041,-0.08426,0.18806,-0.30605,-0.13147,-0.11737,-0.38349,0.08393,-0.11521,-0.11521,-0.26795,0.09982,0.39192,-0.13866,0.29279,0.29782,0.26512,-0.1233,0.39342,0.30041,0.30041,0.37905,0.29748,0.28877,0.2596,0.39997,0.39997,0.39997,0.39997,0.39997,0.39997,0.39997,0.39997,0.39997,0.39997,0.39997,0.39997,-0.38896,-0.12147,-0.12979,0.1239,-0.11521,0.39054,-0.11521,0.11343,0.39997,0.39997,0.39997,0.39997,0.39997,0.39997,0.18239,-0.11521,0.05889,-0.18302,-0.06417,0.09433,0.23853,0.29246,0.24892,-0.06753,-0.14091,-0.36945,0.39634,0.1742,0.23142,0.1239,-0.07204,0.2315,-0.12768,-0.14173,-0.13447,0.12104,0.1239,0.1239,0.30041,0.30041,0.30041,0.30041,0.38938,-0.37226,0.1239,0.05583,0.39807,0.17396,0.39553,0.2315,0.2315,0.2315,0.2315,0.2315,0.2315,0.2315,0.2315,0.2315,0.2315,0.2315,0.2315,0.2315,0.2315,-0.21452,0.17971,0.30041,0.30041,0.30041,0.30041,0.30041,0.30041,0.30041,0.30041,0.30041,0.30041,0.30041,0.30041,0.30041,0.30041,0.30041,-0.11521,0.36371,0.36724,0.36783,0.27089,0.25297,0.2361,-0.10806,0.18331,-0.33816,0.05527,0.26835,0.28141,0.28405,-0.1361,-0.1675,-0.12873,-0.13905,0.30002,0.24647,0.2696,0.34175,0.36204,-0.06425,-0.13616,-0.39997,0.18302,0.15659,0.32774,0.32422,0.1239,0.1239,-0.1748,-0.12238,0.26518,0.25724,0.23318,-0.21124,0.37236,0.34181,0.34926,-0.11539,-0.14067,-0.32828,0.11301,0.1239,-0.11521,-0.03536,0.2315,0.2315,0.2315,0.2315,0.2315,-0.24911,0.09686,0.39997,-0.38337,0.31917,0.36878,0.39997,0.39997,0.39997,0.39997,0.39997,0.39997,0.39997,0.39997,0.39997,0.2315,0.37822,-0.34963,-0.12982,0.31615,0.31099,0.30922,-0.02564,0.2315,0.2315,0.2315,0.2315,0.2315,0.2315,0.2315,0.2315,0.2315,-0.12993,-0.03217,-0.31724,-0.27338,0.11972,0.2315,0.2315,0.2315,0.2315,0.2315,0.2315,0.2315,0.2315,0.2315,0.2315,0.2315,0.2315,0.2315,0.2315,0.39432,0.1239,-0.37729,-0.04246,0.39221,-0.14413,0.2315,-0.25866,-0.14655,0.11472,0.12054,0.1239,-0.13768,0.37858,-0.12583,0.1239,0.1239,0.30041,0.30041,0.30041,0.30041,-0.12621,0.24351,0.28932,0.18522,0.39711,-0.12152,-0.11521,0.11633,0.30041,0.30041,0.30041,0.149,0.39997,0.39997,0.39997,0.39997,0.39997,0.39997,0.39997,0.39997,-0.38325,0.35724,0.31957,-0.08156,-0.29281,0.30041,0.30041,0.30041,0.30041,0.30041,0.30041,0.30041,0.30041,0.30041,0.30041,0.30041,0.30041,0.30041,0.30041,-0.04178,-0.1446,-0.0192,0.22585,0.37522,0.266,0.2441,0.26309,0.15918,-0.13498,0.11153,0.11731,0.39769,0.09575,0.35066,0.3554,0.37362,0.38379,-0.18498,-0.13023,0.09631,0.2315,0.2315,0.2315,0.2315,0.2315,0.2315,0.2315,0.2315,0.2315,0.2315,0.2315,0.2315,0.2315,0.30041,0.30041,0.30041,0.30041,0.30041,0.30041,0.30041,0.30041,0.30041,0.30041,-0.13243,-0.30762,-0.37247,0.29274,0.29997,0.24434,-0.04758,0.09765,-0.29883,-0.36635,-0.13296,0.2315,0.29246,0.23717,0.11705,-0.13005,0.36339,0.3592,0.35926,-0.32601,0.2315,0.2315,0.2315,0.2315,0.2315,0.2315,0.2315,0.2315,0.2315,0.2315,0.2315,0.2315,0.2315,0.39231,0.28388,-0.26205,0.1084,0.09266,-0.14649,-0.1226,-0.12807,0.30497,0.33902,0.27866,0.24418,-0.04933,-0.14088,-0.11521,-0.11521,-0.11521,-0.11521,0.1239,0.12461,0.38081,0.10347,0.01714,0.1205,-0.07129,-0.14554,0.28122,0.11351,0.1239,0.1239,0.38736,-0.2372,0.2315,-0.1278,0.17297,-0.14161,0.39204,-0.25428,0.12374,0.0531,0.26162,0.29877,0.1239,0.1239,0.2315,0.2315,0.2315,0.16518,0.35357,0.31171,-0.12092,-0.11521,0.23856,0.26785,0.23458,-0.12804,0.39942,0.23602,0.25415,0.39516,0.11659,-0.02238,-0.12522,0.39005,-0.27936,0.30118,0.30517,0.3326,-0.13034,0.17761,0.09701,-0.11521,0.12293,-0.12473,-0.11521,-0.11521,0.2274,-0.20216,0.0945,-0.11521,-0.14518,-0.13952,-0.32704,0.30041,0.30041,0.30041,0.30041,0.30041,0.30041,0.30041,0.30041,0.30041,0.30041,-0.119,0.22095,-0.04341,-0.14195,-0.11521,0.10515,0.29697,0.39997,0.39997,-0.35251,-0.11521,-0.32946,0.09513,-0.13799,0.14591,0.30041,0.30041,0.30041,0.30041,0.30041,0.30041,0.30041,0.30041,0.30041,0.30041,0.30041,0.30041,0.30041,0.30041,0.30041,0.30041,-0.06661,0.09515,0.1239,0.1239,-0.37683,-0.1277,-0.03707,-0.17757,0.13096,-0.14065,-0.11521,-0.11987,0.34642,0.36179,0.35624,-0.30514,0.2315,-0.11521,-0.11521,0.2045,0.39997,0.39997,0.39997,0.39997,0.39997,0.39997,-0.21093,0.28625,0.27919,0.23222,0.2443,0.25106,0.29123,0.07652,-0.31115,-0.27067,0.2315,0.11803,0.23761,0.24687,0.2805,-0.136,0.2315,0.2315,0.2315,0.2315,0.2315,0.2315,0.07388,-0.38602,-0.13867,-0.1414,0.1239,0.11786,-0.11521,0.22351,-0.11521,0.03952,0.39094,0.39997,0.11803,0.10006,-0.11534,0.39997,0.39997,0.39997,0.39997,0.39997,0.39997,0.39997,0.39997,0.39997,0.39997,0.2057,0.22207,0.307,0.33379,0.31886,-0.11521,-0.11521,0.25323,0.27968,-0.3601,-0.19061,0.12361,0.24178,0.23451,0.24259,0.24066,0.25544,0.24369,-0.20649,-0.14699,0.38778,0.39997,0.39997,0.39997,0.39997,0.39997,0.39997,0.39997,0.39997,0.39997,0.39997,0.39997,0.39997,0.39997,0.39997,0.39997,0.39997,0.39997,0.39997,0.39997,0.39997,0.39997,-0.31933,0.09245,0.10431,-0.13042,-0.11521,0.11342,0.1126,-0.05978,-0.12624,-0.11521,-0.11521,-0.11521,0.2315,0.2315,0.2315,0.2315,-0.2592,0.39997,0.39997,0.39997,0.39997,0.39997,0.39997,0.39997,0.30041,0.30041,0.30041,0.30041,0.30041,0.30041,0.30041,0.30041,0.30041,0.30041,0.09728,-0.13686,-0.14667,0.09829,0.0977,-0.1396,-0.30087,0.39997,0.39997,0.39997,-0.26886,0.04603,0.10597,-0.36578,0.30041,0.30041,0.30041,0.32731,0.2315,0.2315,0.2315,0.2315,0.09816,0.30041,0.30041,0.30041,0.30041,0.30041,0.30041,0.30041,0.30041,0.30041,0.30041,0.30041,0.30041,0.30041,0.30041,0.30041,-0.16335,-0.08774,0.13018,0.30041,0.30041,0.30041,0.30041,0.30041,0.30041,0.30041,0.30041,0.30041,0.30041,0.30041,0.1118,0.26819,0.1557,0.05226,0.30041,0.30041,0.30041,0.30041,0.30041,0.30041,0.30041,0.30041,0.30041,0.30041,0.30041,0.30041,0.30041,0.30041,0.11864,0.0502,0.2315,0.2315,0.2315,0.2315,-0.14027,0.09052,0.33546,0.33141,0.30305,0.13964,0.12144,-0.1271,-0.35051,-0.05008,0.30041,0.30041,0.30041,0.30041,0.30041,0.30041,0.30041,0.30041,0.30041,0.30041,0.30041,0.30041,0.30041,0.30041,-0.11521,-0.11521,-0.01917,-0.12168,0.19348,0.08644,-0.11521,0.37635,0.2315,0.09329,0.32485,0.33081,0.24985,0.24012,0.23415,0.1239,-0.29648,-0.11521,-0.21316,0.09717,-0.09481,-0.01216,0.30041,0.1239,0.39997,0.39997,0.10441,-0.124],\"z\":[0.18355,0.13204,-0.12512,-0.17747,0.15869,0.12816,0.15443,0.11356,-0.12587,-0.13899,-0.15553,0.09184,-0.1722,-0.18591,-0.16838,-0.05933,-0.02255,0.01878,0.0286,-0.03568,0.07661,-0.02559,0.01291,-0.13501,0.06184,-0.10807,0.07787,-0.00706,-0.13441,0.12703,0.01175,-0.1513,-0.14016,-0.16454,-0.10643,0.13294,0.11397,-0.1069,-0.11356,0.13704,0.03908,-0.15428,0.19022,0.03183,0.03501,-0.03692,-0.20794,-0.20495,-0.20457,-0.08512,0.11702,-0.06673,0.13943,-0.1259,-0.13113,-0.13433,0.00425,0.09354,0.14857,0.13325,-0.15868,0.08927,-0.11407,-0.13771,-0.14357,-0.15212,-0.14437,-0.15428,-0.1203,-0.0106,0.02988,0.03576,0.13358,-0.1207,0.13181,0.09501,0.00775,0.13513,0.14421,-0.11942,-0.06788,0.11403,0.01897,0.07953,-0.01596,-0.03216,-0.05634,-0.04501,0.04669,0.00383,-0.12315,0.19015,0.18491,0.13934,0.16159,0.17756,-0.00823,0.13252,0.19256,0.13113,-0.12005,-0.10178,-0.16346,-0.05313,-0.13661,-0.09613,0.13877,-0.10041,0.16134,0.17584,0.15839,-0.09902,0.03342,0.03994,0.03177,0.11578,0.01919,-0.12919,0.18241,0.12647,-0.11746,-0.05496,-0.05082,-0.07354,0.042,0.11787,0.01908,0.03439,-0.15383,0.05577,-0.11543,0.07869,0.02218,-0.12397,0.07365,-0.03754,-0.11956,-0.18431,-0.13931,0.11663,0.15482,-0.17998,-0.18411,0.09306,0.13908,0.12636,0.12277,-0.19344,0.17312,-0.08518,-0.11336,-0.15106,0.09394,0.13944,-0.11484,-0.09493,-0.05305,-0.08197,-0.07832,0.12152,0.02608,0.02467,0.02927,-0.15148,0.04275,-0.19731,-0.18151,-0.1861,-0.13475,0.12076,0.01555,0.02077,0.02109,0.11446,0.1865,-0.12175,0.00396,0.03823,0.05717,0.05955,-0.12704,-0.13631,0.18849,0.18441,-0.11574,0.15428,0.13186,0.15272,0.11126,-0.02362,0.15636,0.00573,0.06397,0.00944,-0.0838,-0.09298,-0.11721,-0.10221,-0.12198,-0.11821,0.13617,0.13943,0.13467,-0.19657,-0.02653,-0.12747,-0.00069,-0.09075,-0.02462,-0.0241,-0.00718,0.13689,0.08152,0.07095,0.1035,0.1209,0.03176,-0.03979,0.0231,0.11658,-0.12369,0.19798,0.20404,0.19291,0.0371,0.06103,-0.06219,-0.1716,-0.20307,0.09867,0.03934,0.04767,-0.08904,-0.20478,-0.17045,-0.09478,-0.08252,-0.06513,-0.10197,-0.08651,-0.14014,-0.13346,0.15989,0.1537,0.17025,0.08168,-0.05053,0.0054,-0.17574,-0.17761,-0.16716,0.10314,0.11428,0.13506,0.11401,0.16782,-0.08096,-0.11686,0.11522,0.08881,-0.10599,0.13827,0.15578,-0.04493,0.02799,0.00109,-0.09635,-0.09245,0.12566,-0.11519,-0.06124,0.12718,-0.11712,0.12875,-0.03979,-0.00218,0.03192,-0.00734,0.07951,0.08671,-0.00202,0.13499,0.1141,-0.04249,-0.16537,0.00761,0.05325,0.1591,0.05943,0.09503,0.17739,0.06808,0.12692,-0.14279,0.18798,0.20372,0.04029,0.07377,0.14552,0.00795,-0.12819,0.01927,0.11737,0.08044,0.08107,-0.00961,-0.08086,-0.01748,-0.10615,-0.11282,0.11307,-0.15898,-0.15846,-0.13278,0.11768,-0.13274,0.12585,0.06069,-0.1569,-0.14561,0.01514,0.00803,0.13328,-0.0957,0.11581,-0.13925,-0.07266,-0.07275,-0.07787,-0.11922,0.15804,-0.16284,-0.15003,-0.13661,-0.13954,-0.20119,-0.11389,-0.11308,0.14925,-0.15254,-0.1387,-0.13706,-0.08002,0.07912,0.08642,0.07065,0.11551,-0.12145,-0.13808,-0.1123,-0.09442,-0.10424,-0.09891,0.018,-0.03952,0.11313,-0.17471,0.04928,0.13111,0.15306,0.14252,-0.04807,-0.11622,0.06997,0.01047,-0.07108,0.07878,-0.15539,-0.18027,0.01858,0.12377,-0.03862,-0.0845,0.18462,0.18267,0.18945,0.12159,0.16836,-0.15259,-0.15654,-0.20954,-0.20941,-0.20914,0.06139,0.02772,0.05666,0.0121,-0.1496,-0.0162,-0.02742,-0.1249,0.08377,0.07716,0.0943,0.07819,-0.10168,0.07747,-0.08004,-0.02435,0.09201,0.0207,0.14093,0.02645,0.10148,0.02164,0.15209,0.16772,0.11935,-0.12669,-0.17329,-0.20705,0.0921,0.09905,0.117,-0.00495,-0.03296,0.00766,0.05232,-0.11586,0.12093,0.15304,0.16667,0.15833,-0.13913,0.20024,0.19497,0.18189,-0.15758,-0.10297,0.13166,0.20969,0.2113,0.20892,-0.14857,-0.13763,0.1309,-0.16199,-0.18072,-0.16054,-0.17057,-0.08319,-0.11084,-0.20928,-0.21213,0.11678,-0.0075,0.00885,0.14255,0.15001,0.10916,0.20763,0.20724,-0.13882,0.11176,-0.14032,-0.13296,-0.10788,0.07195,0.1382,-0.11367,-0.15619,0.13719,0.12605,0.13791,-0.1904,0.09302,-0.15969,-0.12514,0.11439,-0.09572,0.06455,0.12672,-0.12467,-0.11069,0.13114,-0.13049,0.12348,0.07374,-0.03211,-0.03921,-0.1315,-0.09992,-0.12782,0.1889,0.13417,-0.18313,-0.13927,-0.14484,-0.11811,0.13805,0.16264,0.17003,-0.13125,0.13757,-0.12411,0.12685,0.07337,0.11294,0.04406,0.02211,0.10778,0.13795,-0.11908,0.1075,-0.15237,0.20274,0.20586,-0.14923,-0.17217,-0.17214,-0.06454,0.06261,0.19665,0.17445,-0.07569,0.00767,0.05953,-0.03207,0.14935,0.17068,0.03271,0.1258,0.07556,0.16085,0.10161,-0.11284,0.00854,-0.13494,-0.12088,-0.11347,0.11391,0.11815,0.07686,-0.02142,0.03181,0.17997,0.00495,-0.04106,0.1821,0.19664,-0.09105,0.10062,0.11099,0.11636,0.15098,0.17841,0.11415,0.12419,-0.11325,-0.01839,0.04999,-0.17156,0.00852,0.02077,0.09978,-0.01677,-0.17819,0.13498,0.18036,-0.15982,0.09044,-0.17675,-0.19636,-0.17504,-0.11671,0.14026,0.00996,-0.11524,0.207,0.20029,0.19478,0.1077,-0.081,-0.06214,-0.12537,-0.21038,-0.21099,-0.21208,-0.0116,0.16296,0.09049,0.13796,-0.10214,0.1156,0.03844,-0.00651,-0.18201,-0.06334,-0.025,0.02724,0.1337,0.14573,-0.04806,0.17561,0.11327,0.16534,0.1479,0.16599,-0.12135,-0.11404,0.13906,0.13332,0.1135,-0.0226,-0.15802,0.01841,-0.13698,-0.16919,-0.16741,0.0078,0.12442,0.14653,0.15733,0.11423,0.16788,0.13771,0.14672,0.00585,-0.12279,-0.09387,0.1481,-0.02357,0.07676,-0.14823,-0.06442,-0.19657,-0.18938,-0.13991,0.01031,-0.12597,0.02369,0.17537,-0.1225,-0.0163,0.18973,0.01862,0.18133,-0.10085,-0.04299,-0.11819,0.12133,-0.1921,-0.00426,0.0025,0.01839,0.11569,0.1213,0.11597,-0.13811,0.02609,-0.10841,-0.14242,0.07866,-0.1168,-0.03904,-0.01728,-0.09816,0.15418,0.08763,0.16733,0.13851,-0.13013,-0.06071,-0.1872,-0.19257,-0.1131,-0.18254,-0.13237,0.11697,0.11922,0.09492,0.07869,0.12683,0.11408,0.02563,0.1877,0.17844,-0.18446,-0.13704,-0.18726,-0.18979,-0.18251,0.17814,0.0941,0.11669,-0.0408,0.13565,-0.13205,-0.1135,-0.18276,-0.19215,-0.18745,0.13638,0.14851,0.19571,0.13715,-0.13809,0.05138,0.04191,-0.08631,0.12296,-0.13544,0.15587,0.15168,-0.12417,-0.11141,0.02635,-0.02422,0.03344,-0.03616,-0.12467,-0.11321,0.09879,-0.13177,-0.1374,0.07371,0.11313,0.09694,0.11644,0.11202,-0.14863,-0.16721,-0.1207,-0.11851,0.12275,-0.07633,0.13126,-0.11283,0.06466,-0.02201,-0.15233,-0.02418,-0.02006,-0.16655,-0.07972,-0.14668,-0.11635,-0.05574,0.15583,-0.06399,0.0233,0.11306,0.11134,0.12877,0.11932,-0.12587,0.05037,0.04339,0.05986,-0.15304,-0.16923,-0.1166,0.13661,0.17215,-0.18475,-0.18073,0.21091,-0.1391,0.15921,-0.19663,0.12804,0.18372,0.13914,-0.07871,-0.09049,-0.0158,-0.01263,0.00354,-0.05914,-0.00196,-0.05717,-0.07894,0.13925,-0.07033,0.01904,-0.07353,-0.11348,-0.11091,-0.06819,0.15892,0.13652,-0.16053,0.15308,0.17983,0.17662,0.17937,0.19723,0.11811,-0.15359,-0.11985,-0.16801,-0.13917,-0.02978,-0.06179,-0.04646,0.13138,-0.01387,0.01365,-0.03047,0.11345,0.06508,0.14332,-0.05396,-0.12165,0.11995,0.19903,0.13919,-0.11738,-0.20915,-0.21147,-0.18597,-0.12129,-0.06346,0.02577,-0.06043,-0.00829,0.09309,-0.10672,0.09611,-0.07124,0.07211,-0.16264,-0.08802,0.11438,0.12207,-0.01945,-0.02808,-0.13777,0.20762,-0.15641,0.03247,-0.12543,-0.13913,0.17205,0.11386,-0.01913,-0.03217,0.18804,0.18502,0.09673,0.18267,0.16888,-0.13831,0.1582,0.0823,-0.13899,-0.00998,0.13477,-0.19682,-0.18313,0.21216,0.20928,0.21194,0.12864,-0.14642,0.1345,0.12803,0.09932,-0.13624,0.13911,0.07542,0.12393,0.09949,-0.10584,-0.00452,0.0202,0.02901,0.20742,0.20714,0.19985,-0.13731,-0.05769,-0.06743,0.13639,0.1829,0.18523,0.16875,-0.07412,-0.06965,-0.06899,0.12942,0.1593,-0.1608,-0.0771,-0.08281,-0.15733,0.05161,-0.05618,-0.01292,-0.12213,-0.13241,0.05932,-0.1383,0.10345,-0.11378,-0.11565,0.14686,0.1061,0.07528,0.1083,0.13194,0.19454,0.19986,0.20355,-0.15393,0.18134,-0.04099,-0.12097,0.13444,0.11329,-0.12992,-0.21139,-0.20933,-0.21121,0.20396,0.20128,-0.03356,-0.13168,-0.11693,-0.0147,0.13293,0.0059,-0.06005,0.06879,-0.04726,0.14355,0.12698,-0.07197,0.13189,0.12796,0.08122,0.10384,-0.15728,0.05631,-0.02806,0.041,0.00694,-0.1131,0.12293,-0.11775,0.01896,0.04073,0.13911,-0.20539,-0.20609,-0.13104,0.10771,0.1261,0.14501,-0.14478,-0.14706,-0.14653,0.06612,0.13004,0.12165,0.14956,-0.12154,0.01352,-0.15809,0.1757,0.13359,0.11581,-0.15898,-0.04088,-0.0506,0.02682,0.12363,-0.07958,0.00455,0.00306,-0.17114,-0.10403,0.08895,-0.13341,-0.14717,-0.06131,0.08849,-0.06263,0.09425,0.06394,0.13098,-0.13631,-0.20503,0.15443,0.07615,0.0862,0.01298,0.0404,0.10799,0.03726,-0.08244,0.13093,0.11161,0.10337,-0.10259,-0.09034,-0.03465,0.02381,0.12992,0.00332,0.11624,0.12784,-0.07306,-0.0317,0.10837,0.09107,0.09271,0.0773,0.10351,0.06076,-0.12076,0.13541,-0.14492,0.08716,0.21188,0.21067,0.2063,-0.12876,0.14422,-0.11903,0.12545,0.13791,-0.11298,-0.14997,0.14641,0.1636,0.13821,-0.05599,-0.05053,-0.06499,0.11383,0.10976,0.1014,0.1135,0.21001,0.20903,0.21039,0.12232,0.11753,-0.13751,0.0029,0.13967,-0.04774,-0.14276,-0.12776,0.04715,0.02843,-0.04267,0.169,-0.10598,0.04484,0.06302,0.05576,0.08725,-0.07519,0.15144,0.20137,0.11145,0.15909,0.1235,-0.13784,-0.10089,-0.17502,-0.06628,-0.00533,0.15355,0.15524,-0.13236,0.11363,0.21067,0.21183,0.19098,0.19528,0.19491,0.0505,0.16625,-0.0892,0.10644,0.11405,0.17409,0.15704,-0.00203,-0.03518,0.03832,-0.13786,0.13942,-0.15148,-0.14644,-0.1548,0.13763,-0.13893,-0.13094,-0.11733,0.11197,-0.01029,0.20664,0.20657,0.20523,0.08902,-0.1571,-0.15284,0.13725,0.16046,-0.08903,0.16155,0.02983,0.16848,-0.14247,0.18226,0.17603,0.04815,0.15586,0.04176,0.08616,0.13529,-0.13273,0.2055,0.20762,0.13039,0.00268,0.18898,-0.17481,0.0952,0.12843,-0.13909,0.11571,0.1133,0.17666,0.0522,-0.05104,-0.13464,0.18329,0.19814,0.12093,-0.12167,0.13225,-0.00073,0.0163,-0.09928,0.02295,-0.01719,0.15948,0.12226,0.04784,-0.10983,-0.05535,0.13655,0.01342,0.02886,0.09588,-0.07792,-0.083,0.14837,-0.04604,0.02225,-0.08862,-0.09445,-0.01612,0.15329,-0.11317,-0.13375,0.05443,0.17631,-0.12126,-0.05828,0.17416,0.01524,0.15794,0.0773,0.07312,0.06928,0.13748,-0.20728,-0.20243,-0.20875,0.1777,0.18757,-0.20302,-0.2054,-0.21166,0.12958,-0.00748,0.00713,0.13832,0.12732,-0.13233,0.01664,0.03127,0.05306,-0.00646,-0.11074,-0.08943,-0.17604,-0.15643,-0.15523,0.12215,0.1708,0.16077,0.13556,-0.14738,-0.14153,-0.12183,-0.11292,-0.12646,0.00975,0.04105,0.11896,0.16415,-0.12544,-0.13611,-0.20416,-0.19708,-0.20228,-0.14547,-0.11309,-0.1392,0.01616,0.02932,0.10035,0.08104,-0.11843,0.14035,0.01757,-0.1178,-0.13549,0.13914,-0.13763,0.13753,0.11616,0.12544,-0.13167,0.1393,0.1197,-0.14897,0.09619,0.14998,0.00874,0.15207,0.0954,-0.05977,-0.07357,-0.01371,0.03109,0.04537,-0.13462,0.11059,-0.18901,0.1521,0.15348,0.13106,0.12798,0.1582,-0.10969,-0.00555,0.10825,0.11241,-0.07408,0.08649,-0.03863,0.02522,0.07158,0.11929,-0.19247,0.11761,-0.11883,0.11866,-0.12332,-0.13823,-0.16795,-0.10656,-0.07664,0.17242,-0.11429,0.09888,-0.04082,0.07254,-0.17831,-0.1643,0.00435,0.08765,-0.02263,0.10051,0.11568,-0.02304,-0.18426,-0.18747,-0.15207,-0.17712,-0.09384,-0.11336,-0.16976,0.10213,0.13867,0.04442,0.00024,-0.08578,-0.13446,0.13921,0.07575,0.13937,-0.1786,-0.13867,-0.1386,-0.13764,-0.18893,-0.11655,0.12198,0.17404,0.17261,0.11365,0.02194,0.05273,0.09986,0.01475,-0.0633,0.14459,-0.05549,0.02708,0.05679,-0.12448,-0.00892,0.11401,0.1793,0.1849,0.1647,-0.12832,0.13528,-0.04134,0.08923,-0.12031,0.11561,0.13401,-0.03966,-0.01705,-0.02526,0.07487,0.11505,-0.12759,-0.13923,-0.13585,-0.11299,-0.05672,-0.1181,-0.08074,-0.0869,0.18696,0.1562,0.15812,-0.13595,0.13659,0.15052,-0.03197,-0.01112,-0.13849,-0.0909,0.09232,0.13095,-0.1131,-0.13888,0.07136,0.02397,0.06643,0.06152,0.07337,0.0853,-0.13432,-0.13203,-0.12118,0.18915,-0.12318,-0.19497,0.20999,0.14718,-0.15143,-0.174,-0.16684,0.13486,0.08128,0.15888,-0.08018,-0.10807,-0.12505,0.21173,0.2104,-0.17354,-0.04009,0.00285,-0.00884,-0.15039,-0.13737,-0.14511,-0.19245,-0.19479,-0.19376,0.04792,-0.11408,-0.05961,-0.03661,-0.03226,-0.00013,-0.16635,-0.16747,-0.16565,0.13683,-0.11759,-0.14706,-0.11471,-0.12846,0.08309,-0.13292,-0.11895,-0.15891,-0.11389,0.06519,-0.19445,-0.1937,0.17975,0.17359,-0.13756,0.16557,0.1147,0.11391,-0.15764,0.078,0.0594,-0.03959,0.19184,0.03879,0.11618,0.11036,-0.08767,0.16326,0.19817,-0.01167,0.07932,-0.01339,0.09878,0.11986,-0.05219,-0.16382,0.12924,-0.16711,-0.18879,-0.1824,0.1132,0.07161,0.11507,-0.02797,0.08507,0.10742,0.20083,0.04367,0.11947,0.03239,0.17021,0.16217,-0.03008,0.0927,-0.20909,0.06433,0.12862,0.13415,-0.03211,0.11086,0.11865,0.02602,0.16284,0.15522,-0.0134,-0.13188,-0.01795,-0.16088,-0.08116,-0.1807,-0.05845,0.08524,-0.1443,0.09617,-0.04772,-0.03818,-0.00323,0.11108,0.09346,-0.1807,-0.1269,0.16065,-0.01079,0.13791,0.00736,0.07113,-0.004,0.03572,-0.01526,0.02743,0.07992,-0.1334,0.1524,-0.11435,0.19382,0.01744,0.17115,0.13719,-0.19763,-0.10858,0.058,0.11349,0.11996,0.13917,0.15677,-0.11915,0.06678,0.03948,-0.01042,-0.03023,-0.08028,0.11355,-0.19634,-0.05622,-0.03276,0.02921,-0.11337,-0.12833,0.15791,-0.12752,-0.12674,-0.14591,0.08924,0.0836,0.09267,0.07163,-0.18659,-0.15548,0.11335,-0.15917,-0.2111,-0.21121,-0.19755,-0.19606,-0.03632,-0.07065,-0.1301,-0.13804,-0.10578,-0.12804,-0.04232,0.11968,0.13932,-0.1383,0.12445,0.09738,0.19737,-0.139,0.06956,0.12998,-0.18938,0.04553,-0.11107,-0.12651,-0.17389,-0.01308,-0.01885,-0.19761,-0.13844,-0.12999,-0.09386,0.12322,-0.16765,0.04544,0.13646,0.12759,0.12016,-0.12046,-0.11352,0.10462,0.13775,-0.13743,0.11364,-0.12467,-0.17933,-0.21015,-0.21159,-0.2079,-0.21042,-0.20665,-0.20525,-0.13141,0.03763,0.12718,-0.00279,0.1971,0.14543,0.20192,0.10803,0.0923,-0.13701,-0.08028,-0.15404,-0.17688,0.15981,-0.2025,-0.21089,-0.20933,-0.13784,0.09819,0.11336,0.13304,0.13224,0.11368,0.14587,0.14587,-0.11478,0.21142,0.21086,0.13303,-0.06231,-0.08328,-0.00785,-0.0135,-0.13612,0.12727,0.11994,0.17688,0.11531,-0.01242,0.00217,0.02414,-0.11287,-0.13742,0.12396,-0.19442,0.14802,-0.1801,-0.00077,0.01128,-0.06267,0.06679,-0.01918,0.10797,0.14779,0.08593,0.13109,-0.09685,-0.1031,-0.09743,-0.03967,-0.06831,0.12511,-0.03552,0.14422,0.11853,0.15693,-0.13542,-0.10804,0.06559,0.20926,0.20894,0.20866,0.11333,0.11818,-0.19756,0.07205,0.02325,-0.02093,0.13831,-0.17551,-0.172,-0.16518,-0.20798,-0.20887,-0.06169,-0.05614,0.08402,-0.07971,-0.0465,-0.14635,-0.07045,-0.16383,-0.05465,0.09196,-0.09692,-0.16484,-0.11928,-0.01496,0.0002,-0.19194,0.13363,0.06116,0.11553,0.10245,0.08147,0.16944,-0.01865,0.18221,0.17821,0.13655,-0.18985,-0.18954,0.14994,-0.129,-0.02847,-0.1409,-0.01244,-0.11467,-0.12663,-0.09597,0.03507,-0.09225,-0.17019,-0.11689,-0.13433,-0.08195,0.0733,0.12357,0.04154,0.04345,0.13331,-0.07798,-0.03198,-0.02361,-0.07395,0.1268,-0.13671,-0.1189,0.13797,-0.13574,-0.12568,-0.13464,-0.16761,0.13935,0.12984,-0.05381,0.19364,0.18207,-0.0684,-0.1279,0.17044,0.1385,-0.12008,0.03197,0.0978,0.08703,0.12606,-0.16865,-0.20047,-0.20254,-0.20457,0.17999,0.13806,0.12444,-0.1343,-0.00803,-0.15924,-0.13722,-0.09506,0.13786,-0.05782,-0.05566,-0.07024,-0.11288,0.0007,-0.11517,0.1395,-0.18611,-0.18698,-0.1693,-0.08933,-0.08276,-0.07688,-0.03167,0.06033,0.07345,-0.0067,-0.11508,-0.1869,-0.12811,0.10945,0.11732,0.11235,0.12547,-0.18788,-0.19522,0.18836,0.0462,0.20969,0.16736,0.13977,0.01715,-0.12791,0.15887,0.13731,-0.11558,0.05816,0.0456,0.07625,-0.11298,-0.11362,-0.11767,0.00809,-0.01559,0.13076,0.04979,-0.04239,0.06885,-0.13923,0.1388,-0.11669,-0.1312,0.0008,-0.02878,-0.10449,0.01771,0.00882,-0.07935,-0.01466,-0.1087,0.18579,0.11309,-0.03308,0.08914,0.20983,0.20561,-0.13904,0.18266,-0.12365,-0.10195,-0.06952,0.09087,0.11402,-0.09413,-0.06053,-0.06861,0.18939,-0.14157,-0.14042,-0.15209,-0.0827,-0.10669,-0.09477,-0.08885,0.19696,0.12027,-0.11278,-0.20364,-0.0109,-0.01222,-0.09042,-0.19509,-0.18538,0.01954,-0.12744,-0.20087,-0.05067,-0.04113,0.05255,0.13827,-0.03049,-0.02206,0.17653,0.03138,0.08055,0.103,0.10909,0.09814,0.00961,0.15769,0.08729,0.08535,0.16924,0.06439,-0.16845,0.10363,0.09407,0.10285,0.11592,0.11501,0.1675,0.09751,0.00623,0.04734,-0.13529,-0.09727,0.12408,-0.14852,-0.13558,0.03815,-0.19257,-0.19218,-0.18855,-0.18224,-0.19253,-0.19359,-0.11738,-0.01007,0.00688,-0.02275,0.08208,-0.12835,-0.06155,-0.10752,0.06563,-0.10924,-0.00663,-0.04259,0.11343,-0.1072,0.18683,0.15294,0.13886,0.14456,0.12629,0.17549,0.08476,0.09309,0.19607,-0.11349,-0.1268,0.18933,0.18992,-0.13063,-0.03894,-0.05835,0.12754,-0.19619,0.10556,0.16994,0.06829,0.11037,0.01737,-0.04414,0.10384,0.10819,0.05354,0.12037,-0.08949,-0.12083,-0.06717,-0.08692,-0.06252,0.18841,0.19486,-0.2036,-0.0411,-0.19195,0.0049,-0.00337,-0.1335,-0.14717,-0.01683,-0.19868,-0.14326,-0.07884,0.13443,-0.11283,-0.12492,-0.18691,0.13925,-0.1388,-0.11738,-0.01865,-0.04965,-0.1269,0.12301,0.18164,0.18811,-0.11371,0.19295,-0.15363,-0.02724,0.03828,-0.00055,0.03143,0.18563,0.12564,0.04883,0.06518,-0.20484,0.14185,0.1511,0.12166,-0.11426,-0.14976,0.00396,-0.01123,0.12998,0.178,0.01726,-0.0454,0.0378,0.10354,-0.09453,0.0504,-0.13692,-0.10541,-0.12279,0.10725,-0.16463,0.18794,-0.14078,-0.1034,0.12558,0.15118,0.04991,-0.00633,0.09463,-0.08704,0.13931,-0.10307,-0.1357,0.11979,-0.12399,-0.00799,0.19792,0.19229,0.19668,-0.12584,-0.11828,-0.11359,0.11729,-0.12301,0.11757,-0.03692,0.11466,0.16669,0.15645,0.12267,0.06986,-0.09651,-0.05209,-0.02851,0.07138,-0.02935,0.10692,0.09554,0.20188,-0.12396,0.1658,0.13781,0.01393,0.13844,-0.11226,-0.09481,0.05304,-0.10633,-0.18901,0.10118,0.03357,-0.15257,-0.01427,-0.20106,-0.20109,0.01206,-0.03775,-0.1342,0.01619,-0.11411,-0.12066,-0.01725,-0.06806,0.14869,-0.09594,-0.08271,-0.02866,-0.17837,-0.09205,-0.05954,-0.04998,-0.13227,-0.19125,0.00991,-0.12511,0.05541,0.15631,-0.03076,-0.02572,0.00951,-0.19458,-0.19449,-0.19249,-0.13761,-0.12219,-0.13799,0.1338,0.20397,0.20864,0.20497,0.05578,0.13069,-0.15696,0.14642,-0.20185,-0.20602,-0.19896,-0.12919,-0.15,-0.11415,0.09697,-0.1322,-0.13827,-0.13226,0.09862,0.1126,-0.19126,-0.18415,-0.11589,-0.11878,-0.20953,-0.21065,-0.2097,0.11474,0.03259,0.02888,0.02649,0.04859,0.00447,0.13186,0.13421,-0.17079,-0.14889,-0.11938,-0.00059,-0.11933,-0.11028,-0.09819,-0.11311,0.12729,0.1388,-0.01792,-0.11594,0.20159,0.20862,0.16571,0.04652,-0.02618,0.14672,0.11168,0.01587,0.06126,0.11237,0.13372,-0.09129,-0.03208,0.13924,-0.05611,0.19243,0.19861,0.18645,-0.13705,-0.12563,0.0125,-0.08134,-0.02208,0.1028,0.07881,-0.17862,-0.10182,-0.1509,0.09597,-0.11493,0.11316,-0.13927,-0.11322,-0.10526,-0.11587,-0.08171,0.06751,-0.12742,-0.10973,-0.05353,-0.15672,-0.08243,0.11299,0.10137,-0.05905,-0.18395,-0.08881,-0.15787,0.00456,0.12485,0.13278,-0.18179,0.19398,0.16755,0.11622,-0.19668,-0.10672,0.11929,0.10959,0.02532,0.03988,-0.13903,0.15433,-0.17328,-0.10276,-0.01148,-0.08943,-0.01028,-0.13318,-0.12487,-0.13772,-0.12831,0.13236,-0.12536,0.15249,0.01391,0.0546,-0.04326,-0.03955,0.11309,-0.08184,-0.06837,-0.08796,-0.01272,-0.12184,-0.11259,-0.12228,-0.02831,0.1267,-0.11658,-0.08684,-0.11438,0.1391,-0.06224,-0.15448,0.13974,0.03502,-0.16385,-0.15793,-0.13249,-0.0016,-0.088,-0.05686,0.01495,-0.14841,-0.07884,-0.0973,0.12306,-0.11578,0.13346,0.13889,0.18331,-0.10123,-0.1151,-0.10953,-0.1177,-0.1159,-0.14696,-0.13224,0.08005,-0.12528,-0.04529,-0.01926,-0.02097,0.20702,0.13308,-0.13905,0.12951,0.04525,0.03227,-0.06018,0.19863,0.15363,-0.06613,0.01175,0.1796,0.08355,0.14006,-0.15365,0.14603,0.18932,0.09689,0.09419,0.0158,0.06161,0.04505,-0.08797,0.04219,-0.08828,-0.07883,0.03095,-0.00604,0.11703,0.13422,0.07992,0.08115,0.09277,-0.13373,-0.19559,0.1365,-0.11775,-0.04494,0.08723,-0.20887,-0.21124,0.13824,0.01667,0.21106,0.21007,0.21195,-0.1379,-0.00316,-0.02313,0.01425,-0.10842,0.01338,0.12216,0.00845,0.07314,0.16445,-0.04582,0.12042,-0.0481,-0.09377,-0.12566,0.12816,0.11474,0.15075,0.1968,0.11742,0.19774,0.19781,-0.14863,-0.15786,0.19642,0.19955,0.12606,0.1951,-0.01248,-0.04276,0.16082,0.1657,0.10637,0.11939,0.08508,-0.19745,-0.11939,0.1504,0.11912,-0.15345,-0.20278,-0.18046,0.16505,0.1651,-0.12918,-0.13462,-0.13219,0.03583,-0.1297,0.05793,-0.11544,0.13803,-0.15679,-0.11907,-0.20179,-0.20413,-0.18492,-0.19325,0.04863,-0.07753,-0.15244,0.13732,0.04589,0.01789,-0.02903,0.11174,0.19709,0.20039,0.19239,-0.11908,0.12624,0.07358,0.04929,-0.19471,0.12586,-0.13776,0.13162,-0.18982,0.11508,0.13104,0.15619,0.15621,0.04158,0.13344,0.14802,0.13037,0.06572,0.17745,-0.07714,-0.11417,-0.12137,0.12148,0.12079,-0.16649,-0.17798,-0.17134,-0.11424,0.1259,0.04272,0.17034,0.02667,0.06195,0.02493,-0.02514,0.04245,0.14025,-0.10153,-0.01445,-0.13337,-0.11307,-0.14881,-0.10236,-0.04964,0.20845,-0.0646,-0.05041,0.1379,-0.03982,0.12878,-0.09862,-0.0187,-0.11848,0.16426,0.03506,-0.09231,-0.04958,0.0647,0.10884,0.09732,0.04245,-0.11268,-0.03046,0.13,0.19936,0.11383,0.07888,0.20293,-0.0316,-0.11434,0.05339,-0.18888,-0.1841,-0.11304,0.05636,0.13113,0.11535,-0.13886,0.01462,0.18368,0.19377,0.09185,0.08662,0.07361,-0.11286,-0.13724,0.04659,-0.02363,0.13935,-0.03333,-0.02932,-0.02871,-0.12549,-0.04631,0.01073,0.11721,-0.20107,-0.19411,-0.19704,0.21201,0.21181,0.21206,-0.12431,-0.12946,0.11318,-0.02079,-0.18436,0.17876,0.16465,0.16331,0.15883,0.12016,0.11731,0.07043,0.03188,-0.07217,0.01115,-0.13523,0.12624,0.12068,-0.11705,-0.16458,0.12419,-0.16123,0.12446,0.08141,0.11419,-0.06381,-0.00306,-0.15758,-0.17567,0.1082,-0.04366,-0.04361,0.01737,-0.06249,-0.13302,-0.13382,-0.04658,0.09856,-0.12202,-0.14189,-0.13852,0.11731,-0.19922,-0.19666,-0.19827,0.07948,0.08648,-0.0252,-0.0194,0.13922,-0.11724,0.15071,-0.00504,0.03733,0.01507,-0.2012,-0.18918,-0.1921,0.11322,0.11797,0.18498,0.00263,-0.15894,0.10582,-0.12989,-0.07318,-0.10905,-0.11841,-0.08316,-0.01018,-0.18453,-0.01885,-0.05464,-0.11404,-0.04654,0.01354,0.0451,-0.05686,0.11943,0.03855,-0.00439,-0.02825,-0.12358,0.16984,-0.13668,0.02333,0.00522,-0.13144,0.19592,-0.12777,0.06334,-0.08669,-0.0024,-0.02907,-0.0135,-0.08651,-0.06402,-0.07913,-0.11299,0.03232,0.00202,0.01216,0.05897,0.00685,-0.00892,0.07635,-0.13623,0.05101,-0.05959,-0.03083,-0.01069,-0.14537,-0.08665,-0.07242,-0.04786,0.1178,-0.07381,0.18087,0.19359,-0.12391,0.03581,0.15256,-0.11669,0.05423,-0.07052,0.06488,0.11782,0.12043,-0.12708,-0.13844,0.05449,0.07846,0.05043,-0.10529,0.12997,0.05871,0.05091,0.02009,-0.01968,0.00558,0.12224,-0.07203,-0.13251,0.15942,0.02727,0.10587,0.19963,0.11217,0.16909,0.08564,0.08385,-0.01549,0.14698,0.14533,0.11507,0.11519,-0.13604,-0.04539,-0.14911,-0.04231,0.04067,0.04197,-0.07514,0.03727,-0.06159,-0.01838,-0.01439,0.00475,-0.05082,-0.17807,0.13766,-0.12313,-0.02025,-0.08225,-0.18209,0.10835,-0.16308,0.06325,-0.02595,0.07629,-0.10734,-0.10057,-0.12053,-0.15907,0.04293,-0.02542,-0.04875,0.11338,0.1058,0.10187,0.00664,0.11775,0.11856,-0.11358,-0.16151,-0.17392,-0.15581,0.11624,0.15448,0.0989,-0.11575,0.12065,0.14664,0.09469,-0.194,-0.17236,0.00819,-0.06527,-0.16126,-0.11004,-0.1066,-0.10882,-0.0445,-0.18104,0.02491,-0.19762,-0.09994,-0.06053,0.12565,-0.13008,-0.12655,0.13557,-0.15289,-0.046,-0.17257,0.1534,-0.16944,-0.16796,0.15804,0.1605,0.16276,-0.16382,0.12994,-0.01728,-0.12323,-0.16962,0.11316,0.13903,0.01447,-0.08137,-0.02273,0.03569,-0.11821,-0.18088],\"type\":\"scatter3d\"}],                        {\"template\":{\"data\":{\"histogram2dcontour\":[{\"type\":\"histogram2dcontour\",\"colorbar\":{\"outlinewidth\":0,\"ticks\":\"\"},\"colorscale\":[[0.0,\"#0d0887\"],[0.1111111111111111,\"#46039f\"],[0.2222222222222222,\"#7201a8\"],[0.3333333333333333,\"#9c179e\"],[0.4444444444444444,\"#bd3786\"],[0.5555555555555556,\"#d8576b\"],[0.6666666666666666,\"#ed7953\"],[0.7777777777777778,\"#fb9f3a\"],[0.8888888888888888,\"#fdca26\"],[1.0,\"#f0f921\"]]}],\"choropleth\":[{\"type\":\"choropleth\",\"colorbar\":{\"outlinewidth\":0,\"ticks\":\"\"}}],\"histogram2d\":[{\"type\":\"histogram2d\",\"colorbar\":{\"outlinewidth\":0,\"ticks\":\"\"},\"colorscale\":[[0.0,\"#0d0887\"],[0.1111111111111111,\"#46039f\"],[0.2222222222222222,\"#7201a8\"],[0.3333333333333333,\"#9c179e\"],[0.4444444444444444,\"#bd3786\"],[0.5555555555555556,\"#d8576b\"],[0.6666666666666666,\"#ed7953\"],[0.7777777777777778,\"#fb9f3a\"],[0.8888888888888888,\"#fdca26\"],[1.0,\"#f0f921\"]]}],\"heatmap\":[{\"type\":\"heatmap\",\"colorbar\":{\"outlinewidth\":0,\"ticks\":\"\"},\"colorscale\":[[0.0,\"#0d0887\"],[0.1111111111111111,\"#46039f\"],[0.2222222222222222,\"#7201a8\"],[0.3333333333333333,\"#9c179e\"],[0.4444444444444444,\"#bd3786\"],[0.5555555555555556,\"#d8576b\"],[0.6666666666666666,\"#ed7953\"],[0.7777777777777778,\"#fb9f3a\"],[0.8888888888888888,\"#fdca26\"],[1.0,\"#f0f921\"]]}],\"heatmapgl\":[{\"type\":\"heatmapgl\",\"colorbar\":{\"outlinewidth\":0,\"ticks\":\"\"},\"colorscale\":[[0.0,\"#0d0887\"],[0.1111111111111111,\"#46039f\"],[0.2222222222222222,\"#7201a8\"],[0.3333333333333333,\"#9c179e\"],[0.4444444444444444,\"#bd3786\"],[0.5555555555555556,\"#d8576b\"],[0.6666666666666666,\"#ed7953\"],[0.7777777777777778,\"#fb9f3a\"],[0.8888888888888888,\"#fdca26\"],[1.0,\"#f0f921\"]]}],\"contourcarpet\":[{\"type\":\"contourcarpet\",\"colorbar\":{\"outlinewidth\":0,\"ticks\":\"\"}}],\"contour\":[{\"type\":\"contour\",\"colorbar\":{\"outlinewidth\":0,\"ticks\":\"\"},\"colorscale\":[[0.0,\"#0d0887\"],[0.1111111111111111,\"#46039f\"],[0.2222222222222222,\"#7201a8\"],[0.3333333333333333,\"#9c179e\"],[0.4444444444444444,\"#bd3786\"],[0.5555555555555556,\"#d8576b\"],[0.6666666666666666,\"#ed7953\"],[0.7777777777777778,\"#fb9f3a\"],[0.8888888888888888,\"#fdca26\"],[1.0,\"#f0f921\"]]}],\"surface\":[{\"type\":\"surface\",\"colorbar\":{\"outlinewidth\":0,\"ticks\":\"\"},\"colorscale\":[[0.0,\"#0d0887\"],[0.1111111111111111,\"#46039f\"],[0.2222222222222222,\"#7201a8\"],[0.3333333333333333,\"#9c179e\"],[0.4444444444444444,\"#bd3786\"],[0.5555555555555556,\"#d8576b\"],[0.6666666666666666,\"#ed7953\"],[0.7777777777777778,\"#fb9f3a\"],[0.8888888888888888,\"#fdca26\"],[1.0,\"#f0f921\"]]}],\"mesh3d\":[{\"type\":\"mesh3d\",\"colorbar\":{\"outlinewidth\":0,\"ticks\":\"\"}}],\"scatter\":[{\"fillpattern\":{\"fillmode\":\"overlay\",\"size\":10,\"solidity\":0.2},\"type\":\"scatter\"}],\"parcoords\":[{\"type\":\"parcoords\",\"line\":{\"colorbar\":{\"outlinewidth\":0,\"ticks\":\"\"}}}],\"scatterpolargl\":[{\"type\":\"scatterpolargl\",\"marker\":{\"colorbar\":{\"outlinewidth\":0,\"ticks\":\"\"}}}],\"bar\":[{\"error_x\":{\"color\":\"#2a3f5f\"},\"error_y\":{\"color\":\"#2a3f5f\"},\"marker\":{\"line\":{\"color\":\"#E5ECF6\",\"width\":0.5},\"pattern\":{\"fillmode\":\"overlay\",\"size\":10,\"solidity\":0.2}},\"type\":\"bar\"}],\"scattergeo\":[{\"type\":\"scattergeo\",\"marker\":{\"colorbar\":{\"outlinewidth\":0,\"ticks\":\"\"}}}],\"scatterpolar\":[{\"type\":\"scatterpolar\",\"marker\":{\"colorbar\":{\"outlinewidth\":0,\"ticks\":\"\"}}}],\"histogram\":[{\"marker\":{\"pattern\":{\"fillmode\":\"overlay\",\"size\":10,\"solidity\":0.2}},\"type\":\"histogram\"}],\"scattergl\":[{\"type\":\"scattergl\",\"marker\":{\"colorbar\":{\"outlinewidth\":0,\"ticks\":\"\"}}}],\"scatter3d\":[{\"type\":\"scatter3d\",\"line\":{\"colorbar\":{\"outlinewidth\":0,\"ticks\":\"\"}},\"marker\":{\"colorbar\":{\"outlinewidth\":0,\"ticks\":\"\"}}}],\"scattermapbox\":[{\"type\":\"scattermapbox\",\"marker\":{\"colorbar\":{\"outlinewidth\":0,\"ticks\":\"\"}}}],\"scatterternary\":[{\"type\":\"scatterternary\",\"marker\":{\"colorbar\":{\"outlinewidth\":0,\"ticks\":\"\"}}}],\"scattercarpet\":[{\"type\":\"scattercarpet\",\"marker\":{\"colorbar\":{\"outlinewidth\":0,\"ticks\":\"\"}}}],\"carpet\":[{\"aaxis\":{\"endlinecolor\":\"#2a3f5f\",\"gridcolor\":\"white\",\"linecolor\":\"white\",\"minorgridcolor\":\"white\",\"startlinecolor\":\"#2a3f5f\"},\"baxis\":{\"endlinecolor\":\"#2a3f5f\",\"gridcolor\":\"white\",\"linecolor\":\"white\",\"minorgridcolor\":\"white\",\"startlinecolor\":\"#2a3f5f\"},\"type\":\"carpet\"}],\"table\":[{\"cells\":{\"fill\":{\"color\":\"#EBF0F8\"},\"line\":{\"color\":\"white\"}},\"header\":{\"fill\":{\"color\":\"#C8D4E3\"},\"line\":{\"color\":\"white\"}},\"type\":\"table\"}],\"barpolar\":[{\"marker\":{\"line\":{\"color\":\"#E5ECF6\",\"width\":0.5},\"pattern\":{\"fillmode\":\"overlay\",\"size\":10,\"solidity\":0.2}},\"type\":\"barpolar\"}],\"pie\":[{\"automargin\":true,\"type\":\"pie\"}]},\"layout\":{\"autotypenumbers\":\"strict\",\"colorway\":[\"#636efa\",\"#EF553B\",\"#00cc96\",\"#ab63fa\",\"#FFA15A\",\"#19d3f3\",\"#FF6692\",\"#B6E880\",\"#FF97FF\",\"#FECB52\"],\"font\":{\"color\":\"#2a3f5f\"},\"hovermode\":\"closest\",\"hoverlabel\":{\"align\":\"left\"},\"paper_bgcolor\":\"white\",\"plot_bgcolor\":\"#E5ECF6\",\"polar\":{\"bgcolor\":\"#E5ECF6\",\"angularaxis\":{\"gridcolor\":\"white\",\"linecolor\":\"white\",\"ticks\":\"\"},\"radialaxis\":{\"gridcolor\":\"white\",\"linecolor\":\"white\",\"ticks\":\"\"}},\"ternary\":{\"bgcolor\":\"#E5ECF6\",\"aaxis\":{\"gridcolor\":\"white\",\"linecolor\":\"white\",\"ticks\":\"\"},\"baxis\":{\"gridcolor\":\"white\",\"linecolor\":\"white\",\"ticks\":\"\"},\"caxis\":{\"gridcolor\":\"white\",\"linecolor\":\"white\",\"ticks\":\"\"}},\"coloraxis\":{\"colorbar\":{\"outlinewidth\":0,\"ticks\":\"\"}},\"colorscale\":{\"sequential\":[[0.0,\"#0d0887\"],[0.1111111111111111,\"#46039f\"],[0.2222222222222222,\"#7201a8\"],[0.3333333333333333,\"#9c179e\"],[0.4444444444444444,\"#bd3786\"],[0.5555555555555556,\"#d8576b\"],[0.6666666666666666,\"#ed7953\"],[0.7777777777777778,\"#fb9f3a\"],[0.8888888888888888,\"#fdca26\"],[1.0,\"#f0f921\"]],\"sequentialminus\":[[0.0,\"#0d0887\"],[0.1111111111111111,\"#46039f\"],[0.2222222222222222,\"#7201a8\"],[0.3333333333333333,\"#9c179e\"],[0.4444444444444444,\"#bd3786\"],[0.5555555555555556,\"#d8576b\"],[0.6666666666666666,\"#ed7953\"],[0.7777777777777778,\"#fb9f3a\"],[0.8888888888888888,\"#fdca26\"],[1.0,\"#f0f921\"]],\"diverging\":[[0,\"#8e0152\"],[0.1,\"#c51b7d\"],[0.2,\"#de77ae\"],[0.3,\"#f1b6da\"],[0.4,\"#fde0ef\"],[0.5,\"#f7f7f7\"],[0.6,\"#e6f5d0\"],[0.7,\"#b8e186\"],[0.8,\"#7fbc41\"],[0.9,\"#4d9221\"],[1,\"#276419\"]]},\"xaxis\":{\"gridcolor\":\"white\",\"linecolor\":\"white\",\"ticks\":\"\",\"title\":{\"standoff\":15},\"zerolinecolor\":\"white\",\"automargin\":true,\"zerolinewidth\":2},\"yaxis\":{\"gridcolor\":\"white\",\"linecolor\":\"white\",\"ticks\":\"\",\"title\":{\"standoff\":15},\"zerolinecolor\":\"white\",\"automargin\":true,\"zerolinewidth\":2},\"scene\":{\"xaxis\":{\"backgroundcolor\":\"#E5ECF6\",\"gridcolor\":\"white\",\"linecolor\":\"white\",\"showbackground\":true,\"ticks\":\"\",\"zerolinecolor\":\"white\",\"gridwidth\":2},\"yaxis\":{\"backgroundcolor\":\"#E5ECF6\",\"gridcolor\":\"white\",\"linecolor\":\"white\",\"showbackground\":true,\"ticks\":\"\",\"zerolinecolor\":\"white\",\"gridwidth\":2},\"zaxis\":{\"backgroundcolor\":\"#E5ECF6\",\"gridcolor\":\"white\",\"linecolor\":\"white\",\"showbackground\":true,\"ticks\":\"\",\"zerolinecolor\":\"white\",\"gridwidth\":2}},\"shapedefaults\":{\"line\":{\"color\":\"#2a3f5f\"}},\"annotationdefaults\":{\"arrowcolor\":\"#2a3f5f\",\"arrowhead\":0,\"arrowwidth\":1},\"geo\":{\"bgcolor\":\"white\",\"landcolor\":\"#E5ECF6\",\"subunitcolor\":\"white\",\"showland\":true,\"showlakes\":true,\"lakecolor\":\"white\"},\"title\":{\"x\":0.05},\"mapbox\":{\"style\":\"light\"}}}},                        {\"responsive\": true}                    ).then(function(){\n",
       "                            \n",
       "var gd = document.getElementById('37ae7f32-1911-4347-9bdb-4deab8a60e47');\n",
       "var x = new MutationObserver(function (mutations, observer) {{\n",
       "        var display = window.getComputedStyle(gd).display;\n",
       "        if (!display || display === 'none') {{\n",
       "            console.log([gd, 'removed!']);\n",
       "            Plotly.purge(gd);\n",
       "            observer.disconnect();\n",
       "        }}\n",
       "}});\n",
       "\n",
       "// Listen for the removal of the full notebook cells\n",
       "var notebookContainer = gd.closest('#notebook-container');\n",
       "if (notebookContainer) {{\n",
       "    x.observe(notebookContainer, {childList: true});\n",
       "}}\n",
       "\n",
       "// Listen for the clearing of the current output cell\n",
       "var outputEl = gd.closest('.output');\n",
       "if (outputEl) {{\n",
       "    x.observe(outputEl, {childList: true});\n",
       "}}\n",
       "\n",
       "                        })                };                });            </script>        </div>"
      ]
     },
     "metadata": {},
     "output_type": "display_data"
    }
   ],
   "source": [
    "# Choose a Random sample\n",
    "sample_idx = random.randrange(0, len(dataset))\n",
    "print(\"Sample number: \", sample_idx)\n",
    "\n",
    "visualize_3d_shape(dataset[sample_idx].pos)"
   ]
  },
  {
   "cell_type": "markdown",
   "metadata": {
    "id": "rEyNxSuPGrHX"
   },
   "source": [
    "### Data Augmentation"
   ]
  },
  {
   "cell_type": "markdown",
   "metadata": {
    "id": "kAvPzgmFZS4X"
   },
   "source": [
    "In this section we define the augmentation procedure that we will use during the train of our model. \n",
    "\n",
    "For the code I took a cue from [`dgcnn_segmentation.py`](https://github.com/pyg-team/pytorch_geometric/blob/a6e349621d4caf8b381fe58f8e57109b2d0947ed/examples/dgcnn_segmentation.py) and [`dgcnn_classification.py`](https://github.com/pyg-team/pytorch_geometric/blob/a6e349621d4caf8b381fe58f8e57109b2d0947ed/examples/dgcnn_classification.py), two examples available on the GitHub repository of the Pytorch Geometric library.\n",
    "\n",
    "This part is very important because, if it is not applied in the right way, it introduces a strong **Bias**. For example, with point cloud samples, the `Rotation` is problematic because, depending on the layer we use, some of the layers might be rotation invariants, so this augmentation won't have any effect. \n",
    "\n",
    "Good augmentations for this type of sample are `Jittering` (which translates node positions by randomly sampling translation values within a given interval), `Shifting`, and `Shearing` (which shift in one dimension).\n",
    "\n",
    "Before applying the augmentation, however, we normalize the scale of each figure and reduce the number of points (to increase the batch size), with the `FixedPoints`, that samples a fixed number of num points and features from a point cloud"
   ]
  },
  {
   "cell_type": "markdown",
   "metadata": {
    "id": "ce7gMHZQH54Q"
   },
   "source": [
    "Initially my idea was to use the `SamplePoints` instead of the `FixedPoints`, however I encountered a bug in `sample_point.py`, which from what I've seen hasn't been fixed yet.\n",
    "\n",
    "I link to the same bug just for another method (`face_to_edge.py`) which was reported on GitHub: [GitHub Issues](https://github.com/rusty1s/deep-graph-matching-consensus/issues/15)."
   ]
  },
  {
   "cell_type": "code",
   "execution_count": 11,
   "outputs": [],
   "source": [
    "# `Compose` allow us to compose several transforms together.\n",
    "augmentation = T.Compose([T.RandomJitter(translate=0.05),\n",
    "                          T.RandomFlip(axis=1),\n",
    "                          T.RandomShear(shear=0.2),\n",
    "                          T.RandomRotate(degrees=15, axis=0),\n",
    "                          T.RandomRotate(degrees=15, axis=1),\n",
    "                          T.RandomRotate(degrees=15, axis=2)])\n",
    "\n",
    "transformer = T.Compose([T.NormalizeScale(),\n",
    "                         T.FixedPoints(num=800),\n",
    "                         T.ToDevice(DEVICE)\n",
    "                         ])"
   ],
   "metadata": {
    "collapsed": false
   }
  },
  {
   "cell_type": "code",
   "execution_count": 12,
   "metadata": {
    "colab": {
     "base_uri": "https://localhost:8080/",
     "height": 542
    },
    "execution": {
     "iopub.execute_input": "2022-12-03T08:51:43.464196Z",
     "iopub.status.busy": "2022-12-03T08:51:43.463201Z",
     "iopub.status.idle": "2022-12-03T08:51:43.481588Z",
     "shell.execute_reply": "2022-12-03T08:51:43.480506Z",
     "shell.execute_reply.started": "2022-12-03T08:51:43.464156Z"
    },
    "id": "JRpMjmJdTlTJ",
    "outputId": "3d43732f-21f0-43c2-e6e4-24ab11c81962",
    "trusted": true
   },
   "outputs": [
    {
     "data": {
      "text/html": [
       "<div>                            <div id=\"ed0b5be9-6300-49c8-8bac-f07deb1e6e71\" class=\"plotly-graph-div\" style=\"height:525px; width:100%;\"></div>            <script type=\"text/javascript\">                require([\"plotly\"], function(Plotly) {                    window.PLOTLYENV=window.PLOTLYENV || {};                                    if (document.getElementById(\"ed0b5be9-6300-49c8-8bac-f07deb1e6e71\")) {                    Plotly.newPlot(                        \"ed0b5be9-6300-49c8-8bac-f07deb1e6e71\",                        [{\"mode\":\"markers\",\"x\":[0.04876,-0.1431,-0.11282,0.08511,-0.0473,-0.11294,-0.10679,-0.12232,0.10809,0.11431,0.10475,0.09992,0.0879,0.09047,0.10425,0.0996,0.09939,0.09368,0.09721,0.1069,0.09256,0.09381,0.1052,-0.11625,0.14118,0.15069,0.14151,0.14502,-0.11579,0.13955,-0.12294,0.14719,0.15985,0.13215,0.11821,-0.14683,0.12181,-0.17868,0.13051,0.11886,0.16052,-0.04025,-0.00305,-0.18191,0.1791,0.18196,0.03532,0.05022,0.05213,-0.13804,0.13585,-0.14444,-0.12661,0.13962,-0.13805,0.13661,-0.1591,0.12955,0.05718,0.14489,-0.01088,0.13553,-0.13129,-0.11975,-0.15449,-0.14697,-0.15379,0.03957,-0.13776,-0.21193,-0.20935,-0.20898,0.08635,-0.13792,0.15692,-0.15504,-0.13146,-0.15406,-0.15001,-0.13991,-0.14436,-0.15442,-0.13112,-0.13665,-0.14316,-0.20858,-0.20372,-0.206,-0.20305,0.19745,0.11354,-0.05261,-0.05455,0.12771,-0.07552,-0.08493,-0.19736,0.13803,0.02869,0.1142,-0.15651,0.12332,-0.09726,-0.10212,-0.09703,-0.10016,-0.12179,0.18542,0.07227,0.07002,0.01536,0.17904,-0.20913,-0.20871,-0.20923,-0.13382,-0.15815,-0.13877,-0.0561,-0.13916,0.13635,0.20396,0.20536,0.19769,0.15379,-0.13604,-0.12268,-0.12012,-0.11713,-0.12263,-0.13487,-0.11428,-0.1109,-0.1349,-0.11264,-0.1221,-0.13745,0.07131,-0.12593,0.11741,0.03865,0.03508,0.04985,-0.17447,0.12311,0.16964,0.1728,0.06348,0.0928,-0.1353,0.12278,-0.1479,-0.16961,-0.12652,-0.13288,-0.17261,0.20461,0.19485,0.19608,-0.1137,-0.20959,-0.20968,-0.20939,0.12577,0.16157,0.07665,0.10854,0.09928,0.11651,0.11447,0.21192,0.21087,0.2108,-0.13174,0.06286,-0.13836,0.18048,0.20736,0.20355,0.20308,0.09639,-0.11773,0.09731,0.10344,-0.11782,0.09667,0.10008,0.11464,0.12437,0.1156,0.13163,0.12097,0.13055,0.10905,0.11922,-0.18922,-0.17721,-0.18464,-0.13846,0.13693,-0.16262,-0.16046,-0.16363,-0.01874,0.17894,0.16114,0.17134,0.18327,0.18596,0.15784,0.1985,-0.13368,-0.12299,-0.11839,-0.12925,-0.12739,-0.13101,-0.13071,-0.13166,0.13533,-0.15331,0.07268,0.05472,0.08772,0.19329,0.18848,0.05696,0.02263,0.05445,0.03481,0.03978,0.03471,0.02495,0.02392,0.05287,0.02946,0.03387,0.04055,0.0389,0.05933,0.03885,0.06177,-0.13744,-0.14447,-0.12567,0.16841,0.17679,0.17988,-0.11646,-0.11365,-0.12935,-0.16776,-0.12058,-0.13575,0.12169,-0.07479,-0.09091,-0.0918,-0.08353,-0.09265,-0.09444,-0.07666,-0.08972,-0.10208,-0.10057,-0.08152,-0.09864,-0.08842,-0.11278,0.11901,0.18704,-0.09623,0.13609,0.13932,0.1441,0.14292,0.13742,0.14681,0.13365,0.13795,-0.12711,0.14336,0.12148,0.07548,0.06746,0.06867,0.06489,0.06174,0.08179,0.07283,0.05132,0.08356,0.0733,0.07182,0.07656,0.05507,0.0631,0.07604,-0.06454,0.15988,-0.1389,-0.17191,-0.16409,-0.18899,-0.18009,-0.17108,0.13724,-0.15871,-0.11603,0.12641,0.12612,0.09293,0.08761,-0.13734,-0.11599,-0.13736,-0.15005,-0.16156,0.02651,-0.06593,0.15918,0.19772,0.13758,-0.17222,0.11847,-0.12553,-0.19928,-0.19924,-0.19671,-0.13724,-0.11832,-0.11054,0.12284,0.13424,-0.13731,0.02021,-0.12104,0.12443,0.05514,0.12457,0.14029,0.11917,-0.12162,0.19608,0.19247,0.20028,0.11886,0.1387,-0.13126,-0.17964,-0.1885,-0.18364,-0.18154,-0.1901,-0.18787,0.12563,0.09068,-0.13082,0.16546,0.14614,0.15541,-0.05414,-0.04819,-0.06405,-0.06705,-0.04709,-0.05621,-0.07299,-0.04717,-0.05895,-0.06288,-0.05762,-0.04461,-0.10227,-0.10619,-0.09252,-0.15106,-0.1035,0.12451,0.12003,-0.02699,-0.02899,-0.03319,0.20271,0.20947,0.20366,0.1598,0.13239,0.17234,0.17378,0.13949,0.19378,0.19706,0.18856,-0.17613,0.01444,0.0153,0.01405,0.0061,0.01342,0.00364,0.02325,0.00598,0.03049,0.00975,0.01631,0.02532,-0.00703,0.13956,0.11,0.02741,0.18965,0.18621,0.17732,0.21094,0.20916,0.21174,-0.19005,0.13467,0.1384,-0.14522,-0.12974,-0.13921,-0.12458,-0.07074,-0.08137,-0.10777,0.02312,0.16788,-0.11396,0.02452,-0.00076,0.03659,0.09727,0.09113,-0.13823,-0.13713,-0.10897,-0.13931,-0.10394,0.19444,0.17453,-0.03107,0.01377,0.1356,0.21078,0.21182,-0.15713,-0.14866,-0.17957,-0.03686,-0.03884,-0.12945,0.11351,0.13521,0.13766,-0.11749,-0.18343,-0.13145,0.1308,0.10057,0.13375,-0.09752,0.13263,0.08102,-0.18426,0.00505,-0.11282,-0.12032,-0.12763,-0.16507,0.15065,0.15343,0.16274,0.1142,0.13878,-0.14037,-0.14197,-0.20859,-0.20716,-0.1379,0.12455,-0.13895,-0.00767,-0.11544,0.07369,0.12607,-0.06822,-0.13638,-0.07962,0.02106,0.00425,0.11434,-0.11909,0.13939,0.13957,-0.11232,-0.13043,-0.1307,-0.12335,-0.1134,-0.11423,-0.13713,-0.12066,-0.08052,0.05858,0.04934,0.14955,0.1235,0.12352,-0.12808,-0.08467,-0.07122,-0.10476,-0.10039,-0.09953,-0.07884,-0.10189,-0.10311,-0.09892,-0.1045,-0.08385,-0.08872,-0.09239,-0.16878,-0.12583,-0.15883,-0.13568,-0.11388,-0.12985,-0.13041,0.13672,0.06695,0.06543,0.07247,0.04624,0.0585,0.05956,0.05486,0.0694,0.0732,0.05394,0.07792,0.05004,0.05294,0.08866,-0.12089,-0.11297,0.12965,-0.20644,-0.07182,-0.04397,-0.06425,-0.07521,-0.06463,-0.05996,-0.05505,-0.06453,-0.06794,-0.08451,-0.07516,-0.08742,-0.04671,-0.07323,0.10813,0.12535,0.21104,-0.1334,0.04596,0.06583,0.08219,-0.11836,0.19517,0.20154,-0.11279,-0.01377,-0.00411,0.01305,-0.02949,-0.05799,-0.0445,-0.03802,-0.03841,-0.04009,-0.0291,-0.05345,-0.04173,-0.04632,-0.0428,-0.03054,-0.04852,-0.06424,0.15164,0.04623,0.12822,-0.13125,-0.15106,-0.13051,0.13866,-0.13121,0.12297,-0.11479,-0.12247,-0.19323,-0.02127,-0.16798,-0.08124,-0.05033,-0.04057,0.19263,0.17135,0.15189,0.14238,-0.1207,0.12828,-0.1326,-0.06212,0.19758,-0.13875,-0.02519,-0.01583,-0.0211,-0.00823,-0.00275,-0.01449,-0.01676,0.00441,-0.00071,-0.00633,-0.02412,-0.019,-0.01359,-0.00418,-0.00707,-0.01542,0.13078,0.07817,0.12466,0.15335,-0.11543,0.11424,-0.04626,-0.21152,-0.2111,-0.21008,-0.17626,-0.17252,-0.17607,-0.12071,-0.10289,-0.10189,-0.08829,-0.10593,-0.12072,-0.10696,-0.10396,-0.11266,0.08919,0.17287,0.12618,-0.13071,-0.11341,-0.18854,-0.06078,-0.04487,0.12427,0.00905,0.1148,0.13582,-0.1148,-0.17323,-0.17403,-0.11277,0.12154,-0.19557,-0.06446,-0.08316,-0.09793,-0.11867,-0.09915,-0.09536,-0.10629,-0.10605,0.18866,0.17747,0.2004,-0.11658,-0.11421,0.13037,0.10602,0.08705,0.09655,-0.09086,-0.0861,0.02343,-0.13334,0.14099,-0.20517,-0.20836,-0.13473,-0.11313,-0.14297,0.13736,-0.12778,-0.1433,-0.1502,-0.16598,-0.15306,-0.16108,-0.15966,-0.16625,0.12932,-0.17066,-0.11409,-0.12941,-0.15157,0.12712,0.18725,0.17759,0.17979,0.15023,0.12913,0.11441,0.15754,-0.13869,0.19421,-0.13809,0.12637,-0.06112,-0.0709,-0.06333,-0.06161,-0.05638,-0.05748,-0.07661,-0.06436,-0.05423,-0.05147,-0.06146,-0.07314,-0.19572,-0.12576,-0.17142,-0.16755,-0.17384,0.11318,0.20492,0.20632,0.20302,-0.12526,-0.10094,-0.13516,0.1183,0.03609,-0.05933,-0.06367,-0.01227,-0.1275,-0.01499,0.0258,0.11339,0.05537,0.12928,-0.18064,-0.1748,0.21025,0.21045,0.21148,0.18775,-0.19718,0.14857,-0.13839,-0.12797,-0.13273,-0.14027,-0.13718,-0.14743,-0.13021,-0.14977,0.00714,0.11818,0.11605,-0.04881,-0.02163,-0.1184,-0.11285,-0.07682,-0.11565,0.04298,-0.1143,-0.10276,-0.12698,0.15912,0.14701,-0.1914,0.13553,0.14753,0.14063,0.14253,0.15067,0.14157,-0.13504,0.14965,0.13878,0.15487,0.04496,0.12389,-0.13582,-0.03313,0.00335,-0.00341,-0.02325,-0.0003,-0.01516,-0.02132,-0.01301,-0.00945,0.00409,-0.01591,0.00284,-0.01936,-0.00965,-0.0225,0.12082,0.11393,-0.17498,-0.17722,-0.13199,0.00893,-0.03392,0.15827,0.13956,-0.12456,-0.10062,-0.13028,-0.18561,-0.18622,-0.09536,-0.10146,0.13511,0.10605,0.12677,0.12165,0.0184,-0.1945,-0.1235,0.20986,-0.13597,-0.00599,-0.07283,-0.01421,0.031,-0.01086,0.13933,-0.06354,-0.16374,-0.16805,-0.18715,-0.11763,0.12948,0.15355,0.17087,0.17161,0.16068,0.15528,0.1682,0.16919,0.04469,0.04552,0.06715,-0.13285,0.18824,0.18496,-0.11755,0.10571,0.10221,0.12697,-0.19856,-0.20078,-0.20111,0.11357,0.00118,-0.13333,-0.19709,-0.19426,0.10916,-0.19029,-0.14967,-0.18778,0.13898,-0.14564,-0.14784,0.13119,-0.1222,0.13105,0.1184,0.06223,0.16707,0.18234,-0.18117,-0.16545,0.08289,0.06713,0.05617,-0.13699,0.09664,-0.15399,-0.13804,0.11612,0.12833,0.11379,0.00217,-0.0302,-0.00069,0.05495,0.0629,-0.15548,0.13829,0.11686,0.20552,-0.1145,0.10205,0.11048,0.09761,0.10662,0.11617,0.11898,0.10846,0.10488,0.10004,0.15168,0.14993,0.0527,0.17396,0.17499,0.18061,0.15981,-0.12804,-0.13874,-0.10824,-0.15832,0.15404,0.12333,-0.05072,-0.04866,0.13856,-0.18157,-0.16933,-0.15098,0.1546,0.15201,0.15261,-0.19218,0.1664,0.17379,0.14922,0.15552,-0.16432,-0.02015,0.08581,-0.13687,0.11847,0.01618,-0.19253,0.1994,0.20069,0.1393,0.04012,0.03637,0.04455,0.02563,0.02119,0.04098,0.025,0.03681,0.03303,0.03507,0.03891,0.04064,0.03366,-0.11368,-0.08225,0.04968,-0.14198,-0.09592,-0.07367,-0.08196,-0.09246,-0.09492,-0.07371,-0.08382,-0.0786,-0.07276,0.16842,0.16813,0.17628,0.18999,0.19034,0.14735,0.16205,0.15366,0.1593,0.16386,0.15715,0.16636,-0.19178,-0.19122,-0.19642,0.13114,0.14739,-0.13795,-0.1164,-0.1054,0.15258,-0.01574,-0.02177,-0.0435,-0.11305,-0.12989,-0.11478,-0.167,-0.13215,0.12518,0.06653,-0.13153,-0.112,0.1209,0.20361,0.20546,0.20058,-0.12166,0.15258,0.14472,0.12294,0.01954,0.03487,0.01349,-0.11336,-0.13578,0.1105,0.19938,-0.07635,-0.15743,-0.14316,-0.14751,-0.16104,-0.15753,-0.16711,0.10578,-0.15076,-0.13314,-0.20124,-0.20369,-0.19307,-0.14025,0.04866,-0.05962,0.16409,0.11507,0.1015,0.12052,-0.1814,0.00235,0.14829,-0.15971,0.1245,0.12197,-0.13754,-0.12973,0.0092,-0.00902,-0.03114,0.03022,0.03609,0.10675,0.10035,0.11296,0.10178,-0.13075,0.09363,0.11925,0.19209,0.19037,0.18386,0.13223,-0.12671,-0.14753,-0.15197,-0.1446,0.13317,-0.15858,-0.16561,0.13625,-0.11351,-0.12269,-0.0418,-0.04215,-0.04885,0.13339,-0.11916,-0.12557,-0.1332,0.02799,0.00991,-0.00042,0.0152,0.0279,0.01688,0.03751,-0.00011,0.00288,0.00575,0.00746,-0.00544,0.0163,0.01622,0.02254,0.03081,-0.00506,-0.19703,0.05552,-0.10509,0.17247,-0.1389,-0.12762,-0.13374,0.12845,-0.08674,-0.17216,-0.16342,0.11643,0.07238,0.06036,0.1144,0.13879,0.13814,-0.2053,0.16101,0.15648,0.15445,0.15141,-0.00164,-0.10841,-0.10468,-0.08945,-0.09642,-0.08629,-0.10249,-0.08679,-0.0956,-0.09294,-0.08824,-0.08734,0.1662,0.1715,0.18737,0.18134,0.17144,0.13911,0.12901,-0.11528,-0.13398,0.0903,-0.13816,-0.18821,-0.02262,-0.11354,0.04478,0.19699,0.19906,0.20096,0.11943,0.03862,0.06275,0.03133,-0.03072,-0.04063,0.05984,0.04797,0.01681,0.11359,-0.21173,-0.2108,0.08395,0.08674,0.08558,0.08792,0.07672,0.0914,0.07296,0.09085,0.09371,0.06288,0.07584,-0.098,-0.11344,-0.09001,-0.09686,-0.11652,-0.1002,-0.13761,-0.15495,0.12715,-0.13913,-0.19687,-0.15401,-0.115,0.08132,-0.11278,0.13488,-0.05438,-0.07536,-0.05995,0.06464,-0.12394,0.12561,-0.19948,0.19485,0.16992,0.17948,-0.11524,-0.13841,0.1587,-0.11573,-0.08348,-0.12879,-0.08027,0.1195,0.11802,0.13954,-0.13783,-0.1276,0.02648,0.0181,0.02195,0.01786,0.00627,0.03519,0.02902,0.01674,0.01076,0.0087,0.02441,0.02152,-0.11595,-0.11508,0.05837,-0.14629,-0.14472,0.10672,0.04908,0.06994,0.06265,0.0623,0.06704,0.06235,0.06428,0.05409,0.05356,0.05171,0.06401,0.06133,0.04115,0.1363,-0.11494,-0.13664,0.11352,0.13134,-0.06415,0.15384,0.15437,0.03297,0.12053,0.18408,0.19307,0.18389,-0.07291,-0.07515,-0.14084,-0.15054,-0.14478,-0.15159,-0.11817,-0.19611,0.103,0.09651,0.08733,0.07366,0.19079,0.17781,-0.11398,-0.14963,0.13079,-0.17791,-0.1749,-0.17557,0.11629,0.1241,0.13997,0.12529,-0.01292,0.16096,0.16101,0.12002,-0.05564,-0.11677,0.11397,-0.09204,-0.09491,0.12256,-0.09381,-0.09127,-0.08299,-0.09218,-0.08373,-0.08737,-0.07779,-0.09104,-0.07503,0.11337,0.1588,0.1217,0.11112,0.1027,0.13306,-0.09672,0.13605,0.20535,0.14524,0.11457,0.11873,-0.13656,-0.20707,-0.21161,-0.20996,0.14041,-0.119,-0.13898,0.12698,0.13522,-0.14195,-0.15202,-0.17677,-0.19528,-0.19223,-0.04334,0.14338,0.14168,-0.13462,-0.13435,-0.12687,-0.20838,0.15866,-0.13025,0.13056,-0.12961,0.11413,0.12851,-0.12268,0.18157,0.18201,-0.20009,-0.20175,-0.19775,-0.15292,0.16386,0.16538,0.17261,-0.0577,-0.1388,0.07552,0.01313,0.13263,-0.04871,0.12142,0.12955,0.13637,-0.19098,0.01956,0.18065,-0.1697,0.13951,-0.0075,0.01348,0.0269,0.2087,0.21144,0.21069,0.05471,0.13323,0.06536,-0.0891,-0.08214,-0.08521,0.15292,-0.13132,-0.14797,0.20892,0.2092,0.21125,0.13011,0.12883,0.1309,0.13422,0.11635,0.06144,-0.11917,0.13933,-0.17967,-0.13723,-0.11485,-0.00721,0.13132,0.18734,-0.05859,0.0192,0.11044,0.1197,-0.1325,0.10643,0.13276,-0.12147,0.02283,-0.00422,0.00655,0.00765,0.01917,0.0259,0.00893,0.00096,0.00843,-0.00098,0.00703,0.01852,0.03209,0.00168,0.01803,0.02866,0.1901,0.01829,-0.13879,-0.12943,-0.09686,-0.10645,-0.12724,0.00758,-0.00371,0.00709,0.02967,0.03223,-0.00931,0.02989,0.02139,0.02857,-0.00921,-0.00813,0.02102,0.0334,0.00245,-0.13218,-0.15729,-0.14645,-0.13939,-0.12386,-0.12984,-0.13577,-0.1242,-0.12803,0.19721,0.05314,0.04716,0.04168,0.04546,0.02165,0.03836,0.03631,0.03411,0.04683,0.03822,0.05631,0.03306,0.04528,0.04245,0.03605,-0.13907,-0.07014,-0.21194,-0.13215,-0.17889,-0.18728,-0.17398,-0.1772,-0.17221,-0.17816,-0.13787,0.13733,0.12623,-0.11992,-0.04154,0.11613,-0.11955,0.11905,0.00672,-0.11631,0.16975,-0.12939,0.138,-0.12854,-0.02717,0.07856,0.09455,0.08594,0.08997,0.1062,0.07794,0.09191,0.06976,0.09898,0.09769,0.09718,-0.12229,-0.13888,0.07977,-0.16862,-0.16931,-0.15244,0.17542,-0.1943,-0.19124,-0.19834,-0.10016,-0.10821,-0.12352,-0.00312,-0.00247,-0.00068,0.00549,-0.01796,-0.17541,-0.17629,-0.13848,0.16138,0.18285,0.16804,-0.15373,0.11925,-0.12746,0.13118,-0.13894,0.14088,-0.00268,-0.1236,-0.18424,-0.11326,0.05653,-0.19234,0.11453,-0.13912,-0.003,0.1854,0.18433,0.01559,0.13084,-0.13852,-0.12927,-0.13878,0.12648,0.19161,0.1347,-0.11287,0.10612,0.11451,-0.12191,-0.15786,0.13301,-0.13269,-0.12212,-0.139,-0.0841,0.02435,0.01719,0.03556,0.02301,0.04176,0.04871,-0.13794,-0.16801,-0.15177,-0.19738,-0.03292,0.11747,0.05357,0.10797,0.10209,-0.11864,0.13762,-0.09146,0.10111,0.13941,0.06241,0.02067,0.0284,-0.12005,0.13515,0.12394,0.13776,0.13814,0.1303,-0.15336,-0.15336,-0.1328,-0.01803,-0.02078,0.13777,-0.15791,-0.15287,0.21075,0.21039,0.13487,-0.10293,0.13799,-0.08629,0.13368,-0.19058,-0.1876,-0.18888,0.12678,0.11963,-0.13888,0.01377,-0.00469,0.01245,0.00796,0.02354,0.01053,0.01551,0.00702,0.0239,0.00201,0.0114,0.0173,0.18879,0.18464,0.18841,-0.20707,-0.20132,-0.11285,-0.16483,-0.07718,0.1158,-0.10947,0.13578,-0.15568,0.17868,0.03133,0.03629,0.04075,0.12413,-0.13628,0.01582,0.1683,0.16614,0.16706,-0.12068,-0.11681,-0.12208,-0.13233,0.03515,0.03071,0.16498,0.16717,0.15778,0.14819,0.16419,0.08646,0.08069,0.0829,0.09432,0.08078,0.10033,0.07527,0.0825,0.07802,0.20958,-0.02561,-0.13684,0.20275,-0.11838,0.16888,0.17927,0.10062,-0.19923,0.10675,0.11276,0.11823,0.05418,0.05575,-0.11258,0.13926,0.15756,0.1397,0.13915,0.15109,0.13739,0.15007,0.13923,0.14629,0.12105,-0.13544,-0.11573,0.18159,0.18332,0.11352,-0.20849,-0.20784,-0.13709,0.1727,0.18039,0.17059,0.18947,0.11323,0.16227,0.17412,0.13249,-0.1349,0.15054,0.11643,0.05882,0.12511,0.13914,0.1497,-0.08138,-0.1032,-0.14361,0.1134,-0.12545,-0.12115,0.11467,0.18522,0.1687,0.11822,0.13962,-0.10833,-0.06532,-0.05918,-0.05315,-0.1116,-0.12007,-0.11681,-0.13617,-0.19772,-0.00199,0.13343,0.12779,-0.13229,0.203,0.20372,0.19881,0.1268,-0.19716,-0.1333,-0.12579,-0.10088,-0.09957,-0.12614,0.19236,0.19458,0.19656,0.19519,-0.15539,-0.16338,0.19678,-0.11869,-0.06168,0.09726,-0.18041,-0.17517,-0.17848,0.11327,0.06399,-0.03121,-0.0616,0.19146,-0.0219,0.08982,0.07706,-0.19855,-0.11294,-0.01671,-0.11875,0.13431,0.20336,0.20588,-0.12611,-0.12478,0.12214,0.13651,0.18935,0.18293,0.11405,0.18807,0.19328,0.19361,0.07725,-0.12187,-0.13529,-0.11385,0.20466,0.19642,-0.14355,-0.14849,-0.13869,-0.14017,-0.14465,0.1264,0.06496,-0.12548,0.1951,-0.11475,-0.02593,-0.04692,-0.12387,0.01689,-0.11301,-0.16913,-0.18519,-0.13058,0.13113,0.12841,-0.20288,0.19723,-0.0565,0.15825,0.15956,0.1463,-0.19431,-0.18243,-0.17268,-0.17561,0.00378,0.0361,0.02683,0.02352,0.03427,0.04901,0.05052,0.04028,0.01638,0.04165,0.02296,0.0156,0.05512,0.04176,0.03812,0.13175,0.20931,0.20985,0.00175,0.0689,0.0561,0.05879,0.04596,0.0679,0.06652,0.06494,0.07081,0.04644,0.06105,0.06032,-0.1021,-0.18428,-0.19064,-0.1848,0.13448,0.11951,-0.10524,0.14058,0.1403,0.14112,0.15941,-0.1308,-0.15383,0.14616,0.0846,0.19307,-0.08872,-0.08988,0.09432,0.10706,0.0863,0.03561,-0.17534,-0.1108,-0.11285,-0.12324,-0.11894,-0.10431,-0.11104,-0.13054,-0.12121,-0.11235,-0.12037,-0.12944,-0.12896,-0.16653,0.06489,0.07043,0.0687,0.06415,0.06622,0.06734,0.06737,0.06121,0.07771,-0.1299,-0.11279,0.00426,0.05272,-0.13826,-0.20722,-0.20332,0.13948,-0.016,-0.10863,-0.0815,-0.0772,-0.09318,-0.08044,-0.09432,-0.09986,-0.10418,-0.09009,-0.07758,0.17685,0.15599,0.19984,0.19318,0.20141,-0.09462,-0.0816,0.04466,-0.05317,-0.06543,-0.07744,-0.06027,-0.07398,-0.05937,-0.05877,-0.0545,-0.05186,-0.05409,-0.07248,-0.08135,-0.06178,-0.04518,-0.12388,0.12283,-0.11606,-0.19699,-0.19076,0.13954,-0.13875,-0.00238,0.02152,-0.12146,-0.03878,0.12917,0.19547,-0.20882,-0.21129,-0.20925,0.06544,-0.15554,-0.20601,-0.19834,-0.04674,0.15601,0.14787,0.17378,-0.04037,-0.03625,-0.04715,-0.02943,-0.04728,-0.03539,-0.03908,-0.0316,-0.0286,-0.02381,-0.03226,-0.03359,-0.13336,0.16625,0.15469,0.14247,-0.03364,-0.07552,-0.08469,0.16759,0.10681,0.0943,0.1028,0.11379,0.11811,0.10498,-0.12754,-0.12447,0.11739,-0.13747,-0.11297,-0.15988,0.07288,0.08956,0.07653,0.11319,0.13698,0.13059,-0.1567,0.11356,0.11653,0.16681,-0.11967,0.12176,-0.02875,0.11368,-0.14429,-0.17182,-0.16843,-0.16576,-0.16468,-0.18208,-0.17067,-0.16927,0.02276,-0.1389,-0.05606,0.11995,0.19371,-0.13088,-0.16305,-0.00845,-0.0153,-0.02271,-0.01776,-0.00859,-0.01733,-0.03644,-0.00155,-0.03408,0.00344,-0.01121,-0.01928,0.00579,-0.00748,0.12095,-0.11397,-0.00652,-0.02901,-0.0167,-0.02881,-0.02924,-0.01167,-0.01416,-0.01031,-0.02143,-0.01314,-0.01437,-0.0327,-0.01628,-0.00126,-0.02266,-0.03252,0.2093,0.20962,0.21186,-0.08276,-0.08305,-0.08897,-0.13238,-0.13854,0.13192,0.11563,-0.05512,-0.03185,-0.05012,-0.14904,-0.13832,0.0262,-0.13152,-0.06122,-0.04886,-0.06979,-0.16715,-0.14883,0.12087,0.12653,-0.12629,-0.12108,0.11476,0.18642,0.1795,-0.03484,-0.01792,0.1181,0.10578,-0.02706,-0.00951,-0.02447,-0.13241,0.20849,0.20924,0.20972,0.15246,0.19749,-0.13784,0.13686,0.04793,0.07845,0.13782,-0.15791,-0.16908,-0.17413,-0.14874,-0.16969,-0.11283,-0.14017,-0.18779,0.13477,-0.06693,-0.03195,-0.01537,-0.02857,-0.04127,-0.03816,-0.04657,-0.02903,-0.03641,-0.02322,-0.03513,-0.11861,0.20774,0.12431,0.14893,-0.08651,-0.07402,-0.09856,0.11915,0.07453,0.09875,0.10626,0.08137,0.08933,0.09225,0.07258,0.10455,0.09728,-0.12718,-0.11889,0.1254,-0.12622,-0.12892,-0.07521,-0.06999,-0.05885,-0.07062,-0.06878,-0.07966,-0.06021,-0.05425,-0.05338,-0.06807,-0.06957,-0.08309,-0.06393,-0.05407,-0.12031,0.16579,0.11335,-0.11442,0.08446,-0.03363,0.11462,-0.1344,-0.0083,0.11948,-0.1052,-0.12644,-0.19559,0.20539,0.13992,-0.04311,-0.08364,-0.14709,-0.15131,-0.16117,-0.16107,0.11531,-0.17096,-0.15965,-0.11299,-0.14367,0.11325,0.05113,0.19794,-0.19198,-0.18551,-0.19586,-0.12637,0.13898,0.12074,0.13396,0.11668,0.14136,0.13697,0.13615,0.13538,0.13959,-0.17753,-0.19226,-0.11984,-0.12277,0.03093,0.02111,0.0439,0.04377,0.05629,0.02755,0.03887,0.03083,0.05054,0.05798,0.0336,0.03039,0.02863,0.04265,-0.11312,0.10918,0.11537,-0.12208,-0.10395,0.18588,0.17664,0.18035,-0.13607,-0.11762,0.13091,0.14763,0.17611,-0.13908,-0.20594,-0.21117,-0.21083,0.00185,0.13773,0.1244,-0.15021,0.07475,0.07449,0.07695,0.06951,0.06302,0.06366,0.07477,0.07534,0.08496,0.08966,0.07008,0.05225,0.05865,0.15611,0.14688,0.16229,0.16195,0.1662,0.15861,-0.19166,-0.18154,-0.17938,-0.19462,-0.15976,-0.11648,-0.11549,-0.19554,-0.19513,-0.1912,0.13708,-0.02529,-0.13418,0.13657,-0.19171,0.12611,-0.03753,-0.00015,0.12098,-0.15831,0.0031,0.01858,-0.01095,0.12066,-0.04884,-0.03551,-0.03569,-0.0394,-0.04398,-0.02724,-0.03689,-0.05645,-0.02394,-0.04922,-0.04168,-0.04011,-0.04635,-0.15622,0.16806,0.11995,-0.05399,0.00633,-0.10732,-0.00838,-0.00956,-0.15004,-0.14191,0.07731,0.06803,0.13962,0.03307,0.17037,0.17443,-0.07696,-0.08114,-0.14642,0.13767,0.19026,0.00379,0.11497,0.12923,0.13746,0.04369,0.06104,0.07907,-0.08435,-0.09865,-0.15868,0.11642,0.14015,-0.15577,0.13911,0.1488,-0.16557,0.13233,-0.03281,-0.11475,-0.0614,-0.05447,0.04916,0.0313,-0.11239,-0.10189,-0.10526,0.11923,0.20582,0.21145,-0.19491,0.13489,-0.0771,-0.07044,-0.08657,-0.10707,-0.14406,-0.19768,-0.20587,0.03116,0.09796,-0.11987,0.0893,-0.07045,0.13338,0.16552,0.14338,0.14336,-0.15383,-0.13699,-0.0595,0.10899,-0.14568,0.08859,0.15844,0.15226,-0.11367,0.13863,-0.13788,0.02664,0.08408,0.09747,-0.1317,0.13705,0.13046,0.11898,0.12972,0.11181,0.12094,0.11056,0.10503,0.10152,0.11486,0.15845,0.11545,-0.12779,0.12881,0.13472,-0.15226,-0.0328,-0.16301,-0.1737,-0.11969,0.16736,-0.11303,-0.17078,-0.15847,0.13713,-0.0612,-0.03204,-0.04168,-0.03908,-0.038,-0.04958,-0.02663,-0.05061,-0.03591,-0.04413,-0.02956,-0.02039,-0.02802,-0.0244,-0.05655,-0.05059,-0.13194,0.19001,0.00279,-0.00264,0.12473,0.14958,0.1142,0.13373,0.12978,0.1978,0.04788,-0.03467,0.18978,0.19237,0.19881,0.1261,-0.1144,0.16296,0.16901,0.1277,0.11856,0.12217,0.11634,0.1209,0.11543,0.12239,0.136,0.06906,0.0831,0.07719,-0.01188,-0.00872,-0.01261,0.13941,0.11361,-0.12705,-0.12547,-0.06921,0.11193,0.13313,0.13515,0.00856,-0.13833,0.15037,0.17059,0.1508,0.15809,0.15656,0.13592,-0.13918,0.10567,0.11677,0.06286,0.15287,-0.05795,-0.13894,-0.14122,0.13153,-0.19277,-0.18239,-0.11845,-0.09126,-0.1178,-0.00809,-0.02555,-0.01239,-0.00755,0.00531,-0.01716,-0.01867,-0.00754,-0.00348,0.00586,-0.13017,-0.13561,0.07279,0.07796,0.07471,-0.16314,-0.17203,-0.20998,-0.21114,0.12867,-0.11616,-0.05408,-0.21158,-0.20888,-0.21029,0.06879,0.09306,0.08716,-0.12451,-0.13612,0.09039,-0.10406,-0.09004,-0.10308,-0.1232,-0.09877,-0.11618,-0.11193,-0.11481,0.03032,0.02017,0.03687,0.03404,0.04491,0.02454,0.02842,0.04385,0.04659,0.03291,0.04241,0.04009,0.03272,-0.13885,-0.10051,0.08238,-0.19572,-0.19057,-0.14649,-0.02397,0.11338,-0.18633,-0.17045,-0.17617,-0.17828,0.17311,0.17213,0.18164,0.17431,-0.12463,-0.15771,-0.15934,-0.15571,-0.14804,-0.15464,-0.1616,-0.1536,0.14435,0.13811,0.13698,0.15041,0.13001,0.12103,0.14577,0.14689,0.15059,0.139,0.1828,0.07953,0.04184,-0.15312,0.15503,-0.04814,-0.11658,-0.17176,-0.16054,-0.17115,0.11634,0.11461,-0.09612,-0.12151,0.18429,0.19067,0.19089,0.18317,-0.16159,-0.17251,-0.17722,-0.17877,-0.15827,-0.05395,-0.06109,-0.04969,-0.04376,-0.03299,-0.03396,-0.03909,-0.06716,-0.04201,-0.02526,-0.0428,-0.03214,-0.05209,-0.06092,-0.0368,-0.1329,0.11928,0.11783,0.089,0.08077,0.10085,0.0848,0.09289,0.10275,0.10181,0.08246,0.09576,0.10287,0.09988,-0.19053,0.11547,-0.11921,0.13926,-0.02471,-0.02201,-0.03237,-0.01463,-0.00995,-0.0148,-0.00122,-0.01102,-0.00777,-0.01652,0.00455,-0.02643,-0.02116,-0.02529,0.15141,-0.12855,-0.1531,-0.15642,-0.1471,-0.14385,-0.13657,0.13056,0.1356,0.1215,0.14208,-0.11744,-0.03858,0.12483,-0.13406,0.13828,-0.06806,-0.06171,-0.08311,-0.05649,-0.0734,-0.07872,-0.07021,-0.05441,-0.06442,-0.0698,-0.06714,-0.07501,-0.06267,-0.06615,0.16478,0.15846,-0.1391,-0.09161,0.11322,0.11698,-0.10732,-0.20501,0.11936,-0.04395,-0.12593,-0.12816,-0.13955,-0.13675,-0.13417,-0.04849,0.1391,0.16204,-0.11307,-0.10035,-0.1269,-0.12946,0.21137,0.14314,-0.17951,-0.18446,0.10643,0.07823],\"y\":[0.39962,0.1239,0.11774,0.11891,-0.11521,-0.28866,0.1239,0.16662,0.1239,0.30041,0.30041,0.30041,0.30041,0.30041,0.30041,0.30041,0.30041,0.30041,0.30041,0.30041,0.30041,0.30041,0.30041,-0.37838,0.2315,0.2315,0.2315,0.2315,-0.03447,-0.22087,0.2315,0.34963,0.33115,0.37217,0.2315,0.11724,0.17937,0.38227,-0.08315,0.09854,-0.11521,0.11388,0.39956,-0.11521,0.39997,0.39997,0.29191,0.25615,0.27976,-0.11521,0.22372,-0.1245,-0.37851,-0.23652,0.00478,-0.21117,0.09969,0.11981,0.10291,0.10271,-0.13356,0.1239,0.01822,-0.20514,0.3002,0.30022,0.28206,-0.13524,0.20005,0.36944,0.32594,0.34696,-0.13014,-0.27963,0.38675,0.30041,0.30041,0.30041,0.30041,0.30041,0.30041,0.30041,0.30041,0.30041,0.30041,0.33305,0.37173,0.36627,0.2315,0.09261,-0.04048,-0.11521,-0.11521,0.1627,0.1239,0.10046,0.39563,0.079,0.3973,-0.30926,0.09641,0.11728,0.2315,0.2315,0.2315,0.2315,-0.1645,0.37654,0.1239,0.1239,-0.13348,0.38811,0.37189,0.33392,0.33091,-0.39548,0.11701,-0.39841,0.39945,-0.2267,-0.15633,0.30141,0.32664,0.32595,0.10011,-0.32397,0.30041,0.30041,0.30041,0.30041,0.30041,0.30041,0.30041,0.30041,0.30041,0.30041,0.00034,0.10167,-0.08184,-0.37162,-0.11791,-0.11521,-0.11521,0.10515,-0.08876,0.3695,0.34514,0.3903,0.39627,-0.12257,-0.28149,0.32066,0.39775,0.1063,-0.1399,-0.14624,0.26942,0.24401,0.2483,-0.1224,0.27816,0.26275,0.29871,-0.1246,0.1239,0.37329,0.34533,0.33732,-0.06675,0.10563,0.24115,0.27695,0.29828,0.04034,-0.13699,-0.05823,0.39997,0.23473,0.28392,0.26351,0.11232,0.13679,0.24292,0.26774,0.18662,0.30041,0.30041,0.30041,0.30041,0.30041,0.30041,0.30041,0.30041,0.30041,0.30041,0.3257,0.33099,0.32574,0.11987,0.03689,0.29784,0.24076,0.28045,0.3949,0.2315,0.2315,0.2315,0.2315,0.2315,0.09815,0.30041,0.14905,0.39997,0.39997,0.39997,0.39997,0.39997,0.39997,0.39997,-0.1383,0.1128,0.36417,0.34778,0.3716,0.1025,0.10329,0.30041,0.30041,0.30041,0.30041,0.30041,0.30041,0.30041,0.30041,0.30041,0.30041,0.30041,0.30041,0.30041,0.30041,0.30041,0.30041,0.31893,0.32594,0.34857,-0.11521,-0.11521,-0.11521,0.31837,0.30332,0.33709,0.11672,-0.28229,0.05718,-0.20481,0.30041,0.30041,0.30041,0.30041,0.30041,0.30041,0.30041,0.30041,0.30041,0.30041,0.30041,0.30041,0.30041,-0.17901,-0.27214,0.10991,0.09642,0.00013,-0.14022,0.39997,0.39997,0.39997,0.39997,0.39997,0.39997,0.2315,0.11476,-0.019,0.2315,0.2315,0.2315,0.2315,0.2315,0.2315,0.2315,0.2315,0.2315,0.2315,0.2315,0.2315,0.2315,0.2315,0.2315,-0.14258,-0.12926,0.04763,0.30041,0.30041,0.30041,0.30041,0.30041,-0.12946,-0.1183,0.2315,-0.18799,-0.14638,0.1239,0.1239,0.2009,0.11431,-0.36957,0.1239,0.1239,0.09593,0.10309,0.12101,0.11958,0.19598,-0.11943,0.01597,0.03946,0.2986,0.25646,0.26648,-0.16305,-0.133,-0.12848,0.2315,0.21665,0.39645,0.39131,0.09843,0.17633,0.11057,0.09666,0.09424,-0.05067,0.2315,0.35823,0.34019,0.31422,0.09165,-0.24734,-0.37756,0.23754,0.26216,0.26789,0.2315,0.2315,0.2315,0.02828,-0.138,0.2315,0.30701,0.33969,0.30975,0.39997,0.39997,0.39997,0.39997,0.39997,0.39997,0.39997,0.39997,0.39997,0.39997,0.39997,0.39997,0.3682,0.3629,0.35789,0.39782,-0.1237,0.11348,0.12055,0.34367,0.33569,0.30947,0.35461,0.30292,0.34567,0.09909,0.2315,0.1239,0.1239,0.10586,0.27197,0.24417,0.27042,0.1239,0.39997,0.39997,0.39997,0.39997,0.39997,0.39997,0.39997,0.39997,0.39997,0.39997,0.39997,0.39997,0.39997,0.2012,0.38785,0.38052,0.24662,0.2386,0.29506,0.27642,0.23633,0.28011,-0.13698,-0.01991,-0.08619,0.3723,0.35722,0.34582,-0.23037,0.35884,0.34459,0.30438,0.11182,-0.13992,0.05883,0.31979,0.31383,0.35245,-0.11521,-0.11521,0.12073,0.2868,0.24622,0.26308,0.39296,0.26496,0.3838,0.29774,0.24539,0.02066,0.24338,0.25761,0.3686,0.36534,0.37661,0.25453,0.26854,-0.1895,0.09832,0.39686,-0.3132,-0.11521,0.12268,-0.28213,-0.03579,0.1239,-0.01868,0.10488,0.18915,0.2315,0.38667,0.11529,0.20255,0.22616,0.1142,0.1239,-0.13175,0.09508,0.09477,-0.28604,0.04127,0.1239,-0.11669,0.31574,0.3174,0.20869,-0.14279,-0.04519,0.1239,-0.10121,-0.11842,-0.24448,-0.11783,0.06209,-0.13009,-0.11521,0.1239,-0.24759,0.03941,-0.31307,0.07733,0.39997,0.39997,0.39997,0.39997,0.39997,0.39997,0.09489,0.2315,-0.11521,0.362,0.33338,0.31086,0.36145,0.34467,0.2315,0.30041,0.30041,0.30041,0.30041,0.30041,0.30041,0.30041,0.30041,0.30041,0.30041,0.30041,0.30041,0.30041,-0.12753,-0.05945,0.12281,-0.12611,-0.18399,-0.2148,-0.08344,-0.06061,0.30041,0.30041,0.30041,0.30041,0.30041,0.30041,0.30041,0.30041,0.30041,0.30041,0.30041,0.30041,0.30041,0.30041,-0.21201,0.05645,0.09652,0.38502,0.2315,0.2315,0.2315,0.2315,0.2315,0.2315,0.2315,0.2315,0.2315,0.2315,0.2315,0.2315,0.2315,0.2315,0.1146,-0.11521,0.37659,-0.09693,0.30297,0.33041,0.32366,-0.12482,0.29896,0.29365,0.01421,0.29059,0.28476,0.28995,0.2315,0.2315,0.2315,0.2315,0.2315,0.2315,0.2315,0.2315,0.2315,0.2315,0.2315,0.2315,0.2315,0.2315,0.10103,0.1239,0.11787,0.31085,0.30695,0.33854,-0.07885,-0.12758,0.13026,0.08176,-0.22073,0.1239,-0.11798,-0.11521,0.09441,0.1239,0.1239,0.39857,0.23855,0.27099,0.29373,0.02051,0.34162,0.15408,-0.11665,-0.13563,-0.10234,0.2315,0.2315,0.2315,0.2315,0.2315,0.2315,0.2315,0.2315,0.2315,0.2315,0.2315,0.2315,0.2315,0.2315,0.2315,0.2315,0.2315,0.09338,0.2315,-0.11948,-0.09167,-0.31202,-0.12277,0.24754,0.26174,0.25963,0.29957,0.26799,0.27907,-0.08021,0.39997,0.39997,0.39997,0.39997,0.39997,0.39997,0.39997,0.39997,-0.11521,0.39743,0.37861,-0.16769,-0.1672,0.11298,0.11422,0.10304,-0.17676,-0.11521,-0.36085,-0.20348,-0.07019,-0.13216,0.39937,-0.30501,0.22672,0.12377,-0.12038,-0.13409,0.38173,-0.05693,0.3713,0.3483,0.33299,0.38381,0.23838,0.23463,0.38936,-0.22826,0.04462,-0.30846,0.35768,0.35869,0.34669,0.1239,0.1239,-0.12618,-0.04988,-0.14292,0.30537,0.37148,0.09924,0.14287,-0.12077,0.2315,0.39417,0.2315,0.2315,0.2315,0.2315,0.2315,0.2315,0.2315,-0.3994,0.09959,-0.12897,-0.39997,-0.11521,-0.1767,0.31314,0.3014,0.35727,0.26797,0.28792,-0.39157,-0.1193,-0.24446,0.2315,0.06323,-0.07157,0.39997,0.39997,0.39997,0.39997,0.39997,0.39997,0.39997,0.39997,0.39997,0.39997,0.39997,0.39997,0.10542,-0.28465,0.38747,0.3052,0.31434,0.15023,0.30733,0.30284,0.30615,-0.14007,-0.14601,0.22796,0.1837,0.1239,0.1239,0.1239,0.37735,0.09638,-0.14045,0.3945,-0.13191,-0.11521,-0.10895,0.11823,0.1221,0.31387,0.31001,0.30392,0.09535,0.39546,-0.13634,0.10672,-0.27007,0.39997,0.39997,0.39997,0.39997,0.39997,0.39997,-0.1257,-0.06999,0.39504,-0.11521,-0.11521,0.36886,0.3161,0.36666,-0.3355,0.10808,-0.09733,-0.13482,0.07215,0.1239,-0.1219,0.1175,0.39997,0.39997,0.39997,0.39997,0.39997,0.39997,-0.11777,0.11458,-0.39166,-0.11521,0.38932,0.11043,-0.19821,0.36408,0.34822,0.39997,0.39997,0.39997,0.39997,0.39997,0.39997,0.39997,0.39997,0.39997,0.39997,0.39997,0.39997,0.39997,-0.05024,-0.1486,0.1239,0.1239,0.06501,0.38183,-0.12338,-0.11521,-0.03803,0.21083,0.2315,-0.35258,0.1239,0.1239,0.27043,0.28643,0.2315,0.30551,0.317,0.22424,0.10316,0.37459,-0.39166,0.37631,-0.02541,-0.12592,0.10756,0.35276,0.37134,0.36842,0.2032,-0.13145,0.3382,0.3563,0.36533,-0.05183,-0.17544,0.2315,0.2315,0.2315,0.2315,0.2315,0.2315,0.2315,0.23892,0.24901,0.26668,-0.08411,-0.13464,-0.14452,-0.30999,0.33723,0.31871,0.36579,0.32127,0.31316,0.35391,-0.06247,-0.13365,0.3819,0.3526,0.35924,-0.11521,0.10535,0.11825,0.1239,0.03376,-0.14022,0.10659,0.19448,-0.12119,-0.28546,0.17669,0.12334,-0.11726,-0.12327,0.35473,0.3426,0.35611,0.32169,0.30062,0.2315,0.2315,-0.12889,-0.36172,-0.11843,-0.03218,0.05803,0.30689,0.35054,0.31121,0.25306,0.29932,0.12316,-0.09563,-0.24621,0.38498,-0.2324,0.39997,0.39997,0.39997,0.39997,0.39997,0.39997,0.39997,0.39997,0.39997,-0.11521,-0.11521,-0.11521,-0.11521,-0.11521,-0.11521,0.10937,-0.30856,-0.32782,0.10991,-0.11521,-0.14482,-0.15369,0.33887,0.37186,-0.131,0.30726,0.32019,0.38007,0.31582,0.36552,0.3714,0.38897,0.32228,0.35742,0.3691,0.11173,-0.11521,0.10568,0.1239,-0.01673,-0.28482,-0.1374,-0.13651,0.2315,0.2315,-0.27932,0.39997,0.39997,0.39997,0.39997,0.39997,0.39997,0.39997,0.39997,0.39997,0.39997,0.39997,0.39997,0.39997,-0.22381,0.1205,0.37396,0.2315,0.39997,0.39997,0.39997,0.39997,0.39997,0.39997,0.39997,0.39997,0.39997,0.09401,0.09604,0.11842,0.1239,0.1239,0.30041,0.30041,0.30041,0.30041,0.30041,0.30041,0.30041,0.25681,0.2783,0.28036,-0.11521,0.12128,0.10806,-0.17375,-0.11521,-0.11521,0.30621,0.35089,0.30296,0.02947,-0.11521,0.10642,0.38023,0.10852,0.04637,0.1239,0.09511,0.10819,0.15728,0.32567,0.34684,0.30124,-0.14103,0.1239,0.1239,0.00586,0.24406,0.25,0.24047,-0.09888,-0.23869,0.2315,0.3937,0.10683,0.30041,0.30041,0.30041,0.30041,0.30041,0.30041,0.39323,-0.11521,0.2315,0.36611,0.36366,0.35404,-0.14288,-0.14204,0.37871,-0.14363,0.1239,0.11257,0.08433,0.3827,0.1239,0.1239,-0.117,-0.12044,-0.128,-0.26538,-0.34066,0.2752,0.26017,0.39767,0.10734,0.10293,0.2315,0.2315,0.2315,0.2315,-0.19302,-0.13084,-0.11542,0.2315,0.2315,0.2315,-0.10043,0.19436,0.23695,0.27256,0.26143,0.06091,0.25842,0.24805,0.22853,0.11193,0.2315,0.35625,0.34476,0.33168,-0.13184,0.10789,0.09657,-0.13596,0.2315,0.2315,0.2315,0.2315,0.2315,0.2315,0.2315,0.2315,0.2315,0.2315,0.2315,0.2315,0.2315,0.2315,0.2315,0.2315,0.2315,-0.13839,-0.12533,0.38831,-0.13377,-0.15253,-0.10286,0.07847,-0.21785,0.11724,-0.11521,-0.11521,-0.00069,0.09523,0.38322,-0.07296,-0.18718,0.03986,0.38681,0.39997,0.39997,0.39997,0.39997,0.09413,0.2315,0.2315,0.2315,0.2315,0.2315,0.2315,0.2315,0.2315,0.2315,0.2315,0.2315,0.30041,0.30041,0.30041,0.30041,0.30041,0.38551,-0.29011,-0.26731,0.2315,0.10379,-0.26303,0.39596,0.1239,0.2315,-0.11521,0.27394,0.29711,0.29099,0.20398,0.36896,0.37047,0.35704,0.1239,0.1239,0.32535,0.35026,0.37284,-0.21296,0.31376,0.34046,0.39997,0.39997,0.39997,0.39997,0.39997,0.39997,0.39997,0.39997,0.39997,0.39997,0.39997,-0.11521,0.07629,-0.11521,-0.11521,0.16958,0.1239,-0.1162,-0.1164,0.11209,-0.14243,0.2315,0.11646,-0.02053,-0.11521,-0.25179,-0.18624,0.2341,0.2516,0.24171,-0.1185,-0.01995,-0.397,0.39248,-0.12972,-0.12823,-0.14664,0.19488,-0.1229,-0.13629,-0.00798,0.1067,-0.19427,-0.13339,-0.25497,-0.10308,-0.03381,0.01314,-0.10542,0.2315,0.2315,0.2315,0.2315,0.2315,0.2315,0.2315,0.2315,0.2315,0.2315,0.2315,0.2315,0.1532,-0.11935,-0.13659,0.25654,0.26469,0.1239,0.39997,0.39997,0.39997,0.39997,0.39997,0.39997,0.39997,0.39997,0.39997,0.39997,0.39997,0.39997,-0.14401,0.17761,-0.28466,0.08256,0.16368,-0.17665,-0.11521,0.1239,0.1239,-0.11521,0.01705,0.30041,0.30041,0.30041,-0.11521,-0.11521,0.2315,0.2315,0.2315,0.2315,-0.32596,0.11441,0.29224,0.28507,-0.11521,-0.11521,0.24253,0.23256,0.2315,0.1239,-0.19637,0.1239,0.1239,0.1239,0.06615,-0.25071,0.10621,0.23126,-0.11521,0.25742,0.24467,-0.0316,-0.13685,-0.0548,-0.06226,0.10749,0.11885,-0.38671,0.39997,0.39997,0.39997,0.39997,0.39997,0.39997,0.39997,0.39997,0.39997,-0.19555,-0.13398,-0.27845,0.273,0.29945,0.29387,0.1239,-0.28283,0.38178,-0.11521,0.22865,-0.18493,-0.01126,0.27044,0.29985,0.27274,-0.13368,-0.11401,-0.28689,-0.3623,0.16624,0.1239,0.1239,0.23236,0.24446,0.23684,0.39852,0.26446,0.24845,0.12966,0.39882,0.12127,0.30041,-0.14145,0.08632,0.10154,0.11755,-0.08293,-0.02299,0.1007,0.1239,0.1239,0.32909,0.34475,0.30425,-0.11521,0.31924,0.36036,0.33946,0.11447,-0.21734,0.38087,0.37524,-0.14142,0.09944,0.26379,0.23266,0.01886,0.38339,0.1239,-0.12044,0.39254,-0.21847,0.23899,0.23433,0.1239,0.29599,0.28935,0.2858,-0.13846,-0.18154,0.11107,0.36725,0.35132,0.35708,0.1239,-0.07598,-0.13167,0.32496,0.37301,0.3551,0.25511,0.24546,0.26414,0.21251,-0.07411,0.11348,-0.17366,-0.29996,0.09326,-0.11125,0.03492,0.09294,-0.06067,0.10991,0.3893,0.3975,0.25476,0.24416,-0.31778,0.11542,-0.32671,-0.00601,0.10547,0.30041,0.30041,0.30041,0.30041,0.30041,0.30041,0.30041,0.30041,0.30041,0.30041,0.30041,0.30041,0.30041,0.30041,0.30041,-0.13407,0.1239,0.07736,0.29981,0.26583,0.28009,-0.30553,0.30041,0.30041,0.30041,0.30041,0.30041,0.30041,0.30041,0.30041,0.30041,0.30041,0.30041,0.30041,0.30041,0.38028,0.30041,0.30041,0.30041,0.30041,0.30041,0.30041,0.30041,0.30041,0.2315,0.39466,0.2315,0.2315,0.2315,0.2315,0.2315,0.2315,0.2315,0.2315,0.2315,0.2315,0.2315,0.2315,0.2315,0.2315,0.2315,-0.17158,-0.11521,0.30823,0.09155,0.2315,0.2315,0.2315,0.2315,0.2315,0.2315,-0.12029,-0.3405,0.09948,-0.1623,0.39423,0.2315,0.2315,-0.00367,0.11042,0.11337,0.39997,0.18484,0.10081,-0.01936,0.10231,0.2315,0.2315,0.2315,0.2315,0.2315,0.2315,0.2315,0.2315,0.2315,0.2315,0.2315,0.03988,0.07557,0.1239,0.35265,0.32521,0.35157,0.1228,0.32519,0.35391,0.36896,0.35316,0.39967,-0.0658,0.11537,0.34403,0.3664,-0.13051,-0.12423,-0.11521,-0.11521,-0.0379,0.34576,0.36759,0.35207,0.09913,-0.39997,0.04873,-0.31675,-0.11211,0.1239,0.0993,0.02561,-0.12818,-0.12142,0.09695,-0.12962,-0.11746,0.22467,0.1239,-0.11521,-0.11521,0.11913,0.08604,-0.25102,-0.12997,0.18069,0.37808,-0.13079,-0.2901,0.09148,0.1029,-0.06308,0.16574,0.39968,0.08282,-0.17914,0.13349,-0.27572,-0.12953,0.32672,0.30883,0.30968,0.28931,0.23821,0.23699,-0.14768,0.1239,-0.1301,-0.14398,0.39283,0.1239,0.38041,0.2315,0.2315,0.04606,0.10508,0.1239,0.38878,0.37564,0.3059,0.35376,0.35195,-0.09483,-0.11521,-0.1565,-0.16106,0.14683,0.15785,0.27908,0.28481,0.12985,0.36295,0.30317,-0.07669,-0.11521,-0.11521,0.31326,0.32415,0.13328,-0.11521,-0.03083,-0.14333,-0.03416,0.2315,0.2315,0.2315,-0.05715,-0.31991,-0.10185,-0.11521,0.39997,0.39997,0.39997,0.39997,0.39997,0.39997,0.39997,0.39997,0.39997,0.39997,0.39997,0.36236,0.30558,0.31799,0.23374,0.24092,-0.00806,0.1239,-0.11521,0.05188,-0.11521,0.10671,0.1239,0.39975,0.31234,0.33029,0.32667,-0.37518,-0.01537,-0.12867,0.39997,0.39997,0.39997,-0.23922,0.24348,0.25531,0.25317,0.25468,0.27171,0.39997,0.39997,0.39997,0.39997,0.39997,0.39997,0.39997,0.39997,0.39997,0.39997,0.39997,0.39997,0.39997,0.39997,0.37879,-0.11521,-0.31071,0.29739,-0.2876,0.11066,0.10061,-0.13782,0.3935,0.34473,0.34,0.01879,0.11329,0.12215,-0.11521,-0.26515,0.11552,0.30041,0.30041,0.30041,0.30041,0.30041,0.30041,0.30041,0.30041,-0.38887,-0.11431,0.39418,-0.12912,0.17969,0.24669,0.28728,-0.13833,0.30041,0.30041,0.30041,0.30041,-0.33391,0.23783,0.27331,0.07025,-0.05863,0.39666,-0.17979,-0.11521,-0.39965,-0.19422,0.10366,0.2315,0.2315,0.10677,0.03087,0.28809,0.09556,-0.3492,0.1239,0.1239,0.2315,0.22641,0.2315,0.34889,0.37092,0.34928,0.28281,0.00166,-0.39997,-0.16642,0.09679,-0.136,-0.00393,-0.14357,0.0527,0.2455,0.23352,0.24378,-0.04307,0.10223,-0.02046,-0.28542,0.25398,0.29523,0.28684,0.32409,0.34397,0.3542,0.11816,-0.11521,-0.11521,0.12139,-0.28875,0.09964,0.1239,0.24868,0.24509,0.25726,0.06735,0.11545,0.09381,0.11095,-0.14398,0.37684,0.1239,0.1181,0.30041,0.06018,0.10654,-0.04971,0.20851,0.2474,0.26422,0.2315,0.19347,0.14529,0.12094,0.1239,0.1239,0.17093,0.2315,0.2315,0.2315,0.11188,0.0153,-0.25484,-0.06435,0.38774,0.30041,0.39997,0.39997,0.39997,0.39997,0.39997,0.1239,0.11369,0.06494,-0.11717,0.2315,0.25308,0.23838,-0.25148,0.1239,0.04408,-0.11671,-0.1156,0.09843,-0.37857,0.11618,0.33922,0.37962,-0.14644,0.29393,0.27853,0.27946,0.29245,0.29899,-0.13789,-0.14099,0.10976,0.2315,0.2315,0.2315,0.2315,0.2315,0.2315,0.2315,0.2315,0.2315,0.2315,0.2315,0.2315,0.2315,0.2315,0.14154,0.27082,0.27819,-0.11521,0.39997,0.39997,0.39997,0.39997,0.39997,0.39997,0.39997,0.39997,0.39997,0.39997,0.39997,0.11384,0.23348,0.26291,0.28465,-0.30879,-0.33926,-0.14263,0.2315,0.2315,0.2315,0.2315,-0.11521,-0.12339,0.38124,-0.12718,0.1137,0.35168,0.32424,0.30812,0.31189,0.33227,-0.12157,0.37857,0.30041,0.30041,0.30041,0.30041,0.30041,0.30041,0.30041,0.30041,0.30041,0.30041,0.30041,-0.00971,0.10004,0.30041,0.30041,0.30041,0.30041,0.30041,0.30041,0.30041,0.30041,0.30041,-0.36915,-0.23925,0.39975,0.10769,0.1585,0.24267,0.25209,-0.05961,-0.1369,0.2315,0.2315,0.2315,0.2315,0.2315,0.2315,0.2315,0.2315,0.2315,0.2315,-0.13289,-0.14128,0.35832,0.36022,0.35031,0.24153,0.26356,0.38048,0.30041,0.30041,0.30041,0.30041,0.30041,0.30041,0.30041,0.30041,0.30041,0.30041,0.30041,0.30041,0.30041,0.30041,-0.08426,0.18806,-0.30605,-0.13147,-0.11737,-0.38349,0.08393,-0.11521,-0.11521,-0.26795,0.09982,0.39192,-0.13866,0.29279,0.29782,0.26512,-0.1233,0.39342,0.30041,0.30041,0.37905,0.29748,0.28877,0.2596,0.39997,0.39997,0.39997,0.39997,0.39997,0.39997,0.39997,0.39997,0.39997,0.39997,0.39997,0.39997,-0.38896,-0.12147,-0.12979,0.1239,-0.11521,0.39054,-0.11521,0.11343,0.39997,0.39997,0.39997,0.39997,0.39997,0.39997,0.18239,-0.11521,0.05889,-0.18302,-0.06417,0.09433,0.23853,0.29246,0.24892,-0.06753,-0.14091,-0.36945,0.39634,0.1742,0.23142,0.1239,-0.07204,0.2315,-0.12768,-0.14173,-0.13447,0.12104,0.1239,0.1239,0.30041,0.30041,0.30041,0.30041,0.38938,-0.37226,0.1239,0.05583,0.39807,0.17396,0.39553,0.2315,0.2315,0.2315,0.2315,0.2315,0.2315,0.2315,0.2315,0.2315,0.2315,0.2315,0.2315,0.2315,0.2315,-0.21452,0.17971,0.30041,0.30041,0.30041,0.30041,0.30041,0.30041,0.30041,0.30041,0.30041,0.30041,0.30041,0.30041,0.30041,0.30041,0.30041,-0.11521,0.36371,0.36724,0.36783,0.27089,0.25297,0.2361,-0.10806,0.18331,-0.33816,0.05527,0.26835,0.28141,0.28405,-0.1361,-0.1675,-0.12873,-0.13905,0.30002,0.24647,0.2696,0.34175,0.36204,-0.06425,-0.13616,-0.39997,0.18302,0.15659,0.32774,0.32422,0.1239,0.1239,-0.1748,-0.12238,0.26518,0.25724,0.23318,-0.21124,0.37236,0.34181,0.34926,-0.11539,-0.14067,-0.32828,0.11301,0.1239,-0.11521,-0.03536,0.2315,0.2315,0.2315,0.2315,0.2315,-0.24911,0.09686,0.39997,-0.38337,0.31917,0.36878,0.39997,0.39997,0.39997,0.39997,0.39997,0.39997,0.39997,0.39997,0.39997,0.2315,0.37822,-0.34963,-0.12982,0.31615,0.31099,0.30922,-0.02564,0.2315,0.2315,0.2315,0.2315,0.2315,0.2315,0.2315,0.2315,0.2315,-0.12993,-0.03217,-0.31724,-0.27338,0.11972,0.2315,0.2315,0.2315,0.2315,0.2315,0.2315,0.2315,0.2315,0.2315,0.2315,0.2315,0.2315,0.2315,0.2315,0.39432,0.1239,-0.37729,-0.04246,0.39221,-0.14413,0.2315,-0.25866,-0.14655,0.11472,0.12054,0.1239,-0.13768,0.37858,-0.12583,0.1239,0.1239,0.30041,0.30041,0.30041,0.30041,-0.12621,0.24351,0.28932,0.18522,0.39711,-0.12152,-0.11521,0.11633,0.30041,0.30041,0.30041,0.149,0.39997,0.39997,0.39997,0.39997,0.39997,0.39997,0.39997,0.39997,-0.38325,0.35724,0.31957,-0.08156,-0.29281,0.30041,0.30041,0.30041,0.30041,0.30041,0.30041,0.30041,0.30041,0.30041,0.30041,0.30041,0.30041,0.30041,0.30041,-0.04178,-0.1446,-0.0192,0.22585,0.37522,0.266,0.2441,0.26309,0.15918,-0.13498,0.11153,0.11731,0.39769,0.09575,0.35066,0.3554,0.37362,0.38379,-0.18498,-0.13023,0.09631,0.2315,0.2315,0.2315,0.2315,0.2315,0.2315,0.2315,0.2315,0.2315,0.2315,0.2315,0.2315,0.2315,0.30041,0.30041,0.30041,0.30041,0.30041,0.30041,0.30041,0.30041,0.30041,0.30041,-0.13243,-0.30762,-0.37247,0.29274,0.29997,0.24434,-0.04758,0.09765,-0.29883,-0.36635,-0.13296,0.2315,0.29246,0.23717,0.11705,-0.13005,0.36339,0.3592,0.35926,-0.32601,0.2315,0.2315,0.2315,0.2315,0.2315,0.2315,0.2315,0.2315,0.2315,0.2315,0.2315,0.2315,0.2315,0.39231,0.28388,-0.26205,0.1084,0.09266,-0.14649,-0.1226,-0.12807,0.30497,0.33902,0.27866,0.24418,-0.04933,-0.14088,-0.11521,-0.11521,-0.11521,-0.11521,0.1239,0.12461,0.38081,0.10347,0.01714,0.1205,-0.07129,-0.14554,0.28122,0.11351,0.1239,0.1239,0.38736,-0.2372,0.2315,-0.1278,0.17297,-0.14161,0.39204,-0.25428,0.12374,0.0531,0.26162,0.29877,0.1239,0.1239,0.2315,0.2315,0.2315,0.16518,0.35357,0.31171,-0.12092,-0.11521,0.23856,0.26785,0.23458,-0.12804,0.39942,0.23602,0.25415,0.39516,0.11659,-0.02238,-0.12522,0.39005,-0.27936,0.30118,0.30517,0.3326,-0.13034,0.17761,0.09701,-0.11521,0.12293,-0.12473,-0.11521,-0.11521,0.2274,-0.20216,0.0945,-0.11521,-0.14518,-0.13952,-0.32704,0.30041,0.30041,0.30041,0.30041,0.30041,0.30041,0.30041,0.30041,0.30041,0.30041,-0.119,0.22095,-0.04341,-0.14195,-0.11521,0.10515,0.29697,0.39997,0.39997,-0.35251,-0.11521,-0.32946,0.09513,-0.13799,0.14591,0.30041,0.30041,0.30041,0.30041,0.30041,0.30041,0.30041,0.30041,0.30041,0.30041,0.30041,0.30041,0.30041,0.30041,0.30041,0.30041,-0.06661,0.09515,0.1239,0.1239,-0.37683,-0.1277,-0.03707,-0.17757,0.13096,-0.14065,-0.11521,-0.11987,0.34642,0.36179,0.35624,-0.30514,0.2315,-0.11521,-0.11521,0.2045,0.39997,0.39997,0.39997,0.39997,0.39997,0.39997,-0.21093,0.28625,0.27919,0.23222,0.2443,0.25106,0.29123,0.07652,-0.31115,-0.27067,0.2315,0.11803,0.23761,0.24687,0.2805,-0.136,0.2315,0.2315,0.2315,0.2315,0.2315,0.2315,0.07388,-0.38602,-0.13867,-0.1414,0.1239,0.11786,-0.11521,0.22351,-0.11521,0.03952,0.39094,0.39997,0.11803,0.10006,-0.11534,0.39997,0.39997,0.39997,0.39997,0.39997,0.39997,0.39997,0.39997,0.39997,0.39997,0.2057,0.22207,0.307,0.33379,0.31886,-0.11521,-0.11521,0.25323,0.27968,-0.3601,-0.19061,0.12361,0.24178,0.23451,0.24259,0.24066,0.25544,0.24369,-0.20649,-0.14699,0.38778,0.39997,0.39997,0.39997,0.39997,0.39997,0.39997,0.39997,0.39997,0.39997,0.39997,0.39997,0.39997,0.39997,0.39997,0.39997,0.39997,0.39997,0.39997,0.39997,0.39997,0.39997,-0.31933,0.09245,0.10431,-0.13042,-0.11521,0.11342,0.1126,-0.05978,-0.12624,-0.11521,-0.11521,-0.11521,0.2315,0.2315,0.2315,0.2315,-0.2592,0.39997,0.39997,0.39997,0.39997,0.39997,0.39997,0.39997,0.30041,0.30041,0.30041,0.30041,0.30041,0.30041,0.30041,0.30041,0.30041,0.30041,0.09728,-0.13686,-0.14667,0.09829,0.0977,-0.1396,-0.30087,0.39997,0.39997,0.39997,-0.26886,0.04603,0.10597,-0.36578,0.30041,0.30041,0.30041,0.32731,0.2315,0.2315,0.2315,0.2315,0.09816,0.30041,0.30041,0.30041,0.30041,0.30041,0.30041,0.30041,0.30041,0.30041,0.30041,0.30041,0.30041,0.30041,0.30041,0.30041,-0.16335,-0.08774,0.13018,0.30041,0.30041,0.30041,0.30041,0.30041,0.30041,0.30041,0.30041,0.30041,0.30041,0.30041,0.1118,0.26819,0.1557,0.05226,0.30041,0.30041,0.30041,0.30041,0.30041,0.30041,0.30041,0.30041,0.30041,0.30041,0.30041,0.30041,0.30041,0.30041,0.11864,0.0502,0.2315,0.2315,0.2315,0.2315,-0.14027,0.09052,0.33546,0.33141,0.30305,0.13964,0.12144,-0.1271,-0.35051,-0.05008,0.30041,0.30041,0.30041,0.30041,0.30041,0.30041,0.30041,0.30041,0.30041,0.30041,0.30041,0.30041,0.30041,0.30041,-0.11521,-0.11521,-0.01917,-0.12168,0.19348,0.08644,-0.11521,0.37635,0.2315,0.09329,0.32485,0.33081,0.24985,0.24012,0.23415,0.1239,-0.29648,-0.11521,-0.21316,0.09717,-0.09481,-0.01216,0.30041,0.1239,0.39997,0.39997,0.10441,-0.124],\"z\":[0.18355,0.13204,-0.12512,-0.17747,0.15869,0.12816,0.15443,0.11356,-0.12587,-0.13899,-0.15553,0.09184,-0.1722,-0.18591,-0.16838,-0.05933,-0.02255,0.01878,0.0286,-0.03568,0.07661,-0.02559,0.01291,-0.13501,0.06184,-0.10807,0.07787,-0.00706,-0.13441,0.12703,0.01175,-0.1513,-0.14016,-0.16454,-0.10643,0.13294,0.11397,-0.1069,-0.11356,0.13704,0.03908,-0.15428,0.19022,0.03183,0.03501,-0.03692,-0.20794,-0.20495,-0.20457,-0.08512,0.11702,-0.06673,0.13943,-0.1259,-0.13113,-0.13433,0.00425,0.09354,0.14857,0.13325,-0.15868,0.08927,-0.11407,-0.13771,-0.14357,-0.15212,-0.14437,-0.15428,-0.1203,-0.0106,0.02988,0.03576,0.13358,-0.1207,0.13181,0.09501,0.00775,0.13513,0.14421,-0.11942,-0.06788,0.11403,0.01897,0.07953,-0.01596,-0.03216,-0.05634,-0.04501,0.04669,0.00383,-0.12315,0.19015,0.18491,0.13934,0.16159,0.17756,-0.00823,0.13252,0.19256,0.13113,-0.12005,-0.10178,-0.16346,-0.05313,-0.13661,-0.09613,0.13877,-0.10041,0.16134,0.17584,0.15839,-0.09902,0.03342,0.03994,0.03177,0.11578,0.01919,-0.12919,0.18241,0.12647,-0.11746,-0.05496,-0.05082,-0.07354,0.042,0.11787,0.01908,0.03439,-0.15383,0.05577,-0.11543,0.07869,0.02218,-0.12397,0.07365,-0.03754,-0.11956,-0.18431,-0.13931,0.11663,0.15482,-0.17998,-0.18411,0.09306,0.13908,0.12636,0.12277,-0.19344,0.17312,-0.08518,-0.11336,-0.15106,0.09394,0.13944,-0.11484,-0.09493,-0.05305,-0.08197,-0.07832,0.12152,0.02608,0.02467,0.02927,-0.15148,0.04275,-0.19731,-0.18151,-0.1861,-0.13475,0.12076,0.01555,0.02077,0.02109,0.11446,0.1865,-0.12175,0.00396,0.03823,0.05717,0.05955,-0.12704,-0.13631,0.18849,0.18441,-0.11574,0.15428,0.13186,0.15272,0.11126,-0.02362,0.15636,0.00573,0.06397,0.00944,-0.0838,-0.09298,-0.11721,-0.10221,-0.12198,-0.11821,0.13617,0.13943,0.13467,-0.19657,-0.02653,-0.12747,-0.00069,-0.09075,-0.02462,-0.0241,-0.00718,0.13689,0.08152,0.07095,0.1035,0.1209,0.03176,-0.03979,0.0231,0.11658,-0.12369,0.19798,0.20404,0.19291,0.0371,0.06103,-0.06219,-0.1716,-0.20307,0.09867,0.03934,0.04767,-0.08904,-0.20478,-0.17045,-0.09478,-0.08252,-0.06513,-0.10197,-0.08651,-0.14014,-0.13346,0.15989,0.1537,0.17025,0.08168,-0.05053,0.0054,-0.17574,-0.17761,-0.16716,0.10314,0.11428,0.13506,0.11401,0.16782,-0.08096,-0.11686,0.11522,0.08881,-0.10599,0.13827,0.15578,-0.04493,0.02799,0.00109,-0.09635,-0.09245,0.12566,-0.11519,-0.06124,0.12718,-0.11712,0.12875,-0.03979,-0.00218,0.03192,-0.00734,0.07951,0.08671,-0.00202,0.13499,0.1141,-0.04249,-0.16537,0.00761,0.05325,0.1591,0.05943,0.09503,0.17739,0.06808,0.12692,-0.14279,0.18798,0.20372,0.04029,0.07377,0.14552,0.00795,-0.12819,0.01927,0.11737,0.08044,0.08107,-0.00961,-0.08086,-0.01748,-0.10615,-0.11282,0.11307,-0.15898,-0.15846,-0.13278,0.11768,-0.13274,0.12585,0.06069,-0.1569,-0.14561,0.01514,0.00803,0.13328,-0.0957,0.11581,-0.13925,-0.07266,-0.07275,-0.07787,-0.11922,0.15804,-0.16284,-0.15003,-0.13661,-0.13954,-0.20119,-0.11389,-0.11308,0.14925,-0.15254,-0.1387,-0.13706,-0.08002,0.07912,0.08642,0.07065,0.11551,-0.12145,-0.13808,-0.1123,-0.09442,-0.10424,-0.09891,0.018,-0.03952,0.11313,-0.17471,0.04928,0.13111,0.15306,0.14252,-0.04807,-0.11622,0.06997,0.01047,-0.07108,0.07878,-0.15539,-0.18027,0.01858,0.12377,-0.03862,-0.0845,0.18462,0.18267,0.18945,0.12159,0.16836,-0.15259,-0.15654,-0.20954,-0.20941,-0.20914,0.06139,0.02772,0.05666,0.0121,-0.1496,-0.0162,-0.02742,-0.1249,0.08377,0.07716,0.0943,0.07819,-0.10168,0.07747,-0.08004,-0.02435,0.09201,0.0207,0.14093,0.02645,0.10148,0.02164,0.15209,0.16772,0.11935,-0.12669,-0.17329,-0.20705,0.0921,0.09905,0.117,-0.00495,-0.03296,0.00766,0.05232,-0.11586,0.12093,0.15304,0.16667,0.15833,-0.13913,0.20024,0.19497,0.18189,-0.15758,-0.10297,0.13166,0.20969,0.2113,0.20892,-0.14857,-0.13763,0.1309,-0.16199,-0.18072,-0.16054,-0.17057,-0.08319,-0.11084,-0.20928,-0.21213,0.11678,-0.0075,0.00885,0.14255,0.15001,0.10916,0.20763,0.20724,-0.13882,0.11176,-0.14032,-0.13296,-0.10788,0.07195,0.1382,-0.11367,-0.15619,0.13719,0.12605,0.13791,-0.1904,0.09302,-0.15969,-0.12514,0.11439,-0.09572,0.06455,0.12672,-0.12467,-0.11069,0.13114,-0.13049,0.12348,0.07374,-0.03211,-0.03921,-0.1315,-0.09992,-0.12782,0.1889,0.13417,-0.18313,-0.13927,-0.14484,-0.11811,0.13805,0.16264,0.17003,-0.13125,0.13757,-0.12411,0.12685,0.07337,0.11294,0.04406,0.02211,0.10778,0.13795,-0.11908,0.1075,-0.15237,0.20274,0.20586,-0.14923,-0.17217,-0.17214,-0.06454,0.06261,0.19665,0.17445,-0.07569,0.00767,0.05953,-0.03207,0.14935,0.17068,0.03271,0.1258,0.07556,0.16085,0.10161,-0.11284,0.00854,-0.13494,-0.12088,-0.11347,0.11391,0.11815,0.07686,-0.02142,0.03181,0.17997,0.00495,-0.04106,0.1821,0.19664,-0.09105,0.10062,0.11099,0.11636,0.15098,0.17841,0.11415,0.12419,-0.11325,-0.01839,0.04999,-0.17156,0.00852,0.02077,0.09978,-0.01677,-0.17819,0.13498,0.18036,-0.15982,0.09044,-0.17675,-0.19636,-0.17504,-0.11671,0.14026,0.00996,-0.11524,0.207,0.20029,0.19478,0.1077,-0.081,-0.06214,-0.12537,-0.21038,-0.21099,-0.21208,-0.0116,0.16296,0.09049,0.13796,-0.10214,0.1156,0.03844,-0.00651,-0.18201,-0.06334,-0.025,0.02724,0.1337,0.14573,-0.04806,0.17561,0.11327,0.16534,0.1479,0.16599,-0.12135,-0.11404,0.13906,0.13332,0.1135,-0.0226,-0.15802,0.01841,-0.13698,-0.16919,-0.16741,0.0078,0.12442,0.14653,0.15733,0.11423,0.16788,0.13771,0.14672,0.00585,-0.12279,-0.09387,0.1481,-0.02357,0.07676,-0.14823,-0.06442,-0.19657,-0.18938,-0.13991,0.01031,-0.12597,0.02369,0.17537,-0.1225,-0.0163,0.18973,0.01862,0.18133,-0.10085,-0.04299,-0.11819,0.12133,-0.1921,-0.00426,0.0025,0.01839,0.11569,0.1213,0.11597,-0.13811,0.02609,-0.10841,-0.14242,0.07866,-0.1168,-0.03904,-0.01728,-0.09816,0.15418,0.08763,0.16733,0.13851,-0.13013,-0.06071,-0.1872,-0.19257,-0.1131,-0.18254,-0.13237,0.11697,0.11922,0.09492,0.07869,0.12683,0.11408,0.02563,0.1877,0.17844,-0.18446,-0.13704,-0.18726,-0.18979,-0.18251,0.17814,0.0941,0.11669,-0.0408,0.13565,-0.13205,-0.1135,-0.18276,-0.19215,-0.18745,0.13638,0.14851,0.19571,0.13715,-0.13809,0.05138,0.04191,-0.08631,0.12296,-0.13544,0.15587,0.15168,-0.12417,-0.11141,0.02635,-0.02422,0.03344,-0.03616,-0.12467,-0.11321,0.09879,-0.13177,-0.1374,0.07371,0.11313,0.09694,0.11644,0.11202,-0.14863,-0.16721,-0.1207,-0.11851,0.12275,-0.07633,0.13126,-0.11283,0.06466,-0.02201,-0.15233,-0.02418,-0.02006,-0.16655,-0.07972,-0.14668,-0.11635,-0.05574,0.15583,-0.06399,0.0233,0.11306,0.11134,0.12877,0.11932,-0.12587,0.05037,0.04339,0.05986,-0.15304,-0.16923,-0.1166,0.13661,0.17215,-0.18475,-0.18073,0.21091,-0.1391,0.15921,-0.19663,0.12804,0.18372,0.13914,-0.07871,-0.09049,-0.0158,-0.01263,0.00354,-0.05914,-0.00196,-0.05717,-0.07894,0.13925,-0.07033,0.01904,-0.07353,-0.11348,-0.11091,-0.06819,0.15892,0.13652,-0.16053,0.15308,0.17983,0.17662,0.17937,0.19723,0.11811,-0.15359,-0.11985,-0.16801,-0.13917,-0.02978,-0.06179,-0.04646,0.13138,-0.01387,0.01365,-0.03047,0.11345,0.06508,0.14332,-0.05396,-0.12165,0.11995,0.19903,0.13919,-0.11738,-0.20915,-0.21147,-0.18597,-0.12129,-0.06346,0.02577,-0.06043,-0.00829,0.09309,-0.10672,0.09611,-0.07124,0.07211,-0.16264,-0.08802,0.11438,0.12207,-0.01945,-0.02808,-0.13777,0.20762,-0.15641,0.03247,-0.12543,-0.13913,0.17205,0.11386,-0.01913,-0.03217,0.18804,0.18502,0.09673,0.18267,0.16888,-0.13831,0.1582,0.0823,-0.13899,-0.00998,0.13477,-0.19682,-0.18313,0.21216,0.20928,0.21194,0.12864,-0.14642,0.1345,0.12803,0.09932,-0.13624,0.13911,0.07542,0.12393,0.09949,-0.10584,-0.00452,0.0202,0.02901,0.20742,0.20714,0.19985,-0.13731,-0.05769,-0.06743,0.13639,0.1829,0.18523,0.16875,-0.07412,-0.06965,-0.06899,0.12942,0.1593,-0.1608,-0.0771,-0.08281,-0.15733,0.05161,-0.05618,-0.01292,-0.12213,-0.13241,0.05932,-0.1383,0.10345,-0.11378,-0.11565,0.14686,0.1061,0.07528,0.1083,0.13194,0.19454,0.19986,0.20355,-0.15393,0.18134,-0.04099,-0.12097,0.13444,0.11329,-0.12992,-0.21139,-0.20933,-0.21121,0.20396,0.20128,-0.03356,-0.13168,-0.11693,-0.0147,0.13293,0.0059,-0.06005,0.06879,-0.04726,0.14355,0.12698,-0.07197,0.13189,0.12796,0.08122,0.10384,-0.15728,0.05631,-0.02806,0.041,0.00694,-0.1131,0.12293,-0.11775,0.01896,0.04073,0.13911,-0.20539,-0.20609,-0.13104,0.10771,0.1261,0.14501,-0.14478,-0.14706,-0.14653,0.06612,0.13004,0.12165,0.14956,-0.12154,0.01352,-0.15809,0.1757,0.13359,0.11581,-0.15898,-0.04088,-0.0506,0.02682,0.12363,-0.07958,0.00455,0.00306,-0.17114,-0.10403,0.08895,-0.13341,-0.14717,-0.06131,0.08849,-0.06263,0.09425,0.06394,0.13098,-0.13631,-0.20503,0.15443,0.07615,0.0862,0.01298,0.0404,0.10799,0.03726,-0.08244,0.13093,0.11161,0.10337,-0.10259,-0.09034,-0.03465,0.02381,0.12992,0.00332,0.11624,0.12784,-0.07306,-0.0317,0.10837,0.09107,0.09271,0.0773,0.10351,0.06076,-0.12076,0.13541,-0.14492,0.08716,0.21188,0.21067,0.2063,-0.12876,0.14422,-0.11903,0.12545,0.13791,-0.11298,-0.14997,0.14641,0.1636,0.13821,-0.05599,-0.05053,-0.06499,0.11383,0.10976,0.1014,0.1135,0.21001,0.20903,0.21039,0.12232,0.11753,-0.13751,0.0029,0.13967,-0.04774,-0.14276,-0.12776,0.04715,0.02843,-0.04267,0.169,-0.10598,0.04484,0.06302,0.05576,0.08725,-0.07519,0.15144,0.20137,0.11145,0.15909,0.1235,-0.13784,-0.10089,-0.17502,-0.06628,-0.00533,0.15355,0.15524,-0.13236,0.11363,0.21067,0.21183,0.19098,0.19528,0.19491,0.0505,0.16625,-0.0892,0.10644,0.11405,0.17409,0.15704,-0.00203,-0.03518,0.03832,-0.13786,0.13942,-0.15148,-0.14644,-0.1548,0.13763,-0.13893,-0.13094,-0.11733,0.11197,-0.01029,0.20664,0.20657,0.20523,0.08902,-0.1571,-0.15284,0.13725,0.16046,-0.08903,0.16155,0.02983,0.16848,-0.14247,0.18226,0.17603,0.04815,0.15586,0.04176,0.08616,0.13529,-0.13273,0.2055,0.20762,0.13039,0.00268,0.18898,-0.17481,0.0952,0.12843,-0.13909,0.11571,0.1133,0.17666,0.0522,-0.05104,-0.13464,0.18329,0.19814,0.12093,-0.12167,0.13225,-0.00073,0.0163,-0.09928,0.02295,-0.01719,0.15948,0.12226,0.04784,-0.10983,-0.05535,0.13655,0.01342,0.02886,0.09588,-0.07792,-0.083,0.14837,-0.04604,0.02225,-0.08862,-0.09445,-0.01612,0.15329,-0.11317,-0.13375,0.05443,0.17631,-0.12126,-0.05828,0.17416,0.01524,0.15794,0.0773,0.07312,0.06928,0.13748,-0.20728,-0.20243,-0.20875,0.1777,0.18757,-0.20302,-0.2054,-0.21166,0.12958,-0.00748,0.00713,0.13832,0.12732,-0.13233,0.01664,0.03127,0.05306,-0.00646,-0.11074,-0.08943,-0.17604,-0.15643,-0.15523,0.12215,0.1708,0.16077,0.13556,-0.14738,-0.14153,-0.12183,-0.11292,-0.12646,0.00975,0.04105,0.11896,0.16415,-0.12544,-0.13611,-0.20416,-0.19708,-0.20228,-0.14547,-0.11309,-0.1392,0.01616,0.02932,0.10035,0.08104,-0.11843,0.14035,0.01757,-0.1178,-0.13549,0.13914,-0.13763,0.13753,0.11616,0.12544,-0.13167,0.1393,0.1197,-0.14897,0.09619,0.14998,0.00874,0.15207,0.0954,-0.05977,-0.07357,-0.01371,0.03109,0.04537,-0.13462,0.11059,-0.18901,0.1521,0.15348,0.13106,0.12798,0.1582,-0.10969,-0.00555,0.10825,0.11241,-0.07408,0.08649,-0.03863,0.02522,0.07158,0.11929,-0.19247,0.11761,-0.11883,0.11866,-0.12332,-0.13823,-0.16795,-0.10656,-0.07664,0.17242,-0.11429,0.09888,-0.04082,0.07254,-0.17831,-0.1643,0.00435,0.08765,-0.02263,0.10051,0.11568,-0.02304,-0.18426,-0.18747,-0.15207,-0.17712,-0.09384,-0.11336,-0.16976,0.10213,0.13867,0.04442,0.00024,-0.08578,-0.13446,0.13921,0.07575,0.13937,-0.1786,-0.13867,-0.1386,-0.13764,-0.18893,-0.11655,0.12198,0.17404,0.17261,0.11365,0.02194,0.05273,0.09986,0.01475,-0.0633,0.14459,-0.05549,0.02708,0.05679,-0.12448,-0.00892,0.11401,0.1793,0.1849,0.1647,-0.12832,0.13528,-0.04134,0.08923,-0.12031,0.11561,0.13401,-0.03966,-0.01705,-0.02526,0.07487,0.11505,-0.12759,-0.13923,-0.13585,-0.11299,-0.05672,-0.1181,-0.08074,-0.0869,0.18696,0.1562,0.15812,-0.13595,0.13659,0.15052,-0.03197,-0.01112,-0.13849,-0.0909,0.09232,0.13095,-0.1131,-0.13888,0.07136,0.02397,0.06643,0.06152,0.07337,0.0853,-0.13432,-0.13203,-0.12118,0.18915,-0.12318,-0.19497,0.20999,0.14718,-0.15143,-0.174,-0.16684,0.13486,0.08128,0.15888,-0.08018,-0.10807,-0.12505,0.21173,0.2104,-0.17354,-0.04009,0.00285,-0.00884,-0.15039,-0.13737,-0.14511,-0.19245,-0.19479,-0.19376,0.04792,-0.11408,-0.05961,-0.03661,-0.03226,-0.00013,-0.16635,-0.16747,-0.16565,0.13683,-0.11759,-0.14706,-0.11471,-0.12846,0.08309,-0.13292,-0.11895,-0.15891,-0.11389,0.06519,-0.19445,-0.1937,0.17975,0.17359,-0.13756,0.16557,0.1147,0.11391,-0.15764,0.078,0.0594,-0.03959,0.19184,0.03879,0.11618,0.11036,-0.08767,0.16326,0.19817,-0.01167,0.07932,-0.01339,0.09878,0.11986,-0.05219,-0.16382,0.12924,-0.16711,-0.18879,-0.1824,0.1132,0.07161,0.11507,-0.02797,0.08507,0.10742,0.20083,0.04367,0.11947,0.03239,0.17021,0.16217,-0.03008,0.0927,-0.20909,0.06433,0.12862,0.13415,-0.03211,0.11086,0.11865,0.02602,0.16284,0.15522,-0.0134,-0.13188,-0.01795,-0.16088,-0.08116,-0.1807,-0.05845,0.08524,-0.1443,0.09617,-0.04772,-0.03818,-0.00323,0.11108,0.09346,-0.1807,-0.1269,0.16065,-0.01079,0.13791,0.00736,0.07113,-0.004,0.03572,-0.01526,0.02743,0.07992,-0.1334,0.1524,-0.11435,0.19382,0.01744,0.17115,0.13719,-0.19763,-0.10858,0.058,0.11349,0.11996,0.13917,0.15677,-0.11915,0.06678,0.03948,-0.01042,-0.03023,-0.08028,0.11355,-0.19634,-0.05622,-0.03276,0.02921,-0.11337,-0.12833,0.15791,-0.12752,-0.12674,-0.14591,0.08924,0.0836,0.09267,0.07163,-0.18659,-0.15548,0.11335,-0.15917,-0.2111,-0.21121,-0.19755,-0.19606,-0.03632,-0.07065,-0.1301,-0.13804,-0.10578,-0.12804,-0.04232,0.11968,0.13932,-0.1383,0.12445,0.09738,0.19737,-0.139,0.06956,0.12998,-0.18938,0.04553,-0.11107,-0.12651,-0.17389,-0.01308,-0.01885,-0.19761,-0.13844,-0.12999,-0.09386,0.12322,-0.16765,0.04544,0.13646,0.12759,0.12016,-0.12046,-0.11352,0.10462,0.13775,-0.13743,0.11364,-0.12467,-0.17933,-0.21015,-0.21159,-0.2079,-0.21042,-0.20665,-0.20525,-0.13141,0.03763,0.12718,-0.00279,0.1971,0.14543,0.20192,0.10803,0.0923,-0.13701,-0.08028,-0.15404,-0.17688,0.15981,-0.2025,-0.21089,-0.20933,-0.13784,0.09819,0.11336,0.13304,0.13224,0.11368,0.14587,0.14587,-0.11478,0.21142,0.21086,0.13303,-0.06231,-0.08328,-0.00785,-0.0135,-0.13612,0.12727,0.11994,0.17688,0.11531,-0.01242,0.00217,0.02414,-0.11287,-0.13742,0.12396,-0.19442,0.14802,-0.1801,-0.00077,0.01128,-0.06267,0.06679,-0.01918,0.10797,0.14779,0.08593,0.13109,-0.09685,-0.1031,-0.09743,-0.03967,-0.06831,0.12511,-0.03552,0.14422,0.11853,0.15693,-0.13542,-0.10804,0.06559,0.20926,0.20894,0.20866,0.11333,0.11818,-0.19756,0.07205,0.02325,-0.02093,0.13831,-0.17551,-0.172,-0.16518,-0.20798,-0.20887,-0.06169,-0.05614,0.08402,-0.07971,-0.0465,-0.14635,-0.07045,-0.16383,-0.05465,0.09196,-0.09692,-0.16484,-0.11928,-0.01496,0.0002,-0.19194,0.13363,0.06116,0.11553,0.10245,0.08147,0.16944,-0.01865,0.18221,0.17821,0.13655,-0.18985,-0.18954,0.14994,-0.129,-0.02847,-0.1409,-0.01244,-0.11467,-0.12663,-0.09597,0.03507,-0.09225,-0.17019,-0.11689,-0.13433,-0.08195,0.0733,0.12357,0.04154,0.04345,0.13331,-0.07798,-0.03198,-0.02361,-0.07395,0.1268,-0.13671,-0.1189,0.13797,-0.13574,-0.12568,-0.13464,-0.16761,0.13935,0.12984,-0.05381,0.19364,0.18207,-0.0684,-0.1279,0.17044,0.1385,-0.12008,0.03197,0.0978,0.08703,0.12606,-0.16865,-0.20047,-0.20254,-0.20457,0.17999,0.13806,0.12444,-0.1343,-0.00803,-0.15924,-0.13722,-0.09506,0.13786,-0.05782,-0.05566,-0.07024,-0.11288,0.0007,-0.11517,0.1395,-0.18611,-0.18698,-0.1693,-0.08933,-0.08276,-0.07688,-0.03167,0.06033,0.07345,-0.0067,-0.11508,-0.1869,-0.12811,0.10945,0.11732,0.11235,0.12547,-0.18788,-0.19522,0.18836,0.0462,0.20969,0.16736,0.13977,0.01715,-0.12791,0.15887,0.13731,-0.11558,0.05816,0.0456,0.07625,-0.11298,-0.11362,-0.11767,0.00809,-0.01559,0.13076,0.04979,-0.04239,0.06885,-0.13923,0.1388,-0.11669,-0.1312,0.0008,-0.02878,-0.10449,0.01771,0.00882,-0.07935,-0.01466,-0.1087,0.18579,0.11309,-0.03308,0.08914,0.20983,0.20561,-0.13904,0.18266,-0.12365,-0.10195,-0.06952,0.09087,0.11402,-0.09413,-0.06053,-0.06861,0.18939,-0.14157,-0.14042,-0.15209,-0.0827,-0.10669,-0.09477,-0.08885,0.19696,0.12027,-0.11278,-0.20364,-0.0109,-0.01222,-0.09042,-0.19509,-0.18538,0.01954,-0.12744,-0.20087,-0.05067,-0.04113,0.05255,0.13827,-0.03049,-0.02206,0.17653,0.03138,0.08055,0.103,0.10909,0.09814,0.00961,0.15769,0.08729,0.08535,0.16924,0.06439,-0.16845,0.10363,0.09407,0.10285,0.11592,0.11501,0.1675,0.09751,0.00623,0.04734,-0.13529,-0.09727,0.12408,-0.14852,-0.13558,0.03815,-0.19257,-0.19218,-0.18855,-0.18224,-0.19253,-0.19359,-0.11738,-0.01007,0.00688,-0.02275,0.08208,-0.12835,-0.06155,-0.10752,0.06563,-0.10924,-0.00663,-0.04259,0.11343,-0.1072,0.18683,0.15294,0.13886,0.14456,0.12629,0.17549,0.08476,0.09309,0.19607,-0.11349,-0.1268,0.18933,0.18992,-0.13063,-0.03894,-0.05835,0.12754,-0.19619,0.10556,0.16994,0.06829,0.11037,0.01737,-0.04414,0.10384,0.10819,0.05354,0.12037,-0.08949,-0.12083,-0.06717,-0.08692,-0.06252,0.18841,0.19486,-0.2036,-0.0411,-0.19195,0.0049,-0.00337,-0.1335,-0.14717,-0.01683,-0.19868,-0.14326,-0.07884,0.13443,-0.11283,-0.12492,-0.18691,0.13925,-0.1388,-0.11738,-0.01865,-0.04965,-0.1269,0.12301,0.18164,0.18811,-0.11371,0.19295,-0.15363,-0.02724,0.03828,-0.00055,0.03143,0.18563,0.12564,0.04883,0.06518,-0.20484,0.14185,0.1511,0.12166,-0.11426,-0.14976,0.00396,-0.01123,0.12998,0.178,0.01726,-0.0454,0.0378,0.10354,-0.09453,0.0504,-0.13692,-0.10541,-0.12279,0.10725,-0.16463,0.18794,-0.14078,-0.1034,0.12558,0.15118,0.04991,-0.00633,0.09463,-0.08704,0.13931,-0.10307,-0.1357,0.11979,-0.12399,-0.00799,0.19792,0.19229,0.19668,-0.12584,-0.11828,-0.11359,0.11729,-0.12301,0.11757,-0.03692,0.11466,0.16669,0.15645,0.12267,0.06986,-0.09651,-0.05209,-0.02851,0.07138,-0.02935,0.10692,0.09554,0.20188,-0.12396,0.1658,0.13781,0.01393,0.13844,-0.11226,-0.09481,0.05304,-0.10633,-0.18901,0.10118,0.03357,-0.15257,-0.01427,-0.20106,-0.20109,0.01206,-0.03775,-0.1342,0.01619,-0.11411,-0.12066,-0.01725,-0.06806,0.14869,-0.09594,-0.08271,-0.02866,-0.17837,-0.09205,-0.05954,-0.04998,-0.13227,-0.19125,0.00991,-0.12511,0.05541,0.15631,-0.03076,-0.02572,0.00951,-0.19458,-0.19449,-0.19249,-0.13761,-0.12219,-0.13799,0.1338,0.20397,0.20864,0.20497,0.05578,0.13069,-0.15696,0.14642,-0.20185,-0.20602,-0.19896,-0.12919,-0.15,-0.11415,0.09697,-0.1322,-0.13827,-0.13226,0.09862,0.1126,-0.19126,-0.18415,-0.11589,-0.11878,-0.20953,-0.21065,-0.2097,0.11474,0.03259,0.02888,0.02649,0.04859,0.00447,0.13186,0.13421,-0.17079,-0.14889,-0.11938,-0.00059,-0.11933,-0.11028,-0.09819,-0.11311,0.12729,0.1388,-0.01792,-0.11594,0.20159,0.20862,0.16571,0.04652,-0.02618,0.14672,0.11168,0.01587,0.06126,0.11237,0.13372,-0.09129,-0.03208,0.13924,-0.05611,0.19243,0.19861,0.18645,-0.13705,-0.12563,0.0125,-0.08134,-0.02208,0.1028,0.07881,-0.17862,-0.10182,-0.1509,0.09597,-0.11493,0.11316,-0.13927,-0.11322,-0.10526,-0.11587,-0.08171,0.06751,-0.12742,-0.10973,-0.05353,-0.15672,-0.08243,0.11299,0.10137,-0.05905,-0.18395,-0.08881,-0.15787,0.00456,0.12485,0.13278,-0.18179,0.19398,0.16755,0.11622,-0.19668,-0.10672,0.11929,0.10959,0.02532,0.03988,-0.13903,0.15433,-0.17328,-0.10276,-0.01148,-0.08943,-0.01028,-0.13318,-0.12487,-0.13772,-0.12831,0.13236,-0.12536,0.15249,0.01391,0.0546,-0.04326,-0.03955,0.11309,-0.08184,-0.06837,-0.08796,-0.01272,-0.12184,-0.11259,-0.12228,-0.02831,0.1267,-0.11658,-0.08684,-0.11438,0.1391,-0.06224,-0.15448,0.13974,0.03502,-0.16385,-0.15793,-0.13249,-0.0016,-0.088,-0.05686,0.01495,-0.14841,-0.07884,-0.0973,0.12306,-0.11578,0.13346,0.13889,0.18331,-0.10123,-0.1151,-0.10953,-0.1177,-0.1159,-0.14696,-0.13224,0.08005,-0.12528,-0.04529,-0.01926,-0.02097,0.20702,0.13308,-0.13905,0.12951,0.04525,0.03227,-0.06018,0.19863,0.15363,-0.06613,0.01175,0.1796,0.08355,0.14006,-0.15365,0.14603,0.18932,0.09689,0.09419,0.0158,0.06161,0.04505,-0.08797,0.04219,-0.08828,-0.07883,0.03095,-0.00604,0.11703,0.13422,0.07992,0.08115,0.09277,-0.13373,-0.19559,0.1365,-0.11775,-0.04494,0.08723,-0.20887,-0.21124,0.13824,0.01667,0.21106,0.21007,0.21195,-0.1379,-0.00316,-0.02313,0.01425,-0.10842,0.01338,0.12216,0.00845,0.07314,0.16445,-0.04582,0.12042,-0.0481,-0.09377,-0.12566,0.12816,0.11474,0.15075,0.1968,0.11742,0.19774,0.19781,-0.14863,-0.15786,0.19642,0.19955,0.12606,0.1951,-0.01248,-0.04276,0.16082,0.1657,0.10637,0.11939,0.08508,-0.19745,-0.11939,0.1504,0.11912,-0.15345,-0.20278,-0.18046,0.16505,0.1651,-0.12918,-0.13462,-0.13219,0.03583,-0.1297,0.05793,-0.11544,0.13803,-0.15679,-0.11907,-0.20179,-0.20413,-0.18492,-0.19325,0.04863,-0.07753,-0.15244,0.13732,0.04589,0.01789,-0.02903,0.11174,0.19709,0.20039,0.19239,-0.11908,0.12624,0.07358,0.04929,-0.19471,0.12586,-0.13776,0.13162,-0.18982,0.11508,0.13104,0.15619,0.15621,0.04158,0.13344,0.14802,0.13037,0.06572,0.17745,-0.07714,-0.11417,-0.12137,0.12148,0.12079,-0.16649,-0.17798,-0.17134,-0.11424,0.1259,0.04272,0.17034,0.02667,0.06195,0.02493,-0.02514,0.04245,0.14025,-0.10153,-0.01445,-0.13337,-0.11307,-0.14881,-0.10236,-0.04964,0.20845,-0.0646,-0.05041,0.1379,-0.03982,0.12878,-0.09862,-0.0187,-0.11848,0.16426,0.03506,-0.09231,-0.04958,0.0647,0.10884,0.09732,0.04245,-0.11268,-0.03046,0.13,0.19936,0.11383,0.07888,0.20293,-0.0316,-0.11434,0.05339,-0.18888,-0.1841,-0.11304,0.05636,0.13113,0.11535,-0.13886,0.01462,0.18368,0.19377,0.09185,0.08662,0.07361,-0.11286,-0.13724,0.04659,-0.02363,0.13935,-0.03333,-0.02932,-0.02871,-0.12549,-0.04631,0.01073,0.11721,-0.20107,-0.19411,-0.19704,0.21201,0.21181,0.21206,-0.12431,-0.12946,0.11318,-0.02079,-0.18436,0.17876,0.16465,0.16331,0.15883,0.12016,0.11731,0.07043,0.03188,-0.07217,0.01115,-0.13523,0.12624,0.12068,-0.11705,-0.16458,0.12419,-0.16123,0.12446,0.08141,0.11419,-0.06381,-0.00306,-0.15758,-0.17567,0.1082,-0.04366,-0.04361,0.01737,-0.06249,-0.13302,-0.13382,-0.04658,0.09856,-0.12202,-0.14189,-0.13852,0.11731,-0.19922,-0.19666,-0.19827,0.07948,0.08648,-0.0252,-0.0194,0.13922,-0.11724,0.15071,-0.00504,0.03733,0.01507,-0.2012,-0.18918,-0.1921,0.11322,0.11797,0.18498,0.00263,-0.15894,0.10582,-0.12989,-0.07318,-0.10905,-0.11841,-0.08316,-0.01018,-0.18453,-0.01885,-0.05464,-0.11404,-0.04654,0.01354,0.0451,-0.05686,0.11943,0.03855,-0.00439,-0.02825,-0.12358,0.16984,-0.13668,0.02333,0.00522,-0.13144,0.19592,-0.12777,0.06334,-0.08669,-0.0024,-0.02907,-0.0135,-0.08651,-0.06402,-0.07913,-0.11299,0.03232,0.00202,0.01216,0.05897,0.00685,-0.00892,0.07635,-0.13623,0.05101,-0.05959,-0.03083,-0.01069,-0.14537,-0.08665,-0.07242,-0.04786,0.1178,-0.07381,0.18087,0.19359,-0.12391,0.03581,0.15256,-0.11669,0.05423,-0.07052,0.06488,0.11782,0.12043,-0.12708,-0.13844,0.05449,0.07846,0.05043,-0.10529,0.12997,0.05871,0.05091,0.02009,-0.01968,0.00558,0.12224,-0.07203,-0.13251,0.15942,0.02727,0.10587,0.19963,0.11217,0.16909,0.08564,0.08385,-0.01549,0.14698,0.14533,0.11507,0.11519,-0.13604,-0.04539,-0.14911,-0.04231,0.04067,0.04197,-0.07514,0.03727,-0.06159,-0.01838,-0.01439,0.00475,-0.05082,-0.17807,0.13766,-0.12313,-0.02025,-0.08225,-0.18209,0.10835,-0.16308,0.06325,-0.02595,0.07629,-0.10734,-0.10057,-0.12053,-0.15907,0.04293,-0.02542,-0.04875,0.11338,0.1058,0.10187,0.00664,0.11775,0.11856,-0.11358,-0.16151,-0.17392,-0.15581,0.11624,0.15448,0.0989,-0.11575,0.12065,0.14664,0.09469,-0.194,-0.17236,0.00819,-0.06527,-0.16126,-0.11004,-0.1066,-0.10882,-0.0445,-0.18104,0.02491,-0.19762,-0.09994,-0.06053,0.12565,-0.13008,-0.12655,0.13557,-0.15289,-0.046,-0.17257,0.1534,-0.16944,-0.16796,0.15804,0.1605,0.16276,-0.16382,0.12994,-0.01728,-0.12323,-0.16962,0.11316,0.13903,0.01447,-0.08137,-0.02273,0.03569,-0.11821,-0.18088],\"type\":\"scatter3d\"}],                        {\"template\":{\"data\":{\"histogram2dcontour\":[{\"type\":\"histogram2dcontour\",\"colorbar\":{\"outlinewidth\":0,\"ticks\":\"\"},\"colorscale\":[[0.0,\"#0d0887\"],[0.1111111111111111,\"#46039f\"],[0.2222222222222222,\"#7201a8\"],[0.3333333333333333,\"#9c179e\"],[0.4444444444444444,\"#bd3786\"],[0.5555555555555556,\"#d8576b\"],[0.6666666666666666,\"#ed7953\"],[0.7777777777777778,\"#fb9f3a\"],[0.8888888888888888,\"#fdca26\"],[1.0,\"#f0f921\"]]}],\"choropleth\":[{\"type\":\"choropleth\",\"colorbar\":{\"outlinewidth\":0,\"ticks\":\"\"}}],\"histogram2d\":[{\"type\":\"histogram2d\",\"colorbar\":{\"outlinewidth\":0,\"ticks\":\"\"},\"colorscale\":[[0.0,\"#0d0887\"],[0.1111111111111111,\"#46039f\"],[0.2222222222222222,\"#7201a8\"],[0.3333333333333333,\"#9c179e\"],[0.4444444444444444,\"#bd3786\"],[0.5555555555555556,\"#d8576b\"],[0.6666666666666666,\"#ed7953\"],[0.7777777777777778,\"#fb9f3a\"],[0.8888888888888888,\"#fdca26\"],[1.0,\"#f0f921\"]]}],\"heatmap\":[{\"type\":\"heatmap\",\"colorbar\":{\"outlinewidth\":0,\"ticks\":\"\"},\"colorscale\":[[0.0,\"#0d0887\"],[0.1111111111111111,\"#46039f\"],[0.2222222222222222,\"#7201a8\"],[0.3333333333333333,\"#9c179e\"],[0.4444444444444444,\"#bd3786\"],[0.5555555555555556,\"#d8576b\"],[0.6666666666666666,\"#ed7953\"],[0.7777777777777778,\"#fb9f3a\"],[0.8888888888888888,\"#fdca26\"],[1.0,\"#f0f921\"]]}],\"heatmapgl\":[{\"type\":\"heatmapgl\",\"colorbar\":{\"outlinewidth\":0,\"ticks\":\"\"},\"colorscale\":[[0.0,\"#0d0887\"],[0.1111111111111111,\"#46039f\"],[0.2222222222222222,\"#7201a8\"],[0.3333333333333333,\"#9c179e\"],[0.4444444444444444,\"#bd3786\"],[0.5555555555555556,\"#d8576b\"],[0.6666666666666666,\"#ed7953\"],[0.7777777777777778,\"#fb9f3a\"],[0.8888888888888888,\"#fdca26\"],[1.0,\"#f0f921\"]]}],\"contourcarpet\":[{\"type\":\"contourcarpet\",\"colorbar\":{\"outlinewidth\":0,\"ticks\":\"\"}}],\"contour\":[{\"type\":\"contour\",\"colorbar\":{\"outlinewidth\":0,\"ticks\":\"\"},\"colorscale\":[[0.0,\"#0d0887\"],[0.1111111111111111,\"#46039f\"],[0.2222222222222222,\"#7201a8\"],[0.3333333333333333,\"#9c179e\"],[0.4444444444444444,\"#bd3786\"],[0.5555555555555556,\"#d8576b\"],[0.6666666666666666,\"#ed7953\"],[0.7777777777777778,\"#fb9f3a\"],[0.8888888888888888,\"#fdca26\"],[1.0,\"#f0f921\"]]}],\"surface\":[{\"type\":\"surface\",\"colorbar\":{\"outlinewidth\":0,\"ticks\":\"\"},\"colorscale\":[[0.0,\"#0d0887\"],[0.1111111111111111,\"#46039f\"],[0.2222222222222222,\"#7201a8\"],[0.3333333333333333,\"#9c179e\"],[0.4444444444444444,\"#bd3786\"],[0.5555555555555556,\"#d8576b\"],[0.6666666666666666,\"#ed7953\"],[0.7777777777777778,\"#fb9f3a\"],[0.8888888888888888,\"#fdca26\"],[1.0,\"#f0f921\"]]}],\"mesh3d\":[{\"type\":\"mesh3d\",\"colorbar\":{\"outlinewidth\":0,\"ticks\":\"\"}}],\"scatter\":[{\"fillpattern\":{\"fillmode\":\"overlay\",\"size\":10,\"solidity\":0.2},\"type\":\"scatter\"}],\"parcoords\":[{\"type\":\"parcoords\",\"line\":{\"colorbar\":{\"outlinewidth\":0,\"ticks\":\"\"}}}],\"scatterpolargl\":[{\"type\":\"scatterpolargl\",\"marker\":{\"colorbar\":{\"outlinewidth\":0,\"ticks\":\"\"}}}],\"bar\":[{\"error_x\":{\"color\":\"#2a3f5f\"},\"error_y\":{\"color\":\"#2a3f5f\"},\"marker\":{\"line\":{\"color\":\"#E5ECF6\",\"width\":0.5},\"pattern\":{\"fillmode\":\"overlay\",\"size\":10,\"solidity\":0.2}},\"type\":\"bar\"}],\"scattergeo\":[{\"type\":\"scattergeo\",\"marker\":{\"colorbar\":{\"outlinewidth\":0,\"ticks\":\"\"}}}],\"scatterpolar\":[{\"type\":\"scatterpolar\",\"marker\":{\"colorbar\":{\"outlinewidth\":0,\"ticks\":\"\"}}}],\"histogram\":[{\"marker\":{\"pattern\":{\"fillmode\":\"overlay\",\"size\":10,\"solidity\":0.2}},\"type\":\"histogram\"}],\"scattergl\":[{\"type\":\"scattergl\",\"marker\":{\"colorbar\":{\"outlinewidth\":0,\"ticks\":\"\"}}}],\"scatter3d\":[{\"type\":\"scatter3d\",\"line\":{\"colorbar\":{\"outlinewidth\":0,\"ticks\":\"\"}},\"marker\":{\"colorbar\":{\"outlinewidth\":0,\"ticks\":\"\"}}}],\"scattermapbox\":[{\"type\":\"scattermapbox\",\"marker\":{\"colorbar\":{\"outlinewidth\":0,\"ticks\":\"\"}}}],\"scatterternary\":[{\"type\":\"scatterternary\",\"marker\":{\"colorbar\":{\"outlinewidth\":0,\"ticks\":\"\"}}}],\"scattercarpet\":[{\"type\":\"scattercarpet\",\"marker\":{\"colorbar\":{\"outlinewidth\":0,\"ticks\":\"\"}}}],\"carpet\":[{\"aaxis\":{\"endlinecolor\":\"#2a3f5f\",\"gridcolor\":\"white\",\"linecolor\":\"white\",\"minorgridcolor\":\"white\",\"startlinecolor\":\"#2a3f5f\"},\"baxis\":{\"endlinecolor\":\"#2a3f5f\",\"gridcolor\":\"white\",\"linecolor\":\"white\",\"minorgridcolor\":\"white\",\"startlinecolor\":\"#2a3f5f\"},\"type\":\"carpet\"}],\"table\":[{\"cells\":{\"fill\":{\"color\":\"#EBF0F8\"},\"line\":{\"color\":\"white\"}},\"header\":{\"fill\":{\"color\":\"#C8D4E3\"},\"line\":{\"color\":\"white\"}},\"type\":\"table\"}],\"barpolar\":[{\"marker\":{\"line\":{\"color\":\"#E5ECF6\",\"width\":0.5},\"pattern\":{\"fillmode\":\"overlay\",\"size\":10,\"solidity\":0.2}},\"type\":\"barpolar\"}],\"pie\":[{\"automargin\":true,\"type\":\"pie\"}]},\"layout\":{\"autotypenumbers\":\"strict\",\"colorway\":[\"#636efa\",\"#EF553B\",\"#00cc96\",\"#ab63fa\",\"#FFA15A\",\"#19d3f3\",\"#FF6692\",\"#B6E880\",\"#FF97FF\",\"#FECB52\"],\"font\":{\"color\":\"#2a3f5f\"},\"hovermode\":\"closest\",\"hoverlabel\":{\"align\":\"left\"},\"paper_bgcolor\":\"white\",\"plot_bgcolor\":\"#E5ECF6\",\"polar\":{\"bgcolor\":\"#E5ECF6\",\"angularaxis\":{\"gridcolor\":\"white\",\"linecolor\":\"white\",\"ticks\":\"\"},\"radialaxis\":{\"gridcolor\":\"white\",\"linecolor\":\"white\",\"ticks\":\"\"}},\"ternary\":{\"bgcolor\":\"#E5ECF6\",\"aaxis\":{\"gridcolor\":\"white\",\"linecolor\":\"white\",\"ticks\":\"\"},\"baxis\":{\"gridcolor\":\"white\",\"linecolor\":\"white\",\"ticks\":\"\"},\"caxis\":{\"gridcolor\":\"white\",\"linecolor\":\"white\",\"ticks\":\"\"}},\"coloraxis\":{\"colorbar\":{\"outlinewidth\":0,\"ticks\":\"\"}},\"colorscale\":{\"sequential\":[[0.0,\"#0d0887\"],[0.1111111111111111,\"#46039f\"],[0.2222222222222222,\"#7201a8\"],[0.3333333333333333,\"#9c179e\"],[0.4444444444444444,\"#bd3786\"],[0.5555555555555556,\"#d8576b\"],[0.6666666666666666,\"#ed7953\"],[0.7777777777777778,\"#fb9f3a\"],[0.8888888888888888,\"#fdca26\"],[1.0,\"#f0f921\"]],\"sequentialminus\":[[0.0,\"#0d0887\"],[0.1111111111111111,\"#46039f\"],[0.2222222222222222,\"#7201a8\"],[0.3333333333333333,\"#9c179e\"],[0.4444444444444444,\"#bd3786\"],[0.5555555555555556,\"#d8576b\"],[0.6666666666666666,\"#ed7953\"],[0.7777777777777778,\"#fb9f3a\"],[0.8888888888888888,\"#fdca26\"],[1.0,\"#f0f921\"]],\"diverging\":[[0,\"#8e0152\"],[0.1,\"#c51b7d\"],[0.2,\"#de77ae\"],[0.3,\"#f1b6da\"],[0.4,\"#fde0ef\"],[0.5,\"#f7f7f7\"],[0.6,\"#e6f5d0\"],[0.7,\"#b8e186\"],[0.8,\"#7fbc41\"],[0.9,\"#4d9221\"],[1,\"#276419\"]]},\"xaxis\":{\"gridcolor\":\"white\",\"linecolor\":\"white\",\"ticks\":\"\",\"title\":{\"standoff\":15},\"zerolinecolor\":\"white\",\"automargin\":true,\"zerolinewidth\":2},\"yaxis\":{\"gridcolor\":\"white\",\"linecolor\":\"white\",\"ticks\":\"\",\"title\":{\"standoff\":15},\"zerolinecolor\":\"white\",\"automargin\":true,\"zerolinewidth\":2},\"scene\":{\"xaxis\":{\"backgroundcolor\":\"#E5ECF6\",\"gridcolor\":\"white\",\"linecolor\":\"white\",\"showbackground\":true,\"ticks\":\"\",\"zerolinecolor\":\"white\",\"gridwidth\":2},\"yaxis\":{\"backgroundcolor\":\"#E5ECF6\",\"gridcolor\":\"white\",\"linecolor\":\"white\",\"showbackground\":true,\"ticks\":\"\",\"zerolinecolor\":\"white\",\"gridwidth\":2},\"zaxis\":{\"backgroundcolor\":\"#E5ECF6\",\"gridcolor\":\"white\",\"linecolor\":\"white\",\"showbackground\":true,\"ticks\":\"\",\"zerolinecolor\":\"white\",\"gridwidth\":2}},\"shapedefaults\":{\"line\":{\"color\":\"#2a3f5f\"}},\"annotationdefaults\":{\"arrowcolor\":\"#2a3f5f\",\"arrowhead\":0,\"arrowwidth\":1},\"geo\":{\"bgcolor\":\"white\",\"landcolor\":\"#E5ECF6\",\"subunitcolor\":\"white\",\"showland\":true,\"showlakes\":true,\"lakecolor\":\"white\"},\"title\":{\"x\":0.05},\"mapbox\":{\"style\":\"light\"}}}},                        {\"responsive\": true}                    ).then(function(){\n",
       "                            \n",
       "var gd = document.getElementById('ed0b5be9-6300-49c8-8bac-f07deb1e6e71');\n",
       "var x = new MutationObserver(function (mutations, observer) {{\n",
       "        var display = window.getComputedStyle(gd).display;\n",
       "        if (!display || display === 'none') {{\n",
       "            console.log([gd, 'removed!']);\n",
       "            Plotly.purge(gd);\n",
       "            observer.disconnect();\n",
       "        }}\n",
       "}});\n",
       "\n",
       "// Listen for the removal of the full notebook cells\n",
       "var notebookContainer = gd.closest('#notebook-container');\n",
       "if (notebookContainer) {{\n",
       "    x.observe(notebookContainer, {childList: true});\n",
       "}}\n",
       "\n",
       "// Listen for the clearing of the current output cell\n",
       "var outputEl = gd.closest('.output');\n",
       "if (outputEl) {{\n",
       "    x.observe(outputEl, {childList: true});\n",
       "}}\n",
       "\n",
       "                        })                };                });            </script>        </div>"
      ]
     },
     "metadata": {},
     "output_type": "display_data"
    }
   ],
   "source": [
    "# Original data point\n",
    "visualize_3d_shape(dataset[sample_idx].pos)"
   ]
  },
  {
   "cell_type": "code",
   "execution_count": 13,
   "metadata": {
    "colab": {
     "base_uri": "https://localhost:8080/",
     "height": 542
    },
    "execution": {
     "iopub.execute_input": "2022-12-03T08:51:43.484345Z",
     "iopub.status.busy": "2022-12-03T08:51:43.483447Z",
     "iopub.status.idle": "2022-12-03T08:51:45.465148Z",
     "shell.execute_reply": "2022-12-03T08:51:45.464179Z",
     "shell.execute_reply.started": "2022-12-03T08:51:43.484308Z"
    },
    "id": "0-89MedsLqIe",
    "outputId": "7233800f-034c-41a3-d6d7-387a86e70bab",
    "trusted": true
   },
   "outputs": [
    {
     "data": {
      "text/html": [
       "<div>                            <div id=\"cc05fccd-1321-444e-b716-58ac99a8d96c\" class=\"plotly-graph-div\" style=\"height:525px; width:100%;\"></div>            <script type=\"text/javascript\">                require([\"plotly\"], function(Plotly) {                    window.PLOTLYENV=window.PLOTLYENV || {};                                    if (document.getElementById(\"cc05fccd-1321-444e-b716-58ac99a8d96c\")) {                    Plotly.newPlot(                        \"cc05fccd-1321-444e-b716-58ac99a8d96c\",                        [{\"mode\":\"markers\",\"x\":[0.3073154,0.31315926,0.21594976,0.16196018,-0.24290866,0.20359112,0.11070716,-0.01722235,-0.012420138,0.22509517,0.30904558,-0.29668638,0.33769995,0.04555951,-0.310634,-0.3495107,-0.20519719,0.20166671,-0.2677495,0.27161658,0.12813284,0.21088272,-0.17355907,-0.093227945,0.25096002,0.063797325,-0.2199216,-0.0175578,-0.35743788,0.24864718,-0.10152589,-0.35320064,0.23039171,0.014627614,-0.24841706,-0.15826969,-0.09377526,0.22324137,0.34137225,-0.19845289,0.22105211,0.057547387,-0.30493134,0.32562384,-0.24331473,-0.24169046,0.31981525,0.04359978,-0.3254643,-0.06949937,-0.31984997,-0.22309951,-0.24354424,-0.20717457,0.22968552,0.2493534,0.0995844,-0.05433356,-0.17765507,-0.25819805,-0.24222009,0.03277715,-0.14144428,0.07417858,-0.095999815,0.26052913,0.27105165,0.09773061,0.24008441,-0.06676282,0.16653287,0.008924988,-0.22099857,-0.05399811,-0.22380574,0.1553748,0.090898044,-0.0554988,0.2949391,0.24479836,-0.20722753,-0.24306756,0.32279897,0.062455527,0.2452927,-0.09382822,-0.10224975,0.013003337,0.2493534,-0.062101845,0.16166005,0.37555268,-0.2097169,0.21208327,-0.34331372,0.21577321,0.05346904,0.21757403,0.26270074,-0.24131969,-0.20639773,-0.18129206,-0.22403525,0.17518392,-0.10652231,0.11430882,-0.20069511,0.17698476,-0.08466518,0.3093634,-0.3123112,-0.033341542,-0.22073372,-0.19380958,-0.28685242,-0.071565025,0.29601607,-0.09213333,-0.085300766,-0.062896326,0.081081755,-0.2411961,0.21707968,0.081081755,-0.056010805,0.05346904,0.23920166,0.26157078,-0.22701898,0.16196018,0.113496676,0.20359112,0.20392656,0.34184894,0.1599475,-0.26616055,0.0708594,-0.33494517,-0.21437788,-0.20261952,0.20962921,-0.2680673,0.20733401,-0.28877684,0.029616874,-0.27211034,-0.2928022,-0.020735733,0.13768429,0.34186658,-0.12837945,0.09058025,0.37421092,-0.22627746,0.06722243,0.11070716,-0.09508174,-0.16111216,-0.023348702,-0.24199058,0.21911004,-0.13833697,-0.061766393,0.24096718,-0.26658428,0.26632005,-0.100078166,-0.20802201,0.06595126,0.3656128,-0.27237517,-0.10666355,0.102038465,0.33499873,-0.3132293,0.32959625,-0.06676282,-0.113090046,-0.11821005,-0.27392885,-0.2101936,0.16181894,-0.22041596,0.2042267,0.040227644,0.034525014,0.1402443,-0.07456641,-0.23755914,-0.30501962,-0.3353689,0.2079696,-0.0828467,0.25664496,0.3734341,0.1946576,0.0010331174,0.19728823,-0.121723436,-0.08973222,-0.083429314,-0.31360006,0.20265539,-0.26766124,0.07246602,0.19125015,0.10528703,-0.04035065,0.08814383,0.25533852,0.1897318,-0.31827867,0.20212574,-0.24213183,-0.19663441,-0.24282037,0.24492192,0.05165055,-0.19695221,0.18028627,0.3049143,0.21540244,-0.30501962,-0.19799386,-0.21925071,-0.24222009,-0.2855636,-0.04035065,-0.22009815,-0.21644354,-0.1973936,-0.22009815,-0.08127538,-0.022077529,0.24606952,0.10165006,0.3542429,-0.31492418,0.13549505,0.06061939,0.21400768,0.19125015,0.14589396,-0.15011299,-0.23962478,0.28641164,-0.3386351,-0.14246829,-0.29735726,0.0914277,-0.2713335,-0.07567869,0.34841666,0.2248833,0.24638733,-0.3089567,0.2401727,0.21580853,-0.14165615,-0.1989649,0.019447483,0.32588866,-0.027268155,0.042540472,-0.32308087,0.106981926,0.25138375,-0.20975222,-0.093510434,0.34624508,0.28037354,-0.20348462,0.0914277,-0.27588853,-0.27588853,-0.106275134,-0.20678614,0.1807453,0.0492671,-0.16907465,0.13037504,0.052886415,-0.06045991,0.02977577,-0.2366234,0.12585531,0.029246112,-0.051685285,0.28994265,-0.0828467,0.051491655,0.2804089,0.23334013,0.13862002,0.30904558,-0.12689641,-0.06116612,-0.19606945,-0.3306373,-0.34684476,-0.14697036,0.32064506,0.09884288,0.015616305,-0.21017595,0.0914277,-0.07218295,-0.19956517,-0.1443927,-0.10302658,0.24407448,-0.13055103,0.014097959,-0.24306756,0.32878408,0.23279284,0.10788234,0.24116139,0.25096002,0.1798802,-0.001968265,-0.3004116,0.038726952,0.26632005,-0.2680673,-0.32841274,0.119675994,-0.15682195,0.1559221,0.017346514,-0.31984997,0.3578269,-0.21939196,0.24361546,0.14580569,0.21997513,0.1169218,-0.27278125,-0.2285197,0.27352336,0.20876409,-0.15818141,-0.2026725,-0.1750068,0.36485368,-0.13109834,0.20468575,-0.27655944,0.25664496,-0.03531892,-0.23837127,0.23715365,-0.36644202,0.24386263,0.32279897,-0.08376476,-0.23187415,-0.10152589,0.19285676,-0.18630612,-0.033765264,0.2325633,0.2077754,-0.15355574,0.20459747,-0.24126673,0.13987353,0.33282715,-0.20530312,0.20265539,0.0020394633,-0.23028518,0.33833554,-0.026932703,0.08902659,0.2059216,0.24250317,0.24453351,0.13862002,-0.28621683,-0.26354757,0.24725242,0.3370644,-0.24027804,0.2363945,-0.31497717,0.11210192,0.056964766,0.05606435,0.2816271,0.31118187,0.37368125,0.22096384,-0.18542336,0.12347186,0.33674657,0.2077754,0.2059216,0.24207945,0.20293787,0.37482885,0.32821915,-0.27754813,0.24725242,0.22311778,0.23771861,-0.36335236,0.04328199,0.056664627,-0.0024273002,-0.121723436,-0.0886376,-0.04541769,-0.11416701,0.21660301,0.07041802,-0.025855739,0.33487514,0.24658154,0.28715315,-0.22624215,0.28872445,0.16875742,-0.3686666,0.016287202,0.24836472,0.24469241,-0.21337153,0.2452927,0.0014921525,-0.323434,-0.06882847,0.3157722,-0.25327227,0.20491526,0.16875742,0.1489483,-0.16227742,0.25180745,0.24704055,0.24116139,-0.27797186,0.013409406,0.28436363,-0.22470614,0.22562483,-0.19822338,0.21296602,0.05606435,0.2408436,0.11845779,0.021230657,0.3370644,0.07093003,-0.11630329,0.124954894,-0.22906698,-0.30519617,-0.093545735,0.28242156,0.13872595,-0.22218147,-0.21481925,0.20337926,-0.28920057,0.3365347,0.24861188,-0.24209653,-0.30780914,-0.23169759,-0.34188366,-0.24018975,-0.0050226133,0.314095,0.07209527,-0.26446563,-0.22287,0.23408166,0.33814135,-0.30733246,-0.23962478,0.29719895,0.048490275,0.13233477,-0.22823718,-0.1794206,-0.20802201,-0.27698317,-0.23321596,-0.21644354,-0.0685813,0.23000331,0.009737127,-0.23321596,0.15641645,-0.3017181,-0.109947406,0.21660301,-0.2097169,-0.23293348,0.08337694,0.28326902,-0.014644693,0.20274366,0.055764213,-0.062737435,-0.24306756,0.0394155,-0.1061692,-0.23378092,0.34624508,0.30697992,-0.24308522,0.3457684,-0.20043027,0.28436363,-0.20288435,0.22181128,0.0020394633,-0.2380888,-0.2713335,0.21229513,0.20217872,0.23265159,0.26568446,-0.3435609,-0.045859072,-0.16088265,0.03934488,-0.05772336,0.060548767,0.20539196,-0.16450197,-0.114555426,0.06061939,-0.2152783,-0.21985099,0.10788234,0.31981525,0.27594212,-0.028362779,-0.1642901,0.15249701,0.20221402,-0.33494517,0.10602854,0.24873547,-0.010972413,-0.20122476,-0.24236134,0.05165055,-0.045859072,0.21670894,0.031788457,0.23920166,-0.26616055,0.21540244,0.22666648,0.086855,-0.13510607,0.22770813,-0.04898404,0.3656128,-0.20904602,-0.027356429,-0.07954517,0.21263058,-0.07387786,-0.25604412,-0.06732778,0.20443857,0.08814383,-0.057140734,0.25051865,0.20726341,-0.19845289,-0.06557992,0.29315594,-0.28787643,-0.015333245,-0.0886376,0.32071567,0.24578705,0.03950378,-0.21222393,-0.11416701,0.07091237,-0.29668638,0.081081755,0.11520923,-0.040032856,0.16785702,-0.22336437,0.00050346163,-0.033341542,0.3073154,-0.09301609,-0.14142664,-0.31923205,-0.03770237,0.013797821,-0.024902359,0.13233477,0.04972614,-0.22853734,-0.093545735,0.31315926,0.057547387,-0.11416701,0.03503702,-0.2056209,0.21139471,0.28563482,-0.03531892,0.23273985,0.13613063,0.20459747,-0.22241098,-0.14725284,-0.3087272,0.22894399,-0.09674133,-0.2855636,0.1946576,-0.057140734,-0.18356958,-0.23466367,0.28235093,-0.15387355,0.24195588,0.28226268,0.19372188,-0.11102439,-0.31287616,0.034525014,-0.06402627,0.029758114,-0.09301609,-0.20044793,-0.09160367,-0.17541288,-0.23321596,-0.23935996,-0.31186983,0.006064847,0.26453686,0.09773061,-0.3495107,-0.25051805,-0.31984997,-0.36903733,-0.07218295,-0.26616055,0.17770861,0.26157078,-0.23431058,0.34624508,0.11324951,0.0020394633,0.3405248,0.3601927,0.0009801518,-0.1564512,0.0914277,-0.093086705,-0.24041927,-0.11821005,-0.36999074,0.13424154,-0.25489652,-0.34299594,-0.055693008,-0.22860795,-0.19940628,0.07047098,-0.09065029,0.011608577,0.2763835,0.21208327,-0.3719328,-0.24047226,-0.060777705,0.08113473,0.23999615,0.34405583,0.20839334,0.1651028,0.30743897,0.34511513,0.1561163,-0.34959897,-0.21771471,-0.012296552,-0.22230504,-0.19956517,0.21323086,-0.19732296,-0.29668638,-0.2507652,0.014751201,0.34186658,0.2408436,-0.34689772,0.11324951,0.24163808,-0.3133882,-0.057652738,0.18355249,0.2235415,-0.20157787,0.2420265,-0.23388684,-0.18724185,-0.3430489,-0.27052137,0.15373287,-0.20984049,0.3745287,0.34841666,-0.31446514,0.37638247,-0.040968586,0.30964586,0.111236826,-0.1438807,-0.36148092,-0.11995792,-0.03085216,0.27166957,0.029758114,0.027039215,0.28436363,-0.00050288433,-0.14771187,0.19080877,0.26453686,0.24850594,0.12352483,-0.34620917,0.050873727,-0.297216,0.050626554,-0.23747085,-0.30148858,0.20763415,0.07458465,0.15936488,0.080887556,0.036767222,-0.22765456,0.24873547,0.3746523,0.099549085,0.31616065,0.12117668,-0.32198626,-0.20166613,0.14073865,0.010266783,0.3390771,-0.054721978,-0.21658477,0.21263058,-0.27818373,-0.15924071,-0.21165898,0.28649992,0.2819802,-0.21300077,-0.021759734,0.21700907,-0.042875342,0.32924315,-0.32304555,0.2186157,-0.122659154,0.30964586,-0.2830036,-0.22823718,0.08902659,0.038726952,0.042540472,0.18385263,0.21707968,-0.2026725,-0.22514755,0.043793987,-0.27719504,-0.3025126,0.14073865,0.029352043,-0.3132293,0.031029288,-0.12133502,0.13556567,0.11301999,-0.21930367,0.24296223,0.2640425,-0.31119895],\"y\":[0.31550696,0.40828496,0.23653527,0.23653527,-0.8576276,0.007935842,-0.09349322,0.23653527,-0.5525812,-0.118210495,0.16448446,0.28032014,-0.12585519,0.41231033,0.2905248,0.40088743,-0.49724978,0.11487334,-0.49724978,-0.49724978,-0.114344016,-0.41741306,0.22738987,0.11487334,-0.075096525,0.14753544,-0.39880446,0.11487334,0.3624521,-0.15731674,0.23653527,0.13150454,-0.08109929,0.41231033,-0.4998628,0.23653527,0.11946369,-0.21197721,0.11487334,0.107634716,-0.5701481,0.3365166,0.11487334,0.28402773,-0.12479589,-0.75822884,-0.49724978,-0.51661754,-0.075096525,-0.075096525,0.23402825,-0.09222205,0.3167075,0.11487334,0.13951999,-0.106328554,-0.09863089,0.23653527,0.11487334,0.23653527,-0.08221156,0.41231033,0.11487334,0.28289777,-0.53545564,0.19954766,-0.49724978,0.41231033,-0.49724978,0.41231033,0.15713987,-0.11116608,-0.075096525,0.20299041,0.11487334,0.41231033,0.1583934,0.23653527,-0.075096525,0.23653527,-0.21252453,-0.49177667,-0.075096525,0.11487334,-0.073843,0.23653527,0.36102203,0.41231033,-0.106328554,0.11487334,-0.11060111,0.25648564,-0.46126854,-0.11987008,-0.52410334,-0.6725835,0.11487334,-0.51983076,0.41231033,-0.10306234,-0.86933297,0.36861375,0.29020706,-0.088002466,-0.097959995,0.3952378,-0.79641706,0.11487334,0.11487334,-0.49724978,0.11487334,-0.10726429,-0.999999,0.23653527,0.30325425,0.33512184,0.27514714,0.11487334,0.23653527,0.11487334,0.37790036,-0.12700279,-0.65544033,0.37790036,0.23653527,0.11487334,0.08134614,0.23653527,-0.6730779,0.23653527,0.11487334,0.007935842,-0.8447216,0.27834275,0.11487334,-0.075096525,0.23653527,0.38303804,0.11487334,0.11487334,-0.075096525,0.11487334,0.41231033,-0.075096525,0.41231033,-0.49724978,0.23653527,0.41231033,0.41231033,0.34490284,0.23653527,0.23653527,0.21074104,0.23547594,0.41231033,-0.09349322,0.17993273,0.3380173,0.11487334,0.11487334,0.11487334,-0.5235207,0.41231033,-0.00034442806,-0.108200006,-0.5193011,-0.49724978,-0.22426525,-0.075096525,0.33039027,0.40074623,-0.11792802,-0.12267726,-0.11148387,0.3810607,0.37094423,0.41231033,0.32212764,-0.50187546,0.11487334,0.105445474,0.3907887,0.11487334,-0.9851687,0.11487334,-0.075096525,-0.12898017,0.24103735,-0.6437879,0.41125107,0.19749962,0.11473209,0.41231033,0.41231033,0.26029918,-0.49724978,0.3530419,0.41231033,0.23653527,0.23653527,0.11487334,0.11487334,0.023401799,-0.49724978,0.23653527,0.25680342,-0.5349966,0.11487334,-0.54461867,-0.09123337,0.11487334,0.11487334,0.0477483,-0.51082665,0.23653527,-0.6775623,-0.4197082,0.11487334,0.06376155,0.23653527,0.23653527,0.41231033,0.41125107,-0.58903915,0.21478406,-0.08221156,0.41231033,0.11487334,0.27968454,0.23653527,-0.6701824,0.27968454,-0.49724978,0.21919784,0.23653527,0.11487334,0.40124056,0.12553708,0.11487334,-0.5425707,-0.19527541,0.25680342,0.11487334,0.11487334,0.019729504,0.1606356,0.33122006,0.41231033,0.11487334,0.11487334,-0.4993508,0.23653527,0.14453407,0.11487334,-0.4626809,0.23505221,-0.97069144,0.23653527,0.11487334,-0.18997885,0.41231033,-0.5218082,-0.10574593,-0.107635036,0.38882893,0.23653527,0.11487334,-0.29091358,0.41231033,-0.5228675,-0.50447077,0.00555239,0.11487334,0.23653527,0.23653527,0.41231033,0.41231033,0.3925542,-0.49724978,0.11487334,0.11487334,0.4075964,0.11487334,0.11487334,-0.7437692,-0.075096525,0.41231033,0.11487334,-0.49724978,0.41231033,0.11487334,-0.08989157,0.1724999,-0.096318066,0.16448446,0.41231033,0.23653527,0.41231033,-0.09437599,-0.12295974,0.11487334,0.17064612,0.3201679,0.23653527,0.4023352,0.11487334,0.31483603,-0.46568233,0.15277906,0.3747754,0.23653527,0.11487334,-0.09889571,0.10076684,-0.5489972,-0.9461154,0.2805673,-0.53801566,-0.075096525,-0.5371682,-0.49724978,0.39024138,0.33072573,-0.5193011,0.11487334,0.11487334,0.41231033,0.11487334,0.3394297,-0.533955,0.23402825,0.32463467,-0.22417696,-0.40085244,-0.49724978,-0.565187,-0.093122475,-0.5194777,0.41231033,0.23653527,-0.14123288,-0.075096525,-0.8341815,0.23653527,0.3745459,0.3956615,-0.9103637,0.11487334,0.41231033,-0.5021403,-0.32098037,0.22498877,0.223082,-0.09432303,-0.075096525,-0.11828112,-0.021813147,0.23653527,0.11487334,-0.075096525,0.23653527,0.23653527,-0.71262544,0.11487334,0.11487334,-0.78753644,0.2954683,0.25901034,-0.8411376,0.023401799,0.11487334,-0.8712397,0.11487334,0.23653527,-0.075096525,-0.3277423,-0.29361483,-0.5224085,-0.096318066,-0.49724978,0.11487334,-0.9853276,0.14156799,-0.9463272,-0.5435241,-0.12919202,-0.0760852,0.36176354,0.41231033,0.22509469,-0.49724978,0.27844867,-0.098878056,0.29405585,0.11487334,0.23653527,-0.71262544,-0.3277423,0.1011376,-0.5440713,0.37103254,0.24566299,-0.5374683,-0.9853276,-0.99943405,-0.7870598,0.1188281,0.41231033,0.23653527,-0.075096525,0.23653527,0.41231033,0.31291163,-0.11183697,0.17188197,0.3575616,0.41231033,0.2675731,-0.44601446,0.31660154,-0.999999,0.12604907,0.41231033,0.16453739,0.41231033,0.3693553,-0.8950037,-0.0581652,-0.073843,0.11487334,0.41231033,-0.09278702,0.23828314,0.17347094,-0.9309319,0.25014743,0.19907096,0.11487334,0.41231033,-0.43305552,-0.53801566,-0.5027052,-0.13025133,-0.11889905,-0.3280248,-0.5342374,0.11487334,0.11487334,0.41231033,-0.49724978,0.28950083,0.11487334,0.14156799,0.41231033,0.23653527,0.11487334,0.41231033,0.11487334,0.11487334,-0.5344669,0.19813523,0.11487334,0.11487334,-0.5562005,-0.075096525,-0.075096525,-0.68379456,-0.10542814,-0.54276484,-0.854891,-0.5073309,0.40609574,0.20890489,0.13711889,-0.53261316,0.40851447,-0.1236836,-0.4009584,0.378483,0.37452823,0.019729504,-0.50086915,-0.5211196,-0.5029171,0.23653527,0.41231033,-0.22426525,-0.087260954,-0.9805607,0.23653527,0.11487334,-0.8060391,-0.075096525,-0.9805607,-0.49724978,-0.49724978,-0.5259218,0.17188197,-0.46126854,-0.53388435,0.24105498,-0.08019888,-0.5199544,-0.40413633,0.41231033,0.23653527,-0.49177667,-0.49724978,0.16805075,-0.03069372,-0.5228675,0.30547875,-0.37362817,0.31344128,-0.1494955,-0.11889905,0.41231033,0.23653527,0.11487334,-0.553358,-0.4993508,0.41231033,-0.50839025,-0.44064724,0.35780877,0.23653527,0.11487334,0.23653527,0.23653527,0.23653527,0.41231033,-0.075096525,0.23653527,0.23653527,-0.5425707,0.41231033,-0.7977588,0.2805673,-0.49724978,-0.12135312,0.11487334,0.11487334,-0.083906464,-0.17493662,0.38303804,0.41231033,-0.3809374,0.11487334,0.050220016,0.029792976,0.11487334,0.11487334,-0.32738918,0.11487334,0.08134614,-0.075096525,0.41231033,-0.6058116,-0.075096525,0.41231033,-0.006594382,0.23653527,0.33039027,-0.42103234,0.11487334,0.11487334,-0.3833032,-0.075096525,0.15908194,0.11487334,-0.5012222,-0.54461867,-0.5483087,0.41231033,0.11487334,0.107634716,0.11487334,-0.49724978,-0.49724978,0.23653527,0.41231033,0.23653527,0.41231033,0.23653527,-0.3044551,-0.11183697,0.23653527,0.28032014,0.37790036,-0.09001515,0.11487334,0.23653527,0.4020703,0.23653527,-0.10726429,0.31550696,0.23653527,0.31453592,0.23653527,-0.075096525,0.23653527,0.41231033,-0.5029171,-0.075096525,-0.58990425,0.11487334,0.40828496,0.3365166,-0.11183697,0.34033012,-0.052338965,-0.79669946,-0.49724978,-0.5021403,-0.13402955,0.41231033,0.11487334,-0.8332634,0.23653527,-0.075096525,-0.08872633,-0.075096525,0.41231033,-0.49724978,-0.5483087,-0.5456604,-0.82143444,-0.5435771,0.23653527,-0.105445795,0.23653527,0.41231033,-0.49724978,0.16035311,-0.075096525,0.22249937,-0.08351804,0.23653527,-0.41776612,0.3228162,0.11487334,-0.9805607,-0.84240884,-0.075096525,0.24797584,-0.5345552,0.41231033,0.40088743,0.23653527,0.23402825,0.13445294,0.31483603,-0.075096525,0.23653527,0.23653527,0.11487334,-0.5228675,0.41231033,0.11487334,-0.5247566,0.23120342,0.11487334,0.27860758,0.11487334,-0.10246206,0.2692327,-0.50187546,0.36578894,0.11487334,-0.54140544,0.22299372,-0.075379,-0.6346249,-0.21506688,-0.5020167,-0.49724978,0.41231033,0.11487334,-0.13203451,0.35840902,-0.61696965,0.11487334,0.1279735,-0.32899585,0.11487334,-0.54348874,0.11487334,0.40782595,0.11487334,0.13639502,0.23333965,-0.700567,0.11487334,-0.52323824,-0.46568233,-0.8928144,-0.87551224,0.28032014,0.11487334,0.23653527,0.34490284,-0.49724978,0.24331486,0.41231033,0.29841673,0.11487334,-0.5116741,0.23484038,-0.49724978,-0.47253254,-0.6530922,-0.15530406,-0.49724978,-0.07532604,0.23616448,-0.075096525,0.23653527,0.19511619,0.33861756,0.23653527,0.1319106,0.11783941,0.18868971,0.11487334,0.18441713,0.23653527,-0.08546013,0.40335914,0.36186945,-0.08351804,0.41231033,-0.11889905,0.11487334,-0.11648029,0.41231033,-0.5345552,-0.10694648,0.23653527,0.404648,0.23653527,0.40839088,0.37797096,0.23653527,-0.49724978,0.41231033,0.41231033,0.23653527,0.41231033,-0.075096525,0.41231033,-0.3809374,0.19418046,0.11487334,0.11674478,0.23653527,0.17912059,-0.95144725,-0.49724978,0.23653527,0.13434702,0.41231033,-0.32906646,-0.3833032,-0.077020936,-0.075096525,-0.12513134,0.13812523,-0.5039411,-0.0012272026,0.11487334,0.10205568,0.41231033,-0.075096525,-0.5201486,-0.9765882,0.33969453,0.18868971,-0.075096525,0.23653527,-0.075096525,0.33072573,-0.107635036,0.23653527,-0.65544033,-0.8341815,-0.6368317,0.41231033,-0.120540984,-0.55203384,-0.49724978,-0.5295058,0.3810607,0.41231033,0.11487334,0.37858894,0.36022753,-0.17919153,-0.569848,-0.075096525,0.3368697],\"z\":[0.21590288,0.1404799,-0.30132362,-0.32907757,-0.21903276,0.23000936,-0.26048717,0.13384154,-0.3480922,0.2682152,0.21394315,-0.2246118,0.093411155,-0.08301717,-0.2077864,-0.033776842,-0.1913141,-0.15833421,0.14974888,0.15303275,-0.32625276,0.24017875,-0.33096668,-0.15764566,0.17107634,0.36819655,-0.20007108,0.020442251,-0.10031926,0.22310618,-0.030563595,-0.12145252,0.26468417,-0.034712564,0.12933947,-0.14378633,-0.36129832,-0.20031826,-0.0044339127,-0.21513097,0.19928935,-0.36940202,-0.007911986,-0.18674141,-0.22203414,-0.21493676,0.008683895,0.34467983,-0.03462429,0.33030853,-0.18921313,-0.1698454,0.2786847,-0.16202414,-0.2965214,0.13288817,0.26265383,0.061049193,-0.1377306,-0.22641262,-0.21620792,0.23059198,0.3410252,0.3675433,-0.33440945,-0.26936772,-0.20241922,0.15184985,-0.18156844,0.029622952,-0.33485082,-0.34945166,0.19263335,0.367508,0.27319396,0.22393599,-0.36269307,-0.33850545,0.007200858,-0.2244176,-0.24274369,0.21886896,0.12513754,-0.25561434,0.20993543,-0.19512764,-0.35843816,-0.0438403,0.13288817,-0.27021515,0.31042877,0.03073523,-0.24420908,0.24109684,0.040339652,-0.20231329,0.16758062,0.27322927,-0.025337659,-0.214054,0.20338535,0.3227874,-0.29738653,0.22135833,0.33170328,-0.34237194,-0.21064654,-0.100107394,-0.081746,0.09856648,0.047578283,-0.27996084,-0.23425154,-0.10951761,0.23661241,0.36397696,0.2287382,-0.012343439,0.19130921,0.014068727,-0.36030963,0.21240716,0.20043693,-0.36030963,0.28060913,0.16758062,0.24072607,-0.1287088,-0.20118336,-0.32907757,0.2703868,0.23000936,0.21336053,-0.15856373,0.18064547,-0.100990154,-0.23476353,0.1426515,-0.0190171,-0.18825977,0.25590953,0.18594202,0.25259036,-0.06356115,0.11706912,0.10566386,-0.07618461,-0.015486063,0.054357875,0.15207937,-0.23654671,0.20458591,-0.0164571,-0.2958858,-0.2606814,-0.26048717,0.35926303,0.33362767,-0.11458465,0.21129487,-0.26573077,0.24288002,-0.26525405,-0.24069569,-0.08849028,0.09865475,-0.28550455,0.24203254,0.3030842,0.08016977,0.22096992,-0.33082545,-0.33520395,0.10689972,-0.1895839,-0.17812568,0.029622952,-0.35478354,-0.25656772,0.17900354,0.20110783,0.32573584,0.13377094,-0.21394807,0.0792517,-0.29007727,0.31929165,0.3633767,-0.20808654,0.1380788,0.16283138,0.20672219,-0.20603853,-0.071099915,-0.02874511,0.22932082,-0.3737452,-0.10686933,-0.2855575,-0.028197799,0.23519999,0.012144312,0.2173153,-0.14788233,0.06860562,-0.3225981,-0.33455068,-0.22325237,0.2665203,0.23747753,-0.054221552,-0.1754774,-0.22427636,0.24694069,0.12918058,-0.21832655,0.20945874,0.28244528,-0.22178698,-0.07554902,-0.029310077,-0.12155844,0.1380788,-0.23059691,0.30006516,-0.21620792,-0.11490244,-0.22325237,-0.29999948,0.19487554,-0.21841483,-0.29999948,0.27932033,-0.37227982,0.08920923,-0.06825743,0.004270097,-0.1991177,-0.07586682,0.34360287,0.24245629,-0.3225981,-0.039832573,0.24023171,0.23474096,-0.24567445,0.15319164,0.02206653,-0.20054777,-0.16048814,-0.2159431,-0.054627623,-0.13912536,0.15315633,-0.23333347,0.20340301,-0.20554419,0.009266515,0.2991824,0.23159833,0.037355926,0.12856264,0.2796381,-0.27916634,0.16337869,-0.15358497,0.082729764,0.24289766,-0.20626806,0.05091511,-0.21008158,0.23848388,-0.16048814,0.049343802,0.049343802,0.27427092,0.124413684,-0.31313494,-0.2947912,-0.24203749,-0.31620693,0.33911845,-0.041686367,-0.35548976,-0.20686834,0.30959898,0.13592486,0.047242835,0.08140563,-0.20603853,0.29660475,-0.05111424,-0.29330814,-0.24666314,0.21394315,-0.11382547,-0.1997886,0.12868623,-0.10803458,-0.015027028,-0.2830152,-0.19422722,0.35938662,0.12557893,-0.27957243,-0.16048814,0.36385337,-0.21244738,-0.34422573,0.35467267,-0.1060572,-0.18668845,-0.34976947,0.2188866,-0.119898856,-0.20139523,-0.35928562,0.20497432,0.17107634,0.29829964,0.31983897,0.195723,-0.37318024,0.09865475,0.18594202,0.12473147,0.01611673,0.093675986,-0.34009442,0.27956748,-0.18921313,-0.11123016,-0.24669845,0.2077462,0.28896004,0.24475145,0.3271659,0.06240864,0.07693886,0.20437405,0.23850152,0.23993158,-0.20808654,-0.13448204,0.06955899,0.33096176,-0.21285345,-0.001891565,-0.071099915,-0.27983725,0.20779915,0.2899311,0.066734165,0.23610042,0.12513754,-0.26820248,0.24227974,-0.030563595,0.18987913,0.2717992,0.351124,0.07457307,-0.2385241,-0.14738798,0.29496282,-0.21394807,-0.3480569,0.17029953,0.23994924,0.2173153,0.3099344,-0.20254281,-0.06296087,-0.17840816,-0.32732973,0.23477627,-0.2076275,-0.14360978,-0.24666314,0.12882748,0.15389785,-0.21562532,0.16175441,-0.23520494,0.2589992,0.14584708,0.25843424,0.36863792,0.17831498,-0.25079447,-0.050390378,-0.024684418,0.2448927,-0.32307482,0.012585692,-0.13141005,-0.2385241,0.23477627,0.20575115,0.21572633,0.016734663,-0.18287493,-0.033865117,-0.21562532,0.24517517,0.20232604,-0.07088806,0.2479647,-0.0036747393,-0.325882,-0.2855575,-0.09925994,-0.3707968,-0.25792718,-0.30805025,-0.36680672,0.16883415,-0.17286442,0.21265432,-0.2445622,-0.24343225,-0.24221404,-0.09733553,0.031617988,-0.0022093584,0.2812977,-0.23637016,0.1997837,0.20993543,0.2843697,0.062161468,-0.27323422,0.20472714,0.27012196,-0.23455168,-0.33373854,-0.34355485,0.19401045,-0.21596076,-0.21509564,0.20497432,-0.031711183,0.34660423,0.020512873,0.2448574,0.17035249,0.026056603,-0.30552557,0.17831498,0.17250642,0.35276592,-0.13073914,0.16175441,-0.111424364,-0.079415515,0.34983516,0.055222977,-0.19555135,-0.27754208,0.030170262,0.34593335,-0.0044162576,0.01989494,0.21466702,0.11311436,0.013433141,0.22342399,-0.14021997,-0.15771627,-0.24371472,-0.05210293,-0.24721046,-0.3733568,-0.20406115,-0.27323422,0.21381958,-0.24643363,-0.20192488,0.14936046,-0.20808654,0.23474096,0.18647169,-0.27796578,-0.32416943,-0.19067852,0.045212485,0.24203254,0.033030406,-0.24258481,0.19487554,-0.085771374,-0.2006537,0.2993413,-0.24258481,-0.2693324,0.09131019,-0.25935724,-0.30805025,-0.24420908,0.2414676,0.36461255,0.02588005,0.34838742,0.22764356,-0.018822894,0.25573298,0.21886896,0.28629413,-0.35711405,0.24083199,0.05091511,-0.21479551,-0.22651857,-0.14696427,0.23452911,0.020512873,-0.19337976,0.19558175,0.3099344,0.20742838,-0.2159431,0.22333571,-0.22217539,-0.20134225,0.26320115,-0.07067619,0.21482591,0.28313383,-0.053956725,0.047295798,-0.10909389,0.28002653,-0.18797727,-0.34975183,0.34360287,-0.23017319,0.24544002,-0.35928562,0.008683895,0.062373333,0.05841857,-0.07877992,-0.3141766,0.22066978,0.1426515,0.18099856,0.22171141,0.027733846,-0.20994034,-0.21657868,0.28244528,0.21482591,0.20059584,-0.10637499,0.24072607,-0.100990154,-0.12155844,0.19888328,-0.30238295,-0.09881856,0.24515752,-0.12101114,0.08016977,0.20158453,-0.347898,-0.11267789,-0.24283198,0.27162266,0.26768553,-0.19226749,-0.19694611,0.2665203,0.34162548,0.023249427,0.029940747,-0.21513097,-0.18118003,-0.1772959,0.02301991,-0.2887708,-0.09925994,-0.05731121,0.15223826,-0.27358732,0.20026037,-0.25792718,-0.18087989,-0.2246118,-0.36030963,-0.33255565,0.28948972,-0.046029545,0.26694402,0.28738874,-0.27996084,0.21590288,0.009001688,0.34337336,-0.052667893,0.3066329,0.10402193,0.29171425,-0.32416943,-0.3072381,0.24369214,-0.27754208,0.1404799,-0.36940202,-0.25792718,0.3700327,-0.24150783,0.20361488,0.06814658,-0.27983725,-0.20137757,-0.27703008,0.29496282,0.19900687,0.10968924,0.13719603,-0.16703822,0.29187316,-0.11490244,0.22932082,0.34162548,0.29487455,0.24014345,-0.020482482,-0.16407214,-0.2399365,-0.15616263,-0.12791431,-0.29736885,0.19750617,-0.29007727,-0.3696139,-0.34973416,0.009001688,0.2096353,-0.36202216,0.30290765,-0.24258481,0.2350764,0.077574454,-0.37406301,-0.10178464,0.15184985,-0.033776842,-0.2528954,-0.18921313,0.025756463,0.36385337,-0.100990154,-0.040662367,-0.1287088,0.0952473,0.05091511,-0.3116519,0.3099344,0.07937528,0.10712924,-0.2478637,-0.34014738,-0.16048814,0.2653021,0.28143895,-0.25656772,-0.037872843,0.01989494,-0.23462231,0.14025038,-0.27766567,0.20050755,-0.2339867,0.27248776,0.33486354,-0.23569927,-0.008830056,0.20308521,-0.01956441,0.21064164,0.02430874,0.3653541,-0.20540296,0.1207061,-0.20750391,0.13829066,0.15386255,-0.13561198,-0.34000614,-0.12913252,-0.24648659,0.13467135,0.16858697,-0.21244738,0.20220245,0.22651365,-0.2246118,-0.22007442,-0.05023148,0.15207937,0.17250642,0.12868623,-0.3116519,-0.2859989,0.034619372,-0.27699476,0.32559457,0.2467818,0.23602977,0.20566288,0.20343831,-0.27078015,0.044400346,-0.2543255,0.3093518,0.05986629,0.035819925,0.13883798,-0.14002576,0.026603913,-0.3710793,-0.21077013,0.28004417,-0.34438464,0.085360385,-0.32634103,-0.347898,-0.25955144,-0.34973416,-0.14216205,0.020512873,-0.026043868,0.31263566,0.22086397,-0.10178464,-0.22136325,0.24431008,-0.015380131,-0.27967834,0.16500296,-0.36640066,0.0450889,0.1518322,-0.051537964,0.15619303,-0.08098682,0.0045525795,0.27965575,-0.19666363,0.22171141,-0.009589229,-0.09030876,-0.20098916,0.1487955,-0.18488762,0.23611808,-0.26371807,-0.21364793,-0.16652623,-0.16774443,-0.20051247,-0.24283198,0.014227624,-0.27281046,0.2436745,-0.24555089,-0.02636166,-0.20127162,0.30876917,-0.24503887,-0.077844195,0.05559374,0.121959604,0.19980136,0.35267764,-0.21077013,0.10629945,-0.19067852,-0.32732973,-0.37318024,-0.27916634,-0.026255729,0.20043693,-0.20808654,0.24480441,0.019065147,-0.035595328,-0.16845064,-0.26371807,0.27879065,-0.1895839,0.2676679,-0.2054206,-0.34507316,-0.35824394,0.19881266,-0.20822778,-0.11786851,-0.20667413],\"type\":\"scatter3d\"}],                        {\"template\":{\"data\":{\"histogram2dcontour\":[{\"type\":\"histogram2dcontour\",\"colorbar\":{\"outlinewidth\":0,\"ticks\":\"\"},\"colorscale\":[[0.0,\"#0d0887\"],[0.1111111111111111,\"#46039f\"],[0.2222222222222222,\"#7201a8\"],[0.3333333333333333,\"#9c179e\"],[0.4444444444444444,\"#bd3786\"],[0.5555555555555556,\"#d8576b\"],[0.6666666666666666,\"#ed7953\"],[0.7777777777777778,\"#fb9f3a\"],[0.8888888888888888,\"#fdca26\"],[1.0,\"#f0f921\"]]}],\"choropleth\":[{\"type\":\"choropleth\",\"colorbar\":{\"outlinewidth\":0,\"ticks\":\"\"}}],\"histogram2d\":[{\"type\":\"histogram2d\",\"colorbar\":{\"outlinewidth\":0,\"ticks\":\"\"},\"colorscale\":[[0.0,\"#0d0887\"],[0.1111111111111111,\"#46039f\"],[0.2222222222222222,\"#7201a8\"],[0.3333333333333333,\"#9c179e\"],[0.4444444444444444,\"#bd3786\"],[0.5555555555555556,\"#d8576b\"],[0.6666666666666666,\"#ed7953\"],[0.7777777777777778,\"#fb9f3a\"],[0.8888888888888888,\"#fdca26\"],[1.0,\"#f0f921\"]]}],\"heatmap\":[{\"type\":\"heatmap\",\"colorbar\":{\"outlinewidth\":0,\"ticks\":\"\"},\"colorscale\":[[0.0,\"#0d0887\"],[0.1111111111111111,\"#46039f\"],[0.2222222222222222,\"#7201a8\"],[0.3333333333333333,\"#9c179e\"],[0.4444444444444444,\"#bd3786\"],[0.5555555555555556,\"#d8576b\"],[0.6666666666666666,\"#ed7953\"],[0.7777777777777778,\"#fb9f3a\"],[0.8888888888888888,\"#fdca26\"],[1.0,\"#f0f921\"]]}],\"heatmapgl\":[{\"type\":\"heatmapgl\",\"colorbar\":{\"outlinewidth\":0,\"ticks\":\"\"},\"colorscale\":[[0.0,\"#0d0887\"],[0.1111111111111111,\"#46039f\"],[0.2222222222222222,\"#7201a8\"],[0.3333333333333333,\"#9c179e\"],[0.4444444444444444,\"#bd3786\"],[0.5555555555555556,\"#d8576b\"],[0.6666666666666666,\"#ed7953\"],[0.7777777777777778,\"#fb9f3a\"],[0.8888888888888888,\"#fdca26\"],[1.0,\"#f0f921\"]]}],\"contourcarpet\":[{\"type\":\"contourcarpet\",\"colorbar\":{\"outlinewidth\":0,\"ticks\":\"\"}}],\"contour\":[{\"type\":\"contour\",\"colorbar\":{\"outlinewidth\":0,\"ticks\":\"\"},\"colorscale\":[[0.0,\"#0d0887\"],[0.1111111111111111,\"#46039f\"],[0.2222222222222222,\"#7201a8\"],[0.3333333333333333,\"#9c179e\"],[0.4444444444444444,\"#bd3786\"],[0.5555555555555556,\"#d8576b\"],[0.6666666666666666,\"#ed7953\"],[0.7777777777777778,\"#fb9f3a\"],[0.8888888888888888,\"#fdca26\"],[1.0,\"#f0f921\"]]}],\"surface\":[{\"type\":\"surface\",\"colorbar\":{\"outlinewidth\":0,\"ticks\":\"\"},\"colorscale\":[[0.0,\"#0d0887\"],[0.1111111111111111,\"#46039f\"],[0.2222222222222222,\"#7201a8\"],[0.3333333333333333,\"#9c179e\"],[0.4444444444444444,\"#bd3786\"],[0.5555555555555556,\"#d8576b\"],[0.6666666666666666,\"#ed7953\"],[0.7777777777777778,\"#fb9f3a\"],[0.8888888888888888,\"#fdca26\"],[1.0,\"#f0f921\"]]}],\"mesh3d\":[{\"type\":\"mesh3d\",\"colorbar\":{\"outlinewidth\":0,\"ticks\":\"\"}}],\"scatter\":[{\"fillpattern\":{\"fillmode\":\"overlay\",\"size\":10,\"solidity\":0.2},\"type\":\"scatter\"}],\"parcoords\":[{\"type\":\"parcoords\",\"line\":{\"colorbar\":{\"outlinewidth\":0,\"ticks\":\"\"}}}],\"scatterpolargl\":[{\"type\":\"scatterpolargl\",\"marker\":{\"colorbar\":{\"outlinewidth\":0,\"ticks\":\"\"}}}],\"bar\":[{\"error_x\":{\"color\":\"#2a3f5f\"},\"error_y\":{\"color\":\"#2a3f5f\"},\"marker\":{\"line\":{\"color\":\"#E5ECF6\",\"width\":0.5},\"pattern\":{\"fillmode\":\"overlay\",\"size\":10,\"solidity\":0.2}},\"type\":\"bar\"}],\"scattergeo\":[{\"type\":\"scattergeo\",\"marker\":{\"colorbar\":{\"outlinewidth\":0,\"ticks\":\"\"}}}],\"scatterpolar\":[{\"type\":\"scatterpolar\",\"marker\":{\"colorbar\":{\"outlinewidth\":0,\"ticks\":\"\"}}}],\"histogram\":[{\"marker\":{\"pattern\":{\"fillmode\":\"overlay\",\"size\":10,\"solidity\":0.2}},\"type\":\"histogram\"}],\"scattergl\":[{\"type\":\"scattergl\",\"marker\":{\"colorbar\":{\"outlinewidth\":0,\"ticks\":\"\"}}}],\"scatter3d\":[{\"type\":\"scatter3d\",\"line\":{\"colorbar\":{\"outlinewidth\":0,\"ticks\":\"\"}},\"marker\":{\"colorbar\":{\"outlinewidth\":0,\"ticks\":\"\"}}}],\"scattermapbox\":[{\"type\":\"scattermapbox\",\"marker\":{\"colorbar\":{\"outlinewidth\":0,\"ticks\":\"\"}}}],\"scatterternary\":[{\"type\":\"scatterternary\",\"marker\":{\"colorbar\":{\"outlinewidth\":0,\"ticks\":\"\"}}}],\"scattercarpet\":[{\"type\":\"scattercarpet\",\"marker\":{\"colorbar\":{\"outlinewidth\":0,\"ticks\":\"\"}}}],\"carpet\":[{\"aaxis\":{\"endlinecolor\":\"#2a3f5f\",\"gridcolor\":\"white\",\"linecolor\":\"white\",\"minorgridcolor\":\"white\",\"startlinecolor\":\"#2a3f5f\"},\"baxis\":{\"endlinecolor\":\"#2a3f5f\",\"gridcolor\":\"white\",\"linecolor\":\"white\",\"minorgridcolor\":\"white\",\"startlinecolor\":\"#2a3f5f\"},\"type\":\"carpet\"}],\"table\":[{\"cells\":{\"fill\":{\"color\":\"#EBF0F8\"},\"line\":{\"color\":\"white\"}},\"header\":{\"fill\":{\"color\":\"#C8D4E3\"},\"line\":{\"color\":\"white\"}},\"type\":\"table\"}],\"barpolar\":[{\"marker\":{\"line\":{\"color\":\"#E5ECF6\",\"width\":0.5},\"pattern\":{\"fillmode\":\"overlay\",\"size\":10,\"solidity\":0.2}},\"type\":\"barpolar\"}],\"pie\":[{\"automargin\":true,\"type\":\"pie\"}]},\"layout\":{\"autotypenumbers\":\"strict\",\"colorway\":[\"#636efa\",\"#EF553B\",\"#00cc96\",\"#ab63fa\",\"#FFA15A\",\"#19d3f3\",\"#FF6692\",\"#B6E880\",\"#FF97FF\",\"#FECB52\"],\"font\":{\"color\":\"#2a3f5f\"},\"hovermode\":\"closest\",\"hoverlabel\":{\"align\":\"left\"},\"paper_bgcolor\":\"white\",\"plot_bgcolor\":\"#E5ECF6\",\"polar\":{\"bgcolor\":\"#E5ECF6\",\"angularaxis\":{\"gridcolor\":\"white\",\"linecolor\":\"white\",\"ticks\":\"\"},\"radialaxis\":{\"gridcolor\":\"white\",\"linecolor\":\"white\",\"ticks\":\"\"}},\"ternary\":{\"bgcolor\":\"#E5ECF6\",\"aaxis\":{\"gridcolor\":\"white\",\"linecolor\":\"white\",\"ticks\":\"\"},\"baxis\":{\"gridcolor\":\"white\",\"linecolor\":\"white\",\"ticks\":\"\"},\"caxis\":{\"gridcolor\":\"white\",\"linecolor\":\"white\",\"ticks\":\"\"}},\"coloraxis\":{\"colorbar\":{\"outlinewidth\":0,\"ticks\":\"\"}},\"colorscale\":{\"sequential\":[[0.0,\"#0d0887\"],[0.1111111111111111,\"#46039f\"],[0.2222222222222222,\"#7201a8\"],[0.3333333333333333,\"#9c179e\"],[0.4444444444444444,\"#bd3786\"],[0.5555555555555556,\"#d8576b\"],[0.6666666666666666,\"#ed7953\"],[0.7777777777777778,\"#fb9f3a\"],[0.8888888888888888,\"#fdca26\"],[1.0,\"#f0f921\"]],\"sequentialminus\":[[0.0,\"#0d0887\"],[0.1111111111111111,\"#46039f\"],[0.2222222222222222,\"#7201a8\"],[0.3333333333333333,\"#9c179e\"],[0.4444444444444444,\"#bd3786\"],[0.5555555555555556,\"#d8576b\"],[0.6666666666666666,\"#ed7953\"],[0.7777777777777778,\"#fb9f3a\"],[0.8888888888888888,\"#fdca26\"],[1.0,\"#f0f921\"]],\"diverging\":[[0,\"#8e0152\"],[0.1,\"#c51b7d\"],[0.2,\"#de77ae\"],[0.3,\"#f1b6da\"],[0.4,\"#fde0ef\"],[0.5,\"#f7f7f7\"],[0.6,\"#e6f5d0\"],[0.7,\"#b8e186\"],[0.8,\"#7fbc41\"],[0.9,\"#4d9221\"],[1,\"#276419\"]]},\"xaxis\":{\"gridcolor\":\"white\",\"linecolor\":\"white\",\"ticks\":\"\",\"title\":{\"standoff\":15},\"zerolinecolor\":\"white\",\"automargin\":true,\"zerolinewidth\":2},\"yaxis\":{\"gridcolor\":\"white\",\"linecolor\":\"white\",\"ticks\":\"\",\"title\":{\"standoff\":15},\"zerolinecolor\":\"white\",\"automargin\":true,\"zerolinewidth\":2},\"scene\":{\"xaxis\":{\"backgroundcolor\":\"#E5ECF6\",\"gridcolor\":\"white\",\"linecolor\":\"white\",\"showbackground\":true,\"ticks\":\"\",\"zerolinecolor\":\"white\",\"gridwidth\":2},\"yaxis\":{\"backgroundcolor\":\"#E5ECF6\",\"gridcolor\":\"white\",\"linecolor\":\"white\",\"showbackground\":true,\"ticks\":\"\",\"zerolinecolor\":\"white\",\"gridwidth\":2},\"zaxis\":{\"backgroundcolor\":\"#E5ECF6\",\"gridcolor\":\"white\",\"linecolor\":\"white\",\"showbackground\":true,\"ticks\":\"\",\"zerolinecolor\":\"white\",\"gridwidth\":2}},\"shapedefaults\":{\"line\":{\"color\":\"#2a3f5f\"}},\"annotationdefaults\":{\"arrowcolor\":\"#2a3f5f\",\"arrowhead\":0,\"arrowwidth\":1},\"geo\":{\"bgcolor\":\"white\",\"landcolor\":\"#E5ECF6\",\"subunitcolor\":\"white\",\"showland\":true,\"showlakes\":true,\"lakecolor\":\"white\"},\"title\":{\"x\":0.05},\"mapbox\":{\"style\":\"light\"}}}},                        {\"responsive\": true}                    ).then(function(){\n",
       "                            \n",
       "var gd = document.getElementById('cc05fccd-1321-444e-b716-58ac99a8d96c');\n",
       "var x = new MutationObserver(function (mutations, observer) {{\n",
       "        var display = window.getComputedStyle(gd).display;\n",
       "        if (!display || display === 'none') {{\n",
       "            console.log([gd, 'removed!']);\n",
       "            Plotly.purge(gd);\n",
       "            observer.disconnect();\n",
       "        }}\n",
       "}});\n",
       "\n",
       "// Listen for the removal of the full notebook cells\n",
       "var notebookContainer = gd.closest('#notebook-container');\n",
       "if (notebookContainer) {{\n",
       "    x.observe(notebookContainer, {childList: true});\n",
       "}}\n",
       "\n",
       "// Listen for the clearing of the current output cell\n",
       "var outputEl = gd.closest('.output');\n",
       "if (outputEl) {{\n",
       "    x.observe(outputEl, {childList: true});\n",
       "}}\n",
       "\n",
       "                        })                };                });            </script>        </div>"
      ]
     },
     "metadata": {},
     "output_type": "display_data"
    }
   ],
   "source": [
    "# Transformed data point\n",
    "transformed = transformer(dataset[sample_idx])\n",
    "visualize_3d_shape(transformed.pos)"
   ]
  },
  {
   "cell_type": "markdown",
   "metadata": {
    "id": "hw_WQsbfdNAr"
   },
   "source": [
    "Let's see how the number of points has decreased significantly..."
   ]
  },
  {
   "cell_type": "code",
   "execution_count": 14,
   "metadata": {
    "colab": {
     "base_uri": "https://localhost:8080/"
    },
    "execution": {
     "iopub.execute_input": "2022-12-03T08:51:45.467896Z",
     "iopub.status.busy": "2022-12-03T08:51:45.466742Z",
     "iopub.status.idle": "2022-12-03T08:51:45.474419Z",
     "shell.execute_reply": "2022-12-03T08:51:45.473234Z",
     "shell.execute_reply.started": "2022-12-03T08:51:45.467852Z"
    },
    "id": "HCVs8Z8HauNm",
    "outputId": "7d8201db-9c87-4a65-b143-704f650fe9b1",
    "trusted": true
   },
   "outputs": [
    {
     "name": "stdout",
     "output_type": "stream",
     "text": [
      "Before: 2713   After: 800\n"
     ]
    }
   ],
   "source": [
    "print(\"Before:\", len(dataset[sample_idx].pos), \"  After:\", len(transformed.pos))"
   ]
  },
  {
   "cell_type": "code",
   "execution_count": 15,
   "metadata": {
    "colab": {
     "base_uri": "https://localhost:8080/",
     "height": 542
    },
    "execution": {
     "iopub.execute_input": "2022-12-03T08:51:45.476735Z",
     "iopub.status.busy": "2022-12-03T08:51:45.476247Z",
     "iopub.status.idle": "2022-12-03T08:51:45.785862Z",
     "shell.execute_reply": "2022-12-03T08:51:45.784877Z",
     "shell.execute_reply.started": "2022-12-03T08:51:45.476698Z"
    },
    "id": "JU_NCJ1Zjw4F",
    "outputId": "b3fb66ac-1759-42f7-fdad-42972af6ad1b",
    "trusted": true
   },
   "outputs": [
    {
     "data": {
      "text/html": [
       "<div>                            <div id=\"a1fdc6e0-babb-401f-8688-018017dd9bd9\" class=\"plotly-graph-div\" style=\"height:525px; width:100%;\"></div>            <script type=\"text/javascript\">                require([\"plotly\"], function(Plotly) {                    window.PLOTLYENV=window.PLOTLYENV || {};                                    if (document.getElementById(\"a1fdc6e0-babb-401f-8688-018017dd9bd9\")) {                    Plotly.newPlot(                        \"a1fdc6e0-babb-401f-8688-018017dd9bd9\",                        [{\"mode\":\"markers\",\"x\":[0.44781715,0.43321425,0.14515352,0.116933465,-0.49945888,0.34634522,-0.03473121,0.098488726,-0.23482229,0.25713053,0.45178837,-0.2833964,0.3574807,0.11466762,-0.28287482,-0.32616895,-0.35172647,0.20376052,-0.34968066,0.23499626,0.03627366,0.20809963,-0.2177267,-0.15427113,0.27333033,0.19665839,-0.33045512,-0.017460583,-0.31048453,0.27099803,-0.04389265,-0.34339345,0.29274878,0.0842409,-0.25911906,-0.1405873,-0.2098857,0.066262305,0.2955822,-0.2543652,0.21186286,-0.00046670594,-0.250945,0.2927296,-0.31762198,-0.39314047,0.23407638,0.04348169,-0.38629207,0.059807807,-0.28817824,-0.25794798,-0.06588018,-0.19268057,0.15863109,0.30266622,0.16656564,-0.0040748566,-0.23709276,-0.2789015,-0.33821568,0.22064446,0.019084673,0.20330586,-0.27688956,0.1830177,0.077289686,0.24377735,0.12459978,0.05512607,0.032408103,-0.17007859,-0.13635384,0.12402541,-0.10287825,0.34574854,-0.04344614,-0.13830517,0.24828999,0.22638848,-0.3633384,-0.2392272,0.36190644,-0.015578456,0.28922686,-0.09918543,-0.15359125,0.07909295,0.2923333,-0.17499691,0.23213942,0.44346985,-0.3601218,0.3186524,-0.38428077,0.017333036,0.14453329,0.22798748,0.34960678,-0.27294835,-0.24120465,0.0030013311,-0.2563104,0.27457651,-0.064991206,0.08149792,-0.3954336,0.12983777,-0.048666403,0.24474092,-0.30436736,-0.19564998,-0.41745585,-0.14488685,-0.096340925,0.155224,0.44203025,-0.1056527,0.05906472,-0.062502965,0.0047488017,-0.22233826,0.13998331,0.04165609,0.10285019,0.14696915,0.32363895,0.23453926,-0.40330902,0.07708573,0.179868,0.30390808,0.08012869,0.3725275,0.2328462,-0.29183292,0.022621598,-0.1794297,-0.22428508,-0.24039142,0.31781456,-0.21190545,0.39423132,-0.27481812,0.18580592,-0.28285953,-0.21463563,-0.01518626,0.2152956,0.44894788,-0.17899637,0.15021542,0.39335293,-0.22746101,0.09042897,-0.0009705393,0.023410806,-0.014223003,-0.028251613,-0.15599854,0.117439605,-0.09230485,-0.06905687,0.15456721,-0.2786133,0.18457595,-0.2603761,-0.1543962,0.12007206,0.48626637,-0.12133252,-0.26304796,-0.0038260878,0.37204298,-0.25840467,0.340686,0.040004075,-0.1838152,-0.24562608,-0.19931935,-0.07292368,0.3192352,-0.1401015,-0.10266377,0.027704846,-0.078729264,0.21027672,0.16220447,-0.38741243,-0.19823556,-0.2081442,0.31331387,-0.08279192,0.2823412,0.37065634,0.17372695,-0.055090543,0.20873314,-0.15151918,-0.06889657,0.008273212,-0.25298062,0.310411,-0.44166914,0.117484,0.13109021,-0.12575123,-0.054431226,0.12273806,0.3246408,0.22621228,-0.32706815,0.07608433,-0.19028793,-0.0604557,-0.40972224,0.2131182,0.11725853,-0.22263953,0.204968,0.3483929,0.28246674,-0.19580047,-0.34561664,-0.049995933,-0.31175643,-0.24330482,-0.08726734,-0.2822218,-0.10104275,-0.4216664,-0.22071531,-0.052958816,-0.12530768,0.33239633,0.08586949,0.4723217,-0.32669908,0.08134449,0.05696205,0.25778732,0.14702143,0.16532807,-0.0053353687,-0.15681031,0.16645202,-0.19463848,-0.027522277,-0.30154365,0.07852032,-0.44794616,-0.024806768,0.36360386,0.29290098,0.045114923,-0.19168241,0.022529976,0.22452384,0.04010166,-0.17658734,0.055112936,0.28555173,0.034931522,-0.09823874,-0.14894475,0.12559421,0.25865167,-0.118285,-0.06818211,0.24994367,0.08582952,-0.13304724,0.038232796,-0.20601942,-0.14832519,0.076297015,-0.06775563,0.14745557,-0.10508467,-0.2838805,0.028034769,0.25989097,-0.065671965,-0.07647467,-0.43690836,0.19169895,0.1654839,0.005499342,0.27201253,-0.06667893,0.13834427,0.21522278,0.17279091,0.0177449,0.44093907,-0.04076265,-0.12037617,-0.08203765,-0.3830803,-0.3390353,-0.21172374,0.25056136,0.27682343,0.100348815,-0.29594156,0.07027687,0.1035008,-0.3862777,-0.26911166,0.05543712,0.23564671,-0.21897231,-0.07941244,-0.08511873,0.16211328,-0.0412201,0.06706604,0.1900173,0.30182526,0.16448252,0.030724935,-0.09834955,-0.0074096248,0.20402974,-0.2128231,-0.27916816,0.19487302,-0.14615719,0.124366015,0.034625042,-0.36514938,0.33963275,-0.37565365,0.18480492,0.15716411,0.16886377,0.17904735,-0.33145946,-0.14051133,0.43180862,0.22340895,-0.113043696,-0.40192175,-0.22836384,0.43793222,0.05250215,0.008342003,-0.265464,0.30025297,-0.23284534,-0.22270876,0.41179052,-0.3466382,0.2891381,0.31577954,-0.24536182,-0.20554326,-0.036238067,0.2997233,-0.12380042,0.14101793,0.30612275,-0.028226925,-0.20069152,0.35497344,-0.43726087,0.10153525,0.39967105,-0.2812991,0.21959962,0.116326675,-0.40729475,0.3428054,-0.083769724,-0.086765856,0.2680066,0.07293249,0.07368425,-0.012408409,-0.2965582,-0.21530315,-0.02274956,0.40810832,-0.48070514,0.2672999,-0.3260627,0.21600382,0.20444377,0.21231572,0.26310953,0.13725495,0.41438067,0.28604496,-0.23511681,0.11036607,0.36352158,0.023701636,0.16607589,0.3326131,0.16414762,0.43617818,0.3400709,-0.32929555,0.024144832,0.16720094,0.13020244,-0.36627603,0.17718147,0.08899014,-0.09711305,-0.19198212,-0.021764465,-0.077668466,-0.2609836,0.09909605,-0.015207661,0.09356514,0.28869095,0.19278108,0.27178922,-0.5139147,0.18556076,0.21311541,-0.35800707,0.09437407,0.3647103,0.01123673,-0.12873217,0.30682263,0.1350654,-0.22898607,-0.15586248,0.37442902,-0.12801565,-0.0055804835,0.08931676,0.06789359,-0.03131029,0.29794493,0.058858406,0.2378386,-0.3556991,0.16630052,0.2955909,-0.1966318,0.18989213,-0.14776093,0.0838867,0.18043227,0.17792428,0.296351,0.012359069,0.41689682,0.1356433,-0.067685716,0.28764424,-0.14695668,-0.28350013,-0.21848118,0.16787378,0.26377675,-0.17553404,-0.15710062,0.18788075,-0.22769207,0.2648195,0.20504092,-0.26028508,-0.49145868,-0.46911624,-0.44208893,-0.2755956,-0.12210421,0.25022113,-0.112865165,-0.082786836,-0.32590958,0.050372157,0.40581143,-0.2946698,-0.1813288,0.313799,-0.15072393,-0.04555056,-0.23974948,-0.049291726,-0.10214624,-0.31184998,-0.44436628,-0.12808023,-0.092682526,0.05636421,0.13556199,-0.4610733,-0.061535183,-0.375698,-0.2448078,0.18929261,-0.3565341,-0.20230427,0.25653607,0.3135544,0.0606525,0.17535011,0.10263072,0.09758117,-0.27172476,0.025089486,-0.17582352,-0.11218347,0.3064613,0.24413933,-0.3613142,0.32913363,-0.11217749,0.23663037,-0.24624561,0.36213574,0.118722364,-0.25777668,-0.40342107,0.3566196,0.054590724,0.05432179,0.3704796,-0.30322614,-0.0042533986,0.0030325442,0.07341693,0.00432742,0.074566975,0.30832914,-0.1676643,-0.23297036,0.06046507,-0.21319833,-0.27060717,-0.0044766027,0.25666878,0.26993352,0.05735404,-0.13598183,0.004235869,0.20665984,-0.19131777,0.28301817,0.20069857,0.0054627527,-0.27016073,-0.2893166,0.1597748,0.10016961,0.17307794,0.012960527,0.34476486,-0.34061506,0.19071332,0.2235914,-0.043745864,-0.09027114,0.3133459,-0.05370328,0.42859802,-0.21210279,-0.0973499,-0.106537454,0.097827554,0.015714299,-0.15894018,-0.09926382,0.020036818,0.084435284,-0.062109493,0.2921459,0.19009495,-0.20010117,-0.13529089,0.12607199,-0.34745267,-0.033349525,-0.071099296,0.3352872,0.3465189,-0.037834134,-0.17340548,-0.24733871,0.029879786,-0.35594788,0.030359305,0.003849258,0.040440504,0.22894882,-0.008736256,0.15708278,-0.13372067,0.46047935,-0.018671487,0.05498762,-0.23108757,0.028279888,0.0704376,0.19751298,-0.108527355,-0.045803875,-0.17932041,-0.14022546,0.37585407,-0.06475084,-0.219684,0.21343288,-0.2938593,0.15850137,0.23741643,-0.20481007,0.13155395,0.1287269,0.30977115,-0.2516997,-0.027371299,-0.28003737,0.11899893,0.016202189,-0.24195449,0.23466761,-0.0505804,-0.1181694,-0.33696923,0.1909154,-0.10262988,0.10295591,0.20853359,0.19214968,-0.32856652,-0.16171256,-0.09322739,-0.12516363,-0.05847316,-0.04021934,-0.17272945,-0.1753672,-0.08094987,-0.47407448,-0.3189756,-0.29951507,-0.09416469,0.10315689,0.18835615,-0.30259985,-0.31658885,-0.34432557,-0.3525937,0.11260599,-0.2756836,0.12809378,0.27349856,-0.16472076,0.2772685,0.04452333,0.1581787,0.27885118,0.42451409,-0.034117952,-0.25274634,0.040412832,-0.02525015,-0.06898111,-0.3122356,-0.32408616,0.19721241,-0.45019582,-0.21940134,-0.18691754,-0.24456632,-0.3310062,0.052921895,-0.07854134,-0.006660994,0.2827395,0.26298004,-0.26188895,-0.26537436,-0.027349902,0.24100891,0.14552292,0.39507067,0.03762517,0.2744772,0.43100733,0.29400313,0.0510199,-0.39853573,-0.3881148,0.050390527,-0.24450904,-0.392697,0.16037449,-0.2505582,-0.31573522,-0.29288718,0.03680045,0.4918777,0.1662265,-0.2463086,0.12973621,0.12254557,-0.25869805,-0.2653527,0.31087148,0.21793126,-0.20263617,0.22694047,-0.21225591,-0.3606085,-0.363059,-0.33017462,0.23264274,-0.1828266,0.379353,0.47494158,-0.30081683,0.36348182,-0.12259856,0.2921621,0.17661847,-0.20281328,-0.31347588,-0.21775807,-0.10422099,0.24728967,-0.10636944,0.084754206,0.26373604,0.058987938,-0.08518538,0.36216313,0.17982431,0.16196968,0.21016996,-0.25085017,0.037726283,-0.1819125,0.004506344,-0.12167501,-0.3158854,0.27241004,0.22127742,0.14266947,0.1216733,0.16264907,-0.23788585,0.20179982,0.4149725,0.11755407,0.21427363,0.18029504,-0.34195176,-0.29198003,-0.06953459,0.004579399,0.2834414,-0.07628774,-0.35221455,0.10148075,-0.30406767,-0.24269685,-0.15981168,0.24526756,0.16181459,-0.30904844,0.11094024,0.1771248,0.021393577,0.35974646,-0.31745532,0.10765004,0.099741444,0.31281984,-0.25564763,-0.2946308,-0.0821528,-0.079300344,-0.10001463,0.21874768,0.18082087,-0.3886316,-0.21558551,0.10648935,-0.26487473,-0.42094067,-0.03473577,-0.010797365,-0.34108186,0.1526563,-0.18344297,0.044304173,0.11356213,-0.19736136,0.0474382,0.18486826,-0.33383426],\"y\":[-0.24017823,-0.38843244,-0.1440389,-0.1577021,0.847819,-0.050946116,0.07722403,-0.24667417,0.56850564,0.08694162,-0.15808642,-0.28730682,0.09592529,-0.3966634,-0.25893193,-0.45148617,0.4452069,-0.033916373,0.47734788,0.45196173,0.1505365,0.37346178,-0.2061806,-0.11477876,0.11181544,-0.13701257,0.38947788,-0.11449251,-0.3527253,0.15407376,-0.20802853,-0.12587745,0.055820007,-0.43331784,0.41309616,-0.22779407,-0.06415371,0.27688152,-0.051241532,-0.14338426,0.53020674,-0.25125292,-0.12433483,-0.25130975,0.09768635,0.686724,0.53181374,0.51770175,-0.008182882,0.03066662,-0.27142662,0.08112174,-0.30353606,-0.13146825,-0.1354761,0.15491153,0.07111193,-0.19397931,-0.14459756,-0.22897725,0.07563184,-0.3826547,-0.17334485,-0.30103406,0.57065433,-0.13194679,0.49862656,-0.42037985,0.4887476,-0.43433812,-0.09265419,0.12608096,0.032721434,-0.2778738,-0.15926957,-0.40956038,-0.1398719,-0.25528663,0.060603227,-0.22787094,0.17270693,0.41460344,0.130387,-0.074442714,0.04143886,-0.26174122,-0.36244398,-0.36724466,0.09570187,-0.14154673,0.06465397,-0.17426509,0.47798225,0.0678358,0.49708375,0.6733672,-0.12967402,0.5114908,-0.3819529,0.053829465,0.75902295,-0.38660997,-0.25679198,0.072449185,0.09392556,-0.37923276,0.7811181,-0.08601984,-0.12616105,0.48156402,-0.14227082,0.09903823,0.99806523,-0.24018124,-0.36621127,-0.32168666,-0.25317067,-0.10743221,-0.28334063,-0.08111963,-0.32110146,0.037263338,0.6151033,-0.27995697,-0.26942217,-0.07875992,-0.11377909,-0.19254005,0.6639221,-0.22303356,-0.11333938,-0.048205126,0.8532237,-0.26135263,-0.08323043,0.058301773,-0.20035127,-0.43494996,-0.13509837,-0.15677927,0.104890876,-0.14387591,-0.44087943,0.03573399,-0.41458723,0.45831347,-0.29750457,-0.36396396,-0.4065697,-0.32106125,-0.2109508,-0.26735532,-0.16314018,-0.25561696,-0.40983388,0.15715413,-0.21036674,-0.39124262,-0.09270823,-0.12746634,-0.035862684,0.4747781,-0.41260618,0.040391903,0.08385734,0.482776,0.50216216,0.22099434,0.032746814,-0.3208869,-0.45917428,0.12615949,0.11823121,0.1022373,-0.3909656,-0.3459877,-0.3857125,-0.33213603,0.47924972,-0.18139943,-0.101849325,-0.37117147,-0.1923403,0.99551815,-0.09671145,0.058437105,0.1164246,-0.28254005,0.5854699,-0.46848896,-0.24492925,-0.081845425,-0.34622213,-0.33317652,-0.19655383,0.48800558,-0.3178082,-0.39723116,-0.20320202,-0.22432035,-0.10980888,-0.16276166,-0.057807226,0.4761129,-0.2344197,-0.22220418,0.52059543,-0.11252017,0.47214884,0.09981696,-0.07014366,-0.15539654,0.038758837,0.46482506,-0.2754121,0.62053704,0.42720938,-0.15752257,-0.09667556,-0.16599467,-0.20801346,-0.38569298,-0.47175318,0.5369031,-0.29366392,0.11991324,-0.4324888,-0.04725204,-0.30135524,-0.26824343,0.6188146,-0.26336023,0.40755942,-0.22594242,-0.23259126,-0.06389263,-0.33864737,-0.16366398,-0.10073031,0.4755551,0.14569223,-0.22734436,-0.12679367,-0.17907383,-0.049457658,-0.06774859,-0.34869292,-0.43246466,-0.089384206,-0.0611595,0.45749024,-0.19999617,-0.12545584,-0.09981608,0.540732,-0.24532235,0.9992852,-0.17978592,-0.1881984,0.1581263,-0.4103512,0.4896324,0.06250914,0.16916549,-0.40584907,-0.18265231,-0.10379841,0.23123299,-0.38443208,0.5366947,0.5658827,-0.08245218,-0.13728179,-0.29962176,-0.28415573,-0.4440452,-0.4380522,-0.3689317,0.48248994,-0.07094024,-0.025233572,-0.3793535,-0.079267,-0.052950714,0.733603,0.033956625,-0.4279469,-0.16638944,0.4767875,-0.38628635,-0.13767506,0.13287072,-0.07854197,0.11681762,-0.17376253,-0.3659721,-0.22951895,-0.43912935,0.034943845,0.04642062,-0.15092684,-0.09405939,-0.31436592,-0.28233343,-0.39962146,-0.06504005,-0.3168908,0.4391052,-0.17936468,-0.37880176,-0.15398538,-0.081991576,0.14534834,-0.12150769,0.61618024,0.9549351,-0.192367,0.5273457,0.048737396,0.5369297,0.43763986,-0.4601091,-0.2947702,0.57202446,-0.14594753,-0.15822656,-0.3468262,-0.103815466,-0.28125662,0.51855886,-0.21132785,-0.30768543,0.20410341,0.37876981,0.44393605,0.56598234,0.05564186,0.44642463,-0.3891312,-0.22596824,0.099851005,-0.005147816,0.79842615,-0.2185167,-0.33743963,-0.38126972,0.9469967,-0.08830629,-0.3384662,0.53953207,0.29745498,-0.21492955,-0.21396168,0.13730371,0.103523895,0.16269407,0.014519223,-0.27459466,-0.14032224,-0.00006814766,-0.27579245,-0.24063754,0.73834383,-0.11920867,-0.11060027,0.7320402,-0.19006845,-0.24555995,0.72828615,-0.042347815,-0.10825936,0.818732,-0.106577136,-0.20659304,0.066347115,0.35173723,0.30616808,0.566846,0.101297304,0.45910594,-0.16441739,0.98585576,-0.068060525,0.9394448,0.49558938,0.041284908,0.08423609,-0.40867743,-0.4066232,-0.13242698,0.5450674,-0.23824404,0.112950996,-0.28443435,-0.10264219,-0.13926862,0.7628503,0.32781622,-0.12605545,0.5133881,-0.36087587,-0.22552064,0.52979606,1.0281761,0.961488,0.78894955,-0.12005596,-0.3810309,-0.2592157,0.14780231,-0.22618264,-0.42146483,-0.24592762,0.13600177,-0.11217828,-0.3264796,-0.38226917,-0.21446231,0.44892815,-0.25655922,0.9414618,-0.094673194,-0.340255,-0.21664666,-0.37863487,-0.34596932,0.8949829,0.058050677,0.06857964,-0.16167448,-0.39255625,0.1531407,-0.20253111,-0.18542619,0.8983508,-0.1812617,-0.15167895,-0.15111478,-0.35487524,0.48910096,0.52580905,0.486925,0.07472802,0.1880819,0.31496793,0.4945582,-0.17118499,-0.109000176,-0.37200707,0.52435464,-0.3424031,-0.11593404,-0.106986605,-0.3986842,-0.22063334,-0.14933065,-0.47540748,-0.15778652,-0.08721177,0.55029064,-0.22329827,-0.17382863,-0.14006382,0.5801292,0.07251673,0.10259434,0.6412308,0.058611766,0.5283602,0.80676925,0.46417037,-0.41937062,-0.17809942,-0.059058383,0.5136499,-0.44865012,0.0669764,0.44315362,-0.30828807,-0.34060407,-0.0674328,0.4828279,0.47980347,0.5022806,-0.26039797,-0.40704378,0.18293644,0.06596409,0.95906997,-0.23729233,-0.06947956,0.80114937,0.04588151,0.9841161,0.5269697,0.4445429,0.49378496,-0.1446702,0.47270852,0.48870227,-0.30346686,0.12624715,0.43381622,0.4191694,-0.4057455,-0.25611612,0.40752193,0.4881,-0.15719518,-0.049039554,0.5027124,-0.28203684,0.33956578,-0.2843569,0.08777962,0.14814432,-0.4493129,-0.18672071,-0.12983622,0.5144647,0.44022408,-0.37753007,0.54887265,0.47764632,-0.30371612,-0.2811437,-0.1167445,-0.30195546,-0.18010293,-0.2756002,-0.34488234,0.051357985,-0.26511854,-0.20759861,0.47852236,-0.38786453,0.7253765,-0.20790458,0.49302253,0.1738989,-0.09581649,-0.069264494,0.15088639,0.20319955,-0.40016454,-0.42124072,0.3865377,-0.15223314,-0.072569944,-0.03401272,-0.16045937,-0.15464343,0.33359465,-0.06266979,-0.0318536,0.0828998,-0.38479856,0.61751443,0.1511377,-0.3950492,-0.031051954,-0.23979095,-0.31693363,0.3945972,-0.08722233,-0.10972261,0.39932212,0.046538495,-0.22518274,-0.13128832,0.5562806,0.54298764,0.46111828,-0.3869679,-0.06002629,-0.11788542,-0.060995277,0.48421842,0.45511097,-0.17230575,-0.42738166,-0.23911522,-0.35744306,-0.19547704,0.21582988,0.0898019,-0.2061979,-0.30017155,-0.30453292,0.103499755,-0.17280793,-0.16853075,-0.4400917,-0.25103137,0.11470657,-0.34253132,-0.23588523,-0.36252552,-0.29521266,0.042370256,-0.22210366,-0.42736536,0.5046644,0.09252891,0.5242338,-0.0681231,-0.3281202,-0.30984834,0.120157085,-0.3272956,0.02825716,0.7335664,0.486121,0.5488582,0.17704427,-0.39835662,-0.12550607,0.74833924,-0.26208332,0.017873306,0.108481385,0.07294559,-0.40596244,0.48619044,0.53165513,0.5053325,0.7331183,0.5760284,-0.25601658,0.10169363,-0.20532161,-0.41484016,0.50627977,-0.16213188,0.08807779,-0.18641055,0.09034109,-0.23603998,0.33603123,-0.27509844,-0.12562938,0.995257,0.79044074,0.071491905,-0.16178809,0.52673686,-0.4016981,-0.46708286,-0.26312783,-0.23636805,-0.19981378,-0.29913297,0.024974208,-0.16342892,-0.2163721,-0.15269996,0.52607435,-0.33261678,-0.17634532,0.5058061,-0.20145927,-0.077147566,-0.30778524,-0.051727813,0.029722905,-0.28571165,0.52066,-0.40176973,-0.12239184,0.5284821,-0.27865523,0.13695797,0.5700486,0.2293849,0.47528982,0.48912728,-0.3367002,-0.04964149,0.15396127,-0.42639518,0.5828303,-0.16637369,-0.13858716,0.3361011,-0.10603913,0.5595982,-0.10131831,-0.4217483,-0.09315644,-0.034571543,-0.29573682,0.69093496,-0.1590533,0.51767963,0.43062124,0.8585475,0.82586366,-0.30264124,-0.07761631,-0.17283948,-0.29028857,0.53504187,-0.24553181,-0.3922578,-0.21021914,-0.12858981,0.46649212,-0.19881509,0.49153984,0.396066,0.6062878,0.08136894,0.4767126,0.03536271,-0.23853809,0.07423513,-0.22863543,-0.18839274,-0.31264532,-0.2298065,-0.07518135,-0.116136745,-0.11205142,-0.07894817,-0.12374955,-0.28387234,0.14120135,-0.3357569,-0.35091656,0.08817601,-0.38240638,0.12628578,-0.12944318,0.060545214,-0.44280088,0.53802145,0.14799568,-0.2791416,-0.39426503,-0.23004287,-0.48569098,-0.32867062,-0.26510066,0.47001088,-0.36659276,-0.4024409,-0.24051315,-0.44120017,0.005341576,-0.44554502,0.37446028,-0.1189454,-0.043470465,-0.03259229,-0.196419,-0.2165378,0.9167994,0.5233183,-0.20707028,-0.09649295,-0.34839568,0.26954937,0.4388702,0.08422878,0.045186237,0.119894914,-0.12294843,0.5158968,0.016523914,-0.12866165,-0.097824536,-0.4022062,0.10569768,0.429177,0.8987308,-0.31962594,-0.15325437,0.0064417087,-0.19848762,0.063650206,-0.27883515,0.1324105,-0.16921216,0.6352746,0.8450965,0.5650098,-0.34560335,0.04670263,0.5222596,0.52630985,0.5132822,-0.3446533,-0.37903816,-0.062242407,-0.33186576,-0.34596637,0.08401061,0.60167754,0.09374546,-0.3921288],\"z\":[0.04611733,-0.019962115,-0.426203,-0.383645,0.09279112,0.17836638,-0.29768774,0.025049502,-0.14705138,0.17850953,0.10852511,-0.1728578,0.060851835,-0.18548223,-0.16619796,-0.047736134,0.0006749711,-0.21044654,0.33554608,0.15462473,-0.2962532,0.22885199,-0.33895555,-0.17787112,0.1514735,0.2590227,-0.008206941,0.05749733,-0.1261287,0.14837646,-0.065708995,-0.014649627,0.17813548,-0.14456668,0.25737983,-0.14465056,-0.3695045,-0.22994424,-0.13322511,-0.21757296,0.29280284,-0.43130457,0.019911874,-0.3213465,-0.16810389,0.036372118,0.059974786,0.39682713,0.04740155,0.32976785,-0.15808716,-0.13246268,0.22948195,-0.09996419,-0.34739557,0.119336225,0.24733265,0.00094157574,-0.08424715,-0.1794415,-0.089207545,0.124087214,0.37192905,0.25541973,-0.13921382,-0.36685222,-0.16409759,0.051894415,-0.11030819,-0.105748355,-0.4055864,-0.3052315,0.21590105,0.32460934,0.27993116,0.10404833,-0.38104308,-0.3306074,-0.034092966,-0.35280836,-0.12422076,0.42752647,0.09398602,-0.24432816,0.11890806,-0.20911437,-0.3927984,-0.104269385,0.05172457,-0.2912113,0.301786,-0.08553598,-0.055689927,0.22222644,0.23453987,-0.1323232,0.14876595,0.2969214,-0.17110007,-0.10859597,0.47001368,0.31735098,-0.3086822,0.15813632,0.33740056,-0.4816473,0.08593458,-0.1385453,-0.06697917,0.0952869,0.14240856,-0.26027426,0.09234229,-0.115280904,0.18963587,0.27039453,0.05842377,0.044901885,0.15124662,-0.016516948,-0.39111733,0.26658604,0.27205604,-0.40716985,0.23763423,0.15250868,0.17041093,-0.2705793,0.0409353,-0.4459883,0.20622689,0.12521477,0.37176555,-0.34048736,0.14720199,-0.04653868,-0.3368911,0.14542769,-0.02641603,-0.20795849,0.18682787,0.20818502,0.118302725,0.03970112,0.019976357,0.3083889,-0.021213207,-0.120604575,-0.10195108,0.00574758,-0.23643957,0.07314673,-0.1802853,-0.25885862,-0.37001455,-0.25451168,0.33905175,0.28826803,-0.1656293,0.25568178,-0.33405605,0.39200142,-0.3484756,-0.2391308,0.019513577,0.09776757,-0.1368566,0.34571677,0.3084372,-0.06911149,0.14952403,-0.2717516,-0.32983932,0.054198507,-0.20606098,-0.3337463,-0.072258666,-0.36144814,-0.09303676,0.20639867,0.25452745,0.16317491,0.18324387,-0.064659014,0.02005428,-0.32530165,0.33852637,0.325215,-0.036694814,0.13327087,0.21545383,0.11279732,-0.24362046,-0.19151802,-0.13064983,0.28076363,-0.4217723,-0.2762532,-0.2453386,-0.090333484,0.27131727,0.033027492,0.13539104,0.07788619,0.016110748,-0.4301016,-0.26820248,-0.21234566,0.28686112,0.15048231,-0.13053326,-0.15846823,-0.2947798,0.4083886,0.14984316,0.0053347694,0.20192118,0.18666166,-0.21584155,-0.13862893,-0.20466067,-0.23256786,0.16189666,-0.027317004,0.29635054,-0.1389991,-0.11643809,-0.2368958,-0.3129558,0.2360089,-0.025394479,-0.27123064,0.3888639,-0.3906475,-0.021639919,-0.1566608,-0.15553209,-0.14431743,-0.11150017,0.47264004,0.16591422,-0.4646109,-0.13550617,0.18876486,0.29905456,-0.34600988,0.1753684,0.004684341,-0.08894581,-0.2032904,-0.057915334,-0.11803654,-0.24228828,0.017523427,-0.20778996,0.23654567,-0.08490043,-0.13072272,0.30960235,0.3150526,-0.09327368,0.08967072,0.33532912,-0.20357707,0.12257123,-0.22090386,-0.0100297425,0.33866543,-0.31401128,0.10440175,-0.12977627,0.2886148,-0.15280369,0.10944948,0.07119941,0.18710081,0.0194473,-0.47376743,-0.16592926,-0.21307442,-0.3494783,0.24176265,-0.05039846,-0.34533864,0.05751732,0.3240217,-0.0025115637,0.06054654,0.103987426,-0.27896976,0.24362457,-0.07820242,-0.3436362,-0.21768975,0.039974052,-0.14198588,-0.2049356,0.104578346,-0.019140495,0.13508022,-0.24277824,-0.24297494,0.28344896,0.078435585,-0.33473822,-0.16805397,0.33061013,-0.06591408,-0.30083174,0.27897066,-0.17395999,-0.13303418,-0.27227238,0.28525138,-0.10808623,-0.033531446,-0.39878067,0.3041663,0.14870374,0.34242347,0.4091389,0.18855667,-0.4907836,0.098034404,0.2027893,0.22357878,-0.0892923,0.109241374,-0.44165307,0.3473597,-0.15185449,-0.32149938,-0.09012998,0.194753,0.3395476,0.28961498,0.2967584,0.29345873,0.07815209,0.09682166,0.16280848,0.29603136,0.030880248,-0.13465045,-0.14303797,0.2808163,-0.010179961,0.010914216,-0.18147513,-0.14968021,0.35719875,0.15013242,0.096786804,0.21922384,0.09027849,-0.16404165,0.2699045,-0.062277,0.13146447,0.29441354,0.30501312,-0.043948747,-0.13509406,-0.10723894,0.19299997,0.086340755,-0.4174409,-0.017291006,0.41614944,0.10768488,0.25467807,0.042249173,-0.14779122,-0.2526626,-0.34473917,0.27159554,-0.20744446,-0.075764164,-0.2430997,0.27995783,0.14502673,-0.028382832,0.04047113,0.020198269,0.26232415,0.22527093,0.19430217,0.22580367,0.0018246935,-0.3225004,-0.045746073,-0.23700462,0.15248287,-0.3176349,-0.043936945,-0.24612151,-0.07247399,0.2140309,0.07015156,0.2730775,-0.15765153,-0.31886277,0.20344584,-0.069120154,0.4091153,0.2898166,-0.019935174,0.15161489,-0.12715907,-0.2733764,-0.31782684,-0.19256015,-0.38469943,-0.19274299,-0.38460445,-0.4016324,0.10357053,-0.27481356,0.26144797,-0.37359193,0.039668046,-0.31840402,-0.2481182,0.08772483,-0.11020742,0.07957145,-0.11136368,0.23179413,0.12646903,0.2213457,0.06359873,-0.23374486,0.026505172,0.29941425,-0.035674248,-0.44871688,-0.36512706,0.20103477,-0.32942832,-0.10656589,0.26007918,0.14478773,0.33377162,-0.048433013,0.3561229,0.20778723,0.059687655,-0.36718315,0.039672054,0.18163319,0.19528192,-0.20215712,0.057854485,-0.20877299,-0.07264642,0.26124272,0.05886623,-0.1004757,-0.24454215,0.061144505,0.25538418,0.00085987354,0.06647796,0.24715437,0.2213816,-0.09089753,0.26835802,-0.06872074,0.053877458,-0.009519065,0.19342384,-0.30948246,-0.37563935,-0.31634673,-0.14608645,0.21876988,-0.13501115,-0.19157101,0.026349423,-0.180168,0.2486694,0.18800499,-0.12493702,-0.2632607,-0.19405334,-0.003904119,0.3511885,0.15317065,0.028994627,0.18260434,-0.1077254,-0.038811322,0.27325878,0.065746695,-0.17686999,0.30226648,-0.10373171,-0.3716471,-0.05627642,0.37301067,0.24989994,-0.01105405,0.472855,0.26565588,-0.0880548,0.18837552,0.33575544,0.4246775,-0.3860575,0.24352463,0.03579184,-0.39536983,-0.06514882,-0.2841767,0.29848582,-0.008580237,-0.25292286,0.05110866,0.24921428,0.41078615,-0.0060723866,0.053328626,-0.09882038,-0.1826637,0.1159602,0.004605106,0.1610158,0.25616276,-0.14161004,0.042934343,-0.23699479,0.25670892,-0.19332793,-0.37379533,0.44843104,-0.21825369,0.44400156,-0.44531083,0.018641155,-0.020935573,0.027220704,-0.07591708,-0.29959098,0.20921597,0.1376835,0.072996296,0.2394191,0.014731839,-0.19743174,-0.12546134,0.23290142,0.18095174,0.21066096,-0.17276107,0.12646253,0.01776716,-0.27896506,0.28155798,-0.3099604,-0.16085663,0.1920239,-0.16753262,-0.051106486,0.365863,-0.379627,-0.15628833,-0.20909777,0.27684432,0.23698376,-0.17548436,-0.09625521,0.30667382,0.49308693,-0.115391515,-0.027291456,-0.15020743,-0.20974328,-0.17872909,0.18410581,-0.29281798,-0.13929844,-0.2049481,0.009890692,-0.34330556,0.334884,-0.21138595,-0.19581737,-0.19160503,-0.47302327,-0.29361737,0.22634822,-0.11975395,0.1921703,0.17163491,-0.25790608,0.07662579,-0.004097855,0.27024785,0.004591992,0.34441337,0.04318687,0.16948529,-0.21476305,-0.31254598,0.4519006,-0.23765607,-0.04557724,-0.47929928,-0.16930945,0.2952646,-0.11839404,0.25028285,0.04404185,-0.11550626,-0.16968775,-0.43477675,0.24607114,0.45823446,0.12054023,0.20847474,-0.1718255,0.30118275,-0.107627355,0.29460064,0.44418356,0.47060105,0.45706594,0.037673462,-0.1579361,-0.23771885,-0.2955132,-0.2767346,-0.1135455,0.2608062,-0.259775,-0.42553517,-0.30868238,0.016796434,0.3234043,-0.40145814,0.28568718,0.044821203,0.4570943,0.20581172,-0.4481773,-0.0423037,0.049902525,-0.004593693,-0.24937035,-0.18186714,0.08896884,0.27524948,-0.04982773,-0.15951863,-0.2997666,0.12452708,0.11911422,-0.45426694,0.20283125,0.08000318,-0.041069686,-0.22238876,-0.32781807,-0.14419203,0.2878482,0.22732083,-0.08544532,0.017963003,-0.008971115,-0.0048565576,0.121834196,-0.25999248,0.36130765,-0.11461315,0.40163982,0.43819004,-0.3494944,-0.12323473,0.1147604,0.010684057,0.3689763,0.0068220203,0.24745479,-0.1491053,-0.034513257,-0.17704786,0.06843013,-0.042635657,-0.2002979,-0.4145812,-0.12260136,0.0009695298,0.1297146,0.3311176,-0.08170528,0.30694145,0.4166718,-0.22503528,-0.210353,-0.111646384,0.0068524913,0.20818962,0.21146125,-0.3917586,-0.42084104,0.039096724,-0.10002479,0.23064463,0.23664197,0.40384668,0.2695212,0.29163417,-0.045234058,0.18334062,-0.1945165,0.30656582,0.09473937,-0.07948397,0.0027115261,-0.058051236,-0.09279523,-0.36464888,-0.34035593,0.17979383,-0.3002548,0.07771663,-0.22764619,-0.42666504,-0.36595154,-0.31186062,-0.24248202,-0.034186527,-0.038851436,0.36292356,0.06917679,-0.039839458,-0.21110116,0.111082956,-0.0359521,-0.34217042,0.18979691,-0.40927294,0.057557873,0.3855523,-0.21650526,0.069843166,-0.20952396,-0.08084318,0.27008227,-0.17283137,0.22350828,-0.12171495,-0.14096127,-0.27022362,0.050725605,-0.09408928,0.48659918,-0.18371347,-0.23329274,-0.23971844,-0.23770507,-0.097410984,-0.18067798,0.15757963,-0.18461618,0.3604537,-0.39100197,0.05535399,-0.105270244,0.26816925,-0.33592173,-0.11949647,-0.012474331,0.28376678,0.3745926,0.29760024,-0.30033758,0.18456884,-0.1667895,-0.30480918,-0.40525946,-0.24733375,-0.17187335,0.2984157,0.056617264,0.38309062,-0.12595308,0.098768406,0.047788735,-0.13220958,0.36837202,-0.15338214,0.19904467,-0.19563991,-0.41799283,-0.43314773,0.29743704,-0.14900202,-0.15026979,-0.16472998],\"type\":\"scatter3d\"}],                        {\"template\":{\"data\":{\"histogram2dcontour\":[{\"type\":\"histogram2dcontour\",\"colorbar\":{\"outlinewidth\":0,\"ticks\":\"\"},\"colorscale\":[[0.0,\"#0d0887\"],[0.1111111111111111,\"#46039f\"],[0.2222222222222222,\"#7201a8\"],[0.3333333333333333,\"#9c179e\"],[0.4444444444444444,\"#bd3786\"],[0.5555555555555556,\"#d8576b\"],[0.6666666666666666,\"#ed7953\"],[0.7777777777777778,\"#fb9f3a\"],[0.8888888888888888,\"#fdca26\"],[1.0,\"#f0f921\"]]}],\"choropleth\":[{\"type\":\"choropleth\",\"colorbar\":{\"outlinewidth\":0,\"ticks\":\"\"}}],\"histogram2d\":[{\"type\":\"histogram2d\",\"colorbar\":{\"outlinewidth\":0,\"ticks\":\"\"},\"colorscale\":[[0.0,\"#0d0887\"],[0.1111111111111111,\"#46039f\"],[0.2222222222222222,\"#7201a8\"],[0.3333333333333333,\"#9c179e\"],[0.4444444444444444,\"#bd3786\"],[0.5555555555555556,\"#d8576b\"],[0.6666666666666666,\"#ed7953\"],[0.7777777777777778,\"#fb9f3a\"],[0.8888888888888888,\"#fdca26\"],[1.0,\"#f0f921\"]]}],\"heatmap\":[{\"type\":\"heatmap\",\"colorbar\":{\"outlinewidth\":0,\"ticks\":\"\"},\"colorscale\":[[0.0,\"#0d0887\"],[0.1111111111111111,\"#46039f\"],[0.2222222222222222,\"#7201a8\"],[0.3333333333333333,\"#9c179e\"],[0.4444444444444444,\"#bd3786\"],[0.5555555555555556,\"#d8576b\"],[0.6666666666666666,\"#ed7953\"],[0.7777777777777778,\"#fb9f3a\"],[0.8888888888888888,\"#fdca26\"],[1.0,\"#f0f921\"]]}],\"heatmapgl\":[{\"type\":\"heatmapgl\",\"colorbar\":{\"outlinewidth\":0,\"ticks\":\"\"},\"colorscale\":[[0.0,\"#0d0887\"],[0.1111111111111111,\"#46039f\"],[0.2222222222222222,\"#7201a8\"],[0.3333333333333333,\"#9c179e\"],[0.4444444444444444,\"#bd3786\"],[0.5555555555555556,\"#d8576b\"],[0.6666666666666666,\"#ed7953\"],[0.7777777777777778,\"#fb9f3a\"],[0.8888888888888888,\"#fdca26\"],[1.0,\"#f0f921\"]]}],\"contourcarpet\":[{\"type\":\"contourcarpet\",\"colorbar\":{\"outlinewidth\":0,\"ticks\":\"\"}}],\"contour\":[{\"type\":\"contour\",\"colorbar\":{\"outlinewidth\":0,\"ticks\":\"\"},\"colorscale\":[[0.0,\"#0d0887\"],[0.1111111111111111,\"#46039f\"],[0.2222222222222222,\"#7201a8\"],[0.3333333333333333,\"#9c179e\"],[0.4444444444444444,\"#bd3786\"],[0.5555555555555556,\"#d8576b\"],[0.6666666666666666,\"#ed7953\"],[0.7777777777777778,\"#fb9f3a\"],[0.8888888888888888,\"#fdca26\"],[1.0,\"#f0f921\"]]}],\"surface\":[{\"type\":\"surface\",\"colorbar\":{\"outlinewidth\":0,\"ticks\":\"\"},\"colorscale\":[[0.0,\"#0d0887\"],[0.1111111111111111,\"#46039f\"],[0.2222222222222222,\"#7201a8\"],[0.3333333333333333,\"#9c179e\"],[0.4444444444444444,\"#bd3786\"],[0.5555555555555556,\"#d8576b\"],[0.6666666666666666,\"#ed7953\"],[0.7777777777777778,\"#fb9f3a\"],[0.8888888888888888,\"#fdca26\"],[1.0,\"#f0f921\"]]}],\"mesh3d\":[{\"type\":\"mesh3d\",\"colorbar\":{\"outlinewidth\":0,\"ticks\":\"\"}}],\"scatter\":[{\"fillpattern\":{\"fillmode\":\"overlay\",\"size\":10,\"solidity\":0.2},\"type\":\"scatter\"}],\"parcoords\":[{\"type\":\"parcoords\",\"line\":{\"colorbar\":{\"outlinewidth\":0,\"ticks\":\"\"}}}],\"scatterpolargl\":[{\"type\":\"scatterpolargl\",\"marker\":{\"colorbar\":{\"outlinewidth\":0,\"ticks\":\"\"}}}],\"bar\":[{\"error_x\":{\"color\":\"#2a3f5f\"},\"error_y\":{\"color\":\"#2a3f5f\"},\"marker\":{\"line\":{\"color\":\"#E5ECF6\",\"width\":0.5},\"pattern\":{\"fillmode\":\"overlay\",\"size\":10,\"solidity\":0.2}},\"type\":\"bar\"}],\"scattergeo\":[{\"type\":\"scattergeo\",\"marker\":{\"colorbar\":{\"outlinewidth\":0,\"ticks\":\"\"}}}],\"scatterpolar\":[{\"type\":\"scatterpolar\",\"marker\":{\"colorbar\":{\"outlinewidth\":0,\"ticks\":\"\"}}}],\"histogram\":[{\"marker\":{\"pattern\":{\"fillmode\":\"overlay\",\"size\":10,\"solidity\":0.2}},\"type\":\"histogram\"}],\"scattergl\":[{\"type\":\"scattergl\",\"marker\":{\"colorbar\":{\"outlinewidth\":0,\"ticks\":\"\"}}}],\"scatter3d\":[{\"type\":\"scatter3d\",\"line\":{\"colorbar\":{\"outlinewidth\":0,\"ticks\":\"\"}},\"marker\":{\"colorbar\":{\"outlinewidth\":0,\"ticks\":\"\"}}}],\"scattermapbox\":[{\"type\":\"scattermapbox\",\"marker\":{\"colorbar\":{\"outlinewidth\":0,\"ticks\":\"\"}}}],\"scatterternary\":[{\"type\":\"scatterternary\",\"marker\":{\"colorbar\":{\"outlinewidth\":0,\"ticks\":\"\"}}}],\"scattercarpet\":[{\"type\":\"scattercarpet\",\"marker\":{\"colorbar\":{\"outlinewidth\":0,\"ticks\":\"\"}}}],\"carpet\":[{\"aaxis\":{\"endlinecolor\":\"#2a3f5f\",\"gridcolor\":\"white\",\"linecolor\":\"white\",\"minorgridcolor\":\"white\",\"startlinecolor\":\"#2a3f5f\"},\"baxis\":{\"endlinecolor\":\"#2a3f5f\",\"gridcolor\":\"white\",\"linecolor\":\"white\",\"minorgridcolor\":\"white\",\"startlinecolor\":\"#2a3f5f\"},\"type\":\"carpet\"}],\"table\":[{\"cells\":{\"fill\":{\"color\":\"#EBF0F8\"},\"line\":{\"color\":\"white\"}},\"header\":{\"fill\":{\"color\":\"#C8D4E3\"},\"line\":{\"color\":\"white\"}},\"type\":\"table\"}],\"barpolar\":[{\"marker\":{\"line\":{\"color\":\"#E5ECF6\",\"width\":0.5},\"pattern\":{\"fillmode\":\"overlay\",\"size\":10,\"solidity\":0.2}},\"type\":\"barpolar\"}],\"pie\":[{\"automargin\":true,\"type\":\"pie\"}]},\"layout\":{\"autotypenumbers\":\"strict\",\"colorway\":[\"#636efa\",\"#EF553B\",\"#00cc96\",\"#ab63fa\",\"#FFA15A\",\"#19d3f3\",\"#FF6692\",\"#B6E880\",\"#FF97FF\",\"#FECB52\"],\"font\":{\"color\":\"#2a3f5f\"},\"hovermode\":\"closest\",\"hoverlabel\":{\"align\":\"left\"},\"paper_bgcolor\":\"white\",\"plot_bgcolor\":\"#E5ECF6\",\"polar\":{\"bgcolor\":\"#E5ECF6\",\"angularaxis\":{\"gridcolor\":\"white\",\"linecolor\":\"white\",\"ticks\":\"\"},\"radialaxis\":{\"gridcolor\":\"white\",\"linecolor\":\"white\",\"ticks\":\"\"}},\"ternary\":{\"bgcolor\":\"#E5ECF6\",\"aaxis\":{\"gridcolor\":\"white\",\"linecolor\":\"white\",\"ticks\":\"\"},\"baxis\":{\"gridcolor\":\"white\",\"linecolor\":\"white\",\"ticks\":\"\"},\"caxis\":{\"gridcolor\":\"white\",\"linecolor\":\"white\",\"ticks\":\"\"}},\"coloraxis\":{\"colorbar\":{\"outlinewidth\":0,\"ticks\":\"\"}},\"colorscale\":{\"sequential\":[[0.0,\"#0d0887\"],[0.1111111111111111,\"#46039f\"],[0.2222222222222222,\"#7201a8\"],[0.3333333333333333,\"#9c179e\"],[0.4444444444444444,\"#bd3786\"],[0.5555555555555556,\"#d8576b\"],[0.6666666666666666,\"#ed7953\"],[0.7777777777777778,\"#fb9f3a\"],[0.8888888888888888,\"#fdca26\"],[1.0,\"#f0f921\"]],\"sequentialminus\":[[0.0,\"#0d0887\"],[0.1111111111111111,\"#46039f\"],[0.2222222222222222,\"#7201a8\"],[0.3333333333333333,\"#9c179e\"],[0.4444444444444444,\"#bd3786\"],[0.5555555555555556,\"#d8576b\"],[0.6666666666666666,\"#ed7953\"],[0.7777777777777778,\"#fb9f3a\"],[0.8888888888888888,\"#fdca26\"],[1.0,\"#f0f921\"]],\"diverging\":[[0,\"#8e0152\"],[0.1,\"#c51b7d\"],[0.2,\"#de77ae\"],[0.3,\"#f1b6da\"],[0.4,\"#fde0ef\"],[0.5,\"#f7f7f7\"],[0.6,\"#e6f5d0\"],[0.7,\"#b8e186\"],[0.8,\"#7fbc41\"],[0.9,\"#4d9221\"],[1,\"#276419\"]]},\"xaxis\":{\"gridcolor\":\"white\",\"linecolor\":\"white\",\"ticks\":\"\",\"title\":{\"standoff\":15},\"zerolinecolor\":\"white\",\"automargin\":true,\"zerolinewidth\":2},\"yaxis\":{\"gridcolor\":\"white\",\"linecolor\":\"white\",\"ticks\":\"\",\"title\":{\"standoff\":15},\"zerolinecolor\":\"white\",\"automargin\":true,\"zerolinewidth\":2},\"scene\":{\"xaxis\":{\"backgroundcolor\":\"#E5ECF6\",\"gridcolor\":\"white\",\"linecolor\":\"white\",\"showbackground\":true,\"ticks\":\"\",\"zerolinecolor\":\"white\",\"gridwidth\":2},\"yaxis\":{\"backgroundcolor\":\"#E5ECF6\",\"gridcolor\":\"white\",\"linecolor\":\"white\",\"showbackground\":true,\"ticks\":\"\",\"zerolinecolor\":\"white\",\"gridwidth\":2},\"zaxis\":{\"backgroundcolor\":\"#E5ECF6\",\"gridcolor\":\"white\",\"linecolor\":\"white\",\"showbackground\":true,\"ticks\":\"\",\"zerolinecolor\":\"white\",\"gridwidth\":2}},\"shapedefaults\":{\"line\":{\"color\":\"#2a3f5f\"}},\"annotationdefaults\":{\"arrowcolor\":\"#2a3f5f\",\"arrowhead\":0,\"arrowwidth\":1},\"geo\":{\"bgcolor\":\"white\",\"landcolor\":\"#E5ECF6\",\"subunitcolor\":\"white\",\"showland\":true,\"showlakes\":true,\"lakecolor\":\"white\"},\"title\":{\"x\":0.05},\"mapbox\":{\"style\":\"light\"}}}},                        {\"responsive\": true}                    ).then(function(){\n",
       "                            \n",
       "var gd = document.getElementById('a1fdc6e0-babb-401f-8688-018017dd9bd9');\n",
       "var x = new MutationObserver(function (mutations, observer) {{\n",
       "        var display = window.getComputedStyle(gd).display;\n",
       "        if (!display || display === 'none') {{\n",
       "            console.log([gd, 'removed!']);\n",
       "            Plotly.purge(gd);\n",
       "            observer.disconnect();\n",
       "        }}\n",
       "}});\n",
       "\n",
       "// Listen for the removal of the full notebook cells\n",
       "var notebookContainer = gd.closest('#notebook-container');\n",
       "if (notebookContainer) {{\n",
       "    x.observe(notebookContainer, {childList: true});\n",
       "}}\n",
       "\n",
       "// Listen for the clearing of the current output cell\n",
       "var outputEl = gd.closest('.output');\n",
       "if (outputEl) {{\n",
       "    x.observe(outputEl, {childList: true});\n",
       "}}\n",
       "\n",
       "                        })                };                });            </script>        </div>"
      ]
     },
     "metadata": {},
     "output_type": "display_data"
    }
   ],
   "source": [
    "# Augmented data point\n",
    "augmented = augmentation(transformed)\n",
    "visualize_3d_shape(augmented.pos)"
   ]
  },
  {
   "cell_type": "markdown",
   "metadata": {
    "id": "KI0iqM4uPAXr"
   },
   "source": [
    "### Undersampling\n"
   ]
  },
  {
   "cell_type": "markdown",
   "metadata": {
    "id": "Dt7Ya_87X_3z"
   },
   "source": [
    "For problems due to the amount of RAM I decided to select only a sub-set of these samples, that is, 200 samples for each category."
   ]
  },
  {
   "cell_type": "markdown",
   "metadata": {
    "id": "GNoncZNJhP6i"
   },
   "source": [
    "Shows the number of occurrences for each category:"
   ]
  },
  {
   "cell_type": "code",
   "execution_count": 16,
   "metadata": {
    "execution": {
     "iopub.execute_input": "2022-12-03T08:51:45.788492Z",
     "iopub.status.busy": "2022-12-03T08:51:45.787268Z",
     "iopub.status.idle": "2022-12-03T08:51:45.796685Z",
     "shell.execute_reply": "2022-12-03T08:51:45.794982Z",
     "shell.execute_reply.started": "2022-12-03T08:51:45.788420Z"
    },
    "id": "_R4TFMbclLij",
    "trusted": true
   },
   "outputs": [],
   "source": [
    "# Build Dict\n",
    "def build_dict(dataset):\n",
    "  # Create a dictionary to store the occurrences of each category\n",
    "  categories = dataset.categories \n",
    "  number_of_samples = [0 for i in range(len(CATEGORIES))]\n",
    "  categories_occurrence = dict(zip(categories, number_of_samples))\n",
    "  return categories_occurrence\n",
    "  \n",
    "def get_category(dataset):\n",
    "  categories_occurrence = build_dict(dataset)\n",
    "\n",
    "  # Compute the occurrences\n",
    "  for sample in dataset:\n",
    "    cat_str = dataset.categories[sample[0].category]\n",
    "    categories_occurrence[cat_str]+= 1  \n",
    "  return categories_occurrence"
   ]
  },
  {
   "cell_type": "markdown",
   "metadata": {
    "id": "kpJ4fmPkYSpL"
   },
   "source": [
    "In the next cell we build our customized dataset, where for each sample, we have two different augmented versions."
   ]
  },
  {
   "cell_type": "code",
   "execution_count": 17,
   "metadata": {
    "execution": {
     "iopub.execute_input": "2022-12-03T08:51:45.799368Z",
     "iopub.status.busy": "2022-12-03T08:51:45.798910Z",
     "iopub.status.idle": "2022-12-03T08:51:45.811626Z",
     "shell.execute_reply": "2022-12-03T08:51:45.810582Z",
     "shell.execute_reply.started": "2022-12-03T08:51:45.799330Z"
    },
    "id": "3Or_VrydH-Qv",
    "trusted": true
   },
   "outputs": [],
   "source": [
    "class AugmentedShapeNet(Dataset):\n",
    "  def __init__(self, augmentation, transformer, categories):\n",
    "    train_set = ShapeNet(root=\"data/ShapeNet\", split=\"train\", categories=categories)\n",
    "    self.categories = train_set.categories \n",
    "    self.transformer = transformer\n",
    "    self.augmentation = augmentation\n",
    "    self.dataset = self.undersampling(train_set)\n",
    "   \n",
    "  def __len__(self):\n",
    "    return len(self.dataset)\n",
    "\n",
    "  def __getitem__(self, id):\n",
    "    shape = self.dataset[id]\n",
    "    shape = self.transformer(shape.clone())\n",
    "    augmented_shape_1 = self.augmentation(shape.clone()) \n",
    "    augmented_shape_2 = self.augmentation(shape.clone())\n",
    "    return shape, augmented_shape_1, augmented_shape_2\n",
    "  \n",
    "  def undersampling(self, dataset):\n",
    "    # Create a dictionary to store the occurrences of each category\n",
    "    categories = dataset.categories \n",
    "    number_of_samples = [0 for i in range(len(CATEGORIES))]\n",
    "    categories_occurrence = dict(zip(categories, number_of_samples))\n",
    "    # Compute the occurrences\n",
    "    sampled_dataset = []\n",
    "    for sample in  dataset :\n",
    "      cat_str = dataset.categories[sample.category]\n",
    "      if categories_occurrence[cat_str] < MAX_NUMBER:\n",
    "        categories_occurrence[cat_str]+= 1\n",
    "        sampled_dataset.append(sample)\n",
    "    return sampled_dataset\n",
    "\n",
    "    "
   ]
  },
  {
   "cell_type": "code",
   "execution_count": 18,
   "metadata": {
    "execution": {
     "iopub.execute_input": "2022-12-03T08:51:45.814508Z",
     "iopub.status.busy": "2022-12-03T08:51:45.813651Z",
     "iopub.status.idle": "2022-12-03T08:51:45.908592Z",
     "shell.execute_reply": "2022-12-03T08:51:45.907516Z",
     "shell.execute_reply.started": "2022-12-03T08:51:45.814470Z"
    },
    "id": "EzvwqHeao78Q",
    "trusted": true
   },
   "outputs": [],
   "source": [
    "del dataset"
   ]
  },
  {
   "cell_type": "code",
   "execution_count": 19,
   "metadata": {
    "colab": {
     "base_uri": "https://localhost:8080/"
    },
    "execution": {
     "iopub.execute_input": "2022-12-03T08:51:45.913080Z",
     "iopub.status.busy": "2022-12-03T08:51:45.911957Z",
     "iopub.status.idle": "2022-12-03T08:51:51.511887Z",
     "shell.execute_reply": "2022-12-03T08:51:51.510761Z",
     "shell.execute_reply.started": "2022-12-03T08:51:45.913037Z"
    },
    "id": "CL1A92v9XAxN",
    "outputId": "91483967-91df-4030-8239-02f89e7afbcf",
    "trusted": true
   },
   "outputs": [
    {
     "name": "stdout",
     "output_type": "stream",
     "text": [
      "Sample for each category after undersampling: {'Airplane': 200, 'Pistol': 200, 'Car': 200, 'Chair': 200, 'Motorbike': 125, 'Guitar': 200, 'Knife': 200, 'Lamp': 200, 'Laptop': 200, 'Table': 200}\n"
     ]
    }
   ],
   "source": [
    "# Train Set\n",
    "train_set = AugmentedShapeNet(augmentation, transformer, CATEGORIES)\n",
    "print(\"Sample for each category after under-sampling:\", get_category(train_set))\n",
    "\n",
    "# Validation Set\n",
    "test_set = ShapeNet(root=\"data/ShapeNet\", split=\"test\", categories=CATEGORIES)"
   ]
  },
  {
   "cell_type": "markdown",
   "metadata": {
    "id": "Lle1XiGfEsn7"
   },
   "source": [
    "## Model"
   ]
  },
  {
   "cell_type": "markdown",
   "metadata": {
    "id": "qSRLQIVWb9II"
   },
   "source": [
    "One of the main problems of the project is how to manage the 3D point cloud. To do this, it is possible to take different approaches such as `Voxelization` (which is not very efficient) or `Multi-View`, i.e. look at the object from different angles and take 2D photos to use as input for a CNN. The latter approach is more efficient than the former, but we don't really use 3D information. \n",
    "\n",
    "However, there are Deep Learning models that can operate directly on the point cloud itself, thanks to the fact that they are invariant with respect to permutations and therefore to the ordering of points. \n",
    "\n",
    "Examples of these models are: `PPFNet`, `PointNet`/`Pointnet++`, `EdgeConv`/`DynamicEdgeConv`.\n",
    "\n",
    "From [Medium](https://medium.com/@sanketgujar95/dynamic-graph-cnn-edge-conv-2582c3eb18d8): *EdgeConv is inspired from PointNet and convolutional operations, but instead of working on individual points it exploits the geometric structure by constructing a local neighborhood graph and applying convolution-like operation on the edge connecting the neighborhood pair of points. It thus has the property of translation-invariant and non-locality.*\n",
    "\n",
    "To use these Convolutional Layers correctly I used the code of the examples [1](https://github.com/pyg-team/pytorch_geometric/blob/a6e349621d4caf8b381fe58f8e57109b2d0947ed/examples/dgcnn_segmentation.py), [2](https://github.com/pyg-team/pytorch_geometric/blob/a6e349621d4caf8b381fe58f8e57109b2d0947ed/examples/dgcnn_classification.py),  mentioned in the previous section, provided by the Pytorch Geometric library.\n",
    "\n",
    "To develop the architecture of my model, I took ispiration from [SimCLR](https://colab.research.google.com/github/phlippe/uvadlc_notebooks/blob/master/docs/tutorial_notebooks/tutorial17/SimCLR.ipynb#scrollTo=nRRiSml1GhVQ) and [Tutorial 3: Train SimCLR on Clothing](https://docs.lightly.ai/self-supervised-learning/tutorials/package/tutorial_simclr_clothing.html) where an **End-to-End** architecture is used, in which the authors generate two views of an image, so they do not use the original data point but attract and reject the representations of all the augmented images. This prevents the model from learning how an image was augmented.\n",
    "\n"
   ]
  },
  {
   "cell_type": "markdown",
   "metadata": {
    "id": "BbwgMaShQ8Eh"
   },
   "source": [
    "![image.png](data:image/png;base64,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)"
   ]
  },
  {
   "cell_type": "markdown",
   "metadata": {
    "id": "oy2QWDK7fhAv"
   },
   "source": [
    "For each sample $x$, we generate two augmented versions ($\\tilde{x} _i $ and $ \\tilde{x}_j $), which we will pass to the encoder $f(\\cdot)$, consisting of two `DynamicEdgeConv` layers. \n",
    "\n",
    "Then we pass this to the `Projection Head` $g(\\cdot)$, a fully connected network, that maps the representation $h$ into a smaller space where we apply the loss function. The reason why it is necessary to apply the Projection Head is that most similarity measures that are used in contrastive losses suffer from the curse of dimensionality. \n",
    "\n",
    "Therefore, when we calculate the `loss` on smaller vectors, we will get better results."
   ]
  },
  {
   "cell_type": "code",
   "execution_count": 20,
   "metadata": {
    "execution": {
     "iopub.execute_input": "2022-12-03T08:51:51.514520Z",
     "iopub.status.busy": "2022-12-03T08:51:51.513747Z",
     "iopub.status.idle": "2022-12-03T08:51:51.527575Z",
     "shell.execute_reply": "2022-12-03T08:51:51.526484Z",
     "shell.execute_reply.started": "2022-12-03T08:51:51.514479Z"
    },
    "id": "i3G7KOpFIhjZ",
    "trusted": true
   },
   "outputs": [],
   "source": [
    "class ContrastiveModel(torch.nn.Module):\n",
    "  def __init__(self, k=40, aggr='max'):\n",
    "    super().__init__()\n",
    "\n",
    "    # ENCODER\n",
    "    self.conv1 = DynamicEdgeConv(MLP([2 * 3, 64, 64]), k, aggr)\n",
    "    self.conv2 = DynamicEdgeConv(MLP([2 * 64, 128]), k, aggr) \n",
    "    self.lin1 = Linear(128 + 64, 128)\n",
    "\n",
    "    # PROJECTION HEAD \n",
    "    self.project_head = MLP([128, 256, 10], norm=None)\n",
    "\n",
    "\n",
    "  def get_representation(self, x):\n",
    "    x1 = self.conv1(x.pos, x.batch)\n",
    "    x2 = self.conv2(x1, x.batch)\n",
    "    # Global representation\n",
    "    h1 = self.lin1(torch.cat([x1, x2], dim=1))\n",
    "    h2 = global_max_pool(h1, x.batch)\n",
    "    return h2\n",
    "\n",
    "  def forward(self, original=None, x_i=None, x_j=None, train=True):\n",
    "    if not train:\n",
    "      h = self.get_representation(original) \n",
    "      return h\n",
    "\n",
    "    # Apply Encoder, get representation\n",
    "    h_i = self.get_representation(x_i) \n",
    "    h_j = self.get_representation(x_j) \n",
    "\n",
    "    # Apply Projection Head, get lower space representation\n",
    "    z_i = self.project_head(h_i)\n",
    "    z_j = self.project_head(h_j)\n",
    "\n",
    "    return z_i, z_j"
   ]
  },
  {
   "cell_type": "markdown",
   "metadata": {
    "id": "U0QjhMfhJ8W7"
   },
   "source": [
    "## Training"
   ]
  },
  {
   "cell_type": "markdown",
   "metadata": {
    "id": "N6UADu6qgYcm"
   },
   "source": [
    "As Loss function I used the `NTXent Loss`, sometimes also called `InfoNCE`, which is implemented in the [PyTorch Metric Learning](https://kevinmusgrave.github.io/pytorch-metric-learning/losses/#ntxentloss) library, which has the `Temperature` as hyperparameter which helps to balance the similarity measure.\n",
    "\n",
    "In short, the NTXent Loss compares the similarity of $z_i = g(h_i)$ and  $z_j = g(h_j)$,  to the similarity of $z_i$ to any other representation in the batch $z_k$, by performing a *softmax* over the similarity values. The loss can be formally written as:\n",
    "\n",
    "$$\\mathcal{L}_{i,j}=-\\log \\frac{\\exp(\\text{sim}(z_i,z_j)/\\tau)}{\\sum_{k=1}^{2N}\\mathbb{1}_{[k\\neq i]}\\exp(\\text{sim}(z_i,z_k)/\\tau)}$$\n",
    "\n",
    "where $\\tau$ is the *temperature*, $\\mathbb{1}_{[k \\neq i]}$ is an indicator function (1 if $k\\neq i$ 0 otherwise), and $sim()$ is the application of Cosine Similarity."
   ]
  },
  {
   "cell_type": "code",
   "execution_count": 21,
   "metadata": {
    "execution": {
     "iopub.execute_input": "2022-12-03T08:51:51.530487Z",
     "iopub.status.busy": "2022-12-03T08:51:51.529903Z",
     "iopub.status.idle": "2022-12-03T08:51:51.542039Z",
     "shell.execute_reply": "2022-12-03T08:51:51.540856Z",
     "shell.execute_reply.started": "2022-12-03T08:51:51.530450Z"
    },
    "id": "PXLT7Up7Kd9g",
    "trusted": true
   },
   "outputs": [],
   "source": [
    "def train_contrastive_learning(dataset, model, optimizer, loss_func, batch_size=BATCH_SIZE):\n",
    "  data_loader = DataLoader(dataset, batch_size=batch_size, shuffle=True)\n",
    "  model.train()\n",
    "  total_loss = 0\n",
    "  for _, data in enumerate(tqdm(data_loader)):\n",
    "    original, x_i, x_j = data\n",
    "    optimizer.zero_grad()\n",
    "\n",
    "    # Get representation into a smaller space \n",
    "    z_i, z_j = model(original=original, x_i=x_i, x_j=x_j)\n",
    "\n",
    "    # Concatenate two output in a single tensor\n",
    "    z = torch.cat((z_i, z_j))\n",
    "\n",
    "    # From each batch we get two sets of augmented samples, the related images \n",
    "    # are in the same position in the two batches, so I create an index list \n",
    "    # with size equal to that of the batch and concatenate it to itself. \n",
    "    # So related images will have the same index.\n",
    "    idx = torch.arange(start=0, end=z_i.size(0), device=z_j.device)\n",
    "    labels = torch.cat((idx, idx))\n",
    "\n",
    "    # Compute Loss\n",
    "    loss = loss_func(z, labels)\n",
    "    loss.backward()\n",
    "    total_loss += loss.item() * x_i.num_graphs\n",
    "    optimizer.step()\n",
    "  return total_loss / len(dataset)\n"
   ]
  },
  {
   "cell_type": "code",
   "execution_count": 22,
   "metadata": {
    "execution": {
     "iopub.execute_input": "2022-12-03T08:51:51.544548Z",
     "iopub.status.busy": "2022-12-03T08:51:51.543724Z",
     "iopub.status.idle": "2022-12-03T08:51:51.564658Z",
     "shell.execute_reply": "2022-12-03T08:51:51.563606Z",
     "shell.execute_reply.started": "2022-12-03T08:51:51.544512Z"
    },
    "trusted": true
   },
   "outputs": [],
   "source": [
    "cl_model = ContrastiveModel().to(DEVICE)\n",
    "cl_optimizer = torch.optim.Adam(cl_model.parameters(), lr=0.001)\n",
    "cl_scheduler = torch.optim.lr_scheduler.StepLR(cl_optimizer, step_size=20, gamma=0.5)\n",
    "cl_loss_func = NTXentLoss(temperature=0.07)"
   ]
  },
  {
   "cell_type": "code",
   "execution_count": null,
   "metadata": {
    "colab": {
     "base_uri": "https://localhost:8080/",
     "height": 201,
     "referenced_widgets": [
      "5f3d44a081cf4377a85896278881b568",
      "8bbc34c06f194c8ea9bc7463722894e6",
      "3606ab30795341ab9d2387243692a69d",
      "c5543379a5914afdab9516ebb7b691e7",
      "e04be909705043659ab74fb54ef643f1",
      "737ad9bfb9844d539a489a9d2c596511",
      "688263de787146779e5dee4d5a5ca276",
      "2a710cc3701c49cf982f5f72195becc1",
      "528cd9c4a5ab4844b2888d593d67b41e",
      "fc803dcae01645cd89f8db5d2313d78d",
      "6c7e899e5a83430abf6a71bd01cf4be8",
      "6bf12879705c46738f8875dac8c35f71",
      "2c62a34fe42b4b99adcbd007a7858d43",
      "304da9adbb0244c9b3138ef649b1f34b",
      "1d50945edaa74c07a12cdbd93d339a4a",
      "582e4e808bf445b39a349d0f0b3767de",
      "a4bacd18e39545c0bd78f1bfa2279596",
      "7b58f5d1063c4deab5fa774066ad2c62",
      "e45c9326890240eaaacdb7813d352db9",
      "f295b97a808a437d9ae9880900595082",
      "6e5e2a9d59e34c26a8e0e8f4820b095e",
      "4b68a235870f459bbdbb701d76170c9e",
      "b199db44ad58422b94a85c1607ada789",
      "462ef0eb8f9e49bebbe7e7602e00a59c",
      "9951987093b34997ba1024a1c4dab7e7",
      "6ae019e4e5ec40aaa1e95ccb2c5b6f45",
      "ab308b4fef324b8dbb176eb3aedf5308",
      "63b7718b423747efaa0f9c81a903b08b",
      "8d6942bf0731473e9cb3823c5d10866e",
      "728d0007a66f43dd8d1a4eb581ede0f7",
      "d04844f5eb434d7bb651e68abdc3c268",
      "41d8e65b215e498883c1f3cf3c0d1377",
      "84d041e2887944cf9fd2bb1963ac1482",
      "a9fee87bc53f41269adf04cfaf03451b",
      "45d13bf3333a4f84b1da27baec50eb12",
      "9be83c24c05c4e038ab182979f1d603b",
      "50fc6c7090be45629a8da9b56ce9bfd4",
      "30e9b494a03b4c3db825b05a9cfb3354",
      "cdc45d19b036442a91b94a01dd727df5",
      "c643ceadb4fe4217a6ded6db86be9d89",
      "5af08089515648349f1848065999ccd2",
      "542c48e522ee46f9bd785551efbeac58",
      "55c0e83d8c864e27a51a06053d515c7f",
      "f559ebd8a78c44a1856f6e8bf77f80e1"
     ]
    },
    "execution": {
     "iopub.execute_input": "2022-12-03T08:51:51.575161Z",
     "iopub.status.busy": "2022-12-03T08:51:51.573795Z",
     "iopub.status.idle": "2022-12-03T09:27:22.287687Z",
     "shell.execute_reply": "2022-12-03T09:27:22.286592Z",
     "shell.execute_reply.started": "2022-12-03T08:51:51.575122Z"
    },
    "id": "KT_KwIbqSMvj",
    "outputId": "a9f03d8c-c41b-4d99-9b49-db494d635a6f",
    "scrolled": true,
    "trusted": true
   },
   "outputs": [],
   "source": [
    "log_for_csv = []\n",
    "for epoch in range(1, EPOCHS+1):\n",
    "  loss = train_contrastive_learning(train_set, cl_model, cl_optimizer, cl_loss_func)\n",
    "  print(f'Epoch: {epoch}, Loss: {loss:.4f}')\n",
    "  log_for_csv.append([epoch, loss])\n",
    "  cl_scheduler.step()\n",
    "\n",
    "# Write CSV\n",
    "df = pd.DataFrame(log_for_csv, columns=[\"Epoch\", \"Loss\"])\n",
    "df.to_csv('contrast_learning.csv', index=False, header=False)"
   ]
  },
  {
   "cell_type": "code",
   "execution_count": null,
   "metadata": {
    "execution": {
     "iopub.execute_input": "2022-12-03T09:51:06.442898Z",
     "iopub.status.busy": "2022-12-03T09:51:06.442134Z",
     "iopub.status.idle": "2022-12-03T09:51:06.458662Z",
     "shell.execute_reply": "2022-12-03T09:51:06.457462Z",
     "shell.execute_reply.started": "2022-12-03T09:51:06.442844Z"
    },
    "trusted": true
   },
   "outputs": [],
   "source": [
    "fig = go.Figure()\n",
    "# Create and style traces\n",
    "fig.add_trace(go.Scatter(x=df.Epoch, \n",
    "                         y=df.Loss, \n",
    "                         line=dict(color='orange', width=2)))\n",
    "\n",
    "# Edit the layout\n",
    "fig.update_layout(title='Contrastive Learning Loss',\n",
    "                   xaxis_title='Epoch',\n",
    "                   yaxis_title='Loss', width=500, height=400)\n",
    "\n",
    "\n",
    "fig.show()"
   ]
  },
  {
   "cell_type": "code",
   "execution_count": 31,
   "metadata": {
    "execution": {
     "iopub.execute_input": "2022-12-03T09:51:06.461443Z",
     "iopub.status.busy": "2022-12-03T09:51:06.460838Z",
     "iopub.status.idle": "2022-12-03T09:51:06.479961Z",
     "shell.execute_reply": "2022-12-03T09:51:06.478913Z",
     "shell.execute_reply.started": "2022-12-03T09:51:06.461406Z"
    },
    "id": "G_zkHPOPPC0i",
    "trusted": true
   },
   "outputs": [],
   "source": [
    "# SAVE MODEL\n",
    "torch.save(cl_model.state_dict(), MODEL_PATH)"
   ]
  },
  {
   "cell_type": "code",
   "execution_count": 32,
   "metadata": {
    "execution": {
     "iopub.execute_input": "2022-12-03T09:51:06.481688Z",
     "iopub.status.busy": "2022-12-03T09:51:06.481259Z",
     "iopub.status.idle": "2022-12-03T09:51:06.486467Z",
     "shell.execute_reply": "2022-12-03T09:51:06.485370Z",
     "shell.execute_reply.started": "2022-12-03T09:51:06.481653Z"
    },
    "id": "v5WKXf5jPMcf",
    "trusted": true
   },
   "outputs": [],
   "source": [
    "# LOAD MODEL\n",
    "# cl_model = ContrastiveModel().to(DEVICE)\n",
    "# cl_model.load_state_dict(torch.load(MODEL_PATH))"
   ]
  },
  {
   "cell_type": "markdown",
   "metadata": {
    "id": "SBjpiZkmTEmt"
   },
   "source": [
    "##  Downstream Tasks"
   ]
  },
  {
   "cell_type": "markdown",
   "metadata": {
    "id": "l_E5G8ujrJoI"
   },
   "source": [
    "For the test phase, we will use the **DownStream** approach to see how the model performs with small data.\n",
    "As for the SimCLR implementation, I will use the Logistic Regression, to see if the model generalizes well, to which we will pass the 3D elements that have already been processed by our $f(\\cdot)$ function, i.e. encoded in their feature vector, which will associate the representations with a class prediction."
   ]
  },
  {
   "cell_type": "code",
   "execution_count": 33,
   "metadata": {
    "execution": {
     "iopub.execute_input": "2022-12-03T09:51:06.489418Z",
     "iopub.status.busy": "2022-12-03T09:51:06.488742Z",
     "iopub.status.idle": "2022-12-03T09:51:06.496182Z",
     "shell.execute_reply": "2022-12-03T09:51:06.495158Z",
     "shell.execute_reply.started": "2022-12-03T09:51:06.489381Z"
    },
    "id": "l6Bb-dqb7sqv",
    "trusted": true
   },
   "outputs": [],
   "source": [
    "class LogisticRegression(torch.nn.Module):\n",
    "  def __init__(self):\n",
    "    super(LogisticRegression, self).__init__()\n",
    "    self.linear = torch.nn.Linear(in_features=128, out_features=10)\n",
    "    \n",
    "  def forward(self, x):\n",
    "    outputs = torch.sigmoid(self.linear(x))\n",
    "    return outputs"
   ]
  },
  {
   "cell_type": "code",
   "execution_count": 34,
   "metadata": {
    "execution": {
     "iopub.execute_input": "2022-12-03T09:51:06.500877Z",
     "iopub.status.busy": "2022-12-03T09:51:06.500058Z",
     "iopub.status.idle": "2022-12-03T09:51:06.512045Z",
     "shell.execute_reply": "2022-12-03T09:51:06.510901Z",
     "shell.execute_reply.started": "2022-12-03T09:51:06.500835Z"
    },
    "id": "s4yDfA9NRaq4",
    "trusted": true
   },
   "outputs": [],
   "source": [
    "def train_classifier(contrastive_model, log_reg_model, loss_fun, optimizer, loader):\n",
    "  log_reg_model.train()\n",
    "  total_loss = 0\n",
    "  for _, data in enumerate(tqdm(loader)):\n",
    "    original, _, _ = data\n",
    "    optimizer.zero_grad()\n",
    "    h = contrastive_model(original=original, train=False)\n",
    "    out = log_reg_model(h)\n",
    "    loss = loss_fun(out, original.category)\n",
    "    loss.backward()\n",
    "    total_loss += loss.item() * original.num_graphs\n",
    "    optimizer.step()\n",
    "  return total_loss / len(train_set)\n",
    "\n",
    "\n",
    "def test_classifier(contrastive_model, log_reg_model, loader):\n",
    "  log_reg_model.eval()\n",
    "  correct = 0\n",
    "  for _, data in enumerate(tqdm(loader)):\n",
    "    data = data.to(DEVICE)\n",
    "    with torch.no_grad():\n",
    "      h = contrastive_model(original=data, train=False)\n",
    "      logits = log_reg_model(h)\n",
    "      pred = torch.argmax(logits, dim=-1)\n",
    "    correct += pred.eq(data.category).sum().item()\n",
    "  return correct / len(loader.dataset)"
   ]
  },
  {
   "cell_type": "code",
   "execution_count": 35,
   "metadata": {
    "execution": {
     "iopub.execute_input": "2022-12-03T09:51:06.515170Z",
     "iopub.status.busy": "2022-12-03T09:51:06.514254Z",
     "iopub.status.idle": "2022-12-03T09:51:06.525380Z",
     "shell.execute_reply": "2022-12-03T09:51:06.524357Z",
     "shell.execute_reply.started": "2022-12-03T09:51:06.515133Z"
    },
    "id": "0LoTLpxUiZ8h",
    "trusted": true
   },
   "outputs": [],
   "source": [
    "lr_model = LogisticRegression().to(DEVICE)\n",
    "lr_loss_func = torch.nn.CrossEntropyLoss()\n",
    "lr_optimizer = torch.optim.SGD(lr_model.parameters(), lr=0.01)\n",
    "lr_scheduler = torch.optim.lr_scheduler.StepLR(lr_optimizer, step_size=20, gamma=0.5)\n",
    "\n",
    "train_loader = DataLoader(train_set, batch_size=BATCH_SIZE, shuffle=True)\n",
    "test_loader = DataLoader(test_set, batch_size=BATCH_SIZE, shuffle=False)"
   ]
  },
  {
   "cell_type": "code",
   "execution_count": null,
   "metadata": {
    "execution": {
     "iopub.execute_input": "2022-12-03T09:51:06.528005Z",
     "iopub.status.busy": "2022-12-03T09:51:06.527145Z",
     "iopub.status.idle": "2022-12-03T11:51:59.206428Z",
     "shell.execute_reply": "2022-12-03T11:51:59.205237Z",
     "shell.execute_reply.started": "2022-12-03T09:51:06.527967Z"
    },
    "id": "zu8meLVbZ_V9",
    "trusted": true
   },
   "outputs": [],
   "source": [
    "log_for_csv = []\n",
    "\n",
    "for epoch in range(1, EPOCHS+1):\n",
    "  loss = train_classifier(cl_model, lr_model, lr_loss_func, lr_optimizer, train_loader)\n",
    "  test_acc = test_classifier(cl_model, lr_model, test_loader)\n",
    "  print(f'Epoch {epoch}, Loss: {loss:.4f}, Accuracy: {test_acc:.4f}')\n",
    "  log_for_csv.append([epoch, loss, test_acc])\n",
    "  lr_scheduler.step()\n",
    "\n",
    "# Write CSV\n",
    "df = pd.DataFrame(log_for_csv, columns=[\"Epoch\", \"Loss\", \"Accuracy\"])\n",
    "df.to_csv('logistic_regression.csv', index=False, header=False)"
   ]
  },
  {
   "cell_type": "code",
   "execution_count": null,
   "metadata": {
    "execution": {
     "iopub.execute_input": "2022-12-03T11:51:59.217367Z",
     "iopub.status.busy": "2022-12-03T11:51:59.216226Z",
     "iopub.status.idle": "2022-12-03T11:51:59.239756Z",
     "shell.execute_reply": "2022-12-03T11:51:59.238827Z",
     "shell.execute_reply.started": "2022-12-03T11:51:59.217192Z"
    },
    "trusted": true
   },
   "outputs": [],
   "source": [
    "# df = pd.read_csv('/kaggle/working/logistic_regression.csv', names=[\"Epoch\", \"Loss\", \"Accuracy\"])\n",
    "fig = go.Figure()\n",
    "# Create and style traces\n",
    "fig.add_trace(go.Scatter(x=df.Epoch, \n",
    "                         y=df.Loss, \n",
    "                         line=dict(color='orange', width=2)))\n",
    "\n",
    "# Edit the layout\n",
    "fig.update_layout(title='Logistic Regression Loss',\n",
    "                   xaxis_title='Epoch',\n",
    "                   yaxis_title='Loss', width=500, height=400)\n",
    "\n",
    "\n",
    "fig.show()"
   ]
  },
  {
   "cell_type": "code",
   "execution_count": null,
   "metadata": {
    "execution": {
     "iopub.execute_input": "2022-12-03T13:15:49.024322Z",
     "iopub.status.busy": "2022-12-03T13:15:49.024045Z",
     "iopub.status.idle": "2022-12-03T13:15:49.180037Z",
     "shell.execute_reply": "2022-12-03T13:15:49.179070Z",
     "shell.execute_reply.started": "2022-12-03T13:15:49.024297Z"
    },
    "trusted": true
   },
   "outputs": [],
   "source": [
    "fig = go.Figure()\n",
    "\n",
    "# Create and style traces\n",
    "fig.add_trace(go.Scatter(x=df.Epoch, \n",
    "                         y=df.Accuracy, \n",
    "                         line=dict(color='orange', width=2)))\n",
    "\n",
    "# Edit the layout\n",
    "fig.update_layout(title='Logistic Regression Accuracy',\n",
    "                   xaxis_title='Epoch',\n",
    "                   yaxis_title='Accuracy', width=500, height=400)\n",
    "\n",
    "fig.show()"
   ]
  }
 ],
 "metadata": {
  "accelerator": "GPU",
  "colab": {
   "provenance": [],
   "toc_visible": true
  },
  "gpuClass": "standard",
  "kernelspec": {
   "display_name": "Python 3.10.7 64-bit",
   "language": "python",
   "name": "python3"
  },
  "language_info": {
   "codemirror_mode": {
    "name": "ipython",
    "version": 3
   },
   "file_extension": ".py",
   "mimetype": "text/x-python",
   "name": "python",
   "nbconvert_exporter": "python",
   "pygments_lexer": "ipython3",
   "version": "3.10.7"
  },
  "vscode": {
   "interpreter": {
    "hash": "916dbcbb3f70747c44a77c7bcd40155683ae19c65e1c03b4aa3499c5328201f1"
   }
  },
  "widgets": {
   "application/vnd.jupyter.widget-state+json": {
    "1d50945edaa74c07a12cdbd93d339a4a": {
     "model_module": "@jupyter-widgets/controls",
     "model_module_version": "1.5.0",
     "model_name": "HTMLModel",
     "state": {
      "_dom_classes": [],
      "_model_module": "@jupyter-widgets/controls",
      "_model_module_version": "1.5.0",
      "_model_name": "HTMLModel",
      "_view_count": null,
      "_view_module": "@jupyter-widgets/controls",
      "_view_module_version": "1.5.0",
      "_view_name": "HTMLView",
      "description": "",
      "description_tooltip": null,
      "layout": "IPY_MODEL_6e5e2a9d59e34c26a8e0e8f4820b095e",
      "placeholder": "​",
      "style": "IPY_MODEL_4b68a235870f459bbdbb701d76170c9e",
      "value": " 28/28 [01:47&lt;00:00,  2.89s/it]"
     }
    },
    "2a710cc3701c49cf982f5f72195becc1": {
     "model_module": "@jupyter-widgets/base",
     "model_module_version": "1.2.0",
     "model_name": "LayoutModel",
     "state": {
      "_model_module": "@jupyter-widgets/base",
      "_model_module_version": "1.2.0",
      "_model_name": "LayoutModel",
      "_view_count": null,
      "_view_module": "@jupyter-widgets/base",
      "_view_module_version": "1.2.0",
      "_view_name": "LayoutView",
      "align_content": null,
      "align_items": null,
      "align_self": null,
      "border": null,
      "bottom": null,
      "display": null,
      "flex": null,
      "flex_flow": null,
      "grid_area": null,
      "grid_auto_columns": null,
      "grid_auto_flow": null,
      "grid_auto_rows": null,
      "grid_column": null,
      "grid_gap": null,
      "grid_row": null,
      "grid_template_areas": null,
      "grid_template_columns": null,
      "grid_template_rows": null,
      "height": null,
      "justify_content": null,
      "justify_items": null,
      "left": null,
      "margin": null,
      "max_height": null,
      "max_width": null,
      "min_height": null,
      "min_width": null,
      "object_fit": null,
      "object_position": null,
      "order": null,
      "overflow": null,
      "overflow_x": null,
      "overflow_y": null,
      "padding": null,
      "right": null,
      "top": null,
      "visibility": null,
      "width": null
     }
    },
    "2c62a34fe42b4b99adcbd007a7858d43": {
     "model_module": "@jupyter-widgets/controls",
     "model_module_version": "1.5.0",
     "model_name": "HTMLModel",
     "state": {
      "_dom_classes": [],
      "_model_module": "@jupyter-widgets/controls",
      "_model_module_version": "1.5.0",
      "_model_name": "HTMLModel",
      "_view_count": null,
      "_view_module": "@jupyter-widgets/controls",
      "_view_module_version": "1.5.0",
      "_view_name": "HTMLView",
      "description": "",
      "description_tooltip": null,
      "layout": "IPY_MODEL_a4bacd18e39545c0bd78f1bfa2279596",
      "placeholder": "​",
      "style": "IPY_MODEL_7b58f5d1063c4deab5fa774066ad2c62",
      "value": "100%"
     }
    },
    "304da9adbb0244c9b3138ef649b1f34b": {
     "model_module": "@jupyter-widgets/controls",
     "model_module_version": "1.5.0",
     "model_name": "FloatProgressModel",
     "state": {
      "_dom_classes": [],
      "_model_module": "@jupyter-widgets/controls",
      "_model_module_version": "1.5.0",
      "_model_name": "FloatProgressModel",
      "_view_count": null,
      "_view_module": "@jupyter-widgets/controls",
      "_view_module_version": "1.5.0",
      "_view_name": "ProgressView",
      "bar_style": "success",
      "description": "",
      "description_tooltip": null,
      "layout": "IPY_MODEL_e45c9326890240eaaacdb7813d352db9",
      "max": 28,
      "min": 0,
      "orientation": "horizontal",
      "style": "IPY_MODEL_f295b97a808a437d9ae9880900595082",
      "value": 28
     }
    },
    "30e9b494a03b4c3db825b05a9cfb3354": {
     "model_module": "@jupyter-widgets/base",
     "model_module_version": "1.2.0",
     "model_name": "LayoutModel",
     "state": {
      "_model_module": "@jupyter-widgets/base",
      "_model_module_version": "1.2.0",
      "_model_name": "LayoutModel",
      "_view_count": null,
      "_view_module": "@jupyter-widgets/base",
      "_view_module_version": "1.2.0",
      "_view_name": "LayoutView",
      "align_content": null,
      "align_items": null,
      "align_self": null,
      "border": null,
      "bottom": null,
      "display": null,
      "flex": null,
      "flex_flow": null,
      "grid_area": null,
      "grid_auto_columns": null,
      "grid_auto_flow": null,
      "grid_auto_rows": null,
      "grid_column": null,
      "grid_gap": null,
      "grid_row": null,
      "grid_template_areas": null,
      "grid_template_columns": null,
      "grid_template_rows": null,
      "height": null,
      "justify_content": null,
      "justify_items": null,
      "left": null,
      "margin": null,
      "max_height": null,
      "max_width": null,
      "min_height": null,
      "min_width": null,
      "object_fit": null,
      "object_position": null,
      "order": null,
      "overflow": null,
      "overflow_x": null,
      "overflow_y": null,
      "padding": null,
      "right": null,
      "top": null,
      "visibility": null,
      "width": null
     }
    },
    "3606ab30795341ab9d2387243692a69d": {
     "model_module": "@jupyter-widgets/controls",
     "model_module_version": "1.5.0",
     "model_name": "FloatProgressModel",
     "state": {
      "_dom_classes": [],
      "_model_module": "@jupyter-widgets/controls",
      "_model_module_version": "1.5.0",
      "_model_name": "FloatProgressModel",
      "_view_count": null,
      "_view_module": "@jupyter-widgets/controls",
      "_view_module_version": "1.5.0",
      "_view_name": "ProgressView",
      "bar_style": "success",
      "description": "",
      "description_tooltip": null,
      "layout": "IPY_MODEL_2a710cc3701c49cf982f5f72195becc1",
      "max": 28,
      "min": 0,
      "orientation": "horizontal",
      "style": "IPY_MODEL_528cd9c4a5ab4844b2888d593d67b41e",
      "value": 28
     }
    },
    "41d8e65b215e498883c1f3cf3c0d1377": {
     "model_module": "@jupyter-widgets/base",
     "model_module_version": "1.2.0",
     "model_name": "LayoutModel",
     "state": {
      "_model_module": "@jupyter-widgets/base",
      "_model_module_version": "1.2.0",
      "_model_name": "LayoutModel",
      "_view_count": null,
      "_view_module": "@jupyter-widgets/base",
      "_view_module_version": "1.2.0",
      "_view_name": "LayoutView",
      "align_content": null,
      "align_items": null,
      "align_self": null,
      "border": null,
      "bottom": null,
      "display": null,
      "flex": null,
      "flex_flow": null,
      "grid_area": null,
      "grid_auto_columns": null,
      "grid_auto_flow": null,
      "grid_auto_rows": null,
      "grid_column": null,
      "grid_gap": null,
      "grid_row": null,
      "grid_template_areas": null,
      "grid_template_columns": null,
      "grid_template_rows": null,
      "height": null,
      "justify_content": null,
      "justify_items": null,
      "left": null,
      "margin": null,
      "max_height": null,
      "max_width": null,
      "min_height": null,
      "min_width": null,
      "object_fit": null,
      "object_position": null,
      "order": null,
      "overflow": null,
      "overflow_x": null,
      "overflow_y": null,
      "padding": null,
      "right": null,
      "top": null,
      "visibility": null,
      "width": null
     }
    },
    "45d13bf3333a4f84b1da27baec50eb12": {
     "model_module": "@jupyter-widgets/controls",
     "model_module_version": "1.5.0",
     "model_name": "HTMLModel",
     "state": {
      "_dom_classes": [],
      "_model_module": "@jupyter-widgets/controls",
      "_model_module_version": "1.5.0",
      "_model_name": "HTMLModel",
      "_view_count": null,
      "_view_module": "@jupyter-widgets/controls",
      "_view_module_version": "1.5.0",
      "_view_name": "HTMLView",
      "description": "",
      "description_tooltip": null,
      "layout": "IPY_MODEL_cdc45d19b036442a91b94a01dd727df5",
      "placeholder": "​",
      "style": "IPY_MODEL_c643ceadb4fe4217a6ded6db86be9d89",
      "value": " 75%"
     }
    },
    "462ef0eb8f9e49bebbe7e7602e00a59c": {
     "model_module": "@jupyter-widgets/controls",
     "model_module_version": "1.5.0",
     "model_name": "HTMLModel",
     "state": {
      "_dom_classes": [],
      "_model_module": "@jupyter-widgets/controls",
      "_model_module_version": "1.5.0",
      "_model_name": "HTMLModel",
      "_view_count": null,
      "_view_module": "@jupyter-widgets/controls",
      "_view_module_version": "1.5.0",
      "_view_name": "HTMLView",
      "description": "",
      "description_tooltip": null,
      "layout": "IPY_MODEL_63b7718b423747efaa0f9c81a903b08b",
      "placeholder": "​",
      "style": "IPY_MODEL_8d6942bf0731473e9cb3823c5d10866e",
      "value": "100%"
     }
    },
    "4b68a235870f459bbdbb701d76170c9e": {
     "model_module": "@jupyter-widgets/controls",
     "model_module_version": "1.5.0",
     "model_name": "DescriptionStyleModel",
     "state": {
      "_model_module": "@jupyter-widgets/controls",
      "_model_module_version": "1.5.0",
      "_model_name": "DescriptionStyleModel",
      "_view_count": null,
      "_view_module": "@jupyter-widgets/base",
      "_view_module_version": "1.2.0",
      "_view_name": "StyleView",
      "description_width": ""
     }
    },
    "50fc6c7090be45629a8da9b56ce9bfd4": {
     "model_module": "@jupyter-widgets/controls",
     "model_module_version": "1.5.0",
     "model_name": "HTMLModel",
     "state": {
      "_dom_classes": [],
      "_model_module": "@jupyter-widgets/controls",
      "_model_module_version": "1.5.0",
      "_model_name": "HTMLModel",
      "_view_count": null,
      "_view_module": "@jupyter-widgets/controls",
      "_view_module_version": "1.5.0",
      "_view_name": "HTMLView",
      "description": "",
      "description_tooltip": null,
      "layout": "IPY_MODEL_55c0e83d8c864e27a51a06053d515c7f",
      "placeholder": "​",
      "style": "IPY_MODEL_f559ebd8a78c44a1856f6e8bf77f80e1",
      "value": " 21/28 [01:23&lt;00:27,  3.97s/it]"
     }
    },
    "528cd9c4a5ab4844b2888d593d67b41e": {
     "model_module": "@jupyter-widgets/controls",
     "model_module_version": "1.5.0",
     "model_name": "ProgressStyleModel",
     "state": {
      "_model_module": "@jupyter-widgets/controls",
      "_model_module_version": "1.5.0",
      "_model_name": "ProgressStyleModel",
      "_view_count": null,
      "_view_module": "@jupyter-widgets/base",
      "_view_module_version": "1.2.0",
      "_view_name": "StyleView",
      "bar_color": null,
      "description_width": ""
     }
    },
    "542c48e522ee46f9bd785551efbeac58": {
     "model_module": "@jupyter-widgets/controls",
     "model_module_version": "1.5.0",
     "model_name": "ProgressStyleModel",
     "state": {
      "_model_module": "@jupyter-widgets/controls",
      "_model_module_version": "1.5.0",
      "_model_name": "ProgressStyleModel",
      "_view_count": null,
      "_view_module": "@jupyter-widgets/base",
      "_view_module_version": "1.2.0",
      "_view_name": "StyleView",
      "bar_color": null,
      "description_width": ""
     }
    },
    "55c0e83d8c864e27a51a06053d515c7f": {
     "model_module": "@jupyter-widgets/base",
     "model_module_version": "1.2.0",
     "model_name": "LayoutModel",
     "state": {
      "_model_module": "@jupyter-widgets/base",
      "_model_module_version": "1.2.0",
      "_model_name": "LayoutModel",
      "_view_count": null,
      "_view_module": "@jupyter-widgets/base",
      "_view_module_version": "1.2.0",
      "_view_name": "LayoutView",
      "align_content": null,
      "align_items": null,
      "align_self": null,
      "border": null,
      "bottom": null,
      "display": null,
      "flex": null,
      "flex_flow": null,
      "grid_area": null,
      "grid_auto_columns": null,
      "grid_auto_flow": null,
      "grid_auto_rows": null,
      "grid_column": null,
      "grid_gap": null,
      "grid_row": null,
      "grid_template_areas": null,
      "grid_template_columns": null,
      "grid_template_rows": null,
      "height": null,
      "justify_content": null,
      "justify_items": null,
      "left": null,
      "margin": null,
      "max_height": null,
      "max_width": null,
      "min_height": null,
      "min_width": null,
      "object_fit": null,
      "object_position": null,
      "order": null,
      "overflow": null,
      "overflow_x": null,
      "overflow_y": null,
      "padding": null,
      "right": null,
      "top": null,
      "visibility": null,
      "width": null
     }
    },
    "582e4e808bf445b39a349d0f0b3767de": {
     "model_module": "@jupyter-widgets/base",
     "model_module_version": "1.2.0",
     "model_name": "LayoutModel",
     "state": {
      "_model_module": "@jupyter-widgets/base",
      "_model_module_version": "1.2.0",
      "_model_name": "LayoutModel",
      "_view_count": null,
      "_view_module": "@jupyter-widgets/base",
      "_view_module_version": "1.2.0",
      "_view_name": "LayoutView",
      "align_content": null,
      "align_items": null,
      "align_self": null,
      "border": null,
      "bottom": null,
      "display": null,
      "flex": null,
      "flex_flow": null,
      "grid_area": null,
      "grid_auto_columns": null,
      "grid_auto_flow": null,
      "grid_auto_rows": null,
      "grid_column": null,
      "grid_gap": null,
      "grid_row": null,
      "grid_template_areas": null,
      "grid_template_columns": null,
      "grid_template_rows": null,
      "height": null,
      "justify_content": null,
      "justify_items": null,
      "left": null,
      "margin": null,
      "max_height": null,
      "max_width": null,
      "min_height": null,
      "min_width": null,
      "object_fit": null,
      "object_position": null,
      "order": null,
      "overflow": null,
      "overflow_x": null,
      "overflow_y": null,
      "padding": null,
      "right": null,
      "top": null,
      "visibility": null,
      "width": null
     }
    },
    "5af08089515648349f1848065999ccd2": {
     "model_module": "@jupyter-widgets/base",
     "model_module_version": "1.2.0",
     "model_name": "LayoutModel",
     "state": {
      "_model_module": "@jupyter-widgets/base",
      "_model_module_version": "1.2.0",
      "_model_name": "LayoutModel",
      "_view_count": null,
      "_view_module": "@jupyter-widgets/base",
      "_view_module_version": "1.2.0",
      "_view_name": "LayoutView",
      "align_content": null,
      "align_items": null,
      "align_self": null,
      "border": null,
      "bottom": null,
      "display": null,
      "flex": null,
      "flex_flow": null,
      "grid_area": null,
      "grid_auto_columns": null,
      "grid_auto_flow": null,
      "grid_auto_rows": null,
      "grid_column": null,
      "grid_gap": null,
      "grid_row": null,
      "grid_template_areas": null,
      "grid_template_columns": null,
      "grid_template_rows": null,
      "height": null,
      "justify_content": null,
      "justify_items": null,
      "left": null,
      "margin": null,
      "max_height": null,
      "max_width": null,
      "min_height": null,
      "min_width": null,
      "object_fit": null,
      "object_position": null,
      "order": null,
      "overflow": null,
      "overflow_x": null,
      "overflow_y": null,
      "padding": null,
      "right": null,
      "top": null,
      "visibility": null,
      "width": null
     }
    },
    "5f3d44a081cf4377a85896278881b568": {
     "model_module": "@jupyter-widgets/controls",
     "model_module_version": "1.5.0",
     "model_name": "HBoxModel",
     "state": {
      "_dom_classes": [],
      "_model_module": "@jupyter-widgets/controls",
      "_model_module_version": "1.5.0",
      "_model_name": "HBoxModel",
      "_view_count": null,
      "_view_module": "@jupyter-widgets/controls",
      "_view_module_version": "1.5.0",
      "_view_name": "HBoxView",
      "box_style": "",
      "children": [
       "IPY_MODEL_8bbc34c06f194c8ea9bc7463722894e6",
       "IPY_MODEL_3606ab30795341ab9d2387243692a69d",
       "IPY_MODEL_c5543379a5914afdab9516ebb7b691e7"
      ],
      "layout": "IPY_MODEL_e04be909705043659ab74fb54ef643f1"
     }
    },
    "63b7718b423747efaa0f9c81a903b08b": {
     "model_module": "@jupyter-widgets/base",
     "model_module_version": "1.2.0",
     "model_name": "LayoutModel",
     "state": {
      "_model_module": "@jupyter-widgets/base",
      "_model_module_version": "1.2.0",
      "_model_name": "LayoutModel",
      "_view_count": null,
      "_view_module": "@jupyter-widgets/base",
      "_view_module_version": "1.2.0",
      "_view_name": "LayoutView",
      "align_content": null,
      "align_items": null,
      "align_self": null,
      "border": null,
      "bottom": null,
      "display": null,
      "flex": null,
      "flex_flow": null,
      "grid_area": null,
      "grid_auto_columns": null,
      "grid_auto_flow": null,
      "grid_auto_rows": null,
      "grid_column": null,
      "grid_gap": null,
      "grid_row": null,
      "grid_template_areas": null,
      "grid_template_columns": null,
      "grid_template_rows": null,
      "height": null,
      "justify_content": null,
      "justify_items": null,
      "left": null,
      "margin": null,
      "max_height": null,
      "max_width": null,
      "min_height": null,
      "min_width": null,
      "object_fit": null,
      "object_position": null,
      "order": null,
      "overflow": null,
      "overflow_x": null,
      "overflow_y": null,
      "padding": null,
      "right": null,
      "top": null,
      "visibility": null,
      "width": null
     }
    },
    "688263de787146779e5dee4d5a5ca276": {
     "model_module": "@jupyter-widgets/controls",
     "model_module_version": "1.5.0",
     "model_name": "DescriptionStyleModel",
     "state": {
      "_model_module": "@jupyter-widgets/controls",
      "_model_module_version": "1.5.0",
      "_model_name": "DescriptionStyleModel",
      "_view_count": null,
      "_view_module": "@jupyter-widgets/base",
      "_view_module_version": "1.2.0",
      "_view_name": "StyleView",
      "description_width": ""
     }
    },
    "6ae019e4e5ec40aaa1e95ccb2c5b6f45": {
     "model_module": "@jupyter-widgets/controls",
     "model_module_version": "1.5.0",
     "model_name": "HTMLModel",
     "state": {
      "_dom_classes": [],
      "_model_module": "@jupyter-widgets/controls",
      "_model_module_version": "1.5.0",
      "_model_name": "HTMLModel",
      "_view_count": null,
      "_view_module": "@jupyter-widgets/controls",
      "_view_module_version": "1.5.0",
      "_view_name": "HTMLView",
      "description": "",
      "description_tooltip": null,
      "layout": "IPY_MODEL_41d8e65b215e498883c1f3cf3c0d1377",
      "placeholder": "​",
      "style": "IPY_MODEL_84d041e2887944cf9fd2bb1963ac1482",
      "value": " 28/28 [01:48&lt;00:00,  2.89s/it]"
     }
    },
    "6bf12879705c46738f8875dac8c35f71": {
     "model_module": "@jupyter-widgets/controls",
     "model_module_version": "1.5.0",
     "model_name": "HBoxModel",
     "state": {
      "_dom_classes": [],
      "_model_module": "@jupyter-widgets/controls",
      "_model_module_version": "1.5.0",
      "_model_name": "HBoxModel",
      "_view_count": null,
      "_view_module": "@jupyter-widgets/controls",
      "_view_module_version": "1.5.0",
      "_view_name": "HBoxView",
      "box_style": "",
      "children": [
       "IPY_MODEL_2c62a34fe42b4b99adcbd007a7858d43",
       "IPY_MODEL_304da9adbb0244c9b3138ef649b1f34b",
       "IPY_MODEL_1d50945edaa74c07a12cdbd93d339a4a"
      ],
      "layout": "IPY_MODEL_582e4e808bf445b39a349d0f0b3767de"
     }
    },
    "6c7e899e5a83430abf6a71bd01cf4be8": {
     "model_module": "@jupyter-widgets/controls",
     "model_module_version": "1.5.0",
     "model_name": "DescriptionStyleModel",
     "state": {
      "_model_module": "@jupyter-widgets/controls",
      "_model_module_version": "1.5.0",
      "_model_name": "DescriptionStyleModel",
      "_view_count": null,
      "_view_module": "@jupyter-widgets/base",
      "_view_module_version": "1.2.0",
      "_view_name": "StyleView",
      "description_width": ""
     }
    },
    "6e5e2a9d59e34c26a8e0e8f4820b095e": {
     "model_module": "@jupyter-widgets/base",
     "model_module_version": "1.2.0",
     "model_name": "LayoutModel",
     "state": {
      "_model_module": "@jupyter-widgets/base",
      "_model_module_version": "1.2.0",
      "_model_name": "LayoutModel",
      "_view_count": null,
      "_view_module": "@jupyter-widgets/base",
      "_view_module_version": "1.2.0",
      "_view_name": "LayoutView",
      "align_content": null,
      "align_items": null,
      "align_self": null,
      "border": null,
      "bottom": null,
      "display": null,
      "flex": null,
      "flex_flow": null,
      "grid_area": null,
      "grid_auto_columns": null,
      "grid_auto_flow": null,
      "grid_auto_rows": null,
      "grid_column": null,
      "grid_gap": null,
      "grid_row": null,
      "grid_template_areas": null,
      "grid_template_columns": null,
      "grid_template_rows": null,
      "height": null,
      "justify_content": null,
      "justify_items": null,
      "left": null,
      "margin": null,
      "max_height": null,
      "max_width": null,
      "min_height": null,
      "min_width": null,
      "object_fit": null,
      "object_position": null,
      "order": null,
      "overflow": null,
      "overflow_x": null,
      "overflow_y": null,
      "padding": null,
      "right": null,
      "top": null,
      "visibility": null,
      "width": null
     }
    },
    "728d0007a66f43dd8d1a4eb581ede0f7": {
     "model_module": "@jupyter-widgets/base",
     "model_module_version": "1.2.0",
     "model_name": "LayoutModel",
     "state": {
      "_model_module": "@jupyter-widgets/base",
      "_model_module_version": "1.2.0",
      "_model_name": "LayoutModel",
      "_view_count": null,
      "_view_module": "@jupyter-widgets/base",
      "_view_module_version": "1.2.0",
      "_view_name": "LayoutView",
      "align_content": null,
      "align_items": null,
      "align_self": null,
      "border": null,
      "bottom": null,
      "display": null,
      "flex": null,
      "flex_flow": null,
      "grid_area": null,
      "grid_auto_columns": null,
      "grid_auto_flow": null,
      "grid_auto_rows": null,
      "grid_column": null,
      "grid_gap": null,
      "grid_row": null,
      "grid_template_areas": null,
      "grid_template_columns": null,
      "grid_template_rows": null,
      "height": null,
      "justify_content": null,
      "justify_items": null,
      "left": null,
      "margin": null,
      "max_height": null,
      "max_width": null,
      "min_height": null,
      "min_width": null,
      "object_fit": null,
      "object_position": null,
      "order": null,
      "overflow": null,
      "overflow_x": null,
      "overflow_y": null,
      "padding": null,
      "right": null,
      "top": null,
      "visibility": null,
      "width": null
     }
    },
    "737ad9bfb9844d539a489a9d2c596511": {
     "model_module": "@jupyter-widgets/base",
     "model_module_version": "1.2.0",
     "model_name": "LayoutModel",
     "state": {
      "_model_module": "@jupyter-widgets/base",
      "_model_module_version": "1.2.0",
      "_model_name": "LayoutModel",
      "_view_count": null,
      "_view_module": "@jupyter-widgets/base",
      "_view_module_version": "1.2.0",
      "_view_name": "LayoutView",
      "align_content": null,
      "align_items": null,
      "align_self": null,
      "border": null,
      "bottom": null,
      "display": null,
      "flex": null,
      "flex_flow": null,
      "grid_area": null,
      "grid_auto_columns": null,
      "grid_auto_flow": null,
      "grid_auto_rows": null,
      "grid_column": null,
      "grid_gap": null,
      "grid_row": null,
      "grid_template_areas": null,
      "grid_template_columns": null,
      "grid_template_rows": null,
      "height": null,
      "justify_content": null,
      "justify_items": null,
      "left": null,
      "margin": null,
      "max_height": null,
      "max_width": null,
      "min_height": null,
      "min_width": null,
      "object_fit": null,
      "object_position": null,
      "order": null,
      "overflow": null,
      "overflow_x": null,
      "overflow_y": null,
      "padding": null,
      "right": null,
      "top": null,
      "visibility": null,
      "width": null
     }
    },
    "7b58f5d1063c4deab5fa774066ad2c62": {
     "model_module": "@jupyter-widgets/controls",
     "model_module_version": "1.5.0",
     "model_name": "DescriptionStyleModel",
     "state": {
      "_model_module": "@jupyter-widgets/controls",
      "_model_module_version": "1.5.0",
      "_model_name": "DescriptionStyleModel",
      "_view_count": null,
      "_view_module": "@jupyter-widgets/base",
      "_view_module_version": "1.2.0",
      "_view_name": "StyleView",
      "description_width": ""
     }
    },
    "84d041e2887944cf9fd2bb1963ac1482": {
     "model_module": "@jupyter-widgets/controls",
     "model_module_version": "1.5.0",
     "model_name": "DescriptionStyleModel",
     "state": {
      "_model_module": "@jupyter-widgets/controls",
      "_model_module_version": "1.5.0",
      "_model_name": "DescriptionStyleModel",
      "_view_count": null,
      "_view_module": "@jupyter-widgets/base",
      "_view_module_version": "1.2.0",
      "_view_name": "StyleView",
      "description_width": ""
     }
    },
    "8bbc34c06f194c8ea9bc7463722894e6": {
     "model_module": "@jupyter-widgets/controls",
     "model_module_version": "1.5.0",
     "model_name": "HTMLModel",
     "state": {
      "_dom_classes": [],
      "_model_module": "@jupyter-widgets/controls",
      "_model_module_version": "1.5.0",
      "_model_name": "HTMLModel",
      "_view_count": null,
      "_view_module": "@jupyter-widgets/controls",
      "_view_module_version": "1.5.0",
      "_view_name": "HTMLView",
      "description": "",
      "description_tooltip": null,
      "layout": "IPY_MODEL_737ad9bfb9844d539a489a9d2c596511",
      "placeholder": "​",
      "style": "IPY_MODEL_688263de787146779e5dee4d5a5ca276",
      "value": "100%"
     }
    },
    "8d6942bf0731473e9cb3823c5d10866e": {
     "model_module": "@jupyter-widgets/controls",
     "model_module_version": "1.5.0",
     "model_name": "DescriptionStyleModel",
     "state": {
      "_model_module": "@jupyter-widgets/controls",
      "_model_module_version": "1.5.0",
      "_model_name": "DescriptionStyleModel",
      "_view_count": null,
      "_view_module": "@jupyter-widgets/base",
      "_view_module_version": "1.2.0",
      "_view_name": "StyleView",
      "description_width": ""
     }
    },
    "9951987093b34997ba1024a1c4dab7e7": {
     "model_module": "@jupyter-widgets/controls",
     "model_module_version": "1.5.0",
     "model_name": "FloatProgressModel",
     "state": {
      "_dom_classes": [],
      "_model_module": "@jupyter-widgets/controls",
      "_model_module_version": "1.5.0",
      "_model_name": "FloatProgressModel",
      "_view_count": null,
      "_view_module": "@jupyter-widgets/controls",
      "_view_module_version": "1.5.0",
      "_view_name": "ProgressView",
      "bar_style": "success",
      "description": "",
      "description_tooltip": null,
      "layout": "IPY_MODEL_728d0007a66f43dd8d1a4eb581ede0f7",
      "max": 28,
      "min": 0,
      "orientation": "horizontal",
      "style": "IPY_MODEL_d04844f5eb434d7bb651e68abdc3c268",
      "value": 28
     }
    },
    "9be83c24c05c4e038ab182979f1d603b": {
     "model_module": "@jupyter-widgets/controls",
     "model_module_version": "1.5.0",
     "model_name": "FloatProgressModel",
     "state": {
      "_dom_classes": [],
      "_model_module": "@jupyter-widgets/controls",
      "_model_module_version": "1.5.0",
      "_model_name": "FloatProgressModel",
      "_view_count": null,
      "_view_module": "@jupyter-widgets/controls",
      "_view_module_version": "1.5.0",
      "_view_name": "ProgressView",
      "bar_style": "",
      "description": "",
      "description_tooltip": null,
      "layout": "IPY_MODEL_5af08089515648349f1848065999ccd2",
      "max": 28,
      "min": 0,
      "orientation": "horizontal",
      "style": "IPY_MODEL_542c48e522ee46f9bd785551efbeac58",
      "value": 21
     }
    },
    "a4bacd18e39545c0bd78f1bfa2279596": {
     "model_module": "@jupyter-widgets/base",
     "model_module_version": "1.2.0",
     "model_name": "LayoutModel",
     "state": {
      "_model_module": "@jupyter-widgets/base",
      "_model_module_version": "1.2.0",
      "_model_name": "LayoutModel",
      "_view_count": null,
      "_view_module": "@jupyter-widgets/base",
      "_view_module_version": "1.2.0",
      "_view_name": "LayoutView",
      "align_content": null,
      "align_items": null,
      "align_self": null,
      "border": null,
      "bottom": null,
      "display": null,
      "flex": null,
      "flex_flow": null,
      "grid_area": null,
      "grid_auto_columns": null,
      "grid_auto_flow": null,
      "grid_auto_rows": null,
      "grid_column": null,
      "grid_gap": null,
      "grid_row": null,
      "grid_template_areas": null,
      "grid_template_columns": null,
      "grid_template_rows": null,
      "height": null,
      "justify_content": null,
      "justify_items": null,
      "left": null,
      "margin": null,
      "max_height": null,
      "max_width": null,
      "min_height": null,
      "min_width": null,
      "object_fit": null,
      "object_position": null,
      "order": null,
      "overflow": null,
      "overflow_x": null,
      "overflow_y": null,
      "padding": null,
      "right": null,
      "top": null,
      "visibility": null,
      "width": null
     }
    },
    "a9fee87bc53f41269adf04cfaf03451b": {
     "model_module": "@jupyter-widgets/controls",
     "model_module_version": "1.5.0",
     "model_name": "HBoxModel",
     "state": {
      "_dom_classes": [],
      "_model_module": "@jupyter-widgets/controls",
      "_model_module_version": "1.5.0",
      "_model_name": "HBoxModel",
      "_view_count": null,
      "_view_module": "@jupyter-widgets/controls",
      "_view_module_version": "1.5.0",
      "_view_name": "HBoxView",
      "box_style": "",
      "children": [
       "IPY_MODEL_45d13bf3333a4f84b1da27baec50eb12",
       "IPY_MODEL_9be83c24c05c4e038ab182979f1d603b",
       "IPY_MODEL_50fc6c7090be45629a8da9b56ce9bfd4"
      ],
      "layout": "IPY_MODEL_30e9b494a03b4c3db825b05a9cfb3354"
     }
    },
    "ab308b4fef324b8dbb176eb3aedf5308": {
     "model_module": "@jupyter-widgets/base",
     "model_module_version": "1.2.0",
     "model_name": "LayoutModel",
     "state": {
      "_model_module": "@jupyter-widgets/base",
      "_model_module_version": "1.2.0",
      "_model_name": "LayoutModel",
      "_view_count": null,
      "_view_module": "@jupyter-widgets/base",
      "_view_module_version": "1.2.0",
      "_view_name": "LayoutView",
      "align_content": null,
      "align_items": null,
      "align_self": null,
      "border": null,
      "bottom": null,
      "display": null,
      "flex": null,
      "flex_flow": null,
      "grid_area": null,
      "grid_auto_columns": null,
      "grid_auto_flow": null,
      "grid_auto_rows": null,
      "grid_column": null,
      "grid_gap": null,
      "grid_row": null,
      "grid_template_areas": null,
      "grid_template_columns": null,
      "grid_template_rows": null,
      "height": null,
      "justify_content": null,
      "justify_items": null,
      "left": null,
      "margin": null,
      "max_height": null,
      "max_width": null,
      "min_height": null,
      "min_width": null,
      "object_fit": null,
      "object_position": null,
      "order": null,
      "overflow": null,
      "overflow_x": null,
      "overflow_y": null,
      "padding": null,
      "right": null,
      "top": null,
      "visibility": null,
      "width": null
     }
    },
    "b199db44ad58422b94a85c1607ada789": {
     "model_module": "@jupyter-widgets/controls",
     "model_module_version": "1.5.0",
     "model_name": "HBoxModel",
     "state": {
      "_dom_classes": [],
      "_model_module": "@jupyter-widgets/controls",
      "_model_module_version": "1.5.0",
      "_model_name": "HBoxModel",
      "_view_count": null,
      "_view_module": "@jupyter-widgets/controls",
      "_view_module_version": "1.5.0",
      "_view_name": "HBoxView",
      "box_style": "",
      "children": [
       "IPY_MODEL_462ef0eb8f9e49bebbe7e7602e00a59c",
       "IPY_MODEL_9951987093b34997ba1024a1c4dab7e7",
       "IPY_MODEL_6ae019e4e5ec40aaa1e95ccb2c5b6f45"
      ],
      "layout": "IPY_MODEL_ab308b4fef324b8dbb176eb3aedf5308"
     }
    },
    "c5543379a5914afdab9516ebb7b691e7": {
     "model_module": "@jupyter-widgets/controls",
     "model_module_version": "1.5.0",
     "model_name": "HTMLModel",
     "state": {
      "_dom_classes": [],
      "_model_module": "@jupyter-widgets/controls",
      "_model_module_version": "1.5.0",
      "_model_name": "HTMLModel",
      "_view_count": null,
      "_view_module": "@jupyter-widgets/controls",
      "_view_module_version": "1.5.0",
      "_view_name": "HTMLView",
      "description": "",
      "description_tooltip": null,
      "layout": "IPY_MODEL_fc803dcae01645cd89f8db5d2313d78d",
      "placeholder": "​",
      "style": "IPY_MODEL_6c7e899e5a83430abf6a71bd01cf4be8",
      "value": " 28/28 [01:50&lt;00:00,  2.89s/it]"
     }
    },
    "c643ceadb4fe4217a6ded6db86be9d89": {
     "model_module": "@jupyter-widgets/controls",
     "model_module_version": "1.5.0",
     "model_name": "DescriptionStyleModel",
     "state": {
      "_model_module": "@jupyter-widgets/controls",
      "_model_module_version": "1.5.0",
      "_model_name": "DescriptionStyleModel",
      "_view_count": null,
      "_view_module": "@jupyter-widgets/base",
      "_view_module_version": "1.2.0",
      "_view_name": "StyleView",
      "description_width": ""
     }
    },
    "cdc45d19b036442a91b94a01dd727df5": {
     "model_module": "@jupyter-widgets/base",
     "model_module_version": "1.2.0",
     "model_name": "LayoutModel",
     "state": {
      "_model_module": "@jupyter-widgets/base",
      "_model_module_version": "1.2.0",
      "_model_name": "LayoutModel",
      "_view_count": null,
      "_view_module": "@jupyter-widgets/base",
      "_view_module_version": "1.2.0",
      "_view_name": "LayoutView",
      "align_content": null,
      "align_items": null,
      "align_self": null,
      "border": null,
      "bottom": null,
      "display": null,
      "flex": null,
      "flex_flow": null,
      "grid_area": null,
      "grid_auto_columns": null,
      "grid_auto_flow": null,
      "grid_auto_rows": null,
      "grid_column": null,
      "grid_gap": null,
      "grid_row": null,
      "grid_template_areas": null,
      "grid_template_columns": null,
      "grid_template_rows": null,
      "height": null,
      "justify_content": null,
      "justify_items": null,
      "left": null,
      "margin": null,
      "max_height": null,
      "max_width": null,
      "min_height": null,
      "min_width": null,
      "object_fit": null,
      "object_position": null,
      "order": null,
      "overflow": null,
      "overflow_x": null,
      "overflow_y": null,
      "padding": null,
      "right": null,
      "top": null,
      "visibility": null,
      "width": null
     }
    },
    "d04844f5eb434d7bb651e68abdc3c268": {
     "model_module": "@jupyter-widgets/controls",
     "model_module_version": "1.5.0",
     "model_name": "ProgressStyleModel",
     "state": {
      "_model_module": "@jupyter-widgets/controls",
      "_model_module_version": "1.5.0",
      "_model_name": "ProgressStyleModel",
      "_view_count": null,
      "_view_module": "@jupyter-widgets/base",
      "_view_module_version": "1.2.0",
      "_view_name": "StyleView",
      "bar_color": null,
      "description_width": ""
     }
    },
    "e04be909705043659ab74fb54ef643f1": {
     "model_module": "@jupyter-widgets/base",
     "model_module_version": "1.2.0",
     "model_name": "LayoutModel",
     "state": {
      "_model_module": "@jupyter-widgets/base",
      "_model_module_version": "1.2.0",
      "_model_name": "LayoutModel",
      "_view_count": null,
      "_view_module": "@jupyter-widgets/base",
      "_view_module_version": "1.2.0",
      "_view_name": "LayoutView",
      "align_content": null,
      "align_items": null,
      "align_self": null,
      "border": null,
      "bottom": null,
      "display": null,
      "flex": null,
      "flex_flow": null,
      "grid_area": null,
      "grid_auto_columns": null,
      "grid_auto_flow": null,
      "grid_auto_rows": null,
      "grid_column": null,
      "grid_gap": null,
      "grid_row": null,
      "grid_template_areas": null,
      "grid_template_columns": null,
      "grid_template_rows": null,
      "height": null,
      "justify_content": null,
      "justify_items": null,
      "left": null,
      "margin": null,
      "max_height": null,
      "max_width": null,
      "min_height": null,
      "min_width": null,
      "object_fit": null,
      "object_position": null,
      "order": null,
      "overflow": null,
      "overflow_x": null,
      "overflow_y": null,
      "padding": null,
      "right": null,
      "top": null,
      "visibility": null,
      "width": null
     }
    },
    "e45c9326890240eaaacdb7813d352db9": {
     "model_module": "@jupyter-widgets/base",
     "model_module_version": "1.2.0",
     "model_name": "LayoutModel",
     "state": {
      "_model_module": "@jupyter-widgets/base",
      "_model_module_version": "1.2.0",
      "_model_name": "LayoutModel",
      "_view_count": null,
      "_view_module": "@jupyter-widgets/base",
      "_view_module_version": "1.2.0",
      "_view_name": "LayoutView",
      "align_content": null,
      "align_items": null,
      "align_self": null,
      "border": null,
      "bottom": null,
      "display": null,
      "flex": null,
      "flex_flow": null,
      "grid_area": null,
      "grid_auto_columns": null,
      "grid_auto_flow": null,
      "grid_auto_rows": null,
      "grid_column": null,
      "grid_gap": null,
      "grid_row": null,
      "grid_template_areas": null,
      "grid_template_columns": null,
      "grid_template_rows": null,
      "height": null,
      "justify_content": null,
      "justify_items": null,
      "left": null,
      "margin": null,
      "max_height": null,
      "max_width": null,
      "min_height": null,
      "min_width": null,
      "object_fit": null,
      "object_position": null,
      "order": null,
      "overflow": null,
      "overflow_x": null,
      "overflow_y": null,
      "padding": null,
      "right": null,
      "top": null,
      "visibility": null,
      "width": null
     }
    },
    "f295b97a808a437d9ae9880900595082": {
     "model_module": "@jupyter-widgets/controls",
     "model_module_version": "1.5.0",
     "model_name": "ProgressStyleModel",
     "state": {
      "_model_module": "@jupyter-widgets/controls",
      "_model_module_version": "1.5.0",
      "_model_name": "ProgressStyleModel",
      "_view_count": null,
      "_view_module": "@jupyter-widgets/base",
      "_view_module_version": "1.2.0",
      "_view_name": "StyleView",
      "bar_color": null,
      "description_width": ""
     }
    },
    "f559ebd8a78c44a1856f6e8bf77f80e1": {
     "model_module": "@jupyter-widgets/controls",
     "model_module_version": "1.5.0",
     "model_name": "DescriptionStyleModel",
     "state": {
      "_model_module": "@jupyter-widgets/controls",
      "_model_module_version": "1.5.0",
      "_model_name": "DescriptionStyleModel",
      "_view_count": null,
      "_view_module": "@jupyter-widgets/base",
      "_view_module_version": "1.2.0",
      "_view_name": "StyleView",
      "description_width": ""
     }
    },
    "fc803dcae01645cd89f8db5d2313d78d": {
     "model_module": "@jupyter-widgets/base",
     "model_module_version": "1.2.0",
     "model_name": "LayoutModel",
     "state": {
      "_model_module": "@jupyter-widgets/base",
      "_model_module_version": "1.2.0",
      "_model_name": "LayoutModel",
      "_view_count": null,
      "_view_module": "@jupyter-widgets/base",
      "_view_module_version": "1.2.0",
      "_view_name": "LayoutView",
      "align_content": null,
      "align_items": null,
      "align_self": null,
      "border": null,
      "bottom": null,
      "display": null,
      "flex": null,
      "flex_flow": null,
      "grid_area": null,
      "grid_auto_columns": null,
      "grid_auto_flow": null,
      "grid_auto_rows": null,
      "grid_column": null,
      "grid_gap": null,
      "grid_row": null,
      "grid_template_areas": null,
      "grid_template_columns": null,
      "grid_template_rows": null,
      "height": null,
      "justify_content": null,
      "justify_items": null,
      "left": null,
      "margin": null,
      "max_height": null,
      "max_width": null,
      "min_height": null,
      "min_width": null,
      "object_fit": null,
      "object_position": null,
      "order": null,
      "overflow": null,
      "overflow_x": null,
      "overflow_y": null,
      "padding": null,
      "right": null,
      "top": null,
      "visibility": null,
      "width": null
     }
    }
   }
  }
 },
 "nbformat": 4,
 "nbformat_minor": 4
}
